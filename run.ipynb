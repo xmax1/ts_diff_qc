{
 "cells": [
  {
   "cell_type": "code",
   "execution_count": 1,
   "metadata": {},
   "outputs": [],
   "source": [
    "%load_ext autoreload\n",
    "%autoreload 2"
   ]
  },
  {
   "cell_type": "code",
   "execution_count": 2,
   "metadata": {},
   "outputs": [
    {
     "name": "stdout",
     "output_type": "stream",
     "text": [
      "Allowed dtypes:  typing.Literal['float64', 'float32']\n"
     ]
    }
   ],
   "source": [
    "import random\n",
    "import string\n",
    "import yaml\n",
    "from rich import print, inspect\n",
    "from subprocess import run as sub_run\n",
    "from pyfig.pretty import print_table\n",
    "\n",
    "from pathlib import Path\n",
    "\n",
    "log = Path('.log')\n",
    "\n",
    "from pydantic import BaseModel, Field\n",
    "\n",
    "from uuid import uuid1\n",
    "\n",
    "from typing import Optional, Any\n",
    "from pydantic import BaseModel\n",
    "import os\n",
    "from rich.pretty import pprint\n",
    "# from ts_diff_qc import add_model\n",
    "\n",
    "from pyfig.plugins import Env\n",
    "env: Env \t\t\t\t= Env(_env_file= '.env')\n",
    "\n",
    "tips = \"\"\"\n",
    "```bash\n",
    "docker container ls\n",
    "docker container commit c16378f943fe new-image-name:latest\n",
    "\n",
    "docker image ls\n",
    "```\n",
    "\"\"\""
   ]
  },
  {
   "cell_type": "code",
   "execution_count": 3,
   "metadata": {},
   "outputs": [],
   "source": [
    "class ResourceLimits(BaseModel):\n",
    "\tmemory: str  = '10Gi' # Maximum amount of memory the container can use\n",
    "\tcpu: str  = '1' # Maximum number of CPU cores the container can use\n",
    "\tgpu: str = '0' # \"\"\n",
    "\n",
    "class ResourceRequests(BaseModel):\n",
    "\tmemory: str = '10Gi'  # Amount of memory the container requests\n",
    "\tcpu: str = '1'   # Number of CPU cores the container requests\n",
    "\tgpu: str = '0' # \"\"\n",
    "\n",
    "class Volume(BaseModel):\n",
    "\tname: str = Field(default_factory= lambda: str(uuid1())) # Name of the volume\n",
    "\tpersistentVolumeClaim: dict[str, str]  # Name of the PersistentVolumeClaim\n",
    "\n",
    "class volumeMount(BaseModel):\n",
    "\tname: str = Field(default_factory= lambda: str(uuid1())) # Name of the volume\n",
    "\tmountPath: str  # Path to mount the volume inside the container\n",
    "\n",
    "class Container(BaseModel):\n",
    "\tname: str = Field(default_factory= lambda: str(uuid1())) # Name of the container\n",
    "\timage: str = \"gitlab-registry.nrp-nautilus.io/usra/scb-env-one:latest\" # base docker\n",
    "\tcommand: list[str] = [\"/bin/bash\", \"-c\"] # run bash at start\n",
    "\targs: list[str] = [\". activate base; sleep infinity\"] # Arguments to the command\n",
    "\tvolumeMounts: list[volumeMount]  # Mount points for volumes\n",
    "\tresources: dict[str, ResourceLimits | ResourceRequests]  # Resource limits for the container\n",
    "\n",
    "class Metadata(BaseModel): \n",
    "\t\"\"\" info about the job \"\"\"\n",
    "\tname: str       = \"ata-pod\"\n",
    "\tnamespace: str  = \"scb-usra\" \n",
    "\n",
    "class Spec(BaseModel):\n",
    "\tcontainers: list[Container]\n",
    "\tvolumes: list[Volume]\n",
    "\trestartPolicy: str = \"Never\"\n",
    "\n",
    "class Pod(BaseModel):\n",
    "\tapiVersion: str = \"v1\"  # Kubernetes API version\n",
    "\tkind: str       = \"Pod\" # Type of Kubernetes resource\n",
    "\tmetadata: dict[str, str] = Metadata() # Metadata for the resource\n",
    "\tspec: Spec # Specification for the resource\n",
    "\n",
    "vol1 = Volume(\n",
    "\tname= \"scb-usra\",  # name in the pod\n",
    "\tpersistentVolumeClaim= dict(\n",
    "\t\tclaimName= \"scb-usra\",  # ???\n",
    "))\n",
    "\n",
    "con1 = Container(\n",
    "\tname=       \"a container\",  # Name of the container\n",
    "\tvolumeMounts= [\n",
    "\t\tvolumeMount(name= \"scb-usra\", mountPath=  \"/scb-usra\"),\n",
    "\t],\n",
    "\tresources= dict(\n",
    "\t\trequest= ResourceRequests(memory=\"10Gi\", cpu= \"1\"),\n",
    "\t\tlimits= ResourceLimits(memory=\"10Gi\", cpu= \"1\"),\n",
    "\t)\n",
    ")"
   ]
  },
  {
   "cell_type": "code",
   "execution_count": 4,
   "metadata": {},
   "outputs": [
    {
     "data": {
      "text/html": [
       "<pre style=\"white-space:pre;overflow-x:auto;line-height:normal;font-family:Menlo,'DejaVu Sans Mono',consolas,'Courier New',monospace\"><span style=\"color: #000080; text-decoration-color: #000080\">╭─────────────────────────────────────── </span><span style=\"color: #000080; text-decoration-color: #000080; font-weight: bold\">&lt;</span><span style=\"color: #ff00ff; text-decoration-color: #ff00ff; font-weight: bold\">class</span><span style=\"color: #000000; text-decoration-color: #000000\"> </span><span style=\"color: #008000; text-decoration-color: #008000\">'__main__.Pod'</span><span style=\"color: #000080; text-decoration-color: #000080; font-weight: bold\">&gt;</span><span style=\"color: #000080; text-decoration-color: #000080\"> ───────────────────────────────────────╮</span>\n",
       "<span style=\"color: #000080; text-decoration-color: #000080\">│</span> <span style=\"color: #008000; text-decoration-color: #008000\">╭──────────────────────────────────────────────────────────────────────────────────────────────────╮</span> <span style=\"color: #000080; text-decoration-color: #000080\">│</span>\n",
       "<span style=\"color: #000080; text-decoration-color: #000080\">│</span> <span style=\"color: #008000; text-decoration-color: #008000\">│</span> <span style=\"color: #800080; text-decoration-color: #800080; font-weight: bold\">Pod</span><span style=\"font-weight: bold\">(</span>                                                                                             <span style=\"color: #008000; text-decoration-color: #008000\">│</span> <span style=\"color: #000080; text-decoration-color: #000080\">│</span>\n",
       "<span style=\"color: #000080; text-decoration-color: #000080\">│</span> <span style=\"color: #008000; text-decoration-color: #008000\">│</span> <span style=\"color: #7fbf7f; text-decoration-color: #7fbf7f\">│   </span><span style=\"color: #808000; text-decoration-color: #808000\">apiVersion</span>=<span style=\"color: #008000; text-decoration-color: #008000\">'v1'</span>,                                                                             <span style=\"color: #008000; text-decoration-color: #008000\">│</span> <span style=\"color: #000080; text-decoration-color: #000080\">│</span>\n",
       "<span style=\"color: #000080; text-decoration-color: #000080\">│</span> <span style=\"color: #008000; text-decoration-color: #008000\">│</span> <span style=\"color: #7fbf7f; text-decoration-color: #7fbf7f\">│   </span><span style=\"color: #808000; text-decoration-color: #808000\">kind</span>=<span style=\"color: #008000; text-decoration-color: #008000\">'Pod'</span>,                                                                                  <span style=\"color: #008000; text-decoration-color: #008000\">│</span> <span style=\"color: #000080; text-decoration-color: #000080\">│</span>\n",
       "<span style=\"color: #000080; text-decoration-color: #000080\">│</span> <span style=\"color: #008000; text-decoration-color: #008000\">│</span> <span style=\"color: #7fbf7f; text-decoration-color: #7fbf7f\">│   </span><span style=\"color: #808000; text-decoration-color: #808000\">metadata</span>=<span style=\"font-weight: bold\">{</span><span style=\"color: #008000; text-decoration-color: #008000\">'name'</span>: <span style=\"color: #008000; text-decoration-color: #008000\">'scb-usra'</span>, <span style=\"color: #008000; text-decoration-color: #008000\">'namespace'</span>: <span style=\"color: #008000; text-decoration-color: #008000\">'scb-usra'</span><span style=\"font-weight: bold\">}</span>,                                      <span style=\"color: #008000; text-decoration-color: #008000\">│</span> <span style=\"color: #000080; text-decoration-color: #000080\">│</span>\n",
       "<span style=\"color: #000080; text-decoration-color: #000080\">│</span> <span style=\"color: #008000; text-decoration-color: #008000\">│</span> <span style=\"color: #7fbf7f; text-decoration-color: #7fbf7f\">│   </span><span style=\"color: #808000; text-decoration-color: #808000\">spec</span>=<span style=\"color: #800080; text-decoration-color: #800080; font-weight: bold\">Spec</span><span style=\"font-weight: bold\">(</span>                                                                                   <span style=\"color: #008000; text-decoration-color: #008000\">│</span> <span style=\"color: #000080; text-decoration-color: #000080\">│</span>\n",
       "<span style=\"color: #000080; text-decoration-color: #000080\">│</span> <span style=\"color: #008000; text-decoration-color: #008000\">│</span> <span style=\"color: #7fbf7f; text-decoration-color: #7fbf7f\">│   │   </span><span style=\"color: #808000; text-decoration-color: #808000\">containers</span>=<span style=\"font-weight: bold\">[</span>                                                                             <span style=\"color: #008000; text-decoration-color: #008000\">│</span> <span style=\"color: #000080; text-decoration-color: #000080\">│</span>\n",
       "<span style=\"color: #000080; text-decoration-color: #000080\">│</span> <span style=\"color: #008000; text-decoration-color: #008000\">│</span> <span style=\"color: #7fbf7f; text-decoration-color: #7fbf7f\">│   │   │   </span><span style=\"color: #800080; text-decoration-color: #800080; font-weight: bold\">Container</span><span style=\"font-weight: bold\">(</span>                                                                           <span style=\"color: #008000; text-decoration-color: #008000\">│</span> <span style=\"color: #000080; text-decoration-color: #000080\">│</span>\n",
       "<span style=\"color: #000080; text-decoration-color: #000080\">│</span> <span style=\"color: #008000; text-decoration-color: #008000\">│</span> <span style=\"color: #7fbf7f; text-decoration-color: #7fbf7f\">│   │   │   │   </span><span style=\"color: #808000; text-decoration-color: #808000\">name</span>=<span style=\"color: #008000; text-decoration-color: #008000\">'a container'</span>,                                                              <span style=\"color: #008000; text-decoration-color: #008000\">│</span> <span style=\"color: #000080; text-decoration-color: #000080\">│</span>\n",
       "<span style=\"color: #000080; text-decoration-color: #000080\">│</span> <span style=\"color: #008000; text-decoration-color: #008000\">│</span> <span style=\"color: #7fbf7f; text-decoration-color: #7fbf7f\">│   │   │   │   </span><span style=\"color: #808000; text-decoration-color: #808000\">image</span>=<span style=\"color: #008000; text-decoration-color: #008000\">'gitlab-registry.nrp-nautilus.io/usra/scb-env-one:latest'</span>,                 <span style=\"color: #008000; text-decoration-color: #008000\">│</span> <span style=\"color: #000080; text-decoration-color: #000080\">│</span>\n",
       "<span style=\"color: #000080; text-decoration-color: #000080\">│</span> <span style=\"color: #008000; text-decoration-color: #008000\">│</span> <span style=\"color: #7fbf7f; text-decoration-color: #7fbf7f\">│   │   │   │   </span><span style=\"color: #808000; text-decoration-color: #808000\">command</span>=<span style=\"font-weight: bold\">[</span><span style=\"color: #008000; text-decoration-color: #008000\">'/bin/bash'</span>, <span style=\"color: #008000; text-decoration-color: #008000\">'-c'</span><span style=\"font-weight: bold\">]</span>,                                                     <span style=\"color: #008000; text-decoration-color: #008000\">│</span> <span style=\"color: #000080; text-decoration-color: #000080\">│</span>\n",
       "<span style=\"color: #000080; text-decoration-color: #000080\">│</span> <span style=\"color: #008000; text-decoration-color: #008000\">│</span> <span style=\"color: #7fbf7f; text-decoration-color: #7fbf7f\">│   │   │   │   </span><span style=\"color: #808000; text-decoration-color: #808000\">args</span>=<span style=\"font-weight: bold\">[</span><span style=\"color: #008000; text-decoration-color: #008000\">'. activate base; sleep infinity'</span><span style=\"font-weight: bold\">]</span>,                                        <span style=\"color: #008000; text-decoration-color: #008000\">│</span> <span style=\"color: #000080; text-decoration-color: #000080\">│</span>\n",
       "<span style=\"color: #000080; text-decoration-color: #000080\">│</span> <span style=\"color: #008000; text-decoration-color: #008000\">│</span> <span style=\"color: #7fbf7f; text-decoration-color: #7fbf7f\">│   │   │   │   </span><span style=\"color: #808000; text-decoration-color: #808000\">volumeMounts</span>=<span style=\"font-weight: bold\">[</span><span style=\"color: #800080; text-decoration-color: #800080; font-weight: bold\">volumeMount</span><span style=\"font-weight: bold\">(</span><span style=\"color: #808000; text-decoration-color: #808000\">name</span>=<span style=\"color: #008000; text-decoration-color: #008000\">'scb-usra'</span>, <span style=\"color: #808000; text-decoration-color: #808000\">mountPath</span>=<span style=\"color: #008000; text-decoration-color: #008000\">'/scb-usra'</span><span style=\"font-weight: bold\">)]</span>,              <span style=\"color: #008000; text-decoration-color: #008000\">│</span> <span style=\"color: #000080; text-decoration-color: #000080\">│</span>\n",
       "<span style=\"color: #000080; text-decoration-color: #000080\">│</span> <span style=\"color: #008000; text-decoration-color: #008000\">│</span> <span style=\"color: #7fbf7f; text-decoration-color: #7fbf7f\">│   │   │   │   </span><span style=\"color: #808000; text-decoration-color: #808000\">resources</span>=<span style=\"font-weight: bold\">{</span>                                                                      <span style=\"color: #008000; text-decoration-color: #008000\">│</span> <span style=\"color: #000080; text-decoration-color: #000080\">│</span>\n",
       "<span style=\"color: #000080; text-decoration-color: #000080\">│</span> <span style=\"color: #008000; text-decoration-color: #008000\">│</span> <span style=\"color: #7fbf7f; text-decoration-color: #7fbf7f\">│   │   │   │   │   </span><span style=\"color: #008000; text-decoration-color: #008000\">'request'</span>: <span style=\"color: #800080; text-decoration-color: #800080; font-weight: bold\">ResourceLimits</span><span style=\"font-weight: bold\">(</span><span style=\"color: #808000; text-decoration-color: #808000\">memory</span>=<span style=\"color: #008000; text-decoration-color: #008000\">'10Gi'</span>, <span style=\"color: #808000; text-decoration-color: #808000\">cpu</span>=<span style=\"color: #008000; text-decoration-color: #008000\">'1'</span>, <span style=\"color: #808000; text-decoration-color: #808000\">gpu</span>=<span style=\"color: #008000; text-decoration-color: #008000\">'0'</span><span style=\"font-weight: bold\">)</span>,                  <span style=\"color: #008000; text-decoration-color: #008000\">│</span> <span style=\"color: #000080; text-decoration-color: #000080\">│</span>\n",
       "<span style=\"color: #000080; text-decoration-color: #000080\">│</span> <span style=\"color: #008000; text-decoration-color: #008000\">│</span> <span style=\"color: #7fbf7f; text-decoration-color: #7fbf7f\">│   │   │   │   │   </span><span style=\"color: #008000; text-decoration-color: #008000\">'limits'</span>: <span style=\"color: #800080; text-decoration-color: #800080; font-weight: bold\">ResourceLimits</span><span style=\"font-weight: bold\">(</span><span style=\"color: #808000; text-decoration-color: #808000\">memory</span>=<span style=\"color: #008000; text-decoration-color: #008000\">'10Gi'</span>, <span style=\"color: #808000; text-decoration-color: #808000\">cpu</span>=<span style=\"color: #008000; text-decoration-color: #008000\">'1'</span>, <span style=\"color: #808000; text-decoration-color: #808000\">gpu</span>=<span style=\"color: #008000; text-decoration-color: #008000\">'0'</span><span style=\"font-weight: bold\">)</span>                    <span style=\"color: #008000; text-decoration-color: #008000\">│</span> <span style=\"color: #000080; text-decoration-color: #000080\">│</span>\n",
       "<span style=\"color: #000080; text-decoration-color: #000080\">│</span> <span style=\"color: #008000; text-decoration-color: #008000\">│</span> <span style=\"color: #7fbf7f; text-decoration-color: #7fbf7f\">│   │   │   │   </span><span style=\"font-weight: bold\">}</span>                                                                                <span style=\"color: #008000; text-decoration-color: #008000\">│</span> <span style=\"color: #000080; text-decoration-color: #000080\">│</span>\n",
       "<span style=\"color: #000080; text-decoration-color: #000080\">│</span> <span style=\"color: #008000; text-decoration-color: #008000\">│</span> <span style=\"color: #7fbf7f; text-decoration-color: #7fbf7f\">│   │   │   </span><span style=\"font-weight: bold\">)</span>                                                                                    <span style=\"color: #008000; text-decoration-color: #008000\">│</span> <span style=\"color: #000080; text-decoration-color: #000080\">│</span>\n",
       "<span style=\"color: #000080; text-decoration-color: #000080\">│</span> <span style=\"color: #008000; text-decoration-color: #008000\">│</span> <span style=\"color: #7fbf7f; text-decoration-color: #7fbf7f\">│   │   </span><span style=\"font-weight: bold\">]</span>,                                                                                       <span style=\"color: #008000; text-decoration-color: #008000\">│</span> <span style=\"color: #000080; text-decoration-color: #000080\">│</span>\n",
       "<span style=\"color: #000080; text-decoration-color: #000080\">│</span> <span style=\"color: #008000; text-decoration-color: #008000\">│</span> <span style=\"color: #7fbf7f; text-decoration-color: #7fbf7f\">│   │   </span><span style=\"color: #808000; text-decoration-color: #808000\">volumes</span>=<span style=\"font-weight: bold\">[</span><span style=\"color: #800080; text-decoration-color: #800080; font-weight: bold\">Volume</span><span style=\"font-weight: bold\">(</span><span style=\"color: #808000; text-decoration-color: #808000\">name</span>=<span style=\"color: #008000; text-decoration-color: #008000\">'scb-usra'</span>, <span style=\"color: #808000; text-decoration-color: #808000\">persistentVolumeClaim</span>=<span style=\"font-weight: bold\">{</span><span style=\"color: #008000; text-decoration-color: #008000\">'claimName'</span>: <span style=\"color: #008000; text-decoration-color: #008000\">'scb-usra'</span><span style=\"font-weight: bold\">})]</span>,      <span style=\"color: #008000; text-decoration-color: #008000\">│</span> <span style=\"color: #000080; text-decoration-color: #000080\">│</span>\n",
       "<span style=\"color: #000080; text-decoration-color: #000080\">│</span> <span style=\"color: #008000; text-decoration-color: #008000\">│</span> <span style=\"color: #7fbf7f; text-decoration-color: #7fbf7f\">│   │   </span><span style=\"color: #808000; text-decoration-color: #808000\">restartPolicy</span>=<span style=\"color: #008000; text-decoration-color: #008000\">'Never'</span>                                                                    <span style=\"color: #008000; text-decoration-color: #008000\">│</span> <span style=\"color: #000080; text-decoration-color: #000080\">│</span>\n",
       "<span style=\"color: #000080; text-decoration-color: #000080\">│</span> <span style=\"color: #008000; text-decoration-color: #008000\">│</span> <span style=\"color: #7fbf7f; text-decoration-color: #7fbf7f\">│   </span><span style=\"font-weight: bold\">)</span>                                                                                            <span style=\"color: #008000; text-decoration-color: #008000\">│</span> <span style=\"color: #000080; text-decoration-color: #000080\">│</span>\n",
       "<span style=\"color: #000080; text-decoration-color: #000080\">│</span> <span style=\"color: #008000; text-decoration-color: #008000\">│</span> <span style=\"font-weight: bold\">)</span>                                                                                                <span style=\"color: #008000; text-decoration-color: #008000\">│</span> <span style=\"color: #000080; text-decoration-color: #000080\">│</span>\n",
       "<span style=\"color: #000080; text-decoration-color: #000080\">│</span> <span style=\"color: #008000; text-decoration-color: #008000\">╰──────────────────────────────────────────────────────────────────────────────────────────────────╯</span> <span style=\"color: #000080; text-decoration-color: #000080\">│</span>\n",
       "<span style=\"color: #000080; text-decoration-color: #000080\">│</span>                                                                                                      <span style=\"color: #000080; text-decoration-color: #000080\">│</span>\n",
       "<span style=\"color: #000080; text-decoration-color: #000080\">│</span> <span style=\"color: #808000; text-decoration-color: #808000; font-style: italic\">apiVersion</span> = <span style=\"color: #008000; text-decoration-color: #008000\">'v1'</span>                                                                                    <span style=\"color: #000080; text-decoration-color: #000080\">│</span>\n",
       "<span style=\"color: #000080; text-decoration-color: #000080\">│</span>       <span style=\"color: #808000; text-decoration-color: #808000; font-style: italic\">kind</span> = <span style=\"color: #008000; text-decoration-color: #008000\">'Pod'</span>                                                                                   <span style=\"color: #000080; text-decoration-color: #000080\">│</span>\n",
       "<span style=\"color: #000080; text-decoration-color: #000080\">│</span>   <span style=\"color: #808000; text-decoration-color: #808000; font-style: italic\">metadata</span> = <span style=\"font-weight: bold\">{</span><span style=\"color: #008000; text-decoration-color: #008000\">'name'</span>: <span style=\"color: #008000; text-decoration-color: #008000\">'scb-usra'</span>, <span style=\"color: #008000; text-decoration-color: #008000\">'namespace'</span>: <span style=\"color: #008000; text-decoration-color: #008000\">'scb-usra'</span><span style=\"font-weight: bold\">}</span>                                           <span style=\"color: #000080; text-decoration-color: #000080\">│</span>\n",
       "<span style=\"color: #000080; text-decoration-color: #000080\">│</span>       <span style=\"color: #808000; text-decoration-color: #808000; font-style: italic\">spec</span> = <span style=\"color: #800080; text-decoration-color: #800080; font-weight: bold\">Spec</span><span style=\"font-weight: bold\">(</span>                                                                                   <span style=\"color: #000080; text-decoration-color: #000080\">│</span>\n",
       "<span style=\"color: #000080; text-decoration-color: #000080\">│</span>                  <span style=\"color: #808000; text-decoration-color: #808000\">containers</span>=<span style=\"font-weight: bold\">[</span>                                                                        <span style=\"color: #000080; text-decoration-color: #000080\">│</span>\n",
       "<span style=\"color: #000080; text-decoration-color: #000080\">│</span>                      <span style=\"color: #800080; text-decoration-color: #800080; font-weight: bold\">Container</span><span style=\"font-weight: bold\">(</span>                                                                      <span style=\"color: #000080; text-decoration-color: #000080\">│</span>\n",
       "<span style=\"color: #000080; text-decoration-color: #000080\">│</span>                          <span style=\"color: #808000; text-decoration-color: #808000\">name</span>=<span style=\"color: #008000; text-decoration-color: #008000\">'a container'</span>,                                                         <span style=\"color: #000080; text-decoration-color: #000080\">│</span>\n",
       "<span style=\"color: #000080; text-decoration-color: #000080\">│</span>                          <span style=\"color: #808000; text-decoration-color: #808000\">image</span>=<span style=\"color: #008000; text-decoration-color: #008000\">'gitlab-registry.nrp-nautilus.io/usra/scb-env-one:latest'</span>,            <span style=\"color: #000080; text-decoration-color: #000080\">│</span>\n",
       "<span style=\"color: #000080; text-decoration-color: #000080\">│</span>                          <span style=\"color: #808000; text-decoration-color: #808000\">command</span>=<span style=\"font-weight: bold\">[</span><span style=\"color: #008000; text-decoration-color: #008000\">'/bin/bash'</span>, <span style=\"color: #008000; text-decoration-color: #008000\">'-c'</span><span style=\"font-weight: bold\">]</span>,                                                <span style=\"color: #000080; text-decoration-color: #000080\">│</span>\n",
       "<span style=\"color: #000080; text-decoration-color: #000080\">│</span>                          <span style=\"color: #808000; text-decoration-color: #808000\">args</span>=<span style=\"font-weight: bold\">[</span><span style=\"color: #008000; text-decoration-color: #008000\">'. activate base; sleep infinity'</span><span style=\"font-weight: bold\">]</span>,                                   <span style=\"color: #000080; text-decoration-color: #000080\">│</span>\n",
       "<span style=\"color: #000080; text-decoration-color: #000080\">│</span>                          <span style=\"color: #808000; text-decoration-color: #808000\">volumeMounts</span>=<span style=\"font-weight: bold\">[</span><span style=\"color: #800080; text-decoration-color: #800080; font-weight: bold\">volumeMount</span><span style=\"font-weight: bold\">(</span><span style=\"color: #808000; text-decoration-color: #808000\">name</span>=<span style=\"color: #008000; text-decoration-color: #008000\">'scb-usra'</span>, <span style=\"color: #808000; text-decoration-color: #808000\">mountPath</span>=<span style=\"color: #008000; text-decoration-color: #008000\">'/scb-usra'</span><span style=\"font-weight: bold\">)]</span>,         <span style=\"color: #000080; text-decoration-color: #000080\">│</span>\n",
       "<span style=\"color: #000080; text-decoration-color: #000080\">│</span>                          <span style=\"color: #808000; text-decoration-color: #808000\">resources</span>=<span style=\"font-weight: bold\">{</span>                                                                 <span style=\"color: #000080; text-decoration-color: #000080\">│</span>\n",
       "<span style=\"color: #000080; text-decoration-color: #000080\">│</span>                              <span style=\"color: #008000; text-decoration-color: #008000\">'request'</span>: <span style=\"color: #800080; text-decoration-color: #800080; font-weight: bold\">ResourceLimits</span><span style=\"font-weight: bold\">(</span><span style=\"color: #808000; text-decoration-color: #808000\">memory</span>=<span style=\"color: #008000; text-decoration-color: #008000\">'10Gi'</span>, <span style=\"color: #808000; text-decoration-color: #808000\">cpu</span>=<span style=\"color: #008000; text-decoration-color: #008000\">'1'</span>, <span style=\"color: #808000; text-decoration-color: #808000\">gpu</span>=<span style=\"color: #008000; text-decoration-color: #008000\">'0'</span><span style=\"font-weight: bold\">)</span>,             <span style=\"color: #000080; text-decoration-color: #000080\">│</span>\n",
       "<span style=\"color: #000080; text-decoration-color: #000080\">│</span>                              <span style=\"color: #008000; text-decoration-color: #008000\">'limits'</span>: <span style=\"color: #800080; text-decoration-color: #800080; font-weight: bold\">ResourceLimits</span><span style=\"font-weight: bold\">(</span><span style=\"color: #808000; text-decoration-color: #808000\">memory</span>=<span style=\"color: #008000; text-decoration-color: #008000\">'10Gi'</span>, <span style=\"color: #808000; text-decoration-color: #808000\">cpu</span>=<span style=\"color: #008000; text-decoration-color: #008000\">'1'</span>, <span style=\"color: #808000; text-decoration-color: #808000\">gpu</span>=<span style=\"color: #008000; text-decoration-color: #008000\">'0'</span><span style=\"font-weight: bold\">)</span>               <span style=\"color: #000080; text-decoration-color: #000080\">│</span>\n",
       "<span style=\"color: #000080; text-decoration-color: #000080\">│</span>                          <span style=\"font-weight: bold\">}</span>                                                                           <span style=\"color: #000080; text-decoration-color: #000080\">│</span>\n",
       "<span style=\"color: #000080; text-decoration-color: #000080\">│</span>                      <span style=\"font-weight: bold\">)</span>                                                                               <span style=\"color: #000080; text-decoration-color: #000080\">│</span>\n",
       "<span style=\"color: #000080; text-decoration-color: #000080\">│</span>                  <span style=\"font-weight: bold\">]</span>,                                                                                  <span style=\"color: #000080; text-decoration-color: #000080\">│</span>\n",
       "<span style=\"color: #000080; text-decoration-color: #000080\">│</span>                  <span style=\"color: #808000; text-decoration-color: #808000\">volumes</span>=<span style=\"font-weight: bold\">[</span>                                                                           <span style=\"color: #000080; text-decoration-color: #000080\">│</span>\n",
       "<span style=\"color: #000080; text-decoration-color: #000080\">│</span>                      <span style=\"color: #800080; text-decoration-color: #800080; font-weight: bold\">Volume</span><span style=\"font-weight: bold\">(</span><span style=\"color: #808000; text-decoration-color: #808000\">name</span>=<span style=\"color: #008000; text-decoration-color: #008000\">'scb-usra'</span>, <span style=\"color: #808000; text-decoration-color: #808000\">persistentVolumeClaim</span>=<span style=\"font-weight: bold\">{</span><span style=\"color: #008000; text-decoration-color: #008000\">'claimName'</span>: <span style=\"color: #008000; text-decoration-color: #008000\">'scb-usra'</span><span style=\"font-weight: bold\">})</span>        <span style=\"color: #000080; text-decoration-color: #000080\">│</span>\n",
       "<span style=\"color: #000080; text-decoration-color: #000080\">│</span>                  <span style=\"font-weight: bold\">]</span>,                                                                                  <span style=\"color: #000080; text-decoration-color: #000080\">│</span>\n",
       "<span style=\"color: #000080; text-decoration-color: #000080\">│</span>                  <span style=\"color: #808000; text-decoration-color: #808000\">restartPolicy</span>=<span style=\"color: #008000; text-decoration-color: #008000\">'Never'</span>                                                               <span style=\"color: #000080; text-decoration-color: #000080\">│</span>\n",
       "<span style=\"color: #000080; text-decoration-color: #000080\">│</span>              <span style=\"font-weight: bold\">)</span>                                                                                       <span style=\"color: #000080; text-decoration-color: #000080\">│</span>\n",
       "<span style=\"color: #000080; text-decoration-color: #000080\">╰──────────────────────────────────────────────────────────────────────────────────────────────────────╯</span>\n",
       "</pre>\n"
      ],
      "text/plain": [
       "\u001b[34m╭─\u001b[0m\u001b[34m──────────────────────────────────────\u001b[0m\u001b[34m \u001b[0m\u001b[1;34m<\u001b[0m\u001b[1;95mclass\u001b[0m\u001b[39m \u001b[0m\u001b[32m'__main__.Pod'\u001b[0m\u001b[1;34m>\u001b[0m\u001b[34m \u001b[0m\u001b[34m──────────────────────────────────────\u001b[0m\u001b[34m─╮\u001b[0m\n",
       "\u001b[34m│\u001b[0m \u001b[32m╭──────────────────────────────────────────────────────────────────────────────────────────────────╮\u001b[0m \u001b[34m│\u001b[0m\n",
       "\u001b[34m│\u001b[0m \u001b[32m│\u001b[0m \u001b[1;35mPod\u001b[0m\u001b[1m(\u001b[0m                                                                                             \u001b[32m│\u001b[0m \u001b[34m│\u001b[0m\n",
       "\u001b[34m│\u001b[0m \u001b[32m│\u001b[0m \u001b[2;32m│   \u001b[0m\u001b[33mapiVersion\u001b[0m=\u001b[32m'v1'\u001b[0m,                                                                             \u001b[32m│\u001b[0m \u001b[34m│\u001b[0m\n",
       "\u001b[34m│\u001b[0m \u001b[32m│\u001b[0m \u001b[2;32m│   \u001b[0m\u001b[33mkind\u001b[0m=\u001b[32m'Pod'\u001b[0m,                                                                                  \u001b[32m│\u001b[0m \u001b[34m│\u001b[0m\n",
       "\u001b[34m│\u001b[0m \u001b[32m│\u001b[0m \u001b[2;32m│   \u001b[0m\u001b[33mmetadata\u001b[0m=\u001b[1m{\u001b[0m\u001b[32m'name'\u001b[0m: \u001b[32m'scb-usra'\u001b[0m, \u001b[32m'namespace'\u001b[0m: \u001b[32m'scb-usra'\u001b[0m\u001b[1m}\u001b[0m,                                      \u001b[32m│\u001b[0m \u001b[34m│\u001b[0m\n",
       "\u001b[34m│\u001b[0m \u001b[32m│\u001b[0m \u001b[2;32m│   \u001b[0m\u001b[33mspec\u001b[0m=\u001b[1;35mSpec\u001b[0m\u001b[1m(\u001b[0m                                                                                   \u001b[32m│\u001b[0m \u001b[34m│\u001b[0m\n",
       "\u001b[34m│\u001b[0m \u001b[32m│\u001b[0m \u001b[2;32m│   │   \u001b[0m\u001b[33mcontainers\u001b[0m=\u001b[1m[\u001b[0m                                                                             \u001b[32m│\u001b[0m \u001b[34m│\u001b[0m\n",
       "\u001b[34m│\u001b[0m \u001b[32m│\u001b[0m \u001b[2;32m│   │   │   \u001b[0m\u001b[1;35mContainer\u001b[0m\u001b[1m(\u001b[0m                                                                           \u001b[32m│\u001b[0m \u001b[34m│\u001b[0m\n",
       "\u001b[34m│\u001b[0m \u001b[32m│\u001b[0m \u001b[2;32m│   │   │   │   \u001b[0m\u001b[33mname\u001b[0m=\u001b[32m'a container'\u001b[0m,                                                              \u001b[32m│\u001b[0m \u001b[34m│\u001b[0m\n",
       "\u001b[34m│\u001b[0m \u001b[32m│\u001b[0m \u001b[2;32m│   │   │   │   \u001b[0m\u001b[33mimage\u001b[0m=\u001b[32m'gitlab-registry.nrp-nautilus.io/usra/scb-env-one:latest'\u001b[0m,                 \u001b[32m│\u001b[0m \u001b[34m│\u001b[0m\n",
       "\u001b[34m│\u001b[0m \u001b[32m│\u001b[0m \u001b[2;32m│   │   │   │   \u001b[0m\u001b[33mcommand\u001b[0m=\u001b[1m[\u001b[0m\u001b[32m'/bin/bash'\u001b[0m, \u001b[32m'-c'\u001b[0m\u001b[1m]\u001b[0m,                                                     \u001b[32m│\u001b[0m \u001b[34m│\u001b[0m\n",
       "\u001b[34m│\u001b[0m \u001b[32m│\u001b[0m \u001b[2;32m│   │   │   │   \u001b[0m\u001b[33margs\u001b[0m=\u001b[1m[\u001b[0m\u001b[32m'. activate base; sleep infinity'\u001b[0m\u001b[1m]\u001b[0m,                                        \u001b[32m│\u001b[0m \u001b[34m│\u001b[0m\n",
       "\u001b[34m│\u001b[0m \u001b[32m│\u001b[0m \u001b[2;32m│   │   │   │   \u001b[0m\u001b[33mvolumeMounts\u001b[0m=\u001b[1m[\u001b[0m\u001b[1;35mvolumeMount\u001b[0m\u001b[1m(\u001b[0m\u001b[33mname\u001b[0m=\u001b[32m'scb-usra'\u001b[0m, \u001b[33mmountPath\u001b[0m=\u001b[32m'/scb-usra'\u001b[0m\u001b[1m)\u001b[0m\u001b[1m]\u001b[0m,              \u001b[32m│\u001b[0m \u001b[34m│\u001b[0m\n",
       "\u001b[34m│\u001b[0m \u001b[32m│\u001b[0m \u001b[2;32m│   │   │   │   \u001b[0m\u001b[33mresources\u001b[0m=\u001b[1m{\u001b[0m                                                                      \u001b[32m│\u001b[0m \u001b[34m│\u001b[0m\n",
       "\u001b[34m│\u001b[0m \u001b[32m│\u001b[0m \u001b[2;32m│   │   │   │   │   \u001b[0m\u001b[32m'request'\u001b[0m: \u001b[1;35mResourceLimits\u001b[0m\u001b[1m(\u001b[0m\u001b[33mmemory\u001b[0m=\u001b[32m'10Gi'\u001b[0m, \u001b[33mcpu\u001b[0m=\u001b[32m'1'\u001b[0m, \u001b[33mgpu\u001b[0m=\u001b[32m'0'\u001b[0m\u001b[1m)\u001b[0m,                  \u001b[32m│\u001b[0m \u001b[34m│\u001b[0m\n",
       "\u001b[34m│\u001b[0m \u001b[32m│\u001b[0m \u001b[2;32m│   │   │   │   │   \u001b[0m\u001b[32m'limits'\u001b[0m: \u001b[1;35mResourceLimits\u001b[0m\u001b[1m(\u001b[0m\u001b[33mmemory\u001b[0m=\u001b[32m'10Gi'\u001b[0m, \u001b[33mcpu\u001b[0m=\u001b[32m'1'\u001b[0m, \u001b[33mgpu\u001b[0m=\u001b[32m'0'\u001b[0m\u001b[1m)\u001b[0m                    \u001b[32m│\u001b[0m \u001b[34m│\u001b[0m\n",
       "\u001b[34m│\u001b[0m \u001b[32m│\u001b[0m \u001b[2;32m│   │   │   │   \u001b[0m\u001b[1m}\u001b[0m                                                                                \u001b[32m│\u001b[0m \u001b[34m│\u001b[0m\n",
       "\u001b[34m│\u001b[0m \u001b[32m│\u001b[0m \u001b[2;32m│   │   │   \u001b[0m\u001b[1m)\u001b[0m                                                                                    \u001b[32m│\u001b[0m \u001b[34m│\u001b[0m\n",
       "\u001b[34m│\u001b[0m \u001b[32m│\u001b[0m \u001b[2;32m│   │   \u001b[0m\u001b[1m]\u001b[0m,                                                                                       \u001b[32m│\u001b[0m \u001b[34m│\u001b[0m\n",
       "\u001b[34m│\u001b[0m \u001b[32m│\u001b[0m \u001b[2;32m│   │   \u001b[0m\u001b[33mvolumes\u001b[0m=\u001b[1m[\u001b[0m\u001b[1;35mVolume\u001b[0m\u001b[1m(\u001b[0m\u001b[33mname\u001b[0m=\u001b[32m'scb-usra'\u001b[0m, \u001b[33mpersistentVolumeClaim\u001b[0m=\u001b[1m{\u001b[0m\u001b[32m'claimName'\u001b[0m: \u001b[32m'scb-usra'\u001b[0m\u001b[1m}\u001b[0m\u001b[1m)\u001b[0m\u001b[1m]\u001b[0m,      \u001b[32m│\u001b[0m \u001b[34m│\u001b[0m\n",
       "\u001b[34m│\u001b[0m \u001b[32m│\u001b[0m \u001b[2;32m│   │   \u001b[0m\u001b[33mrestartPolicy\u001b[0m=\u001b[32m'Never'\u001b[0m                                                                    \u001b[32m│\u001b[0m \u001b[34m│\u001b[0m\n",
       "\u001b[34m│\u001b[0m \u001b[32m│\u001b[0m \u001b[2;32m│   \u001b[0m\u001b[1m)\u001b[0m                                                                                            \u001b[32m│\u001b[0m \u001b[34m│\u001b[0m\n",
       "\u001b[34m│\u001b[0m \u001b[32m│\u001b[0m \u001b[1m)\u001b[0m                                                                                                \u001b[32m│\u001b[0m \u001b[34m│\u001b[0m\n",
       "\u001b[34m│\u001b[0m \u001b[32m╰──────────────────────────────────────────────────────────────────────────────────────────────────╯\u001b[0m \u001b[34m│\u001b[0m\n",
       "\u001b[34m│\u001b[0m                                                                                                      \u001b[34m│\u001b[0m\n",
       "\u001b[34m│\u001b[0m \u001b[3;33mapiVersion\u001b[0m = \u001b[32m'v1'\u001b[0m                                                                                    \u001b[34m│\u001b[0m\n",
       "\u001b[34m│\u001b[0m       \u001b[3;33mkind\u001b[0m = \u001b[32m'Pod'\u001b[0m                                                                                   \u001b[34m│\u001b[0m\n",
       "\u001b[34m│\u001b[0m   \u001b[3;33mmetadata\u001b[0m = \u001b[1m{\u001b[0m\u001b[32m'name'\u001b[0m: \u001b[32m'scb-usra'\u001b[0m, \u001b[32m'namespace'\u001b[0m: \u001b[32m'scb-usra'\u001b[0m\u001b[1m}\u001b[0m                                           \u001b[34m│\u001b[0m\n",
       "\u001b[34m│\u001b[0m       \u001b[3;33mspec\u001b[0m = \u001b[1;35mSpec\u001b[0m\u001b[1m(\u001b[0m                                                                                   \u001b[34m│\u001b[0m\n",
       "\u001b[34m│\u001b[0m                  \u001b[33mcontainers\u001b[0m=\u001b[1m[\u001b[0m                                                                        \u001b[34m│\u001b[0m\n",
       "\u001b[34m│\u001b[0m                      \u001b[1;35mContainer\u001b[0m\u001b[1m(\u001b[0m                                                                      \u001b[34m│\u001b[0m\n",
       "\u001b[34m│\u001b[0m                          \u001b[33mname\u001b[0m=\u001b[32m'a container'\u001b[0m,                                                         \u001b[34m│\u001b[0m\n",
       "\u001b[34m│\u001b[0m                          \u001b[33mimage\u001b[0m=\u001b[32m'gitlab-registry.nrp-nautilus.io/usra/scb-env-one:latest'\u001b[0m,            \u001b[34m│\u001b[0m\n",
       "\u001b[34m│\u001b[0m                          \u001b[33mcommand\u001b[0m=\u001b[1m[\u001b[0m\u001b[32m'/bin/bash'\u001b[0m, \u001b[32m'-c'\u001b[0m\u001b[1m]\u001b[0m,                                                \u001b[34m│\u001b[0m\n",
       "\u001b[34m│\u001b[0m                          \u001b[33margs\u001b[0m=\u001b[1m[\u001b[0m\u001b[32m'. activate base; sleep infinity'\u001b[0m\u001b[1m]\u001b[0m,                                   \u001b[34m│\u001b[0m\n",
       "\u001b[34m│\u001b[0m                          \u001b[33mvolumeMounts\u001b[0m=\u001b[1m[\u001b[0m\u001b[1;35mvolumeMount\u001b[0m\u001b[1m(\u001b[0m\u001b[33mname\u001b[0m=\u001b[32m'scb-usra'\u001b[0m, \u001b[33mmountPath\u001b[0m=\u001b[32m'/scb-usra'\u001b[0m\u001b[1m)\u001b[0m\u001b[1m]\u001b[0m,         \u001b[34m│\u001b[0m\n",
       "\u001b[34m│\u001b[0m                          \u001b[33mresources\u001b[0m=\u001b[1m{\u001b[0m                                                                 \u001b[34m│\u001b[0m\n",
       "\u001b[34m│\u001b[0m                              \u001b[32m'request'\u001b[0m: \u001b[1;35mResourceLimits\u001b[0m\u001b[1m(\u001b[0m\u001b[33mmemory\u001b[0m=\u001b[32m'10Gi'\u001b[0m, \u001b[33mcpu\u001b[0m=\u001b[32m'1'\u001b[0m, \u001b[33mgpu\u001b[0m=\u001b[32m'0'\u001b[0m\u001b[1m)\u001b[0m,             \u001b[34m│\u001b[0m\n",
       "\u001b[34m│\u001b[0m                              \u001b[32m'limits'\u001b[0m: \u001b[1;35mResourceLimits\u001b[0m\u001b[1m(\u001b[0m\u001b[33mmemory\u001b[0m=\u001b[32m'10Gi'\u001b[0m, \u001b[33mcpu\u001b[0m=\u001b[32m'1'\u001b[0m, \u001b[33mgpu\u001b[0m=\u001b[32m'0'\u001b[0m\u001b[1m)\u001b[0m               \u001b[34m│\u001b[0m\n",
       "\u001b[34m│\u001b[0m                          \u001b[1m}\u001b[0m                                                                           \u001b[34m│\u001b[0m\n",
       "\u001b[34m│\u001b[0m                      \u001b[1m)\u001b[0m                                                                               \u001b[34m│\u001b[0m\n",
       "\u001b[34m│\u001b[0m                  \u001b[1m]\u001b[0m,                                                                                  \u001b[34m│\u001b[0m\n",
       "\u001b[34m│\u001b[0m                  \u001b[33mvolumes\u001b[0m=\u001b[1m[\u001b[0m                                                                           \u001b[34m│\u001b[0m\n",
       "\u001b[34m│\u001b[0m                      \u001b[1;35mVolume\u001b[0m\u001b[1m(\u001b[0m\u001b[33mname\u001b[0m=\u001b[32m'scb-usra'\u001b[0m, \u001b[33mpersistentVolumeClaim\u001b[0m=\u001b[1m{\u001b[0m\u001b[32m'claimName'\u001b[0m: \u001b[32m'scb-usra'\u001b[0m\u001b[1m}\u001b[0m\u001b[1m)\u001b[0m        \u001b[34m│\u001b[0m\n",
       "\u001b[34m│\u001b[0m                  \u001b[1m]\u001b[0m,                                                                                  \u001b[34m│\u001b[0m\n",
       "\u001b[34m│\u001b[0m                  \u001b[33mrestartPolicy\u001b[0m=\u001b[32m'Never'\u001b[0m                                                               \u001b[34m│\u001b[0m\n",
       "\u001b[34m│\u001b[0m              \u001b[1m)\u001b[0m                                                                                       \u001b[34m│\u001b[0m\n",
       "\u001b[34m╰──────────────────────────────────────────────────────────────────────────────────────────────────────╯\u001b[0m\n"
      ]
     },
     "metadata": {},
     "output_type": "display_data"
    }
   ],
   "source": [
    "pod = Pod(\n",
    "    metadata= dict(\n",
    "        name= \"scb-usra\",\n",
    "        namespace= \"scb-usra\",\n",
    "    ),\n",
    "    spec= Spec(\n",
    "        containers= [con1],\n",
    "        volumes= [vol1],\n",
    "        restartPolicy= \"Never\",\n",
    "    )\n",
    ")\n",
    "inspect(pod)"
   ]
  },
  {
   "cell_type": "code",
   "execution_count": 8,
   "metadata": {},
   "outputs": [],
   "source": [
    "import yaml\n",
    "from pyfig.files import read\n",
    "# pprint(pod)\n",
    "# yaml.dump(pod.dict(), open('pod.yaml', 'w'))\n",
    "# pod_yaml = read('pod.yaml')\n",
    "# pprint(pod_yaml.splitlines())\n",
    "# pprint(pod.schema())"
   ]
  },
  {
   "cell_type": "code",
   "execution_count": 9,
   "metadata": {},
   "outputs": [
    {
     "data": {
      "text/html": [
       "<pre style=\"white-space:pre;overflow-x:auto;line-height:normal;font-family:Menlo,'DejaVu Sans Mono',consolas,'Courier New',monospace\"><span style=\"color: #800080; text-decoration-color: #800080; font-weight: bold\">Pod</span><span style=\"font-weight: bold\">(</span>\n",
       "<span style=\"color: #7fbf7f; text-decoration-color: #7fbf7f\">│   </span><span style=\"color: #808000; text-decoration-color: #808000\">apiVersion</span>=<span style=\"color: #008000; text-decoration-color: #008000\">'v1'</span>,\n",
       "<span style=\"color: #7fbf7f; text-decoration-color: #7fbf7f\">│   </span><span style=\"color: #808000; text-decoration-color: #808000\">kind</span>=<span style=\"color: #008000; text-decoration-color: #008000\">'Pod'</span>,\n",
       "<span style=\"color: #7fbf7f; text-decoration-color: #7fbf7f\">│   </span><span style=\"color: #808000; text-decoration-color: #808000\">metadata</span>=<span style=\"color: #800080; text-decoration-color: #800080; font-weight: bold\">Metadata</span><span style=\"font-weight: bold\">(</span><span style=\"color: #808000; text-decoration-color: #808000\">name</span>=<span style=\"color: #008000; text-decoration-color: #008000\">'max-pod'</span>, <span style=\"color: #808000; text-decoration-color: #808000\">namespace</span>=<span style=\"color: #008000; text-decoration-color: #008000\">'scb-usra'</span><span style=\"font-weight: bold\">)</span>,\n",
       "<span style=\"color: #7fbf7f; text-decoration-color: #7fbf7f\">│   </span><span style=\"color: #808000; text-decoration-color: #808000\">spec</span>=<span style=\"color: #800080; text-decoration-color: #800080; font-weight: bold\">Spec</span><span style=\"font-weight: bold\">(</span>\n",
       "<span style=\"color: #7fbf7f; text-decoration-color: #7fbf7f\">│   │   </span><span style=\"color: #808000; text-decoration-color: #808000\">containers</span>=<span style=\"font-weight: bold\">[</span>\n",
       "<span style=\"color: #7fbf7f; text-decoration-color: #7fbf7f\">│   │   │   </span><span style=\"color: #800080; text-decoration-color: #800080; font-weight: bold\">Container</span><span style=\"font-weight: bold\">(</span>\n",
       "<span style=\"color: #7fbf7f; text-decoration-color: #7fbf7f\">│   │   │   │   </span><span style=\"color: #808000; text-decoration-color: #808000\">name</span>=<span style=\"color: #008000; text-decoration-color: #008000\">'a-container'</span>,\n",
       "<span style=\"color: #7fbf7f; text-decoration-color: #7fbf7f\">│   │   │   │   </span><span style=\"color: #808000; text-decoration-color: #808000\">image</span>=<span style=\"color: #008000; text-decoration-color: #008000\">'docker.io/xmkqv/simple:latest'</span>,\n",
       "<span style=\"color: #7fbf7f; text-decoration-color: #7fbf7f\">│   │   │   │   </span><span style=\"color: #808000; text-decoration-color: #808000\">command</span>=<span style=\"font-weight: bold\">[</span><span style=\"color: #008000; text-decoration-color: #008000\">'/bin/bash'</span>, <span style=\"color: #008000; text-decoration-color: #008000\">'-c'</span><span style=\"font-weight: bold\">]</span>,\n",
       "<span style=\"color: #7fbf7f; text-decoration-color: #7fbf7f\">│   │   │   │   </span><span style=\"color: #808000; text-decoration-color: #808000\">args</span>=<span style=\"font-weight: bold\">[</span><span style=\"color: #008000; text-decoration-color: #008000\">'echo \"hello world\"'</span><span style=\"font-weight: bold\">]</span>,\n",
       "<span style=\"color: #7fbf7f; text-decoration-color: #7fbf7f\">│   │   │   │   </span><span style=\"color: #808000; text-decoration-color: #808000\">volumeMounts</span>=<span style=\"font-weight: bold\">[</span><span style=\"color: #800080; text-decoration-color: #800080; font-weight: bold\">volumeMount</span><span style=\"font-weight: bold\">(</span><span style=\"color: #808000; text-decoration-color: #808000\">name</span>=<span style=\"color: #008000; text-decoration-color: #008000\">'scb-usra'</span>, <span style=\"color: #808000; text-decoration-color: #808000\">mountPath</span>=<span style=\"color: #008000; text-decoration-color: #008000\">'/scb-usra'</span><span style=\"font-weight: bold\">)]</span>,\n",
       "<span style=\"color: #7fbf7f; text-decoration-color: #7fbf7f\">│   │   │   │   </span><span style=\"color: #808000; text-decoration-color: #808000\">resources</span>=<span style=\"font-weight: bold\">{</span>\n",
       "<span style=\"color: #7fbf7f; text-decoration-color: #7fbf7f\">│   │   │   │   │   </span><span style=\"color: #008000; text-decoration-color: #008000\">'requests'</span>: <span style=\"color: #800080; text-decoration-color: #800080; font-weight: bold\">ResourceLimits</span><span style=\"font-weight: bold\">(</span><span style=\"color: #808000; text-decoration-color: #808000\">memory</span>=<span style=\"color: #008000; text-decoration-color: #008000\">'10Gi'</span>, <span style=\"color: #808000; text-decoration-color: #808000\">cpu</span>=<span style=\"color: #008000; text-decoration-color: #008000\">'1'</span>, <span style=\"color: #808000; text-decoration-color: #808000\">gpu</span>=<span style=\"color: #800080; text-decoration-color: #800080; font-style: italic\">None</span>, <span style=\"color: #808000; text-decoration-color: #808000\">nvidia_gpu</span>=<span style=\"color: #800080; text-decoration-color: #800080; font-style: italic\">None</span><span style=\"font-weight: bold\">)</span>,\n",
       "<span style=\"color: #7fbf7f; text-decoration-color: #7fbf7f\">│   │   │   │   │   </span><span style=\"color: #008000; text-decoration-color: #008000\">'limits'</span>: <span style=\"color: #800080; text-decoration-color: #800080; font-weight: bold\">ResourceLimits</span><span style=\"font-weight: bold\">(</span><span style=\"color: #808000; text-decoration-color: #808000\">memory</span>=<span style=\"color: #008000; text-decoration-color: #008000\">'10Gi'</span>, <span style=\"color: #808000; text-decoration-color: #808000\">cpu</span>=<span style=\"color: #008000; text-decoration-color: #008000\">'1'</span>, <span style=\"color: #808000; text-decoration-color: #808000\">gpu</span>=<span style=\"color: #800080; text-decoration-color: #800080; font-style: italic\">None</span>, <span style=\"color: #808000; text-decoration-color: #808000\">nvidia_gpu</span>=<span style=\"color: #800080; text-decoration-color: #800080; font-style: italic\">None</span><span style=\"font-weight: bold\">)</span>\n",
       "<span style=\"color: #7fbf7f; text-decoration-color: #7fbf7f\">│   │   │   │   </span><span style=\"font-weight: bold\">}</span>\n",
       "<span style=\"color: #7fbf7f; text-decoration-color: #7fbf7f\">│   │   │   </span><span style=\"font-weight: bold\">)</span>\n",
       "<span style=\"color: #7fbf7f; text-decoration-color: #7fbf7f\">│   │   </span><span style=\"font-weight: bold\">]</span>,\n",
       "<span style=\"color: #7fbf7f; text-decoration-color: #7fbf7f\">│   │   </span><span style=\"color: #808000; text-decoration-color: #808000\">volumes</span>=<span style=\"font-weight: bold\">[</span><span style=\"color: #800080; text-decoration-color: #800080; font-weight: bold\">Volume</span><span style=\"font-weight: bold\">(</span><span style=\"color: #808000; text-decoration-color: #808000\">name</span>=<span style=\"color: #008000; text-decoration-color: #008000\">'scb-usra'</span>, <span style=\"color: #808000; text-decoration-color: #808000\">persistentVolumeClaim</span>=<span style=\"font-weight: bold\">{</span><span style=\"color: #008000; text-decoration-color: #008000\">'claimName'</span>: <span style=\"color: #008000; text-decoration-color: #008000\">'scb-usra'</span><span style=\"font-weight: bold\">})]</span>,\n",
       "<span style=\"color: #7fbf7f; text-decoration-color: #7fbf7f\">│   │   </span><span style=\"color: #808000; text-decoration-color: #808000\">restartPolicy</span>=<span style=\"color: #008000; text-decoration-color: #008000\">'Never'</span>\n",
       "<span style=\"color: #7fbf7f; text-decoration-color: #7fbf7f\">│   </span><span style=\"font-weight: bold\">)</span>\n",
       "<span style=\"font-weight: bold\">)</span>\n",
       "</pre>\n"
      ],
      "text/plain": [
       "\u001b[1;35mPod\u001b[0m\u001b[1m(\u001b[0m\n",
       "\u001b[2;32m│   \u001b[0m\u001b[33mapiVersion\u001b[0m=\u001b[32m'v1'\u001b[0m,\n",
       "\u001b[2;32m│   \u001b[0m\u001b[33mkind\u001b[0m=\u001b[32m'Pod'\u001b[0m,\n",
       "\u001b[2;32m│   \u001b[0m\u001b[33mmetadata\u001b[0m=\u001b[1;35mMetadata\u001b[0m\u001b[1m(\u001b[0m\u001b[33mname\u001b[0m=\u001b[32m'max-pod'\u001b[0m, \u001b[33mnamespace\u001b[0m=\u001b[32m'scb-usra'\u001b[0m\u001b[1m)\u001b[0m,\n",
       "\u001b[2;32m│   \u001b[0m\u001b[33mspec\u001b[0m=\u001b[1;35mSpec\u001b[0m\u001b[1m(\u001b[0m\n",
       "\u001b[2;32m│   │   \u001b[0m\u001b[33mcontainers\u001b[0m=\u001b[1m[\u001b[0m\n",
       "\u001b[2;32m│   │   │   \u001b[0m\u001b[1;35mContainer\u001b[0m\u001b[1m(\u001b[0m\n",
       "\u001b[2;32m│   │   │   │   \u001b[0m\u001b[33mname\u001b[0m=\u001b[32m'a-container'\u001b[0m,\n",
       "\u001b[2;32m│   │   │   │   \u001b[0m\u001b[33mimage\u001b[0m=\u001b[32m'docker.io/xmkqv/simple:latest'\u001b[0m,\n",
       "\u001b[2;32m│   │   │   │   \u001b[0m\u001b[33mcommand\u001b[0m=\u001b[1m[\u001b[0m\u001b[32m'/bin/bash'\u001b[0m, \u001b[32m'-c'\u001b[0m\u001b[1m]\u001b[0m,\n",
       "\u001b[2;32m│   │   │   │   \u001b[0m\u001b[33margs\u001b[0m=\u001b[1m[\u001b[0m\u001b[32m'echo \"hello world\"'\u001b[0m\u001b[1m]\u001b[0m,\n",
       "\u001b[2;32m│   │   │   │   \u001b[0m\u001b[33mvolumeMounts\u001b[0m=\u001b[1m[\u001b[0m\u001b[1;35mvolumeMount\u001b[0m\u001b[1m(\u001b[0m\u001b[33mname\u001b[0m=\u001b[32m'scb-usra'\u001b[0m, \u001b[33mmountPath\u001b[0m=\u001b[32m'/scb-usra'\u001b[0m\u001b[1m)\u001b[0m\u001b[1m]\u001b[0m,\n",
       "\u001b[2;32m│   │   │   │   \u001b[0m\u001b[33mresources\u001b[0m=\u001b[1m{\u001b[0m\n",
       "\u001b[2;32m│   │   │   │   │   \u001b[0m\u001b[32m'requests'\u001b[0m: \u001b[1;35mResourceLimits\u001b[0m\u001b[1m(\u001b[0m\u001b[33mmemory\u001b[0m=\u001b[32m'10Gi'\u001b[0m, \u001b[33mcpu\u001b[0m=\u001b[32m'1'\u001b[0m, \u001b[33mgpu\u001b[0m=\u001b[3;35mNone\u001b[0m, \u001b[33mnvidia_gpu\u001b[0m=\u001b[3;35mNone\u001b[0m\u001b[1m)\u001b[0m,\n",
       "\u001b[2;32m│   │   │   │   │   \u001b[0m\u001b[32m'limits'\u001b[0m: \u001b[1;35mResourceLimits\u001b[0m\u001b[1m(\u001b[0m\u001b[33mmemory\u001b[0m=\u001b[32m'10Gi'\u001b[0m, \u001b[33mcpu\u001b[0m=\u001b[32m'1'\u001b[0m, \u001b[33mgpu\u001b[0m=\u001b[3;35mNone\u001b[0m, \u001b[33mnvidia_gpu\u001b[0m=\u001b[3;35mNone\u001b[0m\u001b[1m)\u001b[0m\n",
       "\u001b[2;32m│   │   │   │   \u001b[0m\u001b[1m}\u001b[0m\n",
       "\u001b[2;32m│   │   │   \u001b[0m\u001b[1m)\u001b[0m\n",
       "\u001b[2;32m│   │   \u001b[0m\u001b[1m]\u001b[0m,\n",
       "\u001b[2;32m│   │   \u001b[0m\u001b[33mvolumes\u001b[0m=\u001b[1m[\u001b[0m\u001b[1;35mVolume\u001b[0m\u001b[1m(\u001b[0m\u001b[33mname\u001b[0m=\u001b[32m'scb-usra'\u001b[0m, \u001b[33mpersistentVolumeClaim\u001b[0m=\u001b[1m{\u001b[0m\u001b[32m'claimName'\u001b[0m: \u001b[32m'scb-usra'\u001b[0m\u001b[1m}\u001b[0m\u001b[1m)\u001b[0m\u001b[1m]\u001b[0m,\n",
       "\u001b[2;32m│   │   \u001b[0m\u001b[33mrestartPolicy\u001b[0m=\u001b[32m'Never'\u001b[0m\n",
       "\u001b[2;32m│   \u001b[0m\u001b[1m)\u001b[0m\n",
       "\u001b[1m)\u001b[0m\n"
      ]
     },
     "metadata": {},
     "output_type": "display_data"
    },
    {
     "data": {
      "text/html": [
       "<pre style=\"white-space:pre;overflow-x:auto;line-height:normal;font-family:Menlo,'DejaVu Sans Mono',consolas,'Courier New',monospace\">tmp/max-pod.yaml\n",
       "</pre>\n"
      ],
      "text/plain": [
       "tmp/max-pod.yaml\n"
      ]
     },
     "metadata": {},
     "output_type": "display_data"
    }
   ],
   "source": [
    "from kub import Kubernetes, Pod, Container, Volume, volumeMount, ResourceLimits, ResourceRequests, Metadata, Spec\n",
    "\n",
    "con1 = Container(name = 'a-container',\n",
    "                 \n",
    "    image = 'docker.io/xmkqv/simple:latest',\n",
    "\n",
    "    command = ['/bin/bash', '-c'],\n",
    "    args = ['echo \"hello world\"'],\n",
    "\n",
    "    volumeMounts = [volumeMount(name= 'scb-usra', mountPath= '/scb-usra'),],\n",
    "    \n",
    "    resources = dict(\n",
    "        requests = ResourceRequests(memory= '10Gi', cpu= '1'),\n",
    "        limits = ResourceLimits(memory= '10Gi', cpu= '1'),\n",
    "    ), \n",
    ")\n",
    "\n",
    "vol1 = Volume(name = 'scb-usra',\n",
    "    persistentVolumeClaim = dict(\n",
    "        claimName = 'scb-usra',\n",
    "    )\n",
    ")\n",
    "\n",
    "pod = Pod(\n",
    "    metadata= Metadata(name= 'max-pod', namespace= 'scb-usra'),\n",
    "    spec= Spec(\n",
    "        containers= [con1],\n",
    "        volumes= [vol1],\n",
    "        restartPolicy= 'Never',\n",
    "\n",
    "\n",
    "    ),\n",
    "    apiVersion= \"v1\",\n",
    "    kind= \"Pod\",\n",
    ")\n",
    "\n",
    "kub: Kubernetes = Kubernetes(\n",
    "    pod             = pod,\n",
    "    n_gpu \t\t\t= 0,\n",
    "    n_cpu           = 1,\n",
    "    container_name  = 'gpu-container',\n",
    "    link_cmd        = 'ln -s /cephfs ~/cephfs',\n",
    "    kub_image\t\t= 'docker.io/xmkqv/simple:latest',\n",
    "    repo\t\t\t= 'github.com:xmax1/ts_diff_qc.git',\n",
    ")\n",
    "\n",
    "\n",
    "# kub.create_pod(pod= pod)\n",
    "path = Path('tmp') / pod.metadata.name\n",
    "path = path.with_suffix(suffix= '.yaml')\n",
    "path.parent.mkdir(exist_ok= True, parents= True)\n",
    "pprint(pod)\n",
    "print(path)\n",
    "yaml.dump(pod.dict(exclude_none= True), open(path, 'w'))"
   ]
  },
  {
   "cell_type": "code",
   "execution_count": 13,
   "metadata": {},
   "outputs": [
    {
     "data": {
      "text/html": [
       "<pre style=\"white-space:pre;overflow-x:auto;line-height:normal;font-family:Menlo,'DejaVu Sans Mono',consolas,'Courier New',monospace\">┏━━━━━┳━━━━━━━━━━━┳━━━━━━━━━┓\n",
       "┃<span style=\"font-weight: bold\"> pod </span>┃<span style=\"font-weight: bold\"> \"max-pod\" </span>┃<span style=\"font-weight: bold\"> deleted </span>┃\n",
       "┡━━━━━╇━━━━━━━━━━━╇━━━━━━━━━┩\n",
       "└─────┴───────────┴─────────┘\n",
       "</pre>\n"
      ],
      "text/plain": [
       "┏━━━━━┳━━━━━━━━━━━┳━━━━━━━━━┓\n",
       "┃\u001b[1m \u001b[0m\u001b[1mpod\u001b[0m\u001b[1m \u001b[0m┃\u001b[1m \u001b[0m\u001b[1m\"max-pod\"\u001b[0m\u001b[1m \u001b[0m┃\u001b[1m \u001b[0m\u001b[1mdeleted\u001b[0m\u001b[1m \u001b[0m┃\n",
       "┡━━━━━╇━━━━━━━━━━━╇━━━━━━━━━┩\n",
       "└─────┴───────────┴─────────┘\n"
      ]
     },
     "metadata": {},
     "output_type": "display_data"
    },
    {
     "data": {
      "text/html": [
       "<pre style=\"white-space:pre;overflow-x:auto;line-height:normal;font-family:Menlo,'DejaVu Sans Mono',consolas,'Courier New',monospace\">┏━━━━━━━━━━━━━━━━━━━━━━━━━━━━━━━━━━━━━━━┳━━━━━━━┳━━━━━━━━━━━━━━━━━━━┳━━━━━━━━━━┳━━━━━━━┓\n",
       "┃<span style=\"font-weight: bold\"> NAME                                  </span>┃<span style=\"font-weight: bold\"> READY </span>┃<span style=\"font-weight: bold\"> STATUS            </span>┃<span style=\"font-weight: bold\"> RESTARTS </span>┃<span style=\"font-weight: bold\"> AGE   </span>┃\n",
       "┡━━━━━━━━━━━━━━━━━━━━━━━━━━━━━━━━━━━━━━━╇━━━━━━━╇━━━━━━━━━━━━━━━━━━━╇━━━━━━━━━━╇━━━━━━━┩\n",
       "│<span style=\"color: #00aa00; text-decoration-color: #00aa00\"> ata-pod                               </span>│<span style=\"color: #00aaaa; text-decoration-color: #00aaaa\"> 0/1   </span>│<span style=\"color: #aaaaaa; text-decoration-color: #aaaaaa\"> ContainerCreating </span>│<span style=\"color: #ff5555; text-decoration-color: #ff5555\"> 0        </span>│<span style=\"color: #55ff55; text-decoration-color: #55ff55\"> 87m   </span>│\n",
       "│<span style=\"color: #00aa00; text-decoration-color: #00aa00\"> hub-859c877b85-fzfrj                  </span>│<span style=\"color: #00aaaa; text-decoration-color: #00aaaa\"> 1/1   </span>│<span style=\"color: #aaaaaa; text-decoration-color: #aaaaaa\"> Running           </span>│<span style=\"color: #ff5555; text-decoration-color: #ff5555\"> 0        </span>│<span style=\"color: #55ff55; text-decoration-color: #55ff55\"> 4d23h </span>│\n",
       "│<span style=\"color: #00aa00; text-decoration-color: #00aa00\"> jupyter-ataaakbari-40googlemail-2ecom </span>│<span style=\"color: #00aaaa; text-decoration-color: #00aaaa\"> 1/1   </span>│<span style=\"color: #aaaaaa; text-decoration-color: #aaaaaa\"> Running           </span>│<span style=\"color: #ff5555; text-decoration-color: #ff5555\"> 0        </span>│<span style=\"color: #55ff55; text-decoration-color: #55ff55\"> 49m   </span>│\n",
       "│<span style=\"color: #00aa00; text-decoration-color: #00aa00\"> jupyter-fawudarski-40gmail-2ecom      </span>│<span style=\"color: #00aaaa; text-decoration-color: #00aaaa\"> 1/1   </span>│<span style=\"color: #aaaaaa; text-decoration-color: #aaaaaa\"> Running           </span>│<span style=\"color: #ff5555; text-decoration-color: #ff5555\"> 0        </span>│<span style=\"color: #55ff55; text-decoration-color: #55ff55\"> 7h26m </span>│\n",
       "│<span style=\"color: #00aa00; text-decoration-color: #00aa00\"> proxy-5ddd4b47c9-xhb2d                </span>│<span style=\"color: #00aaaa; text-decoration-color: #00aaaa\"> 1/1   </span>│<span style=\"color: #aaaaaa; text-decoration-color: #aaaaaa\"> Running           </span>│<span style=\"color: #ff5555; text-decoration-color: #ff5555\"> 0        </span>│<span style=\"color: #55ff55; text-decoration-color: #55ff55\"> 43h   </span>│\n",
       "└───────────────────────────────────────┴───────┴───────────────────┴──────────┴───────┘\n",
       "</pre>\n"
      ],
      "text/plain": [
       "┏━━━━━━━━━━━━━━━━━━━━━━━━━━━━━━━━━━━━━━━┳━━━━━━━┳━━━━━━━━━━━━━━━━━━━┳━━━━━━━━━━┳━━━━━━━┓\n",
       "┃\u001b[1m \u001b[0m\u001b[1mNAME                                 \u001b[0m\u001b[1m \u001b[0m┃\u001b[1m \u001b[0m\u001b[1mREADY\u001b[0m\u001b[1m \u001b[0m┃\u001b[1m \u001b[0m\u001b[1mSTATUS           \u001b[0m\u001b[1m \u001b[0m┃\u001b[1m \u001b[0m\u001b[1mRESTARTS\u001b[0m\u001b[1m \u001b[0m┃\u001b[1m \u001b[0m\u001b[1mAGE  \u001b[0m\u001b[1m \u001b[0m┃\n",
       "┡━━━━━━━━━━━━━━━━━━━━━━━━━━━━━━━━━━━━━━━╇━━━━━━━╇━━━━━━━━━━━━━━━━━━━╇━━━━━━━━━━╇━━━━━━━┩\n",
       "│\u001b[38;2;0;170;0m \u001b[0m\u001b[38;2;0;170;0mata-pod                              \u001b[0m\u001b[38;2;0;170;0m \u001b[0m│\u001b[38;2;0;170;170m \u001b[0m\u001b[38;2;0;170;170m0/1  \u001b[0m\u001b[38;2;0;170;170m \u001b[0m│\u001b[38;2;170;170;170m \u001b[0m\u001b[38;2;170;170;170mContainerCreating\u001b[0m\u001b[38;2;170;170;170m \u001b[0m│\u001b[38;2;255;85;85m \u001b[0m\u001b[38;2;255;85;85m0       \u001b[0m\u001b[38;2;255;85;85m \u001b[0m│\u001b[38;2;85;255;85m \u001b[0m\u001b[38;2;85;255;85m87m  \u001b[0m\u001b[38;2;85;255;85m \u001b[0m│\n",
       "│\u001b[38;2;0;170;0m \u001b[0m\u001b[38;2;0;170;0mhub-859c877b85-fzfrj                 \u001b[0m\u001b[38;2;0;170;0m \u001b[0m│\u001b[38;2;0;170;170m \u001b[0m\u001b[38;2;0;170;170m1/1  \u001b[0m\u001b[38;2;0;170;170m \u001b[0m│\u001b[38;2;170;170;170m \u001b[0m\u001b[38;2;170;170;170mRunning          \u001b[0m\u001b[38;2;170;170;170m \u001b[0m│\u001b[38;2;255;85;85m \u001b[0m\u001b[38;2;255;85;85m0       \u001b[0m\u001b[38;2;255;85;85m \u001b[0m│\u001b[38;2;85;255;85m \u001b[0m\u001b[38;2;85;255;85m4d23h\u001b[0m\u001b[38;2;85;255;85m \u001b[0m│\n",
       "│\u001b[38;2;0;170;0m \u001b[0m\u001b[38;2;0;170;0mjupyter-ataaakbari-40googlemail-2ecom\u001b[0m\u001b[38;2;0;170;0m \u001b[0m│\u001b[38;2;0;170;170m \u001b[0m\u001b[38;2;0;170;170m1/1  \u001b[0m\u001b[38;2;0;170;170m \u001b[0m│\u001b[38;2;170;170;170m \u001b[0m\u001b[38;2;170;170;170mRunning          \u001b[0m\u001b[38;2;170;170;170m \u001b[0m│\u001b[38;2;255;85;85m \u001b[0m\u001b[38;2;255;85;85m0       \u001b[0m\u001b[38;2;255;85;85m \u001b[0m│\u001b[38;2;85;255;85m \u001b[0m\u001b[38;2;85;255;85m49m  \u001b[0m\u001b[38;2;85;255;85m \u001b[0m│\n",
       "│\u001b[38;2;0;170;0m \u001b[0m\u001b[38;2;0;170;0mjupyter-fawudarski-40gmail-2ecom     \u001b[0m\u001b[38;2;0;170;0m \u001b[0m│\u001b[38;2;0;170;170m \u001b[0m\u001b[38;2;0;170;170m1/1  \u001b[0m\u001b[38;2;0;170;170m \u001b[0m│\u001b[38;2;170;170;170m \u001b[0m\u001b[38;2;170;170;170mRunning          \u001b[0m\u001b[38;2;170;170;170m \u001b[0m│\u001b[38;2;255;85;85m \u001b[0m\u001b[38;2;255;85;85m0       \u001b[0m\u001b[38;2;255;85;85m \u001b[0m│\u001b[38;2;85;255;85m \u001b[0m\u001b[38;2;85;255;85m7h26m\u001b[0m\u001b[38;2;85;255;85m \u001b[0m│\n",
       "│\u001b[38;2;0;170;0m \u001b[0m\u001b[38;2;0;170;0mproxy-5ddd4b47c9-xhb2d               \u001b[0m\u001b[38;2;0;170;0m \u001b[0m│\u001b[38;2;0;170;170m \u001b[0m\u001b[38;2;0;170;170m1/1  \u001b[0m\u001b[38;2;0;170;170m \u001b[0m│\u001b[38;2;170;170;170m \u001b[0m\u001b[38;2;170;170;170mRunning          \u001b[0m\u001b[38;2;170;170;170m \u001b[0m│\u001b[38;2;255;85;85m \u001b[0m\u001b[38;2;255;85;85m0       \u001b[0m\u001b[38;2;255;85;85m \u001b[0m│\u001b[38;2;85;255;85m \u001b[0m\u001b[38;2;85;255;85m43h  \u001b[0m\u001b[38;2;85;255;85m \u001b[0m│\n",
       "└───────────────────────────────────────┴───────┴───────────────────┴──────────┴───────┘\n"
      ]
     },
     "metadata": {},
     "output_type": "display_data"
    }
   ],
   "source": [
    "from subprocess import run\n",
    "# run(f'kubectl create -f {path}', shell= True, text= True)\n",
    "# kub.get_pods()\n",
    "_ = kub.delete_all_my_pods(tag= 'max-pod', show= True)"
   ]
  },
  {
   "cell_type": "code",
   "execution_count": 20,
   "metadata": {},
   "outputs": [],
   "source": [
    "from kub import Kubernetes, Pod, Container, Volume, volumeMount, ResourceLimits, ResourceRequests, Metadata, Spec\n",
    "\n",
    "con1 = Container(name = 'gpu-container',\n",
    "                 \n",
    "    # image = 'docker.io/xmkqv/simple:latest',\n",
    "    image= 'gitlab-registry.nrp-nautilus.io/usra/scb-env-one:latest',\n",
    "\n",
    "    command = ['/bin/bash', '-c'],\n",
    "    args = ['pip install tqdm; sleep infinity'],\n",
    "\n",
    "    volumeMounts = [volumeMount(name= 'scb-usra', mountPath= '/scb-usra'),],\n",
    "    \n",
    "    resources = dict(\n",
    "        limits = ResourceLimits(nvidia_gpu = 1),\n",
    "    ), \n",
    ")\n",
    "\n",
    "vol1 = Volume(name = 'scb-usra',\n",
    "    persistentVolumeClaim = dict(\n",
    "        claimName = 'scb-usra',\n",
    "    )\n",
    ")\n",
    "\n",
    "pod = Pod(\n",
    "    metadata= Metadata(name= 'gpu-pod-xmkqv', namespace= 'scb-usra'),\n",
    "    spec= Spec(\n",
    "        containers= [con1],\n",
    "        volumes= [vol1],\n",
    "        restartPolicy= 'Never',\n",
    "    ),\n",
    "    apiVersion= \"v1\",\n",
    "    kind= \"Pod\",\n",
    ")\n",
    "\n",
    "kub: Kubernetes = Kubernetes(\n",
    "    namespace= 'scb-usra',\n",
    "    link_cmd= 'ln -s /cephfs ~/cephfs',\n",
    "    repo= 'github.com:xmax1/ts_diff_qc.git',\n",
    ")\n",
    "\n",
    "# metadata:\n",
    "#   name: \n",
    "#   namespace: scb-usra\n",
    "# spec:\n",
    "#   containers:\n",
    "#   - args:\n",
    "#     - pip install tqdm; sleep infinity\n",
    "#     command:\n",
    "#     - /bin/bash\n",
    "#     - -c\n",
    "#     image: docker.io/xmkqv/simple:latest\n",
    "#     name: gpu-container\n",
    "#     resources:\n",
    "#       limits:\n",
    "#         nvidia.com/gpu: 1\n",
    "#     volumeMounts:\n",
    "#     - mountPath: /scb-usra\n",
    "#       name: scb-usra\n",
    "#   restartPolicy: Never\n",
    "#   volumes:\n",
    "#   - name: scb-usra\n",
    "#     persistentVolumeClaim:\n",
    "#       claimName: scb-usra\n"
   ]
  },
  {
   "cell_type": "code",
   "execution_count": 21,
   "metadata": {},
   "outputs": [
    {
     "data": {
      "text/html": [
       "<pre style=\"white-space:pre;overflow-x:auto;line-height:normal;font-family:Menlo,'DejaVu Sans Mono',consolas,'Courier New',monospace\">┏━━━━━━━━━━━━━━━━━━━━━━━━━━━━━━━━━━━━━━━┳━━━━━━━┳━━━━━━━━━━━━━━━━━━━┳━━━━━━━━━━┳━━━━━━━┓\n",
       "┃<span style=\"font-weight: bold\"> NAME                                  </span>┃<span style=\"font-weight: bold\"> READY </span>┃<span style=\"font-weight: bold\"> STATUS            </span>┃<span style=\"font-weight: bold\"> RESTARTS </span>┃<span style=\"font-weight: bold\"> AGE   </span>┃\n",
       "┡━━━━━━━━━━━━━━━━━━━━━━━━━━━━━━━━━━━━━━━╇━━━━━━━╇━━━━━━━━━━━━━━━━━━━╇━━━━━━━━━━╇━━━━━━━┩\n",
       "│<span style=\"color: #00aa00; text-decoration-color: #00aa00\"> ata-pod                               </span>│<span style=\"color: #00aaaa; text-decoration-color: #00aaaa\"> 0/1   </span>│<span style=\"color: #aaaaaa; text-decoration-color: #aaaaaa\"> ContainerCreating </span>│<span style=\"color: #ff5555; text-decoration-color: #ff5555\"> 0        </span>│<span style=\"color: #55ff55; text-decoration-color: #55ff55\"> 91m   </span>│\n",
       "│<span style=\"color: #00aa00; text-decoration-color: #00aa00\"> gpu-pod-xmkqv                         </span>│<span style=\"color: #00aaaa; text-decoration-color: #00aaaa\"> 0/1   </span>│<span style=\"color: #aaaaaa; text-decoration-color: #aaaaaa\"> Completed         </span>│<span style=\"color: #ff5555; text-decoration-color: #ff5555\"> 0        </span>│<span style=\"color: #55ff55; text-decoration-color: #55ff55\"> 3m45s </span>│\n",
       "│<span style=\"color: #00aa00; text-decoration-color: #00aa00\"> hub-859c877b85-fzfrj                  </span>│<span style=\"color: #00aaaa; text-decoration-color: #00aaaa\"> 1/1   </span>│<span style=\"color: #aaaaaa; text-decoration-color: #aaaaaa\"> Running           </span>│<span style=\"color: #ff5555; text-decoration-color: #ff5555\"> 0        </span>│<span style=\"color: #55ff55; text-decoration-color: #55ff55\"> 4d23h </span>│\n",
       "│<span style=\"color: #00aa00; text-decoration-color: #00aa00\"> jupyter-ataaakbari-40googlemail-2ecom </span>│<span style=\"color: #00aaaa; text-decoration-color: #00aaaa\"> 1/1   </span>│<span style=\"color: #aaaaaa; text-decoration-color: #aaaaaa\"> Running           </span>│<span style=\"color: #ff5555; text-decoration-color: #ff5555\"> 0        </span>│<span style=\"color: #55ff55; text-decoration-color: #55ff55\"> 53m   </span>│\n",
       "│<span style=\"color: #00aa00; text-decoration-color: #00aa00\"> jupyter-fawudarski-40gmail-2ecom      </span>│<span style=\"color: #00aaaa; text-decoration-color: #00aaaa\"> 1/1   </span>│<span style=\"color: #aaaaaa; text-decoration-color: #aaaaaa\"> Running           </span>│<span style=\"color: #ff5555; text-decoration-color: #ff5555\"> 0        </span>│<span style=\"color: #55ff55; text-decoration-color: #55ff55\"> 7h30m </span>│\n",
       "│<span style=\"color: #00aa00; text-decoration-color: #00aa00\"> proxy-5ddd4b47c9-xhb2d                </span>│<span style=\"color: #00aaaa; text-decoration-color: #00aaaa\"> 1/1   </span>│<span style=\"color: #aaaaaa; text-decoration-color: #aaaaaa\"> Running           </span>│<span style=\"color: #ff5555; text-decoration-color: #ff5555\"> 0        </span>│<span style=\"color: #55ff55; text-decoration-color: #55ff55\"> 43h   </span>│\n",
       "└───────────────────────────────────────┴───────┴───────────────────┴──────────┴───────┘\n",
       "</pre>\n"
      ],
      "text/plain": [
       "┏━━━━━━━━━━━━━━━━━━━━━━━━━━━━━━━━━━━━━━━┳━━━━━━━┳━━━━━━━━━━━━━━━━━━━┳━━━━━━━━━━┳━━━━━━━┓\n",
       "┃\u001b[1m \u001b[0m\u001b[1mNAME                                 \u001b[0m\u001b[1m \u001b[0m┃\u001b[1m \u001b[0m\u001b[1mREADY\u001b[0m\u001b[1m \u001b[0m┃\u001b[1m \u001b[0m\u001b[1mSTATUS           \u001b[0m\u001b[1m \u001b[0m┃\u001b[1m \u001b[0m\u001b[1mRESTARTS\u001b[0m\u001b[1m \u001b[0m┃\u001b[1m \u001b[0m\u001b[1mAGE  \u001b[0m\u001b[1m \u001b[0m┃\n",
       "┡━━━━━━━━━━━━━━━━━━━━━━━━━━━━━━━━━━━━━━━╇━━━━━━━╇━━━━━━━━━━━━━━━━━━━╇━━━━━━━━━━╇━━━━━━━┩\n",
       "│\u001b[38;2;0;170;0m \u001b[0m\u001b[38;2;0;170;0mata-pod                              \u001b[0m\u001b[38;2;0;170;0m \u001b[0m│\u001b[38;2;0;170;170m \u001b[0m\u001b[38;2;0;170;170m0/1  \u001b[0m\u001b[38;2;0;170;170m \u001b[0m│\u001b[38;2;170;170;170m \u001b[0m\u001b[38;2;170;170;170mContainerCreating\u001b[0m\u001b[38;2;170;170;170m \u001b[0m│\u001b[38;2;255;85;85m \u001b[0m\u001b[38;2;255;85;85m0       \u001b[0m\u001b[38;2;255;85;85m \u001b[0m│\u001b[38;2;85;255;85m \u001b[0m\u001b[38;2;85;255;85m91m  \u001b[0m\u001b[38;2;85;255;85m \u001b[0m│\n",
       "│\u001b[38;2;0;170;0m \u001b[0m\u001b[38;2;0;170;0mgpu-pod-xmkqv                        \u001b[0m\u001b[38;2;0;170;0m \u001b[0m│\u001b[38;2;0;170;170m \u001b[0m\u001b[38;2;0;170;170m0/1  \u001b[0m\u001b[38;2;0;170;170m \u001b[0m│\u001b[38;2;170;170;170m \u001b[0m\u001b[38;2;170;170;170mCompleted        \u001b[0m\u001b[38;2;170;170;170m \u001b[0m│\u001b[38;2;255;85;85m \u001b[0m\u001b[38;2;255;85;85m0       \u001b[0m\u001b[38;2;255;85;85m \u001b[0m│\u001b[38;2;85;255;85m \u001b[0m\u001b[38;2;85;255;85m3m45s\u001b[0m\u001b[38;2;85;255;85m \u001b[0m│\n",
       "│\u001b[38;2;0;170;0m \u001b[0m\u001b[38;2;0;170;0mhub-859c877b85-fzfrj                 \u001b[0m\u001b[38;2;0;170;0m \u001b[0m│\u001b[38;2;0;170;170m \u001b[0m\u001b[38;2;0;170;170m1/1  \u001b[0m\u001b[38;2;0;170;170m \u001b[0m│\u001b[38;2;170;170;170m \u001b[0m\u001b[38;2;170;170;170mRunning          \u001b[0m\u001b[38;2;170;170;170m \u001b[0m│\u001b[38;2;255;85;85m \u001b[0m\u001b[38;2;255;85;85m0       \u001b[0m\u001b[38;2;255;85;85m \u001b[0m│\u001b[38;2;85;255;85m \u001b[0m\u001b[38;2;85;255;85m4d23h\u001b[0m\u001b[38;2;85;255;85m \u001b[0m│\n",
       "│\u001b[38;2;0;170;0m \u001b[0m\u001b[38;2;0;170;0mjupyter-ataaakbari-40googlemail-2ecom\u001b[0m\u001b[38;2;0;170;0m \u001b[0m│\u001b[38;2;0;170;170m \u001b[0m\u001b[38;2;0;170;170m1/1  \u001b[0m\u001b[38;2;0;170;170m \u001b[0m│\u001b[38;2;170;170;170m \u001b[0m\u001b[38;2;170;170;170mRunning          \u001b[0m\u001b[38;2;170;170;170m \u001b[0m│\u001b[38;2;255;85;85m \u001b[0m\u001b[38;2;255;85;85m0       \u001b[0m\u001b[38;2;255;85;85m \u001b[0m│\u001b[38;2;85;255;85m \u001b[0m\u001b[38;2;85;255;85m53m  \u001b[0m\u001b[38;2;85;255;85m \u001b[0m│\n",
       "│\u001b[38;2;0;170;0m \u001b[0m\u001b[38;2;0;170;0mjupyter-fawudarski-40gmail-2ecom     \u001b[0m\u001b[38;2;0;170;0m \u001b[0m│\u001b[38;2;0;170;170m \u001b[0m\u001b[38;2;0;170;170m1/1  \u001b[0m\u001b[38;2;0;170;170m \u001b[0m│\u001b[38;2;170;170;170m \u001b[0m\u001b[38;2;170;170;170mRunning          \u001b[0m\u001b[38;2;170;170;170m \u001b[0m│\u001b[38;2;255;85;85m \u001b[0m\u001b[38;2;255;85;85m0       \u001b[0m\u001b[38;2;255;85;85m \u001b[0m│\u001b[38;2;85;255;85m \u001b[0m\u001b[38;2;85;255;85m7h30m\u001b[0m\u001b[38;2;85;255;85m \u001b[0m│\n",
       "│\u001b[38;2;0;170;0m \u001b[0m\u001b[38;2;0;170;0mproxy-5ddd4b47c9-xhb2d               \u001b[0m\u001b[38;2;0;170;0m \u001b[0m│\u001b[38;2;0;170;170m \u001b[0m\u001b[38;2;0;170;170m1/1  \u001b[0m\u001b[38;2;0;170;170m \u001b[0m│\u001b[38;2;170;170;170m \u001b[0m\u001b[38;2;170;170;170mRunning          \u001b[0m\u001b[38;2;170;170;170m \u001b[0m│\u001b[38;2;255;85;85m \u001b[0m\u001b[38;2;255;85;85m0       \u001b[0m\u001b[38;2;255;85;85m \u001b[0m│\u001b[38;2;85;255;85m \u001b[0m\u001b[38;2;85;255;85m43h  \u001b[0m\u001b[38;2;85;255;85m \u001b[0m│\n",
       "└───────────────────────────────────────┴───────┴───────────────────┴──────────┴───────┘\n"
      ]
     },
     "metadata": {},
     "output_type": "display_data"
    }
   ],
   "source": [
    "kub.get_pods()"
   ]
  },
  {
   "cell_type": "code",
   "execution_count": 23,
   "metadata": {},
   "outputs": [
    {
     "data": {
      "text/html": [
       "<pre style=\"white-space:pre;overflow-x:auto;line-height:normal;font-family:Menlo,'DejaVu Sans Mono',consolas,'Courier New',monospace\">┏━━━━━┳━━━━━━━━━━━━━━━━━┳━━━━━━━━━┓\n",
       "┃<span style=\"font-weight: bold\"> pod </span>┃<span style=\"font-weight: bold\"> \"gpu-pod-xmkqv\" </span>┃<span style=\"font-weight: bold\"> deleted </span>┃\n",
       "┡━━━━━╇━━━━━━━━━━━━━━━━━╇━━━━━━━━━┩\n",
       "└─────┴─────────────────┴─────────┘\n",
       "</pre>\n"
      ],
      "text/plain": [
       "┏━━━━━┳━━━━━━━━━━━━━━━━━┳━━━━━━━━━┓\n",
       "┃\u001b[1m \u001b[0m\u001b[1mpod\u001b[0m\u001b[1m \u001b[0m┃\u001b[1m \u001b[0m\u001b[1m\"gpu-pod-xmkqv\"\u001b[0m\u001b[1m \u001b[0m┃\u001b[1m \u001b[0m\u001b[1mdeleted\u001b[0m\u001b[1m \u001b[0m┃\n",
       "┡━━━━━╇━━━━━━━━━━━━━━━━━╇━━━━━━━━━┩\n",
       "└─────┴─────────────────┴─────────┘\n"
      ]
     },
     "metadata": {},
     "output_type": "display_data"
    },
    {
     "data": {
      "text/html": [
       "<pre style=\"white-space:pre;overflow-x:auto;line-height:normal;font-family:Menlo,'DejaVu Sans Mono',consolas,'Courier New',monospace\">┏━━━━━━━━━━━━━━━━━━━━━━━━━━━━━━━━━━━━━━━┳━━━━━━━┳━━━━━━━━━━━━━━━━━━━┳━━━━━━━━━━┳━━━━━━━┓\n",
       "┃<span style=\"font-weight: bold\"> NAME                                  </span>┃<span style=\"font-weight: bold\"> READY </span>┃<span style=\"font-weight: bold\"> STATUS            </span>┃<span style=\"font-weight: bold\"> RESTARTS </span>┃<span style=\"font-weight: bold\"> AGE   </span>┃\n",
       "┡━━━━━━━━━━━━━━━━━━━━━━━━━━━━━━━━━━━━━━━╇━━━━━━━╇━━━━━━━━━━━━━━━━━━━╇━━━━━━━━━━╇━━━━━━━┩\n",
       "│<span style=\"color: #00aa00; text-decoration-color: #00aa00\"> ata-pod                               </span>│<span style=\"color: #00aaaa; text-decoration-color: #00aaaa\"> 0/1   </span>│<span style=\"color: #aaaaaa; text-decoration-color: #aaaaaa\"> ContainerCreating </span>│<span style=\"color: #ff5555; text-decoration-color: #ff5555\"> 0        </span>│<span style=\"color: #55ff55; text-decoration-color: #55ff55\"> 92m   </span>│\n",
       "│<span style=\"color: #00aa00; text-decoration-color: #00aa00\"> hub-859c877b85-fzfrj                  </span>│<span style=\"color: #00aaaa; text-decoration-color: #00aaaa\"> 1/1   </span>│<span style=\"color: #aaaaaa; text-decoration-color: #aaaaaa\"> Running           </span>│<span style=\"color: #ff5555; text-decoration-color: #ff5555\"> 0        </span>│<span style=\"color: #55ff55; text-decoration-color: #55ff55\"> 4d23h </span>│\n",
       "│<span style=\"color: #00aa00; text-decoration-color: #00aa00\"> jupyter-ataaakbari-40googlemail-2ecom </span>│<span style=\"color: #00aaaa; text-decoration-color: #00aaaa\"> 1/1   </span>│<span style=\"color: #aaaaaa; text-decoration-color: #aaaaaa\"> Running           </span>│<span style=\"color: #ff5555; text-decoration-color: #ff5555\"> 0        </span>│<span style=\"color: #55ff55; text-decoration-color: #55ff55\"> 54m   </span>│\n",
       "│<span style=\"color: #00aa00; text-decoration-color: #00aa00\"> jupyter-fawudarski-40gmail-2ecom      </span>│<span style=\"color: #00aaaa; text-decoration-color: #00aaaa\"> 1/1   </span>│<span style=\"color: #aaaaaa; text-decoration-color: #aaaaaa\"> Running           </span>│<span style=\"color: #ff5555; text-decoration-color: #ff5555\"> 0        </span>│<span style=\"color: #55ff55; text-decoration-color: #55ff55\"> 7h31m </span>│\n",
       "│<span style=\"color: #00aa00; text-decoration-color: #00aa00\"> proxy-5ddd4b47c9-xhb2d                </span>│<span style=\"color: #00aaaa; text-decoration-color: #00aaaa\"> 1/1   </span>│<span style=\"color: #aaaaaa; text-decoration-color: #aaaaaa\"> Running           </span>│<span style=\"color: #ff5555; text-decoration-color: #ff5555\"> 0        </span>│<span style=\"color: #55ff55; text-decoration-color: #55ff55\"> 43h   </span>│\n",
       "└───────────────────────────────────────┴───────┴───────────────────┴──────────┴───────┘\n",
       "</pre>\n"
      ],
      "text/plain": [
       "┏━━━━━━━━━━━━━━━━━━━━━━━━━━━━━━━━━━━━━━━┳━━━━━━━┳━━━━━━━━━━━━━━━━━━━┳━━━━━━━━━━┳━━━━━━━┓\n",
       "┃\u001b[1m \u001b[0m\u001b[1mNAME                                 \u001b[0m\u001b[1m \u001b[0m┃\u001b[1m \u001b[0m\u001b[1mREADY\u001b[0m\u001b[1m \u001b[0m┃\u001b[1m \u001b[0m\u001b[1mSTATUS           \u001b[0m\u001b[1m \u001b[0m┃\u001b[1m \u001b[0m\u001b[1mRESTARTS\u001b[0m\u001b[1m \u001b[0m┃\u001b[1m \u001b[0m\u001b[1mAGE  \u001b[0m\u001b[1m \u001b[0m┃\n",
       "┡━━━━━━━━━━━━━━━━━━━━━━━━━━━━━━━━━━━━━━━╇━━━━━━━╇━━━━━━━━━━━━━━━━━━━╇━━━━━━━━━━╇━━━━━━━┩\n",
       "│\u001b[38;2;0;170;0m \u001b[0m\u001b[38;2;0;170;0mata-pod                              \u001b[0m\u001b[38;2;0;170;0m \u001b[0m│\u001b[38;2;0;170;170m \u001b[0m\u001b[38;2;0;170;170m0/1  \u001b[0m\u001b[38;2;0;170;170m \u001b[0m│\u001b[38;2;170;170;170m \u001b[0m\u001b[38;2;170;170;170mContainerCreating\u001b[0m\u001b[38;2;170;170;170m \u001b[0m│\u001b[38;2;255;85;85m \u001b[0m\u001b[38;2;255;85;85m0       \u001b[0m\u001b[38;2;255;85;85m \u001b[0m│\u001b[38;2;85;255;85m \u001b[0m\u001b[38;2;85;255;85m92m  \u001b[0m\u001b[38;2;85;255;85m \u001b[0m│\n",
       "│\u001b[38;2;0;170;0m \u001b[0m\u001b[38;2;0;170;0mhub-859c877b85-fzfrj                 \u001b[0m\u001b[38;2;0;170;0m \u001b[0m│\u001b[38;2;0;170;170m \u001b[0m\u001b[38;2;0;170;170m1/1  \u001b[0m\u001b[38;2;0;170;170m \u001b[0m│\u001b[38;2;170;170;170m \u001b[0m\u001b[38;2;170;170;170mRunning          \u001b[0m\u001b[38;2;170;170;170m \u001b[0m│\u001b[38;2;255;85;85m \u001b[0m\u001b[38;2;255;85;85m0       \u001b[0m\u001b[38;2;255;85;85m \u001b[0m│\u001b[38;2;85;255;85m \u001b[0m\u001b[38;2;85;255;85m4d23h\u001b[0m\u001b[38;2;85;255;85m \u001b[0m│\n",
       "│\u001b[38;2;0;170;0m \u001b[0m\u001b[38;2;0;170;0mjupyter-ataaakbari-40googlemail-2ecom\u001b[0m\u001b[38;2;0;170;0m \u001b[0m│\u001b[38;2;0;170;170m \u001b[0m\u001b[38;2;0;170;170m1/1  \u001b[0m\u001b[38;2;0;170;170m \u001b[0m│\u001b[38;2;170;170;170m \u001b[0m\u001b[38;2;170;170;170mRunning          \u001b[0m\u001b[38;2;170;170;170m \u001b[0m│\u001b[38;2;255;85;85m \u001b[0m\u001b[38;2;255;85;85m0       \u001b[0m\u001b[38;2;255;85;85m \u001b[0m│\u001b[38;2;85;255;85m \u001b[0m\u001b[38;2;85;255;85m54m  \u001b[0m\u001b[38;2;85;255;85m \u001b[0m│\n",
       "│\u001b[38;2;0;170;0m \u001b[0m\u001b[38;2;0;170;0mjupyter-fawudarski-40gmail-2ecom     \u001b[0m\u001b[38;2;0;170;0m \u001b[0m│\u001b[38;2;0;170;170m \u001b[0m\u001b[38;2;0;170;170m1/1  \u001b[0m\u001b[38;2;0;170;170m \u001b[0m│\u001b[38;2;170;170;170m \u001b[0m\u001b[38;2;170;170;170mRunning          \u001b[0m\u001b[38;2;170;170;170m \u001b[0m│\u001b[38;2;255;85;85m \u001b[0m\u001b[38;2;255;85;85m0       \u001b[0m\u001b[38;2;255;85;85m \u001b[0m│\u001b[38;2;85;255;85m \u001b[0m\u001b[38;2;85;255;85m7h31m\u001b[0m\u001b[38;2;85;255;85m \u001b[0m│\n",
       "│\u001b[38;2;0;170;0m \u001b[0m\u001b[38;2;0;170;0mproxy-5ddd4b47c9-xhb2d               \u001b[0m\u001b[38;2;0;170;0m \u001b[0m│\u001b[38;2;0;170;170m \u001b[0m\u001b[38;2;0;170;170m1/1  \u001b[0m\u001b[38;2;0;170;170m \u001b[0m│\u001b[38;2;170;170;170m \u001b[0m\u001b[38;2;170;170;170mRunning          \u001b[0m\u001b[38;2;170;170;170m \u001b[0m│\u001b[38;2;255;85;85m \u001b[0m\u001b[38;2;255;85;85m0       \u001b[0m\u001b[38;2;255;85;85m \u001b[0m│\u001b[38;2;85;255;85m \u001b[0m\u001b[38;2;85;255;85m43h  \u001b[0m\u001b[38;2;85;255;85m \u001b[0m│\n",
       "└───────────────────────────────────────┴───────┴───────────────────┴──────────┴───────┘\n"
      ]
     },
     "metadata": {},
     "output_type": "display_data"
    }
   ],
   "source": [
    "kub.delete_all_my_pods(tag= 'gpu-pod-xmkqv', show= True, )"
   ]
  },
  {
   "cell_type": "code",
   "execution_count": 24,
   "metadata": {},
   "outputs": [
    {
     "data": {
      "text/html": [
       "<pre style=\"white-space:pre;overflow-x:auto;line-height:normal;font-family:Menlo,'DejaVu Sans Mono',consolas,'Courier New',monospace\">┏━━━━━━━━━━━━━━━━━━━┳━━━━━━━━━┓\n",
       "┃<span style=\"font-weight: bold\"> pod/gpu-pod-xmkqv </span>┃<span style=\"font-weight: bold\"> created </span>┃\n",
       "┡━━━━━━━━━━━━━━━━━━━╇━━━━━━━━━┩\n",
       "└───────────────────┴─────────┘\n",
       "</pre>\n"
      ],
      "text/plain": [
       "┏━━━━━━━━━━━━━━━━━━━┳━━━━━━━━━┓\n",
       "┃\u001b[1m \u001b[0m\u001b[1mpod/gpu-pod-xmkqv\u001b[0m\u001b[1m \u001b[0m┃\u001b[1m \u001b[0m\u001b[1mcreated\u001b[0m\u001b[1m \u001b[0m┃\n",
       "┡━━━━━━━━━━━━━━━━━━━╇━━━━━━━━━┩\n",
       "└───────────────────┴─────────┘\n"
      ]
     },
     "metadata": {},
     "output_type": "display_data"
    },
    {
     "data": {
      "text/html": [
       "<pre style=\"white-space:pre;overflow-x:auto;line-height:normal;font-family:Menlo,'DejaVu Sans Mono',consolas,'Courier New',monospace\">┏━━━━━━━━━━━━━━━━━━━━━━━━━━━━━━━━━━━━━━━┳━━━━━━━┳━━━━━━━━━━━━━━━━━━━┳━━━━━━━━━━┳━━━━━━━┓\n",
       "┃<span style=\"font-weight: bold\"> NAME                                  </span>┃<span style=\"font-weight: bold\"> READY </span>┃<span style=\"font-weight: bold\"> STATUS            </span>┃<span style=\"font-weight: bold\"> RESTARTS </span>┃<span style=\"font-weight: bold\"> AGE   </span>┃\n",
       "┡━━━━━━━━━━━━━━━━━━━━━━━━━━━━━━━━━━━━━━━╇━━━━━━━╇━━━━━━━━━━━━━━━━━━━╇━━━━━━━━━━╇━━━━━━━┩\n",
       "│<span style=\"color: #00aa00; text-decoration-color: #00aa00\"> ata-pod                               </span>│<span style=\"color: #00aaaa; text-decoration-color: #00aaaa\"> 0/1   </span>│<span style=\"color: #aaaaaa; text-decoration-color: #aaaaaa\"> ContainerCreating </span>│<span style=\"color: #ff5555; text-decoration-color: #ff5555\"> 0        </span>│<span style=\"color: #55ff55; text-decoration-color: #55ff55\"> 93m   </span>│\n",
       "│<span style=\"color: #00aa00; text-decoration-color: #00aa00\"> gpu-pod-xmkqv                         </span>│<span style=\"color: #00aaaa; text-decoration-color: #00aaaa\"> 0/1   </span>│<span style=\"color: #aaaaaa; text-decoration-color: #aaaaaa\"> ContainerCreating </span>│<span style=\"color: #ff5555; text-decoration-color: #ff5555\"> 0        </span>│<span style=\"color: #55ff55; text-decoration-color: #55ff55\"> 1s    </span>│\n",
       "│<span style=\"color: #00aa00; text-decoration-color: #00aa00\"> hub-859c877b85-fzfrj                  </span>│<span style=\"color: #00aaaa; text-decoration-color: #00aaaa\"> 1/1   </span>│<span style=\"color: #aaaaaa; text-decoration-color: #aaaaaa\"> Running           </span>│<span style=\"color: #ff5555; text-decoration-color: #ff5555\"> 0        </span>│<span style=\"color: #55ff55; text-decoration-color: #55ff55\"> 5d    </span>│\n",
       "│<span style=\"color: #00aa00; text-decoration-color: #00aa00\"> jupyter-ataaakbari-40googlemail-2ecom </span>│<span style=\"color: #00aaaa; text-decoration-color: #00aaaa\"> 1/1   </span>│<span style=\"color: #aaaaaa; text-decoration-color: #aaaaaa\"> Running           </span>│<span style=\"color: #ff5555; text-decoration-color: #ff5555\"> 0        </span>│<span style=\"color: #55ff55; text-decoration-color: #55ff55\"> 55m   </span>│\n",
       "│<span style=\"color: #00aa00; text-decoration-color: #00aa00\"> jupyter-fawudarski-40gmail-2ecom      </span>│<span style=\"color: #00aaaa; text-decoration-color: #00aaaa\"> 1/1   </span>│<span style=\"color: #aaaaaa; text-decoration-color: #aaaaaa\"> Running           </span>│<span style=\"color: #ff5555; text-decoration-color: #ff5555\"> 0        </span>│<span style=\"color: #55ff55; text-decoration-color: #55ff55\"> 7h33m </span>│\n",
       "│<span style=\"color: #00aa00; text-decoration-color: #00aa00\"> proxy-5ddd4b47c9-xhb2d                </span>│<span style=\"color: #00aaaa; text-decoration-color: #00aaaa\"> 1/1   </span>│<span style=\"color: #aaaaaa; text-decoration-color: #aaaaaa\"> Running           </span>│<span style=\"color: #ff5555; text-decoration-color: #ff5555\"> 0        </span>│<span style=\"color: #55ff55; text-decoration-color: #55ff55\"> 43h   </span>│\n",
       "└───────────────────────────────────────┴───────┴───────────────────┴──────────┴───────┘\n",
       "</pre>\n"
      ],
      "text/plain": [
       "┏━━━━━━━━━━━━━━━━━━━━━━━━━━━━━━━━━━━━━━━┳━━━━━━━┳━━━━━━━━━━━━━━━━━━━┳━━━━━━━━━━┳━━━━━━━┓\n",
       "┃\u001b[1m \u001b[0m\u001b[1mNAME                                 \u001b[0m\u001b[1m \u001b[0m┃\u001b[1m \u001b[0m\u001b[1mREADY\u001b[0m\u001b[1m \u001b[0m┃\u001b[1m \u001b[0m\u001b[1mSTATUS           \u001b[0m\u001b[1m \u001b[0m┃\u001b[1m \u001b[0m\u001b[1mRESTARTS\u001b[0m\u001b[1m \u001b[0m┃\u001b[1m \u001b[0m\u001b[1mAGE  \u001b[0m\u001b[1m \u001b[0m┃\n",
       "┡━━━━━━━━━━━━━━━━━━━━━━━━━━━━━━━━━━━━━━━╇━━━━━━━╇━━━━━━━━━━━━━━━━━━━╇━━━━━━━━━━╇━━━━━━━┩\n",
       "│\u001b[38;2;0;170;0m \u001b[0m\u001b[38;2;0;170;0mata-pod                              \u001b[0m\u001b[38;2;0;170;0m \u001b[0m│\u001b[38;2;0;170;170m \u001b[0m\u001b[38;2;0;170;170m0/1  \u001b[0m\u001b[38;2;0;170;170m \u001b[0m│\u001b[38;2;170;170;170m \u001b[0m\u001b[38;2;170;170;170mContainerCreating\u001b[0m\u001b[38;2;170;170;170m \u001b[0m│\u001b[38;2;255;85;85m \u001b[0m\u001b[38;2;255;85;85m0       \u001b[0m\u001b[38;2;255;85;85m \u001b[0m│\u001b[38;2;85;255;85m \u001b[0m\u001b[38;2;85;255;85m93m  \u001b[0m\u001b[38;2;85;255;85m \u001b[0m│\n",
       "│\u001b[38;2;0;170;0m \u001b[0m\u001b[38;2;0;170;0mgpu-pod-xmkqv                        \u001b[0m\u001b[38;2;0;170;0m \u001b[0m│\u001b[38;2;0;170;170m \u001b[0m\u001b[38;2;0;170;170m0/1  \u001b[0m\u001b[38;2;0;170;170m \u001b[0m│\u001b[38;2;170;170;170m \u001b[0m\u001b[38;2;170;170;170mContainerCreating\u001b[0m\u001b[38;2;170;170;170m \u001b[0m│\u001b[38;2;255;85;85m \u001b[0m\u001b[38;2;255;85;85m0       \u001b[0m\u001b[38;2;255;85;85m \u001b[0m│\u001b[38;2;85;255;85m \u001b[0m\u001b[38;2;85;255;85m1s   \u001b[0m\u001b[38;2;85;255;85m \u001b[0m│\n",
       "│\u001b[38;2;0;170;0m \u001b[0m\u001b[38;2;0;170;0mhub-859c877b85-fzfrj                 \u001b[0m\u001b[38;2;0;170;0m \u001b[0m│\u001b[38;2;0;170;170m \u001b[0m\u001b[38;2;0;170;170m1/1  \u001b[0m\u001b[38;2;0;170;170m \u001b[0m│\u001b[38;2;170;170;170m \u001b[0m\u001b[38;2;170;170;170mRunning          \u001b[0m\u001b[38;2;170;170;170m \u001b[0m│\u001b[38;2;255;85;85m \u001b[0m\u001b[38;2;255;85;85m0       \u001b[0m\u001b[38;2;255;85;85m \u001b[0m│\u001b[38;2;85;255;85m \u001b[0m\u001b[38;2;85;255;85m5d   \u001b[0m\u001b[38;2;85;255;85m \u001b[0m│\n",
       "│\u001b[38;2;0;170;0m \u001b[0m\u001b[38;2;0;170;0mjupyter-ataaakbari-40googlemail-2ecom\u001b[0m\u001b[38;2;0;170;0m \u001b[0m│\u001b[38;2;0;170;170m \u001b[0m\u001b[38;2;0;170;170m1/1  \u001b[0m\u001b[38;2;0;170;170m \u001b[0m│\u001b[38;2;170;170;170m \u001b[0m\u001b[38;2;170;170;170mRunning          \u001b[0m\u001b[38;2;170;170;170m \u001b[0m│\u001b[38;2;255;85;85m \u001b[0m\u001b[38;2;255;85;85m0       \u001b[0m\u001b[38;2;255;85;85m \u001b[0m│\u001b[38;2;85;255;85m \u001b[0m\u001b[38;2;85;255;85m55m  \u001b[0m\u001b[38;2;85;255;85m \u001b[0m│\n",
       "│\u001b[38;2;0;170;0m \u001b[0m\u001b[38;2;0;170;0mjupyter-fawudarski-40gmail-2ecom     \u001b[0m\u001b[38;2;0;170;0m \u001b[0m│\u001b[38;2;0;170;170m \u001b[0m\u001b[38;2;0;170;170m1/1  \u001b[0m\u001b[38;2;0;170;170m \u001b[0m│\u001b[38;2;170;170;170m \u001b[0m\u001b[38;2;170;170;170mRunning          \u001b[0m\u001b[38;2;170;170;170m \u001b[0m│\u001b[38;2;255;85;85m \u001b[0m\u001b[38;2;255;85;85m0       \u001b[0m\u001b[38;2;255;85;85m \u001b[0m│\u001b[38;2;85;255;85m \u001b[0m\u001b[38;2;85;255;85m7h33m\u001b[0m\u001b[38;2;85;255;85m \u001b[0m│\n",
       "│\u001b[38;2;0;170;0m \u001b[0m\u001b[38;2;0;170;0mproxy-5ddd4b47c9-xhb2d               \u001b[0m\u001b[38;2;0;170;0m \u001b[0m│\u001b[38;2;0;170;170m \u001b[0m\u001b[38;2;0;170;170m1/1  \u001b[0m\u001b[38;2;0;170;170m \u001b[0m│\u001b[38;2;170;170;170m \u001b[0m\u001b[38;2;170;170;170mRunning          \u001b[0m\u001b[38;2;170;170;170m \u001b[0m│\u001b[38;2;255;85;85m \u001b[0m\u001b[38;2;255;85;85m0       \u001b[0m\u001b[38;2;255;85;85m \u001b[0m│\u001b[38;2;85;255;85m \u001b[0m\u001b[38;2;85;255;85m43h  \u001b[0m\u001b[38;2;85;255;85m \u001b[0m│\n",
       "└───────────────────────────────────────┴───────┴───────────────────┴──────────┴───────┘\n"
      ]
     },
     "metadata": {},
     "output_type": "display_data"
    },
    {
     "data": {
      "text/html": [
       "<pre style=\"white-space:pre;overflow-x:auto;line-height:normal;font-family:Menlo,'DejaVu Sans Mono',consolas,'Courier New',monospace\">┏━━━━━━━━━━━━━━━━━━━━━━━━━━━━━━━━━━━━━━━┳━━━━━━━┳━━━━━━━━━━━━━━━━━━━┳━━━━━━━━━━┳━━━━━━━┓\n",
       "┃<span style=\"font-weight: bold\"> NAME                                  </span>┃<span style=\"font-weight: bold\"> READY </span>┃<span style=\"font-weight: bold\"> STATUS            </span>┃<span style=\"font-weight: bold\"> RESTARTS </span>┃<span style=\"font-weight: bold\"> AGE   </span>┃\n",
       "┡━━━━━━━━━━━━━━━━━━━━━━━━━━━━━━━━━━━━━━━╇━━━━━━━╇━━━━━━━━━━━━━━━━━━━╇━━━━━━━━━━╇━━━━━━━┩\n",
       "│<span style=\"color: #00aa00; text-decoration-color: #00aa00\"> ata-pod                               </span>│<span style=\"color: #00aaaa; text-decoration-color: #00aaaa\"> 0/1   </span>│<span style=\"color: #aaaaaa; text-decoration-color: #aaaaaa\"> ContainerCreating </span>│<span style=\"color: #ff5555; text-decoration-color: #ff5555\"> 0        </span>│<span style=\"color: #55ff55; text-decoration-color: #55ff55\"> 93m   </span>│\n",
       "│<span style=\"color: #00aa00; text-decoration-color: #00aa00\"> gpu-pod-xmkqv                         </span>│<span style=\"color: #00aaaa; text-decoration-color: #00aaaa\"> 0/1   </span>│<span style=\"color: #aaaaaa; text-decoration-color: #aaaaaa\"> ContainerCreating </span>│<span style=\"color: #ff5555; text-decoration-color: #ff5555\"> 0        </span>│<span style=\"color: #55ff55; text-decoration-color: #55ff55\"> 2s    </span>│\n",
       "│<span style=\"color: #00aa00; text-decoration-color: #00aa00\"> hub-859c877b85-fzfrj                  </span>│<span style=\"color: #00aaaa; text-decoration-color: #00aaaa\"> 1/1   </span>│<span style=\"color: #aaaaaa; text-decoration-color: #aaaaaa\"> Running           </span>│<span style=\"color: #ff5555; text-decoration-color: #ff5555\"> 0        </span>│<span style=\"color: #55ff55; text-decoration-color: #55ff55\"> 5d    </span>│\n",
       "│<span style=\"color: #00aa00; text-decoration-color: #00aa00\"> jupyter-ataaakbari-40googlemail-2ecom </span>│<span style=\"color: #00aaaa; text-decoration-color: #00aaaa\"> 1/1   </span>│<span style=\"color: #aaaaaa; text-decoration-color: #aaaaaa\"> Running           </span>│<span style=\"color: #ff5555; text-decoration-color: #ff5555\"> 0        </span>│<span style=\"color: #55ff55; text-decoration-color: #55ff55\"> 55m   </span>│\n",
       "│<span style=\"color: #00aa00; text-decoration-color: #00aa00\"> jupyter-fawudarski-40gmail-2ecom      </span>│<span style=\"color: #00aaaa; text-decoration-color: #00aaaa\"> 1/1   </span>│<span style=\"color: #aaaaaa; text-decoration-color: #aaaaaa\"> Running           </span>│<span style=\"color: #ff5555; text-decoration-color: #ff5555\"> 0        </span>│<span style=\"color: #55ff55; text-decoration-color: #55ff55\"> 7h33m </span>│\n",
       "│<span style=\"color: #00aa00; text-decoration-color: #00aa00\"> proxy-5ddd4b47c9-xhb2d                </span>│<span style=\"color: #00aaaa; text-decoration-color: #00aaaa\"> 1/1   </span>│<span style=\"color: #aaaaaa; text-decoration-color: #aaaaaa\"> Running           </span>│<span style=\"color: #ff5555; text-decoration-color: #ff5555\"> 0        </span>│<span style=\"color: #55ff55; text-decoration-color: #55ff55\"> 43h   </span>│\n",
       "└───────────────────────────────────────┴───────┴───────────────────┴──────────┴───────┘\n",
       "</pre>\n"
      ],
      "text/plain": [
       "┏━━━━━━━━━━━━━━━━━━━━━━━━━━━━━━━━━━━━━━━┳━━━━━━━┳━━━━━━━━━━━━━━━━━━━┳━━━━━━━━━━┳━━━━━━━┓\n",
       "┃\u001b[1m \u001b[0m\u001b[1mNAME                                 \u001b[0m\u001b[1m \u001b[0m┃\u001b[1m \u001b[0m\u001b[1mREADY\u001b[0m\u001b[1m \u001b[0m┃\u001b[1m \u001b[0m\u001b[1mSTATUS           \u001b[0m\u001b[1m \u001b[0m┃\u001b[1m \u001b[0m\u001b[1mRESTARTS\u001b[0m\u001b[1m \u001b[0m┃\u001b[1m \u001b[0m\u001b[1mAGE  \u001b[0m\u001b[1m \u001b[0m┃\n",
       "┡━━━━━━━━━━━━━━━━━━━━━━━━━━━━━━━━━━━━━━━╇━━━━━━━╇━━━━━━━━━━━━━━━━━━━╇━━━━━━━━━━╇━━━━━━━┩\n",
       "│\u001b[38;2;0;170;0m \u001b[0m\u001b[38;2;0;170;0mata-pod                              \u001b[0m\u001b[38;2;0;170;0m \u001b[0m│\u001b[38;2;0;170;170m \u001b[0m\u001b[38;2;0;170;170m0/1  \u001b[0m\u001b[38;2;0;170;170m \u001b[0m│\u001b[38;2;170;170;170m \u001b[0m\u001b[38;2;170;170;170mContainerCreating\u001b[0m\u001b[38;2;170;170;170m \u001b[0m│\u001b[38;2;255;85;85m \u001b[0m\u001b[38;2;255;85;85m0       \u001b[0m\u001b[38;2;255;85;85m \u001b[0m│\u001b[38;2;85;255;85m \u001b[0m\u001b[38;2;85;255;85m93m  \u001b[0m\u001b[38;2;85;255;85m \u001b[0m│\n",
       "│\u001b[38;2;0;170;0m \u001b[0m\u001b[38;2;0;170;0mgpu-pod-xmkqv                        \u001b[0m\u001b[38;2;0;170;0m \u001b[0m│\u001b[38;2;0;170;170m \u001b[0m\u001b[38;2;0;170;170m0/1  \u001b[0m\u001b[38;2;0;170;170m \u001b[0m│\u001b[38;2;170;170;170m \u001b[0m\u001b[38;2;170;170;170mContainerCreating\u001b[0m\u001b[38;2;170;170;170m \u001b[0m│\u001b[38;2;255;85;85m \u001b[0m\u001b[38;2;255;85;85m0       \u001b[0m\u001b[38;2;255;85;85m \u001b[0m│\u001b[38;2;85;255;85m \u001b[0m\u001b[38;2;85;255;85m2s   \u001b[0m\u001b[38;2;85;255;85m \u001b[0m│\n",
       "│\u001b[38;2;0;170;0m \u001b[0m\u001b[38;2;0;170;0mhub-859c877b85-fzfrj                 \u001b[0m\u001b[38;2;0;170;0m \u001b[0m│\u001b[38;2;0;170;170m \u001b[0m\u001b[38;2;0;170;170m1/1  \u001b[0m\u001b[38;2;0;170;170m \u001b[0m│\u001b[38;2;170;170;170m \u001b[0m\u001b[38;2;170;170;170mRunning          \u001b[0m\u001b[38;2;170;170;170m \u001b[0m│\u001b[38;2;255;85;85m \u001b[0m\u001b[38;2;255;85;85m0       \u001b[0m\u001b[38;2;255;85;85m \u001b[0m│\u001b[38;2;85;255;85m \u001b[0m\u001b[38;2;85;255;85m5d   \u001b[0m\u001b[38;2;85;255;85m \u001b[0m│\n",
       "│\u001b[38;2;0;170;0m \u001b[0m\u001b[38;2;0;170;0mjupyter-ataaakbari-40googlemail-2ecom\u001b[0m\u001b[38;2;0;170;0m \u001b[0m│\u001b[38;2;0;170;170m \u001b[0m\u001b[38;2;0;170;170m1/1  \u001b[0m\u001b[38;2;0;170;170m \u001b[0m│\u001b[38;2;170;170;170m \u001b[0m\u001b[38;2;170;170;170mRunning          \u001b[0m\u001b[38;2;170;170;170m \u001b[0m│\u001b[38;2;255;85;85m \u001b[0m\u001b[38;2;255;85;85m0       \u001b[0m\u001b[38;2;255;85;85m \u001b[0m│\u001b[38;2;85;255;85m \u001b[0m\u001b[38;2;85;255;85m55m  \u001b[0m\u001b[38;2;85;255;85m \u001b[0m│\n",
       "│\u001b[38;2;0;170;0m \u001b[0m\u001b[38;2;0;170;0mjupyter-fawudarski-40gmail-2ecom     \u001b[0m\u001b[38;2;0;170;0m \u001b[0m│\u001b[38;2;0;170;170m \u001b[0m\u001b[38;2;0;170;170m1/1  \u001b[0m\u001b[38;2;0;170;170m \u001b[0m│\u001b[38;2;170;170;170m \u001b[0m\u001b[38;2;170;170;170mRunning          \u001b[0m\u001b[38;2;170;170;170m \u001b[0m│\u001b[38;2;255;85;85m \u001b[0m\u001b[38;2;255;85;85m0       \u001b[0m\u001b[38;2;255;85;85m \u001b[0m│\u001b[38;2;85;255;85m \u001b[0m\u001b[38;2;85;255;85m7h33m\u001b[0m\u001b[38;2;85;255;85m \u001b[0m│\n",
       "│\u001b[38;2;0;170;0m \u001b[0m\u001b[38;2;0;170;0mproxy-5ddd4b47c9-xhb2d               \u001b[0m\u001b[38;2;0;170;0m \u001b[0m│\u001b[38;2;0;170;170m \u001b[0m\u001b[38;2;0;170;170m1/1  \u001b[0m\u001b[38;2;0;170;170m \u001b[0m│\u001b[38;2;170;170;170m \u001b[0m\u001b[38;2;170;170;170mRunning          \u001b[0m\u001b[38;2;170;170;170m \u001b[0m│\u001b[38;2;255;85;85m \u001b[0m\u001b[38;2;255;85;85m0       \u001b[0m\u001b[38;2;255;85;85m \u001b[0m│\u001b[38;2;85;255;85m \u001b[0m\u001b[38;2;85;255;85m43h  \u001b[0m\u001b[38;2;85;255;85m \u001b[0m│\n",
       "└───────────────────────────────────────┴───────┴───────────────────┴──────────┴───────┘\n"
      ]
     },
     "metadata": {},
     "output_type": "display_data"
    },
    {
     "data": {
      "text/html": [
       "<pre style=\"white-space:pre;overflow-x:auto;line-height:normal;font-family:Menlo,'DejaVu Sans Mono',consolas,'Courier New',monospace\">elapsed: <span style=\"color: #008080; text-decoration-color: #008080; font-weight: bold\">6.34</span> seconds\n",
       "</pre>\n"
      ],
      "text/plain": [
       "elapsed: \u001b[1;36m6.34\u001b[0m seconds\n"
      ]
     },
     "metadata": {},
     "output_type": "display_data"
    },
    {
     "data": {
      "text/html": [
       "<pre style=\"white-space:pre;overflow-x:auto;line-height:normal;font-family:Menlo,'DejaVu Sans Mono',consolas,'Courier New',monospace\">┏━━━━━━━━━━━━━━━━━━━━━━━━━━━━━━━━━━━━━━━┳━━━━━━━┳━━━━━━━━━━━━━━━━━━━┳━━━━━━━━━━┳━━━━━━━┓\n",
       "┃<span style=\"font-weight: bold\"> NAME                                  </span>┃<span style=\"font-weight: bold\"> READY </span>┃<span style=\"font-weight: bold\"> STATUS            </span>┃<span style=\"font-weight: bold\"> RESTARTS </span>┃<span style=\"font-weight: bold\"> AGE   </span>┃\n",
       "┡━━━━━━━━━━━━━━━━━━━━━━━━━━━━━━━━━━━━━━━╇━━━━━━━╇━━━━━━━━━━━━━━━━━━━╇━━━━━━━━━━╇━━━━━━━┩\n",
       "│<span style=\"color: #00aa00; text-decoration-color: #00aa00\"> ata-pod                               </span>│<span style=\"color: #00aaaa; text-decoration-color: #00aaaa\"> 0/1   </span>│<span style=\"color: #aaaaaa; text-decoration-color: #aaaaaa\"> ContainerCreating </span>│<span style=\"color: #ff5555; text-decoration-color: #ff5555\"> 0        </span>│<span style=\"color: #55ff55; text-decoration-color: #55ff55\"> 93m   </span>│\n",
       "│<span style=\"color: #00aa00; text-decoration-color: #00aa00\"> gpu-pod-xmkqv                         </span>│<span style=\"color: #00aaaa; text-decoration-color: #00aaaa\"> 0/1   </span>│<span style=\"color: #aaaaaa; text-decoration-color: #aaaaaa\"> ContainerCreating </span>│<span style=\"color: #ff5555; text-decoration-color: #ff5555\"> 0        </span>│<span style=\"color: #55ff55; text-decoration-color: #55ff55\"> 9s    </span>│\n",
       "│<span style=\"color: #00aa00; text-decoration-color: #00aa00\"> hub-859c877b85-fzfrj                  </span>│<span style=\"color: #00aaaa; text-decoration-color: #00aaaa\"> 1/1   </span>│<span style=\"color: #aaaaaa; text-decoration-color: #aaaaaa\"> Running           </span>│<span style=\"color: #ff5555; text-decoration-color: #ff5555\"> 0        </span>│<span style=\"color: #55ff55; text-decoration-color: #55ff55\"> 5d    </span>│\n",
       "│<span style=\"color: #00aa00; text-decoration-color: #00aa00\"> jupyter-ataaakbari-40googlemail-2ecom </span>│<span style=\"color: #00aaaa; text-decoration-color: #00aaaa\"> 1/1   </span>│<span style=\"color: #aaaaaa; text-decoration-color: #aaaaaa\"> Running           </span>│<span style=\"color: #ff5555; text-decoration-color: #ff5555\"> 0        </span>│<span style=\"color: #55ff55; text-decoration-color: #55ff55\"> 55m   </span>│\n",
       "│<span style=\"color: #00aa00; text-decoration-color: #00aa00\"> jupyter-fawudarski-40gmail-2ecom      </span>│<span style=\"color: #00aaaa; text-decoration-color: #00aaaa\"> 1/1   </span>│<span style=\"color: #aaaaaa; text-decoration-color: #aaaaaa\"> Running           </span>│<span style=\"color: #ff5555; text-decoration-color: #ff5555\"> 0        </span>│<span style=\"color: #55ff55; text-decoration-color: #55ff55\"> 7h33m </span>│\n",
       "│<span style=\"color: #00aa00; text-decoration-color: #00aa00\"> proxy-5ddd4b47c9-xhb2d                </span>│<span style=\"color: #00aaaa; text-decoration-color: #00aaaa\"> 1/1   </span>│<span style=\"color: #aaaaaa; text-decoration-color: #aaaaaa\"> Running           </span>│<span style=\"color: #ff5555; text-decoration-color: #ff5555\"> 0        </span>│<span style=\"color: #55ff55; text-decoration-color: #55ff55\"> 43h   </span>│\n",
       "└───────────────────────────────────────┴───────┴───────────────────┴──────────┴───────┘\n",
       "</pre>\n"
      ],
      "text/plain": [
       "┏━━━━━━━━━━━━━━━━━━━━━━━━━━━━━━━━━━━━━━━┳━━━━━━━┳━━━━━━━━━━━━━━━━━━━┳━━━━━━━━━━┳━━━━━━━┓\n",
       "┃\u001b[1m \u001b[0m\u001b[1mNAME                                 \u001b[0m\u001b[1m \u001b[0m┃\u001b[1m \u001b[0m\u001b[1mREADY\u001b[0m\u001b[1m \u001b[0m┃\u001b[1m \u001b[0m\u001b[1mSTATUS           \u001b[0m\u001b[1m \u001b[0m┃\u001b[1m \u001b[0m\u001b[1mRESTARTS\u001b[0m\u001b[1m \u001b[0m┃\u001b[1m \u001b[0m\u001b[1mAGE  \u001b[0m\u001b[1m \u001b[0m┃\n",
       "┡━━━━━━━━━━━━━━━━━━━━━━━━━━━━━━━━━━━━━━━╇━━━━━━━╇━━━━━━━━━━━━━━━━━━━╇━━━━━━━━━━╇━━━━━━━┩\n",
       "│\u001b[38;2;0;170;0m \u001b[0m\u001b[38;2;0;170;0mata-pod                              \u001b[0m\u001b[38;2;0;170;0m \u001b[0m│\u001b[38;2;0;170;170m \u001b[0m\u001b[38;2;0;170;170m0/1  \u001b[0m\u001b[38;2;0;170;170m \u001b[0m│\u001b[38;2;170;170;170m \u001b[0m\u001b[38;2;170;170;170mContainerCreating\u001b[0m\u001b[38;2;170;170;170m \u001b[0m│\u001b[38;2;255;85;85m \u001b[0m\u001b[38;2;255;85;85m0       \u001b[0m\u001b[38;2;255;85;85m \u001b[0m│\u001b[38;2;85;255;85m \u001b[0m\u001b[38;2;85;255;85m93m  \u001b[0m\u001b[38;2;85;255;85m \u001b[0m│\n",
       "│\u001b[38;2;0;170;0m \u001b[0m\u001b[38;2;0;170;0mgpu-pod-xmkqv                        \u001b[0m\u001b[38;2;0;170;0m \u001b[0m│\u001b[38;2;0;170;170m \u001b[0m\u001b[38;2;0;170;170m0/1  \u001b[0m\u001b[38;2;0;170;170m \u001b[0m│\u001b[38;2;170;170;170m \u001b[0m\u001b[38;2;170;170;170mContainerCreating\u001b[0m\u001b[38;2;170;170;170m \u001b[0m│\u001b[38;2;255;85;85m \u001b[0m\u001b[38;2;255;85;85m0       \u001b[0m\u001b[38;2;255;85;85m \u001b[0m│\u001b[38;2;85;255;85m \u001b[0m\u001b[38;2;85;255;85m9s   \u001b[0m\u001b[38;2;85;255;85m \u001b[0m│\n",
       "│\u001b[38;2;0;170;0m \u001b[0m\u001b[38;2;0;170;0mhub-859c877b85-fzfrj                 \u001b[0m\u001b[38;2;0;170;0m \u001b[0m│\u001b[38;2;0;170;170m \u001b[0m\u001b[38;2;0;170;170m1/1  \u001b[0m\u001b[38;2;0;170;170m \u001b[0m│\u001b[38;2;170;170;170m \u001b[0m\u001b[38;2;170;170;170mRunning          \u001b[0m\u001b[38;2;170;170;170m \u001b[0m│\u001b[38;2;255;85;85m \u001b[0m\u001b[38;2;255;85;85m0       \u001b[0m\u001b[38;2;255;85;85m \u001b[0m│\u001b[38;2;85;255;85m \u001b[0m\u001b[38;2;85;255;85m5d   \u001b[0m\u001b[38;2;85;255;85m \u001b[0m│\n",
       "│\u001b[38;2;0;170;0m \u001b[0m\u001b[38;2;0;170;0mjupyter-ataaakbari-40googlemail-2ecom\u001b[0m\u001b[38;2;0;170;0m \u001b[0m│\u001b[38;2;0;170;170m \u001b[0m\u001b[38;2;0;170;170m1/1  \u001b[0m\u001b[38;2;0;170;170m \u001b[0m│\u001b[38;2;170;170;170m \u001b[0m\u001b[38;2;170;170;170mRunning          \u001b[0m\u001b[38;2;170;170;170m \u001b[0m│\u001b[38;2;255;85;85m \u001b[0m\u001b[38;2;255;85;85m0       \u001b[0m\u001b[38;2;255;85;85m \u001b[0m│\u001b[38;2;85;255;85m \u001b[0m\u001b[38;2;85;255;85m55m  \u001b[0m\u001b[38;2;85;255;85m \u001b[0m│\n",
       "│\u001b[38;2;0;170;0m \u001b[0m\u001b[38;2;0;170;0mjupyter-fawudarski-40gmail-2ecom     \u001b[0m\u001b[38;2;0;170;0m \u001b[0m│\u001b[38;2;0;170;170m \u001b[0m\u001b[38;2;0;170;170m1/1  \u001b[0m\u001b[38;2;0;170;170m \u001b[0m│\u001b[38;2;170;170;170m \u001b[0m\u001b[38;2;170;170;170mRunning          \u001b[0m\u001b[38;2;170;170;170m \u001b[0m│\u001b[38;2;255;85;85m \u001b[0m\u001b[38;2;255;85;85m0       \u001b[0m\u001b[38;2;255;85;85m \u001b[0m│\u001b[38;2;85;255;85m \u001b[0m\u001b[38;2;85;255;85m7h33m\u001b[0m\u001b[38;2;85;255;85m \u001b[0m│\n",
       "│\u001b[38;2;0;170;0m \u001b[0m\u001b[38;2;0;170;0mproxy-5ddd4b47c9-xhb2d               \u001b[0m\u001b[38;2;0;170;0m \u001b[0m│\u001b[38;2;0;170;170m \u001b[0m\u001b[38;2;0;170;170m1/1  \u001b[0m\u001b[38;2;0;170;170m \u001b[0m│\u001b[38;2;170;170;170m \u001b[0m\u001b[38;2;170;170;170mRunning          \u001b[0m\u001b[38;2;170;170;170m \u001b[0m│\u001b[38;2;255;85;85m \u001b[0m\u001b[38;2;255;85;85m0       \u001b[0m\u001b[38;2;255;85;85m \u001b[0m│\u001b[38;2;85;255;85m \u001b[0m\u001b[38;2;85;255;85m43h  \u001b[0m\u001b[38;2;85;255;85m \u001b[0m│\n",
       "└───────────────────────────────────────┴───────┴───────────────────┴──────────┴───────┘\n"
      ]
     },
     "metadata": {},
     "output_type": "display_data"
    },
    {
     "data": {
      "text/html": [
       "<pre style=\"white-space:pre;overflow-x:auto;line-height:normal;font-family:Menlo,'DejaVu Sans Mono',consolas,'Courier New',monospace\">elapsed: <span style=\"color: #008080; text-decoration-color: #008080; font-weight: bold\">6.31</span> seconds\n",
       "</pre>\n"
      ],
      "text/plain": [
       "elapsed: \u001b[1;36m6.31\u001b[0m seconds\n"
      ]
     },
     "metadata": {},
     "output_type": "display_data"
    },
    {
     "data": {
      "text/html": [
       "<pre style=\"white-space:pre;overflow-x:auto;line-height:normal;font-family:Menlo,'DejaVu Sans Mono',consolas,'Courier New',monospace\">┏━━━━━━━━━━━━━━━━━━━━━━━━━━━━━━━━━━━━━━━┳━━━━━━━┳━━━━━━━━━━━━━━━━━━━┳━━━━━━━━━━┳━━━━━━━┓\n",
       "┃<span style=\"font-weight: bold\"> NAME                                  </span>┃<span style=\"font-weight: bold\"> READY </span>┃<span style=\"font-weight: bold\"> STATUS            </span>┃<span style=\"font-weight: bold\"> RESTARTS </span>┃<span style=\"font-weight: bold\"> AGE   </span>┃\n",
       "┡━━━━━━━━━━━━━━━━━━━━━━━━━━━━━━━━━━━━━━━╇━━━━━━━╇━━━━━━━━━━━━━━━━━━━╇━━━━━━━━━━╇━━━━━━━┩\n",
       "│<span style=\"color: #00aa00; text-decoration-color: #00aa00\"> ata-pod                               </span>│<span style=\"color: #00aaaa; text-decoration-color: #00aaaa\"> 0/1   </span>│<span style=\"color: #aaaaaa; text-decoration-color: #aaaaaa\"> ContainerCreating </span>│<span style=\"color: #ff5555; text-decoration-color: #ff5555\"> 0        </span>│<span style=\"color: #55ff55; text-decoration-color: #55ff55\"> 93m   </span>│\n",
       "│<span style=\"color: #00aa00; text-decoration-color: #00aa00\"> gpu-pod-xmkqv                         </span>│<span style=\"color: #00aaaa; text-decoration-color: #00aaaa\"> 0/1   </span>│<span style=\"color: #aaaaaa; text-decoration-color: #aaaaaa\"> ContainerCreating </span>│<span style=\"color: #ff5555; text-decoration-color: #ff5555\"> 0        </span>│<span style=\"color: #55ff55; text-decoration-color: #55ff55\"> 15s   </span>│\n",
       "│<span style=\"color: #00aa00; text-decoration-color: #00aa00\"> hub-859c877b85-fzfrj                  </span>│<span style=\"color: #00aaaa; text-decoration-color: #00aaaa\"> 1/1   </span>│<span style=\"color: #aaaaaa; text-decoration-color: #aaaaaa\"> Running           </span>│<span style=\"color: #ff5555; text-decoration-color: #ff5555\"> 0        </span>│<span style=\"color: #55ff55; text-decoration-color: #55ff55\"> 5d    </span>│\n",
       "│<span style=\"color: #00aa00; text-decoration-color: #00aa00\"> jupyter-ataaakbari-40googlemail-2ecom </span>│<span style=\"color: #00aaaa; text-decoration-color: #00aaaa\"> 1/1   </span>│<span style=\"color: #aaaaaa; text-decoration-color: #aaaaaa\"> Running           </span>│<span style=\"color: #ff5555; text-decoration-color: #ff5555\"> 0        </span>│<span style=\"color: #55ff55; text-decoration-color: #55ff55\"> 55m   </span>│\n",
       "│<span style=\"color: #00aa00; text-decoration-color: #00aa00\"> jupyter-fawudarski-40gmail-2ecom      </span>│<span style=\"color: #00aaaa; text-decoration-color: #00aaaa\"> 1/1   </span>│<span style=\"color: #aaaaaa; text-decoration-color: #aaaaaa\"> Running           </span>│<span style=\"color: #ff5555; text-decoration-color: #ff5555\"> 0        </span>│<span style=\"color: #55ff55; text-decoration-color: #55ff55\"> 7h33m </span>│\n",
       "│<span style=\"color: #00aa00; text-decoration-color: #00aa00\"> proxy-5ddd4b47c9-xhb2d                </span>│<span style=\"color: #00aaaa; text-decoration-color: #00aaaa\"> 1/1   </span>│<span style=\"color: #aaaaaa; text-decoration-color: #aaaaaa\"> Running           </span>│<span style=\"color: #ff5555; text-decoration-color: #ff5555\"> 0        </span>│<span style=\"color: #55ff55; text-decoration-color: #55ff55\"> 43h   </span>│\n",
       "└───────────────────────────────────────┴───────┴───────────────────┴──────────┴───────┘\n",
       "</pre>\n"
      ],
      "text/plain": [
       "┏━━━━━━━━━━━━━━━━━━━━━━━━━━━━━━━━━━━━━━━┳━━━━━━━┳━━━━━━━━━━━━━━━━━━━┳━━━━━━━━━━┳━━━━━━━┓\n",
       "┃\u001b[1m \u001b[0m\u001b[1mNAME                                 \u001b[0m\u001b[1m \u001b[0m┃\u001b[1m \u001b[0m\u001b[1mREADY\u001b[0m\u001b[1m \u001b[0m┃\u001b[1m \u001b[0m\u001b[1mSTATUS           \u001b[0m\u001b[1m \u001b[0m┃\u001b[1m \u001b[0m\u001b[1mRESTARTS\u001b[0m\u001b[1m \u001b[0m┃\u001b[1m \u001b[0m\u001b[1mAGE  \u001b[0m\u001b[1m \u001b[0m┃\n",
       "┡━━━━━━━━━━━━━━━━━━━━━━━━━━━━━━━━━━━━━━━╇━━━━━━━╇━━━━━━━━━━━━━━━━━━━╇━━━━━━━━━━╇━━━━━━━┩\n",
       "│\u001b[38;2;0;170;0m \u001b[0m\u001b[38;2;0;170;0mata-pod                              \u001b[0m\u001b[38;2;0;170;0m \u001b[0m│\u001b[38;2;0;170;170m \u001b[0m\u001b[38;2;0;170;170m0/1  \u001b[0m\u001b[38;2;0;170;170m \u001b[0m│\u001b[38;2;170;170;170m \u001b[0m\u001b[38;2;170;170;170mContainerCreating\u001b[0m\u001b[38;2;170;170;170m \u001b[0m│\u001b[38;2;255;85;85m \u001b[0m\u001b[38;2;255;85;85m0       \u001b[0m\u001b[38;2;255;85;85m \u001b[0m│\u001b[38;2;85;255;85m \u001b[0m\u001b[38;2;85;255;85m93m  \u001b[0m\u001b[38;2;85;255;85m \u001b[0m│\n",
       "│\u001b[38;2;0;170;0m \u001b[0m\u001b[38;2;0;170;0mgpu-pod-xmkqv                        \u001b[0m\u001b[38;2;0;170;0m \u001b[0m│\u001b[38;2;0;170;170m \u001b[0m\u001b[38;2;0;170;170m0/1  \u001b[0m\u001b[38;2;0;170;170m \u001b[0m│\u001b[38;2;170;170;170m \u001b[0m\u001b[38;2;170;170;170mContainerCreating\u001b[0m\u001b[38;2;170;170;170m \u001b[0m│\u001b[38;2;255;85;85m \u001b[0m\u001b[38;2;255;85;85m0       \u001b[0m\u001b[38;2;255;85;85m \u001b[0m│\u001b[38;2;85;255;85m \u001b[0m\u001b[38;2;85;255;85m15s  \u001b[0m\u001b[38;2;85;255;85m \u001b[0m│\n",
       "│\u001b[38;2;0;170;0m \u001b[0m\u001b[38;2;0;170;0mhub-859c877b85-fzfrj                 \u001b[0m\u001b[38;2;0;170;0m \u001b[0m│\u001b[38;2;0;170;170m \u001b[0m\u001b[38;2;0;170;170m1/1  \u001b[0m\u001b[38;2;0;170;170m \u001b[0m│\u001b[38;2;170;170;170m \u001b[0m\u001b[38;2;170;170;170mRunning          \u001b[0m\u001b[38;2;170;170;170m \u001b[0m│\u001b[38;2;255;85;85m \u001b[0m\u001b[38;2;255;85;85m0       \u001b[0m\u001b[38;2;255;85;85m \u001b[0m│\u001b[38;2;85;255;85m \u001b[0m\u001b[38;2;85;255;85m5d   \u001b[0m\u001b[38;2;85;255;85m \u001b[0m│\n",
       "│\u001b[38;2;0;170;0m \u001b[0m\u001b[38;2;0;170;0mjupyter-ataaakbari-40googlemail-2ecom\u001b[0m\u001b[38;2;0;170;0m \u001b[0m│\u001b[38;2;0;170;170m \u001b[0m\u001b[38;2;0;170;170m1/1  \u001b[0m\u001b[38;2;0;170;170m \u001b[0m│\u001b[38;2;170;170;170m \u001b[0m\u001b[38;2;170;170;170mRunning          \u001b[0m\u001b[38;2;170;170;170m \u001b[0m│\u001b[38;2;255;85;85m \u001b[0m\u001b[38;2;255;85;85m0       \u001b[0m\u001b[38;2;255;85;85m \u001b[0m│\u001b[38;2;85;255;85m \u001b[0m\u001b[38;2;85;255;85m55m  \u001b[0m\u001b[38;2;85;255;85m \u001b[0m│\n",
       "│\u001b[38;2;0;170;0m \u001b[0m\u001b[38;2;0;170;0mjupyter-fawudarski-40gmail-2ecom     \u001b[0m\u001b[38;2;0;170;0m \u001b[0m│\u001b[38;2;0;170;170m \u001b[0m\u001b[38;2;0;170;170m1/1  \u001b[0m\u001b[38;2;0;170;170m \u001b[0m│\u001b[38;2;170;170;170m \u001b[0m\u001b[38;2;170;170;170mRunning          \u001b[0m\u001b[38;2;170;170;170m \u001b[0m│\u001b[38;2;255;85;85m \u001b[0m\u001b[38;2;255;85;85m0       \u001b[0m\u001b[38;2;255;85;85m \u001b[0m│\u001b[38;2;85;255;85m \u001b[0m\u001b[38;2;85;255;85m7h33m\u001b[0m\u001b[38;2;85;255;85m \u001b[0m│\n",
       "│\u001b[38;2;0;170;0m \u001b[0m\u001b[38;2;0;170;0mproxy-5ddd4b47c9-xhb2d               \u001b[0m\u001b[38;2;0;170;0m \u001b[0m│\u001b[38;2;0;170;170m \u001b[0m\u001b[38;2;0;170;170m1/1  \u001b[0m\u001b[38;2;0;170;170m \u001b[0m│\u001b[38;2;170;170;170m \u001b[0m\u001b[38;2;170;170;170mRunning          \u001b[0m\u001b[38;2;170;170;170m \u001b[0m│\u001b[38;2;255;85;85m \u001b[0m\u001b[38;2;255;85;85m0       \u001b[0m\u001b[38;2;255;85;85m \u001b[0m│\u001b[38;2;85;255;85m \u001b[0m\u001b[38;2;85;255;85m43h  \u001b[0m\u001b[38;2;85;255;85m \u001b[0m│\n",
       "└───────────────────────────────────────┴───────┴───────────────────┴──────────┴───────┘\n"
      ]
     },
     "metadata": {},
     "output_type": "display_data"
    },
    {
     "data": {
      "text/html": [
       "<pre style=\"white-space:pre;overflow-x:auto;line-height:normal;font-family:Menlo,'DejaVu Sans Mono',consolas,'Courier New',monospace\">elapsed: <span style=\"color: #008080; text-decoration-color: #008080; font-weight: bold\">6.30</span> seconds\n",
       "</pre>\n"
      ],
      "text/plain": [
       "elapsed: \u001b[1;36m6.30\u001b[0m seconds\n"
      ]
     },
     "metadata": {},
     "output_type": "display_data"
    },
    {
     "data": {
      "text/html": [
       "<pre style=\"white-space:pre;overflow-x:auto;line-height:normal;font-family:Menlo,'DejaVu Sans Mono',consolas,'Courier New',monospace\">┏━━━━━━━━━━━━━━━━━━━━━━━━━━━━━━━━━━━━━━━┳━━━━━━━┳━━━━━━━━━━━━━━━━━━━┳━━━━━━━━━━┳━━━━━━━┓\n",
       "┃<span style=\"font-weight: bold\"> NAME                                  </span>┃<span style=\"font-weight: bold\"> READY </span>┃<span style=\"font-weight: bold\"> STATUS            </span>┃<span style=\"font-weight: bold\"> RESTARTS </span>┃<span style=\"font-weight: bold\"> AGE   </span>┃\n",
       "┡━━━━━━━━━━━━━━━━━━━━━━━━━━━━━━━━━━━━━━━╇━━━━━━━╇━━━━━━━━━━━━━━━━━━━╇━━━━━━━━━━╇━━━━━━━┩\n",
       "│<span style=\"color: #00aa00; text-decoration-color: #00aa00\"> ata-pod                               </span>│<span style=\"color: #00aaaa; text-decoration-color: #00aaaa\"> 0/1   </span>│<span style=\"color: #aaaaaa; text-decoration-color: #aaaaaa\"> ContainerCreating </span>│<span style=\"color: #ff5555; text-decoration-color: #ff5555\"> 0        </span>│<span style=\"color: #55ff55; text-decoration-color: #55ff55\"> 94m   </span>│\n",
       "│<span style=\"color: #00aa00; text-decoration-color: #00aa00\"> gpu-pod-xmkqv                         </span>│<span style=\"color: #00aaaa; text-decoration-color: #00aaaa\"> 0/1   </span>│<span style=\"color: #aaaaaa; text-decoration-color: #aaaaaa\"> ContainerCreating </span>│<span style=\"color: #ff5555; text-decoration-color: #ff5555\"> 0        </span>│<span style=\"color: #55ff55; text-decoration-color: #55ff55\"> 21s   </span>│\n",
       "│<span style=\"color: #00aa00; text-decoration-color: #00aa00\"> hub-859c877b85-fzfrj                  </span>│<span style=\"color: #00aaaa; text-decoration-color: #00aaaa\"> 1/1   </span>│<span style=\"color: #aaaaaa; text-decoration-color: #aaaaaa\"> Running           </span>│<span style=\"color: #ff5555; text-decoration-color: #ff5555\"> 0        </span>│<span style=\"color: #55ff55; text-decoration-color: #55ff55\"> 5d    </span>│\n",
       "│<span style=\"color: #00aa00; text-decoration-color: #00aa00\"> jupyter-ataaakbari-40googlemail-2ecom </span>│<span style=\"color: #00aaaa; text-decoration-color: #00aaaa\"> 1/1   </span>│<span style=\"color: #aaaaaa; text-decoration-color: #aaaaaa\"> Running           </span>│<span style=\"color: #ff5555; text-decoration-color: #ff5555\"> 0        </span>│<span style=\"color: #55ff55; text-decoration-color: #55ff55\"> 56m   </span>│\n",
       "│<span style=\"color: #00aa00; text-decoration-color: #00aa00\"> jupyter-fawudarski-40gmail-2ecom      </span>│<span style=\"color: #00aaaa; text-decoration-color: #00aaaa\"> 1/1   </span>│<span style=\"color: #aaaaaa; text-decoration-color: #aaaaaa\"> Running           </span>│<span style=\"color: #ff5555; text-decoration-color: #ff5555\"> 0        </span>│<span style=\"color: #55ff55; text-decoration-color: #55ff55\"> 7h33m </span>│\n",
       "│<span style=\"color: #00aa00; text-decoration-color: #00aa00\"> proxy-5ddd4b47c9-xhb2d                </span>│<span style=\"color: #00aaaa; text-decoration-color: #00aaaa\"> 1/1   </span>│<span style=\"color: #aaaaaa; text-decoration-color: #aaaaaa\"> Running           </span>│<span style=\"color: #ff5555; text-decoration-color: #ff5555\"> 0        </span>│<span style=\"color: #55ff55; text-decoration-color: #55ff55\"> 43h   </span>│\n",
       "└───────────────────────────────────────┴───────┴───────────────────┴──────────┴───────┘\n",
       "</pre>\n"
      ],
      "text/plain": [
       "┏━━━━━━━━━━━━━━━━━━━━━━━━━━━━━━━━━━━━━━━┳━━━━━━━┳━━━━━━━━━━━━━━━━━━━┳━━━━━━━━━━┳━━━━━━━┓\n",
       "┃\u001b[1m \u001b[0m\u001b[1mNAME                                 \u001b[0m\u001b[1m \u001b[0m┃\u001b[1m \u001b[0m\u001b[1mREADY\u001b[0m\u001b[1m \u001b[0m┃\u001b[1m \u001b[0m\u001b[1mSTATUS           \u001b[0m\u001b[1m \u001b[0m┃\u001b[1m \u001b[0m\u001b[1mRESTARTS\u001b[0m\u001b[1m \u001b[0m┃\u001b[1m \u001b[0m\u001b[1mAGE  \u001b[0m\u001b[1m \u001b[0m┃\n",
       "┡━━━━━━━━━━━━━━━━━━━━━━━━━━━━━━━━━━━━━━━╇━━━━━━━╇━━━━━━━━━━━━━━━━━━━╇━━━━━━━━━━╇━━━━━━━┩\n",
       "│\u001b[38;2;0;170;0m \u001b[0m\u001b[38;2;0;170;0mata-pod                              \u001b[0m\u001b[38;2;0;170;0m \u001b[0m│\u001b[38;2;0;170;170m \u001b[0m\u001b[38;2;0;170;170m0/1  \u001b[0m\u001b[38;2;0;170;170m \u001b[0m│\u001b[38;2;170;170;170m \u001b[0m\u001b[38;2;170;170;170mContainerCreating\u001b[0m\u001b[38;2;170;170;170m \u001b[0m│\u001b[38;2;255;85;85m \u001b[0m\u001b[38;2;255;85;85m0       \u001b[0m\u001b[38;2;255;85;85m \u001b[0m│\u001b[38;2;85;255;85m \u001b[0m\u001b[38;2;85;255;85m94m  \u001b[0m\u001b[38;2;85;255;85m \u001b[0m│\n",
       "│\u001b[38;2;0;170;0m \u001b[0m\u001b[38;2;0;170;0mgpu-pod-xmkqv                        \u001b[0m\u001b[38;2;0;170;0m \u001b[0m│\u001b[38;2;0;170;170m \u001b[0m\u001b[38;2;0;170;170m0/1  \u001b[0m\u001b[38;2;0;170;170m \u001b[0m│\u001b[38;2;170;170;170m \u001b[0m\u001b[38;2;170;170;170mContainerCreating\u001b[0m\u001b[38;2;170;170;170m \u001b[0m│\u001b[38;2;255;85;85m \u001b[0m\u001b[38;2;255;85;85m0       \u001b[0m\u001b[38;2;255;85;85m \u001b[0m│\u001b[38;2;85;255;85m \u001b[0m\u001b[38;2;85;255;85m21s  \u001b[0m\u001b[38;2;85;255;85m \u001b[0m│\n",
       "│\u001b[38;2;0;170;0m \u001b[0m\u001b[38;2;0;170;0mhub-859c877b85-fzfrj                 \u001b[0m\u001b[38;2;0;170;0m \u001b[0m│\u001b[38;2;0;170;170m \u001b[0m\u001b[38;2;0;170;170m1/1  \u001b[0m\u001b[38;2;0;170;170m \u001b[0m│\u001b[38;2;170;170;170m \u001b[0m\u001b[38;2;170;170;170mRunning          \u001b[0m\u001b[38;2;170;170;170m \u001b[0m│\u001b[38;2;255;85;85m \u001b[0m\u001b[38;2;255;85;85m0       \u001b[0m\u001b[38;2;255;85;85m \u001b[0m│\u001b[38;2;85;255;85m \u001b[0m\u001b[38;2;85;255;85m5d   \u001b[0m\u001b[38;2;85;255;85m \u001b[0m│\n",
       "│\u001b[38;2;0;170;0m \u001b[0m\u001b[38;2;0;170;0mjupyter-ataaakbari-40googlemail-2ecom\u001b[0m\u001b[38;2;0;170;0m \u001b[0m│\u001b[38;2;0;170;170m \u001b[0m\u001b[38;2;0;170;170m1/1  \u001b[0m\u001b[38;2;0;170;170m \u001b[0m│\u001b[38;2;170;170;170m \u001b[0m\u001b[38;2;170;170;170mRunning          \u001b[0m\u001b[38;2;170;170;170m \u001b[0m│\u001b[38;2;255;85;85m \u001b[0m\u001b[38;2;255;85;85m0       \u001b[0m\u001b[38;2;255;85;85m \u001b[0m│\u001b[38;2;85;255;85m \u001b[0m\u001b[38;2;85;255;85m56m  \u001b[0m\u001b[38;2;85;255;85m \u001b[0m│\n",
       "│\u001b[38;2;0;170;0m \u001b[0m\u001b[38;2;0;170;0mjupyter-fawudarski-40gmail-2ecom     \u001b[0m\u001b[38;2;0;170;0m \u001b[0m│\u001b[38;2;0;170;170m \u001b[0m\u001b[38;2;0;170;170m1/1  \u001b[0m\u001b[38;2;0;170;170m \u001b[0m│\u001b[38;2;170;170;170m \u001b[0m\u001b[38;2;170;170;170mRunning          \u001b[0m\u001b[38;2;170;170;170m \u001b[0m│\u001b[38;2;255;85;85m \u001b[0m\u001b[38;2;255;85;85m0       \u001b[0m\u001b[38;2;255;85;85m \u001b[0m│\u001b[38;2;85;255;85m \u001b[0m\u001b[38;2;85;255;85m7h33m\u001b[0m\u001b[38;2;85;255;85m \u001b[0m│\n",
       "│\u001b[38;2;0;170;0m \u001b[0m\u001b[38;2;0;170;0mproxy-5ddd4b47c9-xhb2d               \u001b[0m\u001b[38;2;0;170;0m \u001b[0m│\u001b[38;2;0;170;170m \u001b[0m\u001b[38;2;0;170;170m1/1  \u001b[0m\u001b[38;2;0;170;170m \u001b[0m│\u001b[38;2;170;170;170m \u001b[0m\u001b[38;2;170;170;170mRunning          \u001b[0m\u001b[38;2;170;170;170m \u001b[0m│\u001b[38;2;255;85;85m \u001b[0m\u001b[38;2;255;85;85m0       \u001b[0m\u001b[38;2;255;85;85m \u001b[0m│\u001b[38;2;85;255;85m \u001b[0m\u001b[38;2;85;255;85m43h  \u001b[0m\u001b[38;2;85;255;85m \u001b[0m│\n",
       "└───────────────────────────────────────┴───────┴───────────────────┴──────────┴───────┘\n"
      ]
     },
     "metadata": {},
     "output_type": "display_data"
    },
    {
     "data": {
      "text/html": [
       "<pre style=\"white-space:pre;overflow-x:auto;line-height:normal;font-family:Menlo,'DejaVu Sans Mono',consolas,'Courier New',monospace\">elapsed: <span style=\"color: #008080; text-decoration-color: #008080; font-weight: bold\">6.31</span> seconds\n",
       "</pre>\n"
      ],
      "text/plain": [
       "elapsed: \u001b[1;36m6.31\u001b[0m seconds\n"
      ]
     },
     "metadata": {},
     "output_type": "display_data"
    },
    {
     "data": {
      "text/html": [
       "<pre style=\"white-space:pre;overflow-x:auto;line-height:normal;font-family:Menlo,'DejaVu Sans Mono',consolas,'Courier New',monospace\">┏━━━━━━━━━━━━━━━━━━━━━━━━━━━━━━━━━━━━━━━┳━━━━━━━┳━━━━━━━━━━━━━━━━━━━┳━━━━━━━━━━┳━━━━━━━┓\n",
       "┃<span style=\"font-weight: bold\"> NAME                                  </span>┃<span style=\"font-weight: bold\"> READY </span>┃<span style=\"font-weight: bold\"> STATUS            </span>┃<span style=\"font-weight: bold\"> RESTARTS </span>┃<span style=\"font-weight: bold\"> AGE   </span>┃\n",
       "┡━━━━━━━━━━━━━━━━━━━━━━━━━━━━━━━━━━━━━━━╇━━━━━━━╇━━━━━━━━━━━━━━━━━━━╇━━━━━━━━━━╇━━━━━━━┩\n",
       "│<span style=\"color: #00aa00; text-decoration-color: #00aa00\"> ata-pod                               </span>│<span style=\"color: #00aaaa; text-decoration-color: #00aaaa\"> 0/1   </span>│<span style=\"color: #aaaaaa; text-decoration-color: #aaaaaa\"> ContainerCreating </span>│<span style=\"color: #ff5555; text-decoration-color: #ff5555\"> 0        </span>│<span style=\"color: #55ff55; text-decoration-color: #55ff55\"> 94m   </span>│\n",
       "│<span style=\"color: #00aa00; text-decoration-color: #00aa00\"> gpu-pod-xmkqv                         </span>│<span style=\"color: #00aaaa; text-decoration-color: #00aaaa\"> 0/1   </span>│<span style=\"color: #aaaaaa; text-decoration-color: #aaaaaa\"> ContainerCreating </span>│<span style=\"color: #ff5555; text-decoration-color: #ff5555\"> 0        </span>│<span style=\"color: #55ff55; text-decoration-color: #55ff55\"> 27s   </span>│\n",
       "│<span style=\"color: #00aa00; text-decoration-color: #00aa00\"> hub-859c877b85-fzfrj                  </span>│<span style=\"color: #00aaaa; text-decoration-color: #00aaaa\"> 1/1   </span>│<span style=\"color: #aaaaaa; text-decoration-color: #aaaaaa\"> Running           </span>│<span style=\"color: #ff5555; text-decoration-color: #ff5555\"> 0        </span>│<span style=\"color: #55ff55; text-decoration-color: #55ff55\"> 5d    </span>│\n",
       "│<span style=\"color: #00aa00; text-decoration-color: #00aa00\"> jupyter-ataaakbari-40googlemail-2ecom </span>│<span style=\"color: #00aaaa; text-decoration-color: #00aaaa\"> 1/1   </span>│<span style=\"color: #aaaaaa; text-decoration-color: #aaaaaa\"> Running           </span>│<span style=\"color: #ff5555; text-decoration-color: #ff5555\"> 0        </span>│<span style=\"color: #55ff55; text-decoration-color: #55ff55\"> 56m   </span>│\n",
       "│<span style=\"color: #00aa00; text-decoration-color: #00aa00\"> jupyter-fawudarski-40gmail-2ecom      </span>│<span style=\"color: #00aaaa; text-decoration-color: #00aaaa\"> 1/1   </span>│<span style=\"color: #aaaaaa; text-decoration-color: #aaaaaa\"> Running           </span>│<span style=\"color: #ff5555; text-decoration-color: #ff5555\"> 0        </span>│<span style=\"color: #55ff55; text-decoration-color: #55ff55\"> 7h33m </span>│\n",
       "│<span style=\"color: #00aa00; text-decoration-color: #00aa00\"> proxy-5ddd4b47c9-xhb2d                </span>│<span style=\"color: #00aaaa; text-decoration-color: #00aaaa\"> 1/1   </span>│<span style=\"color: #aaaaaa; text-decoration-color: #aaaaaa\"> Running           </span>│<span style=\"color: #ff5555; text-decoration-color: #ff5555\"> 0        </span>│<span style=\"color: #55ff55; text-decoration-color: #55ff55\"> 43h   </span>│\n",
       "└───────────────────────────────────────┴───────┴───────────────────┴──────────┴───────┘\n",
       "</pre>\n"
      ],
      "text/plain": [
       "┏━━━━━━━━━━━━━━━━━━━━━━━━━━━━━━━━━━━━━━━┳━━━━━━━┳━━━━━━━━━━━━━━━━━━━┳━━━━━━━━━━┳━━━━━━━┓\n",
       "┃\u001b[1m \u001b[0m\u001b[1mNAME                                 \u001b[0m\u001b[1m \u001b[0m┃\u001b[1m \u001b[0m\u001b[1mREADY\u001b[0m\u001b[1m \u001b[0m┃\u001b[1m \u001b[0m\u001b[1mSTATUS           \u001b[0m\u001b[1m \u001b[0m┃\u001b[1m \u001b[0m\u001b[1mRESTARTS\u001b[0m\u001b[1m \u001b[0m┃\u001b[1m \u001b[0m\u001b[1mAGE  \u001b[0m\u001b[1m \u001b[0m┃\n",
       "┡━━━━━━━━━━━━━━━━━━━━━━━━━━━━━━━━━━━━━━━╇━━━━━━━╇━━━━━━━━━━━━━━━━━━━╇━━━━━━━━━━╇━━━━━━━┩\n",
       "│\u001b[38;2;0;170;0m \u001b[0m\u001b[38;2;0;170;0mata-pod                              \u001b[0m\u001b[38;2;0;170;0m \u001b[0m│\u001b[38;2;0;170;170m \u001b[0m\u001b[38;2;0;170;170m0/1  \u001b[0m\u001b[38;2;0;170;170m \u001b[0m│\u001b[38;2;170;170;170m \u001b[0m\u001b[38;2;170;170;170mContainerCreating\u001b[0m\u001b[38;2;170;170;170m \u001b[0m│\u001b[38;2;255;85;85m \u001b[0m\u001b[38;2;255;85;85m0       \u001b[0m\u001b[38;2;255;85;85m \u001b[0m│\u001b[38;2;85;255;85m \u001b[0m\u001b[38;2;85;255;85m94m  \u001b[0m\u001b[38;2;85;255;85m \u001b[0m│\n",
       "│\u001b[38;2;0;170;0m \u001b[0m\u001b[38;2;0;170;0mgpu-pod-xmkqv                        \u001b[0m\u001b[38;2;0;170;0m \u001b[0m│\u001b[38;2;0;170;170m \u001b[0m\u001b[38;2;0;170;170m0/1  \u001b[0m\u001b[38;2;0;170;170m \u001b[0m│\u001b[38;2;170;170;170m \u001b[0m\u001b[38;2;170;170;170mContainerCreating\u001b[0m\u001b[38;2;170;170;170m \u001b[0m│\u001b[38;2;255;85;85m \u001b[0m\u001b[38;2;255;85;85m0       \u001b[0m\u001b[38;2;255;85;85m \u001b[0m│\u001b[38;2;85;255;85m \u001b[0m\u001b[38;2;85;255;85m27s  \u001b[0m\u001b[38;2;85;255;85m \u001b[0m│\n",
       "│\u001b[38;2;0;170;0m \u001b[0m\u001b[38;2;0;170;0mhub-859c877b85-fzfrj                 \u001b[0m\u001b[38;2;0;170;0m \u001b[0m│\u001b[38;2;0;170;170m \u001b[0m\u001b[38;2;0;170;170m1/1  \u001b[0m\u001b[38;2;0;170;170m \u001b[0m│\u001b[38;2;170;170;170m \u001b[0m\u001b[38;2;170;170;170mRunning          \u001b[0m\u001b[38;2;170;170;170m \u001b[0m│\u001b[38;2;255;85;85m \u001b[0m\u001b[38;2;255;85;85m0       \u001b[0m\u001b[38;2;255;85;85m \u001b[0m│\u001b[38;2;85;255;85m \u001b[0m\u001b[38;2;85;255;85m5d   \u001b[0m\u001b[38;2;85;255;85m \u001b[0m│\n",
       "│\u001b[38;2;0;170;0m \u001b[0m\u001b[38;2;0;170;0mjupyter-ataaakbari-40googlemail-2ecom\u001b[0m\u001b[38;2;0;170;0m \u001b[0m│\u001b[38;2;0;170;170m \u001b[0m\u001b[38;2;0;170;170m1/1  \u001b[0m\u001b[38;2;0;170;170m \u001b[0m│\u001b[38;2;170;170;170m \u001b[0m\u001b[38;2;170;170;170mRunning          \u001b[0m\u001b[38;2;170;170;170m \u001b[0m│\u001b[38;2;255;85;85m \u001b[0m\u001b[38;2;255;85;85m0       \u001b[0m\u001b[38;2;255;85;85m \u001b[0m│\u001b[38;2;85;255;85m \u001b[0m\u001b[38;2;85;255;85m56m  \u001b[0m\u001b[38;2;85;255;85m \u001b[0m│\n",
       "│\u001b[38;2;0;170;0m \u001b[0m\u001b[38;2;0;170;0mjupyter-fawudarski-40gmail-2ecom     \u001b[0m\u001b[38;2;0;170;0m \u001b[0m│\u001b[38;2;0;170;170m \u001b[0m\u001b[38;2;0;170;170m1/1  \u001b[0m\u001b[38;2;0;170;170m \u001b[0m│\u001b[38;2;170;170;170m \u001b[0m\u001b[38;2;170;170;170mRunning          \u001b[0m\u001b[38;2;170;170;170m \u001b[0m│\u001b[38;2;255;85;85m \u001b[0m\u001b[38;2;255;85;85m0       \u001b[0m\u001b[38;2;255;85;85m \u001b[0m│\u001b[38;2;85;255;85m \u001b[0m\u001b[38;2;85;255;85m7h33m\u001b[0m\u001b[38;2;85;255;85m \u001b[0m│\n",
       "│\u001b[38;2;0;170;0m \u001b[0m\u001b[38;2;0;170;0mproxy-5ddd4b47c9-xhb2d               \u001b[0m\u001b[38;2;0;170;0m \u001b[0m│\u001b[38;2;0;170;170m \u001b[0m\u001b[38;2;0;170;170m1/1  \u001b[0m\u001b[38;2;0;170;170m \u001b[0m│\u001b[38;2;170;170;170m \u001b[0m\u001b[38;2;170;170;170mRunning          \u001b[0m\u001b[38;2;170;170;170m \u001b[0m│\u001b[38;2;255;85;85m \u001b[0m\u001b[38;2;255;85;85m0       \u001b[0m\u001b[38;2;255;85;85m \u001b[0m│\u001b[38;2;85;255;85m \u001b[0m\u001b[38;2;85;255;85m43h  \u001b[0m\u001b[38;2;85;255;85m \u001b[0m│\n",
       "└───────────────────────────────────────┴───────┴───────────────────┴──────────┴───────┘\n"
      ]
     },
     "metadata": {},
     "output_type": "display_data"
    },
    {
     "data": {
      "text/html": [
       "<pre style=\"white-space:pre;overflow-x:auto;line-height:normal;font-family:Menlo,'DejaVu Sans Mono',consolas,'Courier New',monospace\">elapsed: <span style=\"color: #008080; text-decoration-color: #008080; font-weight: bold\">6.32</span> seconds\n",
       "</pre>\n"
      ],
      "text/plain": [
       "elapsed: \u001b[1;36m6.32\u001b[0m seconds\n"
      ]
     },
     "metadata": {},
     "output_type": "display_data"
    },
    {
     "data": {
      "text/html": [
       "<pre style=\"white-space:pre;overflow-x:auto;line-height:normal;font-family:Menlo,'DejaVu Sans Mono',consolas,'Courier New',monospace\">┏━━━━━━━━━━━━━━━━━━━━━━━━━━━━━━━━━━━━━━━┳━━━━━━━┳━━━━━━━━━━━━━━━━━━━┳━━━━━━━━━━┳━━━━━━━┓\n",
       "┃<span style=\"font-weight: bold\"> NAME                                  </span>┃<span style=\"font-weight: bold\"> READY </span>┃<span style=\"font-weight: bold\"> STATUS            </span>┃<span style=\"font-weight: bold\"> RESTARTS </span>┃<span style=\"font-weight: bold\"> AGE   </span>┃\n",
       "┡━━━━━━━━━━━━━━━━━━━━━━━━━━━━━━━━━━━━━━━╇━━━━━━━╇━━━━━━━━━━━━━━━━━━━╇━━━━━━━━━━╇━━━━━━━┩\n",
       "│<span style=\"color: #00aa00; text-decoration-color: #00aa00\"> ata-pod                               </span>│<span style=\"color: #00aaaa; text-decoration-color: #00aaaa\"> 0/1   </span>│<span style=\"color: #aaaaaa; text-decoration-color: #aaaaaa\"> ContainerCreating </span>│<span style=\"color: #ff5555; text-decoration-color: #ff5555\"> 0        </span>│<span style=\"color: #55ff55; text-decoration-color: #55ff55\"> 94m   </span>│\n",
       "│<span style=\"color: #00aa00; text-decoration-color: #00aa00\"> gpu-pod-xmkqv                         </span>│<span style=\"color: #00aaaa; text-decoration-color: #00aaaa\"> 0/1   </span>│<span style=\"color: #aaaaaa; text-decoration-color: #aaaaaa\"> ContainerCreating </span>│<span style=\"color: #ff5555; text-decoration-color: #ff5555\"> 0        </span>│<span style=\"color: #55ff55; text-decoration-color: #55ff55\"> 34s   </span>│\n",
       "│<span style=\"color: #00aa00; text-decoration-color: #00aa00\"> hub-859c877b85-fzfrj                  </span>│<span style=\"color: #00aaaa; text-decoration-color: #00aaaa\"> 1/1   </span>│<span style=\"color: #aaaaaa; text-decoration-color: #aaaaaa\"> Running           </span>│<span style=\"color: #ff5555; text-decoration-color: #ff5555\"> 0        </span>│<span style=\"color: #55ff55; text-decoration-color: #55ff55\"> 5d    </span>│\n",
       "│<span style=\"color: #00aa00; text-decoration-color: #00aa00\"> jupyter-ataaakbari-40googlemail-2ecom </span>│<span style=\"color: #00aaaa; text-decoration-color: #00aaaa\"> 1/1   </span>│<span style=\"color: #aaaaaa; text-decoration-color: #aaaaaa\"> Running           </span>│<span style=\"color: #ff5555; text-decoration-color: #ff5555\"> 0        </span>│<span style=\"color: #55ff55; text-decoration-color: #55ff55\"> 56m   </span>│\n",
       "│<span style=\"color: #00aa00; text-decoration-color: #00aa00\"> jupyter-fawudarski-40gmail-2ecom      </span>│<span style=\"color: #00aaaa; text-decoration-color: #00aaaa\"> 1/1   </span>│<span style=\"color: #aaaaaa; text-decoration-color: #aaaaaa\"> Running           </span>│<span style=\"color: #ff5555; text-decoration-color: #ff5555\"> 0        </span>│<span style=\"color: #55ff55; text-decoration-color: #55ff55\"> 7h33m </span>│\n",
       "│<span style=\"color: #00aa00; text-decoration-color: #00aa00\"> proxy-5ddd4b47c9-xhb2d                </span>│<span style=\"color: #00aaaa; text-decoration-color: #00aaaa\"> 1/1   </span>│<span style=\"color: #aaaaaa; text-decoration-color: #aaaaaa\"> Running           </span>│<span style=\"color: #ff5555; text-decoration-color: #ff5555\"> 0        </span>│<span style=\"color: #55ff55; text-decoration-color: #55ff55\"> 43h   </span>│\n",
       "└───────────────────────────────────────┴───────┴───────────────────┴──────────┴───────┘\n",
       "</pre>\n"
      ],
      "text/plain": [
       "┏━━━━━━━━━━━━━━━━━━━━━━━━━━━━━━━━━━━━━━━┳━━━━━━━┳━━━━━━━━━━━━━━━━━━━┳━━━━━━━━━━┳━━━━━━━┓\n",
       "┃\u001b[1m \u001b[0m\u001b[1mNAME                                 \u001b[0m\u001b[1m \u001b[0m┃\u001b[1m \u001b[0m\u001b[1mREADY\u001b[0m\u001b[1m \u001b[0m┃\u001b[1m \u001b[0m\u001b[1mSTATUS           \u001b[0m\u001b[1m \u001b[0m┃\u001b[1m \u001b[0m\u001b[1mRESTARTS\u001b[0m\u001b[1m \u001b[0m┃\u001b[1m \u001b[0m\u001b[1mAGE  \u001b[0m\u001b[1m \u001b[0m┃\n",
       "┡━━━━━━━━━━━━━━━━━━━━━━━━━━━━━━━━━━━━━━━╇━━━━━━━╇━━━━━━━━━━━━━━━━━━━╇━━━━━━━━━━╇━━━━━━━┩\n",
       "│\u001b[38;2;0;170;0m \u001b[0m\u001b[38;2;0;170;0mata-pod                              \u001b[0m\u001b[38;2;0;170;0m \u001b[0m│\u001b[38;2;0;170;170m \u001b[0m\u001b[38;2;0;170;170m0/1  \u001b[0m\u001b[38;2;0;170;170m \u001b[0m│\u001b[38;2;170;170;170m \u001b[0m\u001b[38;2;170;170;170mContainerCreating\u001b[0m\u001b[38;2;170;170;170m \u001b[0m│\u001b[38;2;255;85;85m \u001b[0m\u001b[38;2;255;85;85m0       \u001b[0m\u001b[38;2;255;85;85m \u001b[0m│\u001b[38;2;85;255;85m \u001b[0m\u001b[38;2;85;255;85m94m  \u001b[0m\u001b[38;2;85;255;85m \u001b[0m│\n",
       "│\u001b[38;2;0;170;0m \u001b[0m\u001b[38;2;0;170;0mgpu-pod-xmkqv                        \u001b[0m\u001b[38;2;0;170;0m \u001b[0m│\u001b[38;2;0;170;170m \u001b[0m\u001b[38;2;0;170;170m0/1  \u001b[0m\u001b[38;2;0;170;170m \u001b[0m│\u001b[38;2;170;170;170m \u001b[0m\u001b[38;2;170;170;170mContainerCreating\u001b[0m\u001b[38;2;170;170;170m \u001b[0m│\u001b[38;2;255;85;85m \u001b[0m\u001b[38;2;255;85;85m0       \u001b[0m\u001b[38;2;255;85;85m \u001b[0m│\u001b[38;2;85;255;85m \u001b[0m\u001b[38;2;85;255;85m34s  \u001b[0m\u001b[38;2;85;255;85m \u001b[0m│\n",
       "│\u001b[38;2;0;170;0m \u001b[0m\u001b[38;2;0;170;0mhub-859c877b85-fzfrj                 \u001b[0m\u001b[38;2;0;170;0m \u001b[0m│\u001b[38;2;0;170;170m \u001b[0m\u001b[38;2;0;170;170m1/1  \u001b[0m\u001b[38;2;0;170;170m \u001b[0m│\u001b[38;2;170;170;170m \u001b[0m\u001b[38;2;170;170;170mRunning          \u001b[0m\u001b[38;2;170;170;170m \u001b[0m│\u001b[38;2;255;85;85m \u001b[0m\u001b[38;2;255;85;85m0       \u001b[0m\u001b[38;2;255;85;85m \u001b[0m│\u001b[38;2;85;255;85m \u001b[0m\u001b[38;2;85;255;85m5d   \u001b[0m\u001b[38;2;85;255;85m \u001b[0m│\n",
       "│\u001b[38;2;0;170;0m \u001b[0m\u001b[38;2;0;170;0mjupyter-ataaakbari-40googlemail-2ecom\u001b[0m\u001b[38;2;0;170;0m \u001b[0m│\u001b[38;2;0;170;170m \u001b[0m\u001b[38;2;0;170;170m1/1  \u001b[0m\u001b[38;2;0;170;170m \u001b[0m│\u001b[38;2;170;170;170m \u001b[0m\u001b[38;2;170;170;170mRunning          \u001b[0m\u001b[38;2;170;170;170m \u001b[0m│\u001b[38;2;255;85;85m \u001b[0m\u001b[38;2;255;85;85m0       \u001b[0m\u001b[38;2;255;85;85m \u001b[0m│\u001b[38;2;85;255;85m \u001b[0m\u001b[38;2;85;255;85m56m  \u001b[0m\u001b[38;2;85;255;85m \u001b[0m│\n",
       "│\u001b[38;2;0;170;0m \u001b[0m\u001b[38;2;0;170;0mjupyter-fawudarski-40gmail-2ecom     \u001b[0m\u001b[38;2;0;170;0m \u001b[0m│\u001b[38;2;0;170;170m \u001b[0m\u001b[38;2;0;170;170m1/1  \u001b[0m\u001b[38;2;0;170;170m \u001b[0m│\u001b[38;2;170;170;170m \u001b[0m\u001b[38;2;170;170;170mRunning          \u001b[0m\u001b[38;2;170;170;170m \u001b[0m│\u001b[38;2;255;85;85m \u001b[0m\u001b[38;2;255;85;85m0       \u001b[0m\u001b[38;2;255;85;85m \u001b[0m│\u001b[38;2;85;255;85m \u001b[0m\u001b[38;2;85;255;85m7h33m\u001b[0m\u001b[38;2;85;255;85m \u001b[0m│\n",
       "│\u001b[38;2;0;170;0m \u001b[0m\u001b[38;2;0;170;0mproxy-5ddd4b47c9-xhb2d               \u001b[0m\u001b[38;2;0;170;0m \u001b[0m│\u001b[38;2;0;170;170m \u001b[0m\u001b[38;2;0;170;170m1/1  \u001b[0m\u001b[38;2;0;170;170m \u001b[0m│\u001b[38;2;170;170;170m \u001b[0m\u001b[38;2;170;170;170mRunning          \u001b[0m\u001b[38;2;170;170;170m \u001b[0m│\u001b[38;2;255;85;85m \u001b[0m\u001b[38;2;255;85;85m0       \u001b[0m\u001b[38;2;255;85;85m \u001b[0m│\u001b[38;2;85;255;85m \u001b[0m\u001b[38;2;85;255;85m43h  \u001b[0m\u001b[38;2;85;255;85m \u001b[0m│\n",
       "└───────────────────────────────────────┴───────┴───────────────────┴──────────┴───────┘\n"
      ]
     },
     "metadata": {},
     "output_type": "display_data"
    },
    {
     "data": {
      "text/html": [
       "<pre style=\"white-space:pre;overflow-x:auto;line-height:normal;font-family:Menlo,'DejaVu Sans Mono',consolas,'Courier New',monospace\">elapsed: <span style=\"color: #008080; text-decoration-color: #008080; font-weight: bold\">6.30</span> seconds\n",
       "</pre>\n"
      ],
      "text/plain": [
       "elapsed: \u001b[1;36m6.30\u001b[0m seconds\n"
      ]
     },
     "metadata": {},
     "output_type": "display_data"
    },
    {
     "data": {
      "text/html": [
       "<pre style=\"white-space:pre;overflow-x:auto;line-height:normal;font-family:Menlo,'DejaVu Sans Mono',consolas,'Courier New',monospace\">┏━━━━━━━━━━━━━━━━━━━━━━━━━━━━━━━━━━━━━━━┳━━━━━━━┳━━━━━━━━━━━━━━━━━━━┳━━━━━━━━━━┳━━━━━━━┓\n",
       "┃<span style=\"font-weight: bold\"> NAME                                  </span>┃<span style=\"font-weight: bold\"> READY </span>┃<span style=\"font-weight: bold\"> STATUS            </span>┃<span style=\"font-weight: bold\"> RESTARTS </span>┃<span style=\"font-weight: bold\"> AGE   </span>┃\n",
       "┡━━━━━━━━━━━━━━━━━━━━━━━━━━━━━━━━━━━━━━━╇━━━━━━━╇━━━━━━━━━━━━━━━━━━━╇━━━━━━━━━━╇━━━━━━━┩\n",
       "│<span style=\"color: #00aa00; text-decoration-color: #00aa00\"> ata-pod                               </span>│<span style=\"color: #00aaaa; text-decoration-color: #00aaaa\"> 0/1   </span>│<span style=\"color: #aaaaaa; text-decoration-color: #aaaaaa\"> ContainerCreating </span>│<span style=\"color: #ff5555; text-decoration-color: #ff5555\"> 0        </span>│<span style=\"color: #55ff55; text-decoration-color: #55ff55\"> 94m   </span>│\n",
       "│<span style=\"color: #00aa00; text-decoration-color: #00aa00\"> gpu-pod-xmkqv                         </span>│<span style=\"color: #00aaaa; text-decoration-color: #00aaaa\"> 0/1   </span>│<span style=\"color: #aaaaaa; text-decoration-color: #aaaaaa\"> ContainerCreating </span>│<span style=\"color: #ff5555; text-decoration-color: #ff5555\"> 0        </span>│<span style=\"color: #55ff55; text-decoration-color: #55ff55\"> 40s   </span>│\n",
       "│<span style=\"color: #00aa00; text-decoration-color: #00aa00\"> hub-859c877b85-fzfrj                  </span>│<span style=\"color: #00aaaa; text-decoration-color: #00aaaa\"> 1/1   </span>│<span style=\"color: #aaaaaa; text-decoration-color: #aaaaaa\"> Running           </span>│<span style=\"color: #ff5555; text-decoration-color: #ff5555\"> 0        </span>│<span style=\"color: #55ff55; text-decoration-color: #55ff55\"> 5d    </span>│\n",
       "│<span style=\"color: #00aa00; text-decoration-color: #00aa00\"> jupyter-ataaakbari-40googlemail-2ecom </span>│<span style=\"color: #00aaaa; text-decoration-color: #00aaaa\"> 1/1   </span>│<span style=\"color: #aaaaaa; text-decoration-color: #aaaaaa\"> Running           </span>│<span style=\"color: #ff5555; text-decoration-color: #ff5555\"> 0        </span>│<span style=\"color: #55ff55; text-decoration-color: #55ff55\"> 56m   </span>│\n",
       "│<span style=\"color: #00aa00; text-decoration-color: #00aa00\"> jupyter-fawudarski-40gmail-2ecom      </span>│<span style=\"color: #00aaaa; text-decoration-color: #00aaaa\"> 1/1   </span>│<span style=\"color: #aaaaaa; text-decoration-color: #aaaaaa\"> Running           </span>│<span style=\"color: #ff5555; text-decoration-color: #ff5555\"> 0        </span>│<span style=\"color: #55ff55; text-decoration-color: #55ff55\"> 7h33m </span>│\n",
       "│<span style=\"color: #00aa00; text-decoration-color: #00aa00\"> proxy-5ddd4b47c9-xhb2d                </span>│<span style=\"color: #00aaaa; text-decoration-color: #00aaaa\"> 1/1   </span>│<span style=\"color: #aaaaaa; text-decoration-color: #aaaaaa\"> Running           </span>│<span style=\"color: #ff5555; text-decoration-color: #ff5555\"> 0        </span>│<span style=\"color: #55ff55; text-decoration-color: #55ff55\"> 43h   </span>│\n",
       "└───────────────────────────────────────┴───────┴───────────────────┴──────────┴───────┘\n",
       "</pre>\n"
      ],
      "text/plain": [
       "┏━━━━━━━━━━━━━━━━━━━━━━━━━━━━━━━━━━━━━━━┳━━━━━━━┳━━━━━━━━━━━━━━━━━━━┳━━━━━━━━━━┳━━━━━━━┓\n",
       "┃\u001b[1m \u001b[0m\u001b[1mNAME                                 \u001b[0m\u001b[1m \u001b[0m┃\u001b[1m \u001b[0m\u001b[1mREADY\u001b[0m\u001b[1m \u001b[0m┃\u001b[1m \u001b[0m\u001b[1mSTATUS           \u001b[0m\u001b[1m \u001b[0m┃\u001b[1m \u001b[0m\u001b[1mRESTARTS\u001b[0m\u001b[1m \u001b[0m┃\u001b[1m \u001b[0m\u001b[1mAGE  \u001b[0m\u001b[1m \u001b[0m┃\n",
       "┡━━━━━━━━━━━━━━━━━━━━━━━━━━━━━━━━━━━━━━━╇━━━━━━━╇━━━━━━━━━━━━━━━━━━━╇━━━━━━━━━━╇━━━━━━━┩\n",
       "│\u001b[38;2;0;170;0m \u001b[0m\u001b[38;2;0;170;0mata-pod                              \u001b[0m\u001b[38;2;0;170;0m \u001b[0m│\u001b[38;2;0;170;170m \u001b[0m\u001b[38;2;0;170;170m0/1  \u001b[0m\u001b[38;2;0;170;170m \u001b[0m│\u001b[38;2;170;170;170m \u001b[0m\u001b[38;2;170;170;170mContainerCreating\u001b[0m\u001b[38;2;170;170;170m \u001b[0m│\u001b[38;2;255;85;85m \u001b[0m\u001b[38;2;255;85;85m0       \u001b[0m\u001b[38;2;255;85;85m \u001b[0m│\u001b[38;2;85;255;85m \u001b[0m\u001b[38;2;85;255;85m94m  \u001b[0m\u001b[38;2;85;255;85m \u001b[0m│\n",
       "│\u001b[38;2;0;170;0m \u001b[0m\u001b[38;2;0;170;0mgpu-pod-xmkqv                        \u001b[0m\u001b[38;2;0;170;0m \u001b[0m│\u001b[38;2;0;170;170m \u001b[0m\u001b[38;2;0;170;170m0/1  \u001b[0m\u001b[38;2;0;170;170m \u001b[0m│\u001b[38;2;170;170;170m \u001b[0m\u001b[38;2;170;170;170mContainerCreating\u001b[0m\u001b[38;2;170;170;170m \u001b[0m│\u001b[38;2;255;85;85m \u001b[0m\u001b[38;2;255;85;85m0       \u001b[0m\u001b[38;2;255;85;85m \u001b[0m│\u001b[38;2;85;255;85m \u001b[0m\u001b[38;2;85;255;85m40s  \u001b[0m\u001b[38;2;85;255;85m \u001b[0m│\n",
       "│\u001b[38;2;0;170;0m \u001b[0m\u001b[38;2;0;170;0mhub-859c877b85-fzfrj                 \u001b[0m\u001b[38;2;0;170;0m \u001b[0m│\u001b[38;2;0;170;170m \u001b[0m\u001b[38;2;0;170;170m1/1  \u001b[0m\u001b[38;2;0;170;170m \u001b[0m│\u001b[38;2;170;170;170m \u001b[0m\u001b[38;2;170;170;170mRunning          \u001b[0m\u001b[38;2;170;170;170m \u001b[0m│\u001b[38;2;255;85;85m \u001b[0m\u001b[38;2;255;85;85m0       \u001b[0m\u001b[38;2;255;85;85m \u001b[0m│\u001b[38;2;85;255;85m \u001b[0m\u001b[38;2;85;255;85m5d   \u001b[0m\u001b[38;2;85;255;85m \u001b[0m│\n",
       "│\u001b[38;2;0;170;0m \u001b[0m\u001b[38;2;0;170;0mjupyter-ataaakbari-40googlemail-2ecom\u001b[0m\u001b[38;2;0;170;0m \u001b[0m│\u001b[38;2;0;170;170m \u001b[0m\u001b[38;2;0;170;170m1/1  \u001b[0m\u001b[38;2;0;170;170m \u001b[0m│\u001b[38;2;170;170;170m \u001b[0m\u001b[38;2;170;170;170mRunning          \u001b[0m\u001b[38;2;170;170;170m \u001b[0m│\u001b[38;2;255;85;85m \u001b[0m\u001b[38;2;255;85;85m0       \u001b[0m\u001b[38;2;255;85;85m \u001b[0m│\u001b[38;2;85;255;85m \u001b[0m\u001b[38;2;85;255;85m56m  \u001b[0m\u001b[38;2;85;255;85m \u001b[0m│\n",
       "│\u001b[38;2;0;170;0m \u001b[0m\u001b[38;2;0;170;0mjupyter-fawudarski-40gmail-2ecom     \u001b[0m\u001b[38;2;0;170;0m \u001b[0m│\u001b[38;2;0;170;170m \u001b[0m\u001b[38;2;0;170;170m1/1  \u001b[0m\u001b[38;2;0;170;170m \u001b[0m│\u001b[38;2;170;170;170m \u001b[0m\u001b[38;2;170;170;170mRunning          \u001b[0m\u001b[38;2;170;170;170m \u001b[0m│\u001b[38;2;255;85;85m \u001b[0m\u001b[38;2;255;85;85m0       \u001b[0m\u001b[38;2;255;85;85m \u001b[0m│\u001b[38;2;85;255;85m \u001b[0m\u001b[38;2;85;255;85m7h33m\u001b[0m\u001b[38;2;85;255;85m \u001b[0m│\n",
       "│\u001b[38;2;0;170;0m \u001b[0m\u001b[38;2;0;170;0mproxy-5ddd4b47c9-xhb2d               \u001b[0m\u001b[38;2;0;170;0m \u001b[0m│\u001b[38;2;0;170;170m \u001b[0m\u001b[38;2;0;170;170m1/1  \u001b[0m\u001b[38;2;0;170;170m \u001b[0m│\u001b[38;2;170;170;170m \u001b[0m\u001b[38;2;170;170;170mRunning          \u001b[0m\u001b[38;2;170;170;170m \u001b[0m│\u001b[38;2;255;85;85m \u001b[0m\u001b[38;2;255;85;85m0       \u001b[0m\u001b[38;2;255;85;85m \u001b[0m│\u001b[38;2;85;255;85m \u001b[0m\u001b[38;2;85;255;85m43h  \u001b[0m\u001b[38;2;85;255;85m \u001b[0m│\n",
       "└───────────────────────────────────────┴───────┴───────────────────┴──────────┴───────┘\n"
      ]
     },
     "metadata": {},
     "output_type": "display_data"
    },
    {
     "data": {
      "text/html": [
       "<pre style=\"white-space:pre;overflow-x:auto;line-height:normal;font-family:Menlo,'DejaVu Sans Mono',consolas,'Courier New',monospace\">elapsed: <span style=\"color: #008080; text-decoration-color: #008080; font-weight: bold\">6.36</span> seconds\n",
       "</pre>\n"
      ],
      "text/plain": [
       "elapsed: \u001b[1;36m6.36\u001b[0m seconds\n"
      ]
     },
     "metadata": {},
     "output_type": "display_data"
    },
    {
     "data": {
      "text/html": [
       "<pre style=\"white-space:pre;overflow-x:auto;line-height:normal;font-family:Menlo,'DejaVu Sans Mono',consolas,'Courier New',monospace\">┏━━━━━━━━━━━━━━━━━━━━━━━━━━━━━━━━━━━━━━━┳━━━━━━━┳━━━━━━━━━━━━━━━━━━━┳━━━━━━━━━━┳━━━━━━━┓\n",
       "┃<span style=\"font-weight: bold\"> NAME                                  </span>┃<span style=\"font-weight: bold\"> READY </span>┃<span style=\"font-weight: bold\"> STATUS            </span>┃<span style=\"font-weight: bold\"> RESTARTS </span>┃<span style=\"font-weight: bold\"> AGE   </span>┃\n",
       "┡━━━━━━━━━━━━━━━━━━━━━━━━━━━━━━━━━━━━━━━╇━━━━━━━╇━━━━━━━━━━━━━━━━━━━╇━━━━━━━━━━╇━━━━━━━┩\n",
       "│<span style=\"color: #00aa00; text-decoration-color: #00aa00\"> ata-pod                               </span>│<span style=\"color: #00aaaa; text-decoration-color: #00aaaa\"> 0/1   </span>│<span style=\"color: #aaaaaa; text-decoration-color: #aaaaaa\"> ContainerCreating </span>│<span style=\"color: #ff5555; text-decoration-color: #ff5555\"> 0        </span>│<span style=\"color: #55ff55; text-decoration-color: #55ff55\"> 94m   </span>│\n",
       "│<span style=\"color: #00aa00; text-decoration-color: #00aa00\"> gpu-pod-xmkqv                         </span>│<span style=\"color: #00aaaa; text-decoration-color: #00aaaa\"> 0/1   </span>│<span style=\"color: #aaaaaa; text-decoration-color: #aaaaaa\"> ContainerCreating </span>│<span style=\"color: #ff5555; text-decoration-color: #ff5555\"> 0        </span>│<span style=\"color: #55ff55; text-decoration-color: #55ff55\"> 46s   </span>│\n",
       "│<span style=\"color: #00aa00; text-decoration-color: #00aa00\"> hub-859c877b85-fzfrj                  </span>│<span style=\"color: #00aaaa; text-decoration-color: #00aaaa\"> 1/1   </span>│<span style=\"color: #aaaaaa; text-decoration-color: #aaaaaa\"> Running           </span>│<span style=\"color: #ff5555; text-decoration-color: #ff5555\"> 0        </span>│<span style=\"color: #55ff55; text-decoration-color: #55ff55\"> 5d    </span>│\n",
       "│<span style=\"color: #00aa00; text-decoration-color: #00aa00\"> jupyter-ataaakbari-40googlemail-2ecom </span>│<span style=\"color: #00aaaa; text-decoration-color: #00aaaa\"> 1/1   </span>│<span style=\"color: #aaaaaa; text-decoration-color: #aaaaaa\"> Running           </span>│<span style=\"color: #ff5555; text-decoration-color: #ff5555\"> 0        </span>│<span style=\"color: #55ff55; text-decoration-color: #55ff55\"> 56m   </span>│\n",
       "│<span style=\"color: #00aa00; text-decoration-color: #00aa00\"> jupyter-fawudarski-40gmail-2ecom      </span>│<span style=\"color: #00aaaa; text-decoration-color: #00aaaa\"> 1/1   </span>│<span style=\"color: #aaaaaa; text-decoration-color: #aaaaaa\"> Running           </span>│<span style=\"color: #ff5555; text-decoration-color: #ff5555\"> 0        </span>│<span style=\"color: #55ff55; text-decoration-color: #55ff55\"> 7h33m </span>│\n",
       "│<span style=\"color: #00aa00; text-decoration-color: #00aa00\"> proxy-5ddd4b47c9-xhb2d                </span>│<span style=\"color: #00aaaa; text-decoration-color: #00aaaa\"> 1/1   </span>│<span style=\"color: #aaaaaa; text-decoration-color: #aaaaaa\"> Running           </span>│<span style=\"color: #ff5555; text-decoration-color: #ff5555\"> 0        </span>│<span style=\"color: #55ff55; text-decoration-color: #55ff55\"> 43h   </span>│\n",
       "└───────────────────────────────────────┴───────┴───────────────────┴──────────┴───────┘\n",
       "</pre>\n"
      ],
      "text/plain": [
       "┏━━━━━━━━━━━━━━━━━━━━━━━━━━━━━━━━━━━━━━━┳━━━━━━━┳━━━━━━━━━━━━━━━━━━━┳━━━━━━━━━━┳━━━━━━━┓\n",
       "┃\u001b[1m \u001b[0m\u001b[1mNAME                                 \u001b[0m\u001b[1m \u001b[0m┃\u001b[1m \u001b[0m\u001b[1mREADY\u001b[0m\u001b[1m \u001b[0m┃\u001b[1m \u001b[0m\u001b[1mSTATUS           \u001b[0m\u001b[1m \u001b[0m┃\u001b[1m \u001b[0m\u001b[1mRESTARTS\u001b[0m\u001b[1m \u001b[0m┃\u001b[1m \u001b[0m\u001b[1mAGE  \u001b[0m\u001b[1m \u001b[0m┃\n",
       "┡━━━━━━━━━━━━━━━━━━━━━━━━━━━━━━━━━━━━━━━╇━━━━━━━╇━━━━━━━━━━━━━━━━━━━╇━━━━━━━━━━╇━━━━━━━┩\n",
       "│\u001b[38;2;0;170;0m \u001b[0m\u001b[38;2;0;170;0mata-pod                              \u001b[0m\u001b[38;2;0;170;0m \u001b[0m│\u001b[38;2;0;170;170m \u001b[0m\u001b[38;2;0;170;170m0/1  \u001b[0m\u001b[38;2;0;170;170m \u001b[0m│\u001b[38;2;170;170;170m \u001b[0m\u001b[38;2;170;170;170mContainerCreating\u001b[0m\u001b[38;2;170;170;170m \u001b[0m│\u001b[38;2;255;85;85m \u001b[0m\u001b[38;2;255;85;85m0       \u001b[0m\u001b[38;2;255;85;85m \u001b[0m│\u001b[38;2;85;255;85m \u001b[0m\u001b[38;2;85;255;85m94m  \u001b[0m\u001b[38;2;85;255;85m \u001b[0m│\n",
       "│\u001b[38;2;0;170;0m \u001b[0m\u001b[38;2;0;170;0mgpu-pod-xmkqv                        \u001b[0m\u001b[38;2;0;170;0m \u001b[0m│\u001b[38;2;0;170;170m \u001b[0m\u001b[38;2;0;170;170m0/1  \u001b[0m\u001b[38;2;0;170;170m \u001b[0m│\u001b[38;2;170;170;170m \u001b[0m\u001b[38;2;170;170;170mContainerCreating\u001b[0m\u001b[38;2;170;170;170m \u001b[0m│\u001b[38;2;255;85;85m \u001b[0m\u001b[38;2;255;85;85m0       \u001b[0m\u001b[38;2;255;85;85m \u001b[0m│\u001b[38;2;85;255;85m \u001b[0m\u001b[38;2;85;255;85m46s  \u001b[0m\u001b[38;2;85;255;85m \u001b[0m│\n",
       "│\u001b[38;2;0;170;0m \u001b[0m\u001b[38;2;0;170;0mhub-859c877b85-fzfrj                 \u001b[0m\u001b[38;2;0;170;0m \u001b[0m│\u001b[38;2;0;170;170m \u001b[0m\u001b[38;2;0;170;170m1/1  \u001b[0m\u001b[38;2;0;170;170m \u001b[0m│\u001b[38;2;170;170;170m \u001b[0m\u001b[38;2;170;170;170mRunning          \u001b[0m\u001b[38;2;170;170;170m \u001b[0m│\u001b[38;2;255;85;85m \u001b[0m\u001b[38;2;255;85;85m0       \u001b[0m\u001b[38;2;255;85;85m \u001b[0m│\u001b[38;2;85;255;85m \u001b[0m\u001b[38;2;85;255;85m5d   \u001b[0m\u001b[38;2;85;255;85m \u001b[0m│\n",
       "│\u001b[38;2;0;170;0m \u001b[0m\u001b[38;2;0;170;0mjupyter-ataaakbari-40googlemail-2ecom\u001b[0m\u001b[38;2;0;170;0m \u001b[0m│\u001b[38;2;0;170;170m \u001b[0m\u001b[38;2;0;170;170m1/1  \u001b[0m\u001b[38;2;0;170;170m \u001b[0m│\u001b[38;2;170;170;170m \u001b[0m\u001b[38;2;170;170;170mRunning          \u001b[0m\u001b[38;2;170;170;170m \u001b[0m│\u001b[38;2;255;85;85m \u001b[0m\u001b[38;2;255;85;85m0       \u001b[0m\u001b[38;2;255;85;85m \u001b[0m│\u001b[38;2;85;255;85m \u001b[0m\u001b[38;2;85;255;85m56m  \u001b[0m\u001b[38;2;85;255;85m \u001b[0m│\n",
       "│\u001b[38;2;0;170;0m \u001b[0m\u001b[38;2;0;170;0mjupyter-fawudarski-40gmail-2ecom     \u001b[0m\u001b[38;2;0;170;0m \u001b[0m│\u001b[38;2;0;170;170m \u001b[0m\u001b[38;2;0;170;170m1/1  \u001b[0m\u001b[38;2;0;170;170m \u001b[0m│\u001b[38;2;170;170;170m \u001b[0m\u001b[38;2;170;170;170mRunning          \u001b[0m\u001b[38;2;170;170;170m \u001b[0m│\u001b[38;2;255;85;85m \u001b[0m\u001b[38;2;255;85;85m0       \u001b[0m\u001b[38;2;255;85;85m \u001b[0m│\u001b[38;2;85;255;85m \u001b[0m\u001b[38;2;85;255;85m7h33m\u001b[0m\u001b[38;2;85;255;85m \u001b[0m│\n",
       "│\u001b[38;2;0;170;0m \u001b[0m\u001b[38;2;0;170;0mproxy-5ddd4b47c9-xhb2d               \u001b[0m\u001b[38;2;0;170;0m \u001b[0m│\u001b[38;2;0;170;170m \u001b[0m\u001b[38;2;0;170;170m1/1  \u001b[0m\u001b[38;2;0;170;170m \u001b[0m│\u001b[38;2;170;170;170m \u001b[0m\u001b[38;2;170;170;170mRunning          \u001b[0m\u001b[38;2;170;170;170m \u001b[0m│\u001b[38;2;255;85;85m \u001b[0m\u001b[38;2;255;85;85m0       \u001b[0m\u001b[38;2;255;85;85m \u001b[0m│\u001b[38;2;85;255;85m \u001b[0m\u001b[38;2;85;255;85m43h  \u001b[0m\u001b[38;2;85;255;85m \u001b[0m│\n",
       "└───────────────────────────────────────┴───────┴───────────────────┴──────────┴───────┘\n"
      ]
     },
     "metadata": {},
     "output_type": "display_data"
    },
    {
     "data": {
      "text/html": [
       "<pre style=\"white-space:pre;overflow-x:auto;line-height:normal;font-family:Menlo,'DejaVu Sans Mono',consolas,'Courier New',monospace\">elapsed: <span style=\"color: #008080; text-decoration-color: #008080; font-weight: bold\">6.31</span> seconds\n",
       "</pre>\n"
      ],
      "text/plain": [
       "elapsed: \u001b[1;36m6.31\u001b[0m seconds\n"
      ]
     },
     "metadata": {},
     "output_type": "display_data"
    },
    {
     "data": {
      "text/html": [
       "<pre style=\"white-space:pre;overflow-x:auto;line-height:normal;font-family:Menlo,'DejaVu Sans Mono',consolas,'Courier New',monospace\">┏━━━━━━━━━━━━━━━━━━━━━━━━━━━━━━━━━━━━━━━┳━━━━━━━┳━━━━━━━━━━━━━━━━━━━┳━━━━━━━━━━┳━━━━━━━┓\n",
       "┃<span style=\"font-weight: bold\"> NAME                                  </span>┃<span style=\"font-weight: bold\"> READY </span>┃<span style=\"font-weight: bold\"> STATUS            </span>┃<span style=\"font-weight: bold\"> RESTARTS </span>┃<span style=\"font-weight: bold\"> AGE   </span>┃\n",
       "┡━━━━━━━━━━━━━━━━━━━━━━━━━━━━━━━━━━━━━━━╇━━━━━━━╇━━━━━━━━━━━━━━━━━━━╇━━━━━━━━━━╇━━━━━━━┩\n",
       "│<span style=\"color: #00aa00; text-decoration-color: #00aa00\"> ata-pod                               </span>│<span style=\"color: #00aaaa; text-decoration-color: #00aaaa\"> 0/1   </span>│<span style=\"color: #aaaaaa; text-decoration-color: #aaaaaa\"> ContainerCreating </span>│<span style=\"color: #ff5555; text-decoration-color: #ff5555\"> 0        </span>│<span style=\"color: #55ff55; text-decoration-color: #55ff55\"> 94m   </span>│\n",
       "│<span style=\"color: #00aa00; text-decoration-color: #00aa00\"> gpu-pod-xmkqv                         </span>│<span style=\"color: #00aaaa; text-decoration-color: #00aaaa\"> 0/1   </span>│<span style=\"color: #aaaaaa; text-decoration-color: #aaaaaa\"> ContainerCreating </span>│<span style=\"color: #ff5555; text-decoration-color: #ff5555\"> 0        </span>│<span style=\"color: #55ff55; text-decoration-color: #55ff55\"> 53s   </span>│\n",
       "│<span style=\"color: #00aa00; text-decoration-color: #00aa00\"> hub-859c877b85-fzfrj                  </span>│<span style=\"color: #00aaaa; text-decoration-color: #00aaaa\"> 1/1   </span>│<span style=\"color: #aaaaaa; text-decoration-color: #aaaaaa\"> Running           </span>│<span style=\"color: #ff5555; text-decoration-color: #ff5555\"> 0        </span>│<span style=\"color: #55ff55; text-decoration-color: #55ff55\"> 5d    </span>│\n",
       "│<span style=\"color: #00aa00; text-decoration-color: #00aa00\"> jupyter-ataaakbari-40googlemail-2ecom </span>│<span style=\"color: #00aaaa; text-decoration-color: #00aaaa\"> 1/1   </span>│<span style=\"color: #aaaaaa; text-decoration-color: #aaaaaa\"> Running           </span>│<span style=\"color: #ff5555; text-decoration-color: #ff5555\"> 0        </span>│<span style=\"color: #55ff55; text-decoration-color: #55ff55\"> 56m   </span>│\n",
       "│<span style=\"color: #00aa00; text-decoration-color: #00aa00\"> jupyter-fawudarski-40gmail-2ecom      </span>│<span style=\"color: #00aaaa; text-decoration-color: #00aaaa\"> 1/1   </span>│<span style=\"color: #aaaaaa; text-decoration-color: #aaaaaa\"> Running           </span>│<span style=\"color: #ff5555; text-decoration-color: #ff5555\"> 0        </span>│<span style=\"color: #55ff55; text-decoration-color: #55ff55\"> 7h34m </span>│\n",
       "│<span style=\"color: #00aa00; text-decoration-color: #00aa00\"> proxy-5ddd4b47c9-xhb2d                </span>│<span style=\"color: #00aaaa; text-decoration-color: #00aaaa\"> 1/1   </span>│<span style=\"color: #aaaaaa; text-decoration-color: #aaaaaa\"> Running           </span>│<span style=\"color: #ff5555; text-decoration-color: #ff5555\"> 0        </span>│<span style=\"color: #55ff55; text-decoration-color: #55ff55\"> 43h   </span>│\n",
       "└───────────────────────────────────────┴───────┴───────────────────┴──────────┴───────┘\n",
       "</pre>\n"
      ],
      "text/plain": [
       "┏━━━━━━━━━━━━━━━━━━━━━━━━━━━━━━━━━━━━━━━┳━━━━━━━┳━━━━━━━━━━━━━━━━━━━┳━━━━━━━━━━┳━━━━━━━┓\n",
       "┃\u001b[1m \u001b[0m\u001b[1mNAME                                 \u001b[0m\u001b[1m \u001b[0m┃\u001b[1m \u001b[0m\u001b[1mREADY\u001b[0m\u001b[1m \u001b[0m┃\u001b[1m \u001b[0m\u001b[1mSTATUS           \u001b[0m\u001b[1m \u001b[0m┃\u001b[1m \u001b[0m\u001b[1mRESTARTS\u001b[0m\u001b[1m \u001b[0m┃\u001b[1m \u001b[0m\u001b[1mAGE  \u001b[0m\u001b[1m \u001b[0m┃\n",
       "┡━━━━━━━━━━━━━━━━━━━━━━━━━━━━━━━━━━━━━━━╇━━━━━━━╇━━━━━━━━━━━━━━━━━━━╇━━━━━━━━━━╇━━━━━━━┩\n",
       "│\u001b[38;2;0;170;0m \u001b[0m\u001b[38;2;0;170;0mata-pod                              \u001b[0m\u001b[38;2;0;170;0m \u001b[0m│\u001b[38;2;0;170;170m \u001b[0m\u001b[38;2;0;170;170m0/1  \u001b[0m\u001b[38;2;0;170;170m \u001b[0m│\u001b[38;2;170;170;170m \u001b[0m\u001b[38;2;170;170;170mContainerCreating\u001b[0m\u001b[38;2;170;170;170m \u001b[0m│\u001b[38;2;255;85;85m \u001b[0m\u001b[38;2;255;85;85m0       \u001b[0m\u001b[38;2;255;85;85m \u001b[0m│\u001b[38;2;85;255;85m \u001b[0m\u001b[38;2;85;255;85m94m  \u001b[0m\u001b[38;2;85;255;85m \u001b[0m│\n",
       "│\u001b[38;2;0;170;0m \u001b[0m\u001b[38;2;0;170;0mgpu-pod-xmkqv                        \u001b[0m\u001b[38;2;0;170;0m \u001b[0m│\u001b[38;2;0;170;170m \u001b[0m\u001b[38;2;0;170;170m0/1  \u001b[0m\u001b[38;2;0;170;170m \u001b[0m│\u001b[38;2;170;170;170m \u001b[0m\u001b[38;2;170;170;170mContainerCreating\u001b[0m\u001b[38;2;170;170;170m \u001b[0m│\u001b[38;2;255;85;85m \u001b[0m\u001b[38;2;255;85;85m0       \u001b[0m\u001b[38;2;255;85;85m \u001b[0m│\u001b[38;2;85;255;85m \u001b[0m\u001b[38;2;85;255;85m53s  \u001b[0m\u001b[38;2;85;255;85m \u001b[0m│\n",
       "│\u001b[38;2;0;170;0m \u001b[0m\u001b[38;2;0;170;0mhub-859c877b85-fzfrj                 \u001b[0m\u001b[38;2;0;170;0m \u001b[0m│\u001b[38;2;0;170;170m \u001b[0m\u001b[38;2;0;170;170m1/1  \u001b[0m\u001b[38;2;0;170;170m \u001b[0m│\u001b[38;2;170;170;170m \u001b[0m\u001b[38;2;170;170;170mRunning          \u001b[0m\u001b[38;2;170;170;170m \u001b[0m│\u001b[38;2;255;85;85m \u001b[0m\u001b[38;2;255;85;85m0       \u001b[0m\u001b[38;2;255;85;85m \u001b[0m│\u001b[38;2;85;255;85m \u001b[0m\u001b[38;2;85;255;85m5d   \u001b[0m\u001b[38;2;85;255;85m \u001b[0m│\n",
       "│\u001b[38;2;0;170;0m \u001b[0m\u001b[38;2;0;170;0mjupyter-ataaakbari-40googlemail-2ecom\u001b[0m\u001b[38;2;0;170;0m \u001b[0m│\u001b[38;2;0;170;170m \u001b[0m\u001b[38;2;0;170;170m1/1  \u001b[0m\u001b[38;2;0;170;170m \u001b[0m│\u001b[38;2;170;170;170m \u001b[0m\u001b[38;2;170;170;170mRunning          \u001b[0m\u001b[38;2;170;170;170m \u001b[0m│\u001b[38;2;255;85;85m \u001b[0m\u001b[38;2;255;85;85m0       \u001b[0m\u001b[38;2;255;85;85m \u001b[0m│\u001b[38;2;85;255;85m \u001b[0m\u001b[38;2;85;255;85m56m  \u001b[0m\u001b[38;2;85;255;85m \u001b[0m│\n",
       "│\u001b[38;2;0;170;0m \u001b[0m\u001b[38;2;0;170;0mjupyter-fawudarski-40gmail-2ecom     \u001b[0m\u001b[38;2;0;170;0m \u001b[0m│\u001b[38;2;0;170;170m \u001b[0m\u001b[38;2;0;170;170m1/1  \u001b[0m\u001b[38;2;0;170;170m \u001b[0m│\u001b[38;2;170;170;170m \u001b[0m\u001b[38;2;170;170;170mRunning          \u001b[0m\u001b[38;2;170;170;170m \u001b[0m│\u001b[38;2;255;85;85m \u001b[0m\u001b[38;2;255;85;85m0       \u001b[0m\u001b[38;2;255;85;85m \u001b[0m│\u001b[38;2;85;255;85m \u001b[0m\u001b[38;2;85;255;85m7h34m\u001b[0m\u001b[38;2;85;255;85m \u001b[0m│\n",
       "│\u001b[38;2;0;170;0m \u001b[0m\u001b[38;2;0;170;0mproxy-5ddd4b47c9-xhb2d               \u001b[0m\u001b[38;2;0;170;0m \u001b[0m│\u001b[38;2;0;170;170m \u001b[0m\u001b[38;2;0;170;170m1/1  \u001b[0m\u001b[38;2;0;170;170m \u001b[0m│\u001b[38;2;170;170;170m \u001b[0m\u001b[38;2;170;170;170mRunning          \u001b[0m\u001b[38;2;170;170;170m \u001b[0m│\u001b[38;2;255;85;85m \u001b[0m\u001b[38;2;255;85;85m0       \u001b[0m\u001b[38;2;255;85;85m \u001b[0m│\u001b[38;2;85;255;85m \u001b[0m\u001b[38;2;85;255;85m43h  \u001b[0m\u001b[38;2;85;255;85m \u001b[0m│\n",
       "└───────────────────────────────────────┴───────┴───────────────────┴──────────┴───────┘\n"
      ]
     },
     "metadata": {},
     "output_type": "display_data"
    },
    {
     "data": {
      "text/html": [
       "<pre style=\"white-space:pre;overflow-x:auto;line-height:normal;font-family:Menlo,'DejaVu Sans Mono',consolas,'Courier New',monospace\">elapsed: <span style=\"color: #008080; text-decoration-color: #008080; font-weight: bold\">6.32</span> seconds\n",
       "</pre>\n"
      ],
      "text/plain": [
       "elapsed: \u001b[1;36m6.32\u001b[0m seconds\n"
      ]
     },
     "metadata": {},
     "output_type": "display_data"
    },
    {
     "data": {
      "text/html": [
       "<pre style=\"white-space:pre;overflow-x:auto;line-height:normal;font-family:Menlo,'DejaVu Sans Mono',consolas,'Courier New',monospace\">┏━━━━━━━━━━━━━━━━━━━━━━━━━━━━━━━━━━━━━━━┳━━━━━━━┳━━━━━━━━━━━━━━━━━━━┳━━━━━━━━━━┳━━━━━━━┓\n",
       "┃<span style=\"font-weight: bold\"> NAME                                  </span>┃<span style=\"font-weight: bold\"> READY </span>┃<span style=\"font-weight: bold\"> STATUS            </span>┃<span style=\"font-weight: bold\"> RESTARTS </span>┃<span style=\"font-weight: bold\"> AGE   </span>┃\n",
       "┡━━━━━━━━━━━━━━━━━━━━━━━━━━━━━━━━━━━━━━━╇━━━━━━━╇━━━━━━━━━━━━━━━━━━━╇━━━━━━━━━━╇━━━━━━━┩\n",
       "│<span style=\"color: #00aa00; text-decoration-color: #00aa00\"> ata-pod                               </span>│<span style=\"color: #00aaaa; text-decoration-color: #00aaaa\"> 0/1   </span>│<span style=\"color: #aaaaaa; text-decoration-color: #aaaaaa\"> ContainerCreating </span>│<span style=\"color: #ff5555; text-decoration-color: #ff5555\"> 0        </span>│<span style=\"color: #55ff55; text-decoration-color: #55ff55\"> 94m   </span>│\n",
       "│<span style=\"color: #00aa00; text-decoration-color: #00aa00\"> gpu-pod-xmkqv                         </span>│<span style=\"color: #00aaaa; text-decoration-color: #00aaaa\"> 0/1   </span>│<span style=\"color: #aaaaaa; text-decoration-color: #aaaaaa\"> ContainerCreating </span>│<span style=\"color: #ff5555; text-decoration-color: #ff5555\"> 0        </span>│<span style=\"color: #55ff55; text-decoration-color: #55ff55\"> 59s   </span>│\n",
       "│<span style=\"color: #00aa00; text-decoration-color: #00aa00\"> hub-859c877b85-fzfrj                  </span>│<span style=\"color: #00aaaa; text-decoration-color: #00aaaa\"> 1/1   </span>│<span style=\"color: #aaaaaa; text-decoration-color: #aaaaaa\"> Running           </span>│<span style=\"color: #ff5555; text-decoration-color: #ff5555\"> 0        </span>│<span style=\"color: #55ff55; text-decoration-color: #55ff55\"> 5d    </span>│\n",
       "│<span style=\"color: #00aa00; text-decoration-color: #00aa00\"> jupyter-ataaakbari-40googlemail-2ecom </span>│<span style=\"color: #00aaaa; text-decoration-color: #00aaaa\"> 1/1   </span>│<span style=\"color: #aaaaaa; text-decoration-color: #aaaaaa\"> Running           </span>│<span style=\"color: #ff5555; text-decoration-color: #ff5555\"> 0        </span>│<span style=\"color: #55ff55; text-decoration-color: #55ff55\"> 56m   </span>│\n",
       "│<span style=\"color: #00aa00; text-decoration-color: #00aa00\"> jupyter-fawudarski-40gmail-2ecom      </span>│<span style=\"color: #00aaaa; text-decoration-color: #00aaaa\"> 1/1   </span>│<span style=\"color: #aaaaaa; text-decoration-color: #aaaaaa\"> Running           </span>│<span style=\"color: #ff5555; text-decoration-color: #ff5555\"> 0        </span>│<span style=\"color: #55ff55; text-decoration-color: #55ff55\"> 7h34m </span>│\n",
       "│<span style=\"color: #00aa00; text-decoration-color: #00aa00\"> proxy-5ddd4b47c9-xhb2d                </span>│<span style=\"color: #00aaaa; text-decoration-color: #00aaaa\"> 1/1   </span>│<span style=\"color: #aaaaaa; text-decoration-color: #aaaaaa\"> Running           </span>│<span style=\"color: #ff5555; text-decoration-color: #ff5555\"> 0        </span>│<span style=\"color: #55ff55; text-decoration-color: #55ff55\"> 43h   </span>│\n",
       "└───────────────────────────────────────┴───────┴───────────────────┴──────────┴───────┘\n",
       "</pre>\n"
      ],
      "text/plain": [
       "┏━━━━━━━━━━━━━━━━━━━━━━━━━━━━━━━━━━━━━━━┳━━━━━━━┳━━━━━━━━━━━━━━━━━━━┳━━━━━━━━━━┳━━━━━━━┓\n",
       "┃\u001b[1m \u001b[0m\u001b[1mNAME                                 \u001b[0m\u001b[1m \u001b[0m┃\u001b[1m \u001b[0m\u001b[1mREADY\u001b[0m\u001b[1m \u001b[0m┃\u001b[1m \u001b[0m\u001b[1mSTATUS           \u001b[0m\u001b[1m \u001b[0m┃\u001b[1m \u001b[0m\u001b[1mRESTARTS\u001b[0m\u001b[1m \u001b[0m┃\u001b[1m \u001b[0m\u001b[1mAGE  \u001b[0m\u001b[1m \u001b[0m┃\n",
       "┡━━━━━━━━━━━━━━━━━━━━━━━━━━━━━━━━━━━━━━━╇━━━━━━━╇━━━━━━━━━━━━━━━━━━━╇━━━━━━━━━━╇━━━━━━━┩\n",
       "│\u001b[38;2;0;170;0m \u001b[0m\u001b[38;2;0;170;0mata-pod                              \u001b[0m\u001b[38;2;0;170;0m \u001b[0m│\u001b[38;2;0;170;170m \u001b[0m\u001b[38;2;0;170;170m0/1  \u001b[0m\u001b[38;2;0;170;170m \u001b[0m│\u001b[38;2;170;170;170m \u001b[0m\u001b[38;2;170;170;170mContainerCreating\u001b[0m\u001b[38;2;170;170;170m \u001b[0m│\u001b[38;2;255;85;85m \u001b[0m\u001b[38;2;255;85;85m0       \u001b[0m\u001b[38;2;255;85;85m \u001b[0m│\u001b[38;2;85;255;85m \u001b[0m\u001b[38;2;85;255;85m94m  \u001b[0m\u001b[38;2;85;255;85m \u001b[0m│\n",
       "│\u001b[38;2;0;170;0m \u001b[0m\u001b[38;2;0;170;0mgpu-pod-xmkqv                        \u001b[0m\u001b[38;2;0;170;0m \u001b[0m│\u001b[38;2;0;170;170m \u001b[0m\u001b[38;2;0;170;170m0/1  \u001b[0m\u001b[38;2;0;170;170m \u001b[0m│\u001b[38;2;170;170;170m \u001b[0m\u001b[38;2;170;170;170mContainerCreating\u001b[0m\u001b[38;2;170;170;170m \u001b[0m│\u001b[38;2;255;85;85m \u001b[0m\u001b[38;2;255;85;85m0       \u001b[0m\u001b[38;2;255;85;85m \u001b[0m│\u001b[38;2;85;255;85m \u001b[0m\u001b[38;2;85;255;85m59s  \u001b[0m\u001b[38;2;85;255;85m \u001b[0m│\n",
       "│\u001b[38;2;0;170;0m \u001b[0m\u001b[38;2;0;170;0mhub-859c877b85-fzfrj                 \u001b[0m\u001b[38;2;0;170;0m \u001b[0m│\u001b[38;2;0;170;170m \u001b[0m\u001b[38;2;0;170;170m1/1  \u001b[0m\u001b[38;2;0;170;170m \u001b[0m│\u001b[38;2;170;170;170m \u001b[0m\u001b[38;2;170;170;170mRunning          \u001b[0m\u001b[38;2;170;170;170m \u001b[0m│\u001b[38;2;255;85;85m \u001b[0m\u001b[38;2;255;85;85m0       \u001b[0m\u001b[38;2;255;85;85m \u001b[0m│\u001b[38;2;85;255;85m \u001b[0m\u001b[38;2;85;255;85m5d   \u001b[0m\u001b[38;2;85;255;85m \u001b[0m│\n",
       "│\u001b[38;2;0;170;0m \u001b[0m\u001b[38;2;0;170;0mjupyter-ataaakbari-40googlemail-2ecom\u001b[0m\u001b[38;2;0;170;0m \u001b[0m│\u001b[38;2;0;170;170m \u001b[0m\u001b[38;2;0;170;170m1/1  \u001b[0m\u001b[38;2;0;170;170m \u001b[0m│\u001b[38;2;170;170;170m \u001b[0m\u001b[38;2;170;170;170mRunning          \u001b[0m\u001b[38;2;170;170;170m \u001b[0m│\u001b[38;2;255;85;85m \u001b[0m\u001b[38;2;255;85;85m0       \u001b[0m\u001b[38;2;255;85;85m \u001b[0m│\u001b[38;2;85;255;85m \u001b[0m\u001b[38;2;85;255;85m56m  \u001b[0m\u001b[38;2;85;255;85m \u001b[0m│\n",
       "│\u001b[38;2;0;170;0m \u001b[0m\u001b[38;2;0;170;0mjupyter-fawudarski-40gmail-2ecom     \u001b[0m\u001b[38;2;0;170;0m \u001b[0m│\u001b[38;2;0;170;170m \u001b[0m\u001b[38;2;0;170;170m1/1  \u001b[0m\u001b[38;2;0;170;170m \u001b[0m│\u001b[38;2;170;170;170m \u001b[0m\u001b[38;2;170;170;170mRunning          \u001b[0m\u001b[38;2;170;170;170m \u001b[0m│\u001b[38;2;255;85;85m \u001b[0m\u001b[38;2;255;85;85m0       \u001b[0m\u001b[38;2;255;85;85m \u001b[0m│\u001b[38;2;85;255;85m \u001b[0m\u001b[38;2;85;255;85m7h34m\u001b[0m\u001b[38;2;85;255;85m \u001b[0m│\n",
       "│\u001b[38;2;0;170;0m \u001b[0m\u001b[38;2;0;170;0mproxy-5ddd4b47c9-xhb2d               \u001b[0m\u001b[38;2;0;170;0m \u001b[0m│\u001b[38;2;0;170;170m \u001b[0m\u001b[38;2;0;170;170m1/1  \u001b[0m\u001b[38;2;0;170;170m \u001b[0m│\u001b[38;2;170;170;170m \u001b[0m\u001b[38;2;170;170;170mRunning          \u001b[0m\u001b[38;2;170;170;170m \u001b[0m│\u001b[38;2;255;85;85m \u001b[0m\u001b[38;2;255;85;85m0       \u001b[0m\u001b[38;2;255;85;85m \u001b[0m│\u001b[38;2;85;255;85m \u001b[0m\u001b[38;2;85;255;85m43h  \u001b[0m\u001b[38;2;85;255;85m \u001b[0m│\n",
       "└───────────────────────────────────────┴───────┴───────────────────┴──────────┴───────┘\n"
      ]
     },
     "metadata": {},
     "output_type": "display_data"
    },
    {
     "data": {
      "text/html": [
       "<pre style=\"white-space:pre;overflow-x:auto;line-height:normal;font-family:Menlo,'DejaVu Sans Mono',consolas,'Courier New',monospace\">elapsed: <span style=\"color: #008080; text-decoration-color: #008080; font-weight: bold\">6.30</span> seconds\n",
       "</pre>\n"
      ],
      "text/plain": [
       "elapsed: \u001b[1;36m6.30\u001b[0m seconds\n"
      ]
     },
     "metadata": {},
     "output_type": "display_data"
    },
    {
     "data": {
      "text/html": [
       "<pre style=\"white-space:pre;overflow-x:auto;line-height:normal;font-family:Menlo,'DejaVu Sans Mono',consolas,'Courier New',monospace\">┏━━━━━━━━━━━━━━━━━━━━━━━━━━━━━━━━━━━━━━━┳━━━━━━━┳━━━━━━━━━━━━━━━━━━━┳━━━━━━━━━━┳━━━━━━━┓\n",
       "┃<span style=\"font-weight: bold\"> NAME                                  </span>┃<span style=\"font-weight: bold\"> READY </span>┃<span style=\"font-weight: bold\"> STATUS            </span>┃<span style=\"font-weight: bold\"> RESTARTS </span>┃<span style=\"font-weight: bold\"> AGE   </span>┃\n",
       "┡━━━━━━━━━━━━━━━━━━━━━━━━━━━━━━━━━━━━━━━╇━━━━━━━╇━━━━━━━━━━━━━━━━━━━╇━━━━━━━━━━╇━━━━━━━┩\n",
       "│<span style=\"color: #00aa00; text-decoration-color: #00aa00\"> ata-pod                               </span>│<span style=\"color: #00aaaa; text-decoration-color: #00aaaa\"> 0/1   </span>│<span style=\"color: #aaaaaa; text-decoration-color: #aaaaaa\"> ContainerCreating </span>│<span style=\"color: #ff5555; text-decoration-color: #ff5555\"> 0        </span>│<span style=\"color: #55ff55; text-decoration-color: #55ff55\"> 94m   </span>│\n",
       "│<span style=\"color: #00aa00; text-decoration-color: #00aa00\"> gpu-pod-xmkqv                         </span>│<span style=\"color: #00aaaa; text-decoration-color: #00aaaa\"> 0/1   </span>│<span style=\"color: #aaaaaa; text-decoration-color: #aaaaaa\"> ContainerCreating </span>│<span style=\"color: #ff5555; text-decoration-color: #ff5555\"> 0        </span>│<span style=\"color: #55ff55; text-decoration-color: #55ff55\"> 65s   </span>│\n",
       "│<span style=\"color: #00aa00; text-decoration-color: #00aa00\"> hub-859c877b85-fzfrj                  </span>│<span style=\"color: #00aaaa; text-decoration-color: #00aaaa\"> 1/1   </span>│<span style=\"color: #aaaaaa; text-decoration-color: #aaaaaa\"> Running           </span>│<span style=\"color: #ff5555; text-decoration-color: #ff5555\"> 0        </span>│<span style=\"color: #55ff55; text-decoration-color: #55ff55\"> 5d    </span>│\n",
       "│<span style=\"color: #00aa00; text-decoration-color: #00aa00\"> jupyter-ataaakbari-40googlemail-2ecom </span>│<span style=\"color: #00aaaa; text-decoration-color: #00aaaa\"> 1/1   </span>│<span style=\"color: #aaaaaa; text-decoration-color: #aaaaaa\"> Running           </span>│<span style=\"color: #ff5555; text-decoration-color: #ff5555\"> 0        </span>│<span style=\"color: #55ff55; text-decoration-color: #55ff55\"> 56m   </span>│\n",
       "│<span style=\"color: #00aa00; text-decoration-color: #00aa00\"> jupyter-fawudarski-40gmail-2ecom      </span>│<span style=\"color: #00aaaa; text-decoration-color: #00aaaa\"> 1/1   </span>│<span style=\"color: #aaaaaa; text-decoration-color: #aaaaaa\"> Running           </span>│<span style=\"color: #ff5555; text-decoration-color: #ff5555\"> 0        </span>│<span style=\"color: #55ff55; text-decoration-color: #55ff55\"> 7h34m </span>│\n",
       "│<span style=\"color: #00aa00; text-decoration-color: #00aa00\"> proxy-5ddd4b47c9-xhb2d                </span>│<span style=\"color: #00aaaa; text-decoration-color: #00aaaa\"> 1/1   </span>│<span style=\"color: #aaaaaa; text-decoration-color: #aaaaaa\"> Running           </span>│<span style=\"color: #ff5555; text-decoration-color: #ff5555\"> 0        </span>│<span style=\"color: #55ff55; text-decoration-color: #55ff55\"> 43h   </span>│\n",
       "└───────────────────────────────────────┴───────┴───────────────────┴──────────┴───────┘\n",
       "</pre>\n"
      ],
      "text/plain": [
       "┏━━━━━━━━━━━━━━━━━━━━━━━━━━━━━━━━━━━━━━━┳━━━━━━━┳━━━━━━━━━━━━━━━━━━━┳━━━━━━━━━━┳━━━━━━━┓\n",
       "┃\u001b[1m \u001b[0m\u001b[1mNAME                                 \u001b[0m\u001b[1m \u001b[0m┃\u001b[1m \u001b[0m\u001b[1mREADY\u001b[0m\u001b[1m \u001b[0m┃\u001b[1m \u001b[0m\u001b[1mSTATUS           \u001b[0m\u001b[1m \u001b[0m┃\u001b[1m \u001b[0m\u001b[1mRESTARTS\u001b[0m\u001b[1m \u001b[0m┃\u001b[1m \u001b[0m\u001b[1mAGE  \u001b[0m\u001b[1m \u001b[0m┃\n",
       "┡━━━━━━━━━━━━━━━━━━━━━━━━━━━━━━━━━━━━━━━╇━━━━━━━╇━━━━━━━━━━━━━━━━━━━╇━━━━━━━━━━╇━━━━━━━┩\n",
       "│\u001b[38;2;0;170;0m \u001b[0m\u001b[38;2;0;170;0mata-pod                              \u001b[0m\u001b[38;2;0;170;0m \u001b[0m│\u001b[38;2;0;170;170m \u001b[0m\u001b[38;2;0;170;170m0/1  \u001b[0m\u001b[38;2;0;170;170m \u001b[0m│\u001b[38;2;170;170;170m \u001b[0m\u001b[38;2;170;170;170mContainerCreating\u001b[0m\u001b[38;2;170;170;170m \u001b[0m│\u001b[38;2;255;85;85m \u001b[0m\u001b[38;2;255;85;85m0       \u001b[0m\u001b[38;2;255;85;85m \u001b[0m│\u001b[38;2;85;255;85m \u001b[0m\u001b[38;2;85;255;85m94m  \u001b[0m\u001b[38;2;85;255;85m \u001b[0m│\n",
       "│\u001b[38;2;0;170;0m \u001b[0m\u001b[38;2;0;170;0mgpu-pod-xmkqv                        \u001b[0m\u001b[38;2;0;170;0m \u001b[0m│\u001b[38;2;0;170;170m \u001b[0m\u001b[38;2;0;170;170m0/1  \u001b[0m\u001b[38;2;0;170;170m \u001b[0m│\u001b[38;2;170;170;170m \u001b[0m\u001b[38;2;170;170;170mContainerCreating\u001b[0m\u001b[38;2;170;170;170m \u001b[0m│\u001b[38;2;255;85;85m \u001b[0m\u001b[38;2;255;85;85m0       \u001b[0m\u001b[38;2;255;85;85m \u001b[0m│\u001b[38;2;85;255;85m \u001b[0m\u001b[38;2;85;255;85m65s  \u001b[0m\u001b[38;2;85;255;85m \u001b[0m│\n",
       "│\u001b[38;2;0;170;0m \u001b[0m\u001b[38;2;0;170;0mhub-859c877b85-fzfrj                 \u001b[0m\u001b[38;2;0;170;0m \u001b[0m│\u001b[38;2;0;170;170m \u001b[0m\u001b[38;2;0;170;170m1/1  \u001b[0m\u001b[38;2;0;170;170m \u001b[0m│\u001b[38;2;170;170;170m \u001b[0m\u001b[38;2;170;170;170mRunning          \u001b[0m\u001b[38;2;170;170;170m \u001b[0m│\u001b[38;2;255;85;85m \u001b[0m\u001b[38;2;255;85;85m0       \u001b[0m\u001b[38;2;255;85;85m \u001b[0m│\u001b[38;2;85;255;85m \u001b[0m\u001b[38;2;85;255;85m5d   \u001b[0m\u001b[38;2;85;255;85m \u001b[0m│\n",
       "│\u001b[38;2;0;170;0m \u001b[0m\u001b[38;2;0;170;0mjupyter-ataaakbari-40googlemail-2ecom\u001b[0m\u001b[38;2;0;170;0m \u001b[0m│\u001b[38;2;0;170;170m \u001b[0m\u001b[38;2;0;170;170m1/1  \u001b[0m\u001b[38;2;0;170;170m \u001b[0m│\u001b[38;2;170;170;170m \u001b[0m\u001b[38;2;170;170;170mRunning          \u001b[0m\u001b[38;2;170;170;170m \u001b[0m│\u001b[38;2;255;85;85m \u001b[0m\u001b[38;2;255;85;85m0       \u001b[0m\u001b[38;2;255;85;85m \u001b[0m│\u001b[38;2;85;255;85m \u001b[0m\u001b[38;2;85;255;85m56m  \u001b[0m\u001b[38;2;85;255;85m \u001b[0m│\n",
       "│\u001b[38;2;0;170;0m \u001b[0m\u001b[38;2;0;170;0mjupyter-fawudarski-40gmail-2ecom     \u001b[0m\u001b[38;2;0;170;0m \u001b[0m│\u001b[38;2;0;170;170m \u001b[0m\u001b[38;2;0;170;170m1/1  \u001b[0m\u001b[38;2;0;170;170m \u001b[0m│\u001b[38;2;170;170;170m \u001b[0m\u001b[38;2;170;170;170mRunning          \u001b[0m\u001b[38;2;170;170;170m \u001b[0m│\u001b[38;2;255;85;85m \u001b[0m\u001b[38;2;255;85;85m0       \u001b[0m\u001b[38;2;255;85;85m \u001b[0m│\u001b[38;2;85;255;85m \u001b[0m\u001b[38;2;85;255;85m7h34m\u001b[0m\u001b[38;2;85;255;85m \u001b[0m│\n",
       "│\u001b[38;2;0;170;0m \u001b[0m\u001b[38;2;0;170;0mproxy-5ddd4b47c9-xhb2d               \u001b[0m\u001b[38;2;0;170;0m \u001b[0m│\u001b[38;2;0;170;170m \u001b[0m\u001b[38;2;0;170;170m1/1  \u001b[0m\u001b[38;2;0;170;170m \u001b[0m│\u001b[38;2;170;170;170m \u001b[0m\u001b[38;2;170;170;170mRunning          \u001b[0m\u001b[38;2;170;170;170m \u001b[0m│\u001b[38;2;255;85;85m \u001b[0m\u001b[38;2;255;85;85m0       \u001b[0m\u001b[38;2;255;85;85m \u001b[0m│\u001b[38;2;85;255;85m \u001b[0m\u001b[38;2;85;255;85m43h  \u001b[0m\u001b[38;2;85;255;85m \u001b[0m│\n",
       "└───────────────────────────────────────┴───────┴───────────────────┴──────────┴───────┘\n"
      ]
     },
     "metadata": {},
     "output_type": "display_data"
    },
    {
     "data": {
      "text/html": [
       "<pre style=\"white-space:pre;overflow-x:auto;line-height:normal;font-family:Menlo,'DejaVu Sans Mono',consolas,'Courier New',monospace\">elapsed: <span style=\"color: #008080; text-decoration-color: #008080; font-weight: bold\">6.32</span> seconds\n",
       "</pre>\n"
      ],
      "text/plain": [
       "elapsed: \u001b[1;36m6.32\u001b[0m seconds\n"
      ]
     },
     "metadata": {},
     "output_type": "display_data"
    },
    {
     "data": {
      "text/html": [
       "<pre style=\"white-space:pre;overflow-x:auto;line-height:normal;font-family:Menlo,'DejaVu Sans Mono',consolas,'Courier New',monospace\">┏━━━━━━━━━━━━━━━━━━━━━━━━━━━━━━━━━━━━━━━┳━━━━━━━┳━━━━━━━━━━━━━━━━━━━┳━━━━━━━━━━┳━━━━━━━┓\n",
       "┃<span style=\"font-weight: bold\"> NAME                                  </span>┃<span style=\"font-weight: bold\"> READY </span>┃<span style=\"font-weight: bold\"> STATUS            </span>┃<span style=\"font-weight: bold\"> RESTARTS </span>┃<span style=\"font-weight: bold\"> AGE   </span>┃\n",
       "┡━━━━━━━━━━━━━━━━━━━━━━━━━━━━━━━━━━━━━━━╇━━━━━━━╇━━━━━━━━━━━━━━━━━━━╇━━━━━━━━━━╇━━━━━━━┩\n",
       "│<span style=\"color: #00aa00; text-decoration-color: #00aa00\"> ata-pod                               </span>│<span style=\"color: #00aaaa; text-decoration-color: #00aaaa\"> 0/1   </span>│<span style=\"color: #aaaaaa; text-decoration-color: #aaaaaa\"> ContainerCreating </span>│<span style=\"color: #ff5555; text-decoration-color: #ff5555\"> 0        </span>│<span style=\"color: #55ff55; text-decoration-color: #55ff55\"> 94m   </span>│\n",
       "│<span style=\"color: #00aa00; text-decoration-color: #00aa00\"> gpu-pod-xmkqv                         </span>│<span style=\"color: #00aaaa; text-decoration-color: #00aaaa\"> 0/1   </span>│<span style=\"color: #aaaaaa; text-decoration-color: #aaaaaa\"> ContainerCreating </span>│<span style=\"color: #ff5555; text-decoration-color: #ff5555\"> 0        </span>│<span style=\"color: #55ff55; text-decoration-color: #55ff55\"> 72s   </span>│\n",
       "│<span style=\"color: #00aa00; text-decoration-color: #00aa00\"> hub-859c877b85-fzfrj                  </span>│<span style=\"color: #00aaaa; text-decoration-color: #00aaaa\"> 1/1   </span>│<span style=\"color: #aaaaaa; text-decoration-color: #aaaaaa\"> Running           </span>│<span style=\"color: #ff5555; text-decoration-color: #ff5555\"> 0        </span>│<span style=\"color: #55ff55; text-decoration-color: #55ff55\"> 5d    </span>│\n",
       "│<span style=\"color: #00aa00; text-decoration-color: #00aa00\"> jupyter-ataaakbari-40googlemail-2ecom </span>│<span style=\"color: #00aaaa; text-decoration-color: #00aaaa\"> 1/1   </span>│<span style=\"color: #aaaaaa; text-decoration-color: #aaaaaa\"> Running           </span>│<span style=\"color: #ff5555; text-decoration-color: #ff5555\"> 0        </span>│<span style=\"color: #55ff55; text-decoration-color: #55ff55\"> 56m   </span>│\n",
       "│<span style=\"color: #00aa00; text-decoration-color: #00aa00\"> jupyter-fawudarski-40gmail-2ecom      </span>│<span style=\"color: #00aaaa; text-decoration-color: #00aaaa\"> 1/1   </span>│<span style=\"color: #aaaaaa; text-decoration-color: #aaaaaa\"> Running           </span>│<span style=\"color: #ff5555; text-decoration-color: #ff5555\"> 0        </span>│<span style=\"color: #55ff55; text-decoration-color: #55ff55\"> 7h34m </span>│\n",
       "│<span style=\"color: #00aa00; text-decoration-color: #00aa00\"> proxy-5ddd4b47c9-xhb2d                </span>│<span style=\"color: #00aaaa; text-decoration-color: #00aaaa\"> 1/1   </span>│<span style=\"color: #aaaaaa; text-decoration-color: #aaaaaa\"> Running           </span>│<span style=\"color: #ff5555; text-decoration-color: #ff5555\"> 0        </span>│<span style=\"color: #55ff55; text-decoration-color: #55ff55\"> 43h   </span>│\n",
       "└───────────────────────────────────────┴───────┴───────────────────┴──────────┴───────┘\n",
       "</pre>\n"
      ],
      "text/plain": [
       "┏━━━━━━━━━━━━━━━━━━━━━━━━━━━━━━━━━━━━━━━┳━━━━━━━┳━━━━━━━━━━━━━━━━━━━┳━━━━━━━━━━┳━━━━━━━┓\n",
       "┃\u001b[1m \u001b[0m\u001b[1mNAME                                 \u001b[0m\u001b[1m \u001b[0m┃\u001b[1m \u001b[0m\u001b[1mREADY\u001b[0m\u001b[1m \u001b[0m┃\u001b[1m \u001b[0m\u001b[1mSTATUS           \u001b[0m\u001b[1m \u001b[0m┃\u001b[1m \u001b[0m\u001b[1mRESTARTS\u001b[0m\u001b[1m \u001b[0m┃\u001b[1m \u001b[0m\u001b[1mAGE  \u001b[0m\u001b[1m \u001b[0m┃\n",
       "┡━━━━━━━━━━━━━━━━━━━━━━━━━━━━━━━━━━━━━━━╇━━━━━━━╇━━━━━━━━━━━━━━━━━━━╇━━━━━━━━━━╇━━━━━━━┩\n",
       "│\u001b[38;2;0;170;0m \u001b[0m\u001b[38;2;0;170;0mata-pod                              \u001b[0m\u001b[38;2;0;170;0m \u001b[0m│\u001b[38;2;0;170;170m \u001b[0m\u001b[38;2;0;170;170m0/1  \u001b[0m\u001b[38;2;0;170;170m \u001b[0m│\u001b[38;2;170;170;170m \u001b[0m\u001b[38;2;170;170;170mContainerCreating\u001b[0m\u001b[38;2;170;170;170m \u001b[0m│\u001b[38;2;255;85;85m \u001b[0m\u001b[38;2;255;85;85m0       \u001b[0m\u001b[38;2;255;85;85m \u001b[0m│\u001b[38;2;85;255;85m \u001b[0m\u001b[38;2;85;255;85m94m  \u001b[0m\u001b[38;2;85;255;85m \u001b[0m│\n",
       "│\u001b[38;2;0;170;0m \u001b[0m\u001b[38;2;0;170;0mgpu-pod-xmkqv                        \u001b[0m\u001b[38;2;0;170;0m \u001b[0m│\u001b[38;2;0;170;170m \u001b[0m\u001b[38;2;0;170;170m0/1  \u001b[0m\u001b[38;2;0;170;170m \u001b[0m│\u001b[38;2;170;170;170m \u001b[0m\u001b[38;2;170;170;170mContainerCreating\u001b[0m\u001b[38;2;170;170;170m \u001b[0m│\u001b[38;2;255;85;85m \u001b[0m\u001b[38;2;255;85;85m0       \u001b[0m\u001b[38;2;255;85;85m \u001b[0m│\u001b[38;2;85;255;85m \u001b[0m\u001b[38;2;85;255;85m72s  \u001b[0m\u001b[38;2;85;255;85m \u001b[0m│\n",
       "│\u001b[38;2;0;170;0m \u001b[0m\u001b[38;2;0;170;0mhub-859c877b85-fzfrj                 \u001b[0m\u001b[38;2;0;170;0m \u001b[0m│\u001b[38;2;0;170;170m \u001b[0m\u001b[38;2;0;170;170m1/1  \u001b[0m\u001b[38;2;0;170;170m \u001b[0m│\u001b[38;2;170;170;170m \u001b[0m\u001b[38;2;170;170;170mRunning          \u001b[0m\u001b[38;2;170;170;170m \u001b[0m│\u001b[38;2;255;85;85m \u001b[0m\u001b[38;2;255;85;85m0       \u001b[0m\u001b[38;2;255;85;85m \u001b[0m│\u001b[38;2;85;255;85m \u001b[0m\u001b[38;2;85;255;85m5d   \u001b[0m\u001b[38;2;85;255;85m \u001b[0m│\n",
       "│\u001b[38;2;0;170;0m \u001b[0m\u001b[38;2;0;170;0mjupyter-ataaakbari-40googlemail-2ecom\u001b[0m\u001b[38;2;0;170;0m \u001b[0m│\u001b[38;2;0;170;170m \u001b[0m\u001b[38;2;0;170;170m1/1  \u001b[0m\u001b[38;2;0;170;170m \u001b[0m│\u001b[38;2;170;170;170m \u001b[0m\u001b[38;2;170;170;170mRunning          \u001b[0m\u001b[38;2;170;170;170m \u001b[0m│\u001b[38;2;255;85;85m \u001b[0m\u001b[38;2;255;85;85m0       \u001b[0m\u001b[38;2;255;85;85m \u001b[0m│\u001b[38;2;85;255;85m \u001b[0m\u001b[38;2;85;255;85m56m  \u001b[0m\u001b[38;2;85;255;85m \u001b[0m│\n",
       "│\u001b[38;2;0;170;0m \u001b[0m\u001b[38;2;0;170;0mjupyter-fawudarski-40gmail-2ecom     \u001b[0m\u001b[38;2;0;170;0m \u001b[0m│\u001b[38;2;0;170;170m \u001b[0m\u001b[38;2;0;170;170m1/1  \u001b[0m\u001b[38;2;0;170;170m \u001b[0m│\u001b[38;2;170;170;170m \u001b[0m\u001b[38;2;170;170;170mRunning          \u001b[0m\u001b[38;2;170;170;170m \u001b[0m│\u001b[38;2;255;85;85m \u001b[0m\u001b[38;2;255;85;85m0       \u001b[0m\u001b[38;2;255;85;85m \u001b[0m│\u001b[38;2;85;255;85m \u001b[0m\u001b[38;2;85;255;85m7h34m\u001b[0m\u001b[38;2;85;255;85m \u001b[0m│\n",
       "│\u001b[38;2;0;170;0m \u001b[0m\u001b[38;2;0;170;0mproxy-5ddd4b47c9-xhb2d               \u001b[0m\u001b[38;2;0;170;0m \u001b[0m│\u001b[38;2;0;170;170m \u001b[0m\u001b[38;2;0;170;170m1/1  \u001b[0m\u001b[38;2;0;170;170m \u001b[0m│\u001b[38;2;170;170;170m \u001b[0m\u001b[38;2;170;170;170mRunning          \u001b[0m\u001b[38;2;170;170;170m \u001b[0m│\u001b[38;2;255;85;85m \u001b[0m\u001b[38;2;255;85;85m0       \u001b[0m\u001b[38;2;255;85;85m \u001b[0m│\u001b[38;2;85;255;85m \u001b[0m\u001b[38;2;85;255;85m43h  \u001b[0m\u001b[38;2;85;255;85m \u001b[0m│\n",
       "└───────────────────────────────────────┴───────┴───────────────────┴──────────┴───────┘\n"
      ]
     },
     "metadata": {},
     "output_type": "display_data"
    },
    {
     "data": {
      "text/html": [
       "<pre style=\"white-space:pre;overflow-x:auto;line-height:normal;font-family:Menlo,'DejaVu Sans Mono',consolas,'Courier New',monospace\">elapsed: <span style=\"color: #008080; text-decoration-color: #008080; font-weight: bold\">6.32</span> seconds\n",
       "</pre>\n"
      ],
      "text/plain": [
       "elapsed: \u001b[1;36m6.32\u001b[0m seconds\n"
      ]
     },
     "metadata": {},
     "output_type": "display_data"
    },
    {
     "data": {
      "text/html": [
       "<pre style=\"white-space:pre;overflow-x:auto;line-height:normal;font-family:Menlo,'DejaVu Sans Mono',consolas,'Courier New',monospace\">┏━━━━━━━━━━━━━━━━━━━━━━━━━━━━━━━━━━━━━━━┳━━━━━━━┳━━━━━━━━━━━━━━━━━━━┳━━━━━━━━━━┳━━━━━━━┓\n",
       "┃<span style=\"font-weight: bold\"> NAME                                  </span>┃<span style=\"font-weight: bold\"> READY </span>┃<span style=\"font-weight: bold\"> STATUS            </span>┃<span style=\"font-weight: bold\"> RESTARTS </span>┃<span style=\"font-weight: bold\"> AGE   </span>┃\n",
       "┡━━━━━━━━━━━━━━━━━━━━━━━━━━━━━━━━━━━━━━━╇━━━━━━━╇━━━━━━━━━━━━━━━━━━━╇━━━━━━━━━━╇━━━━━━━┩\n",
       "│<span style=\"color: #00aa00; text-decoration-color: #00aa00\"> ata-pod                               </span>│<span style=\"color: #00aaaa; text-decoration-color: #00aaaa\"> 0/1   </span>│<span style=\"color: #aaaaaa; text-decoration-color: #aaaaaa\"> ContainerCreating </span>│<span style=\"color: #ff5555; text-decoration-color: #ff5555\"> 0        </span>│<span style=\"color: #55ff55; text-decoration-color: #55ff55\"> 95m   </span>│\n",
       "│<span style=\"color: #00aa00; text-decoration-color: #00aa00\"> gpu-pod-xmkqv                         </span>│<span style=\"color: #00aaaa; text-decoration-color: #00aaaa\"> 0/1   </span>│<span style=\"color: #aaaaaa; text-decoration-color: #aaaaaa\"> ContainerCreating </span>│<span style=\"color: #ff5555; text-decoration-color: #ff5555\"> 0        </span>│<span style=\"color: #55ff55; text-decoration-color: #55ff55\"> 78s   </span>│\n",
       "│<span style=\"color: #00aa00; text-decoration-color: #00aa00\"> hub-859c877b85-fzfrj                  </span>│<span style=\"color: #00aaaa; text-decoration-color: #00aaaa\"> 1/1   </span>│<span style=\"color: #aaaaaa; text-decoration-color: #aaaaaa\"> Running           </span>│<span style=\"color: #ff5555; text-decoration-color: #ff5555\"> 0        </span>│<span style=\"color: #55ff55; text-decoration-color: #55ff55\"> 5d    </span>│\n",
       "│<span style=\"color: #00aa00; text-decoration-color: #00aa00\"> jupyter-ataaakbari-40googlemail-2ecom </span>│<span style=\"color: #00aaaa; text-decoration-color: #00aaaa\"> 1/1   </span>│<span style=\"color: #aaaaaa; text-decoration-color: #aaaaaa\"> Running           </span>│<span style=\"color: #ff5555; text-decoration-color: #ff5555\"> 0        </span>│<span style=\"color: #55ff55; text-decoration-color: #55ff55\"> 57m   </span>│\n",
       "│<span style=\"color: #00aa00; text-decoration-color: #00aa00\"> jupyter-fawudarski-40gmail-2ecom      </span>│<span style=\"color: #00aaaa; text-decoration-color: #00aaaa\"> 1/1   </span>│<span style=\"color: #aaaaaa; text-decoration-color: #aaaaaa\"> Running           </span>│<span style=\"color: #ff5555; text-decoration-color: #ff5555\"> 0        </span>│<span style=\"color: #55ff55; text-decoration-color: #55ff55\"> 7h34m </span>│\n",
       "│<span style=\"color: #00aa00; text-decoration-color: #00aa00\"> proxy-5ddd4b47c9-xhb2d                </span>│<span style=\"color: #00aaaa; text-decoration-color: #00aaaa\"> 1/1   </span>│<span style=\"color: #aaaaaa; text-decoration-color: #aaaaaa\"> Running           </span>│<span style=\"color: #ff5555; text-decoration-color: #ff5555\"> 0        </span>│<span style=\"color: #55ff55; text-decoration-color: #55ff55\"> 43h   </span>│\n",
       "└───────────────────────────────────────┴───────┴───────────────────┴──────────┴───────┘\n",
       "</pre>\n"
      ],
      "text/plain": [
       "┏━━━━━━━━━━━━━━━━━━━━━━━━━━━━━━━━━━━━━━━┳━━━━━━━┳━━━━━━━━━━━━━━━━━━━┳━━━━━━━━━━┳━━━━━━━┓\n",
       "┃\u001b[1m \u001b[0m\u001b[1mNAME                                 \u001b[0m\u001b[1m \u001b[0m┃\u001b[1m \u001b[0m\u001b[1mREADY\u001b[0m\u001b[1m \u001b[0m┃\u001b[1m \u001b[0m\u001b[1mSTATUS           \u001b[0m\u001b[1m \u001b[0m┃\u001b[1m \u001b[0m\u001b[1mRESTARTS\u001b[0m\u001b[1m \u001b[0m┃\u001b[1m \u001b[0m\u001b[1mAGE  \u001b[0m\u001b[1m \u001b[0m┃\n",
       "┡━━━━━━━━━━━━━━━━━━━━━━━━━━━━━━━━━━━━━━━╇━━━━━━━╇━━━━━━━━━━━━━━━━━━━╇━━━━━━━━━━╇━━━━━━━┩\n",
       "│\u001b[38;2;0;170;0m \u001b[0m\u001b[38;2;0;170;0mata-pod                              \u001b[0m\u001b[38;2;0;170;0m \u001b[0m│\u001b[38;2;0;170;170m \u001b[0m\u001b[38;2;0;170;170m0/1  \u001b[0m\u001b[38;2;0;170;170m \u001b[0m│\u001b[38;2;170;170;170m \u001b[0m\u001b[38;2;170;170;170mContainerCreating\u001b[0m\u001b[38;2;170;170;170m \u001b[0m│\u001b[38;2;255;85;85m \u001b[0m\u001b[38;2;255;85;85m0       \u001b[0m\u001b[38;2;255;85;85m \u001b[0m│\u001b[38;2;85;255;85m \u001b[0m\u001b[38;2;85;255;85m95m  \u001b[0m\u001b[38;2;85;255;85m \u001b[0m│\n",
       "│\u001b[38;2;0;170;0m \u001b[0m\u001b[38;2;0;170;0mgpu-pod-xmkqv                        \u001b[0m\u001b[38;2;0;170;0m \u001b[0m│\u001b[38;2;0;170;170m \u001b[0m\u001b[38;2;0;170;170m0/1  \u001b[0m\u001b[38;2;0;170;170m \u001b[0m│\u001b[38;2;170;170;170m \u001b[0m\u001b[38;2;170;170;170mContainerCreating\u001b[0m\u001b[38;2;170;170;170m \u001b[0m│\u001b[38;2;255;85;85m \u001b[0m\u001b[38;2;255;85;85m0       \u001b[0m\u001b[38;2;255;85;85m \u001b[0m│\u001b[38;2;85;255;85m \u001b[0m\u001b[38;2;85;255;85m78s  \u001b[0m\u001b[38;2;85;255;85m \u001b[0m│\n",
       "│\u001b[38;2;0;170;0m \u001b[0m\u001b[38;2;0;170;0mhub-859c877b85-fzfrj                 \u001b[0m\u001b[38;2;0;170;0m \u001b[0m│\u001b[38;2;0;170;170m \u001b[0m\u001b[38;2;0;170;170m1/1  \u001b[0m\u001b[38;2;0;170;170m \u001b[0m│\u001b[38;2;170;170;170m \u001b[0m\u001b[38;2;170;170;170mRunning          \u001b[0m\u001b[38;2;170;170;170m \u001b[0m│\u001b[38;2;255;85;85m \u001b[0m\u001b[38;2;255;85;85m0       \u001b[0m\u001b[38;2;255;85;85m \u001b[0m│\u001b[38;2;85;255;85m \u001b[0m\u001b[38;2;85;255;85m5d   \u001b[0m\u001b[38;2;85;255;85m \u001b[0m│\n",
       "│\u001b[38;2;0;170;0m \u001b[0m\u001b[38;2;0;170;0mjupyter-ataaakbari-40googlemail-2ecom\u001b[0m\u001b[38;2;0;170;0m \u001b[0m│\u001b[38;2;0;170;170m \u001b[0m\u001b[38;2;0;170;170m1/1  \u001b[0m\u001b[38;2;0;170;170m \u001b[0m│\u001b[38;2;170;170;170m \u001b[0m\u001b[38;2;170;170;170mRunning          \u001b[0m\u001b[38;2;170;170;170m \u001b[0m│\u001b[38;2;255;85;85m \u001b[0m\u001b[38;2;255;85;85m0       \u001b[0m\u001b[38;2;255;85;85m \u001b[0m│\u001b[38;2;85;255;85m \u001b[0m\u001b[38;2;85;255;85m57m  \u001b[0m\u001b[38;2;85;255;85m \u001b[0m│\n",
       "│\u001b[38;2;0;170;0m \u001b[0m\u001b[38;2;0;170;0mjupyter-fawudarski-40gmail-2ecom     \u001b[0m\u001b[38;2;0;170;0m \u001b[0m│\u001b[38;2;0;170;170m \u001b[0m\u001b[38;2;0;170;170m1/1  \u001b[0m\u001b[38;2;0;170;170m \u001b[0m│\u001b[38;2;170;170;170m \u001b[0m\u001b[38;2;170;170;170mRunning          \u001b[0m\u001b[38;2;170;170;170m \u001b[0m│\u001b[38;2;255;85;85m \u001b[0m\u001b[38;2;255;85;85m0       \u001b[0m\u001b[38;2;255;85;85m \u001b[0m│\u001b[38;2;85;255;85m \u001b[0m\u001b[38;2;85;255;85m7h34m\u001b[0m\u001b[38;2;85;255;85m \u001b[0m│\n",
       "│\u001b[38;2;0;170;0m \u001b[0m\u001b[38;2;0;170;0mproxy-5ddd4b47c9-xhb2d               \u001b[0m\u001b[38;2;0;170;0m \u001b[0m│\u001b[38;2;0;170;170m \u001b[0m\u001b[38;2;0;170;170m1/1  \u001b[0m\u001b[38;2;0;170;170m \u001b[0m│\u001b[38;2;170;170;170m \u001b[0m\u001b[38;2;170;170;170mRunning          \u001b[0m\u001b[38;2;170;170;170m \u001b[0m│\u001b[38;2;255;85;85m \u001b[0m\u001b[38;2;255;85;85m0       \u001b[0m\u001b[38;2;255;85;85m \u001b[0m│\u001b[38;2;85;255;85m \u001b[0m\u001b[38;2;85;255;85m43h  \u001b[0m\u001b[38;2;85;255;85m \u001b[0m│\n",
       "└───────────────────────────────────────┴───────┴───────────────────┴──────────┴───────┘\n"
      ]
     },
     "metadata": {},
     "output_type": "display_data"
    },
    {
     "data": {
      "text/html": [
       "<pre style=\"white-space:pre;overflow-x:auto;line-height:normal;font-family:Menlo,'DejaVu Sans Mono',consolas,'Courier New',monospace\">elapsed: <span style=\"color: #008080; text-decoration-color: #008080; font-weight: bold\">6.33</span> seconds\n",
       "</pre>\n"
      ],
      "text/plain": [
       "elapsed: \u001b[1;36m6.33\u001b[0m seconds\n"
      ]
     },
     "metadata": {},
     "output_type": "display_data"
    },
    {
     "data": {
      "text/html": [
       "<pre style=\"white-space:pre;overflow-x:auto;line-height:normal;font-family:Menlo,'DejaVu Sans Mono',consolas,'Courier New',monospace\">┏━━━━━━━━━━━━━━━━━━━━━━━━━━━━━━━━━━━━━━━┳━━━━━━━┳━━━━━━━━━━━━━━━━━━━┳━━━━━━━━━━┳━━━━━━━┓\n",
       "┃<span style=\"font-weight: bold\"> NAME                                  </span>┃<span style=\"font-weight: bold\"> READY </span>┃<span style=\"font-weight: bold\"> STATUS            </span>┃<span style=\"font-weight: bold\"> RESTARTS </span>┃<span style=\"font-weight: bold\"> AGE   </span>┃\n",
       "┡━━━━━━━━━━━━━━━━━━━━━━━━━━━━━━━━━━━━━━━╇━━━━━━━╇━━━━━━━━━━━━━━━━━━━╇━━━━━━━━━━╇━━━━━━━┩\n",
       "│<span style=\"color: #00aa00; text-decoration-color: #00aa00\"> ata-pod                               </span>│<span style=\"color: #00aaaa; text-decoration-color: #00aaaa\"> 0/1   </span>│<span style=\"color: #aaaaaa; text-decoration-color: #aaaaaa\"> ContainerCreating </span>│<span style=\"color: #ff5555; text-decoration-color: #ff5555\"> 0        </span>│<span style=\"color: #55ff55; text-decoration-color: #55ff55\"> 95m   </span>│\n",
       "│<span style=\"color: #00aa00; text-decoration-color: #00aa00\"> gpu-pod-xmkqv                         </span>│<span style=\"color: #00aaaa; text-decoration-color: #00aaaa\"> 0/1   </span>│<span style=\"color: #aaaaaa; text-decoration-color: #aaaaaa\"> ContainerCreating </span>│<span style=\"color: #ff5555; text-decoration-color: #ff5555\"> 0        </span>│<span style=\"color: #55ff55; text-decoration-color: #55ff55\"> 84s   </span>│\n",
       "│<span style=\"color: #00aa00; text-decoration-color: #00aa00\"> hub-859c877b85-fzfrj                  </span>│<span style=\"color: #00aaaa; text-decoration-color: #00aaaa\"> 1/1   </span>│<span style=\"color: #aaaaaa; text-decoration-color: #aaaaaa\"> Running           </span>│<span style=\"color: #ff5555; text-decoration-color: #ff5555\"> 0        </span>│<span style=\"color: #55ff55; text-decoration-color: #55ff55\"> 5d    </span>│\n",
       "│<span style=\"color: #00aa00; text-decoration-color: #00aa00\"> jupyter-ataaakbari-40googlemail-2ecom </span>│<span style=\"color: #00aaaa; text-decoration-color: #00aaaa\"> 1/1   </span>│<span style=\"color: #aaaaaa; text-decoration-color: #aaaaaa\"> Running           </span>│<span style=\"color: #ff5555; text-decoration-color: #ff5555\"> 0        </span>│<span style=\"color: #55ff55; text-decoration-color: #55ff55\"> 57m   </span>│\n",
       "│<span style=\"color: #00aa00; text-decoration-color: #00aa00\"> jupyter-fawudarski-40gmail-2ecom      </span>│<span style=\"color: #00aaaa; text-decoration-color: #00aaaa\"> 1/1   </span>│<span style=\"color: #aaaaaa; text-decoration-color: #aaaaaa\"> Running           </span>│<span style=\"color: #ff5555; text-decoration-color: #ff5555\"> 0        </span>│<span style=\"color: #55ff55; text-decoration-color: #55ff55\"> 7h34m </span>│\n",
       "│<span style=\"color: #00aa00; text-decoration-color: #00aa00\"> proxy-5ddd4b47c9-xhb2d                </span>│<span style=\"color: #00aaaa; text-decoration-color: #00aaaa\"> 1/1   </span>│<span style=\"color: #aaaaaa; text-decoration-color: #aaaaaa\"> Running           </span>│<span style=\"color: #ff5555; text-decoration-color: #ff5555\"> 0        </span>│<span style=\"color: #55ff55; text-decoration-color: #55ff55\"> 43h   </span>│\n",
       "└───────────────────────────────────────┴───────┴───────────────────┴──────────┴───────┘\n",
       "</pre>\n"
      ],
      "text/plain": [
       "┏━━━━━━━━━━━━━━━━━━━━━━━━━━━━━━━━━━━━━━━┳━━━━━━━┳━━━━━━━━━━━━━━━━━━━┳━━━━━━━━━━┳━━━━━━━┓\n",
       "┃\u001b[1m \u001b[0m\u001b[1mNAME                                 \u001b[0m\u001b[1m \u001b[0m┃\u001b[1m \u001b[0m\u001b[1mREADY\u001b[0m\u001b[1m \u001b[0m┃\u001b[1m \u001b[0m\u001b[1mSTATUS           \u001b[0m\u001b[1m \u001b[0m┃\u001b[1m \u001b[0m\u001b[1mRESTARTS\u001b[0m\u001b[1m \u001b[0m┃\u001b[1m \u001b[0m\u001b[1mAGE  \u001b[0m\u001b[1m \u001b[0m┃\n",
       "┡━━━━━━━━━━━━━━━━━━━━━━━━━━━━━━━━━━━━━━━╇━━━━━━━╇━━━━━━━━━━━━━━━━━━━╇━━━━━━━━━━╇━━━━━━━┩\n",
       "│\u001b[38;2;0;170;0m \u001b[0m\u001b[38;2;0;170;0mata-pod                              \u001b[0m\u001b[38;2;0;170;0m \u001b[0m│\u001b[38;2;0;170;170m \u001b[0m\u001b[38;2;0;170;170m0/1  \u001b[0m\u001b[38;2;0;170;170m \u001b[0m│\u001b[38;2;170;170;170m \u001b[0m\u001b[38;2;170;170;170mContainerCreating\u001b[0m\u001b[38;2;170;170;170m \u001b[0m│\u001b[38;2;255;85;85m \u001b[0m\u001b[38;2;255;85;85m0       \u001b[0m\u001b[38;2;255;85;85m \u001b[0m│\u001b[38;2;85;255;85m \u001b[0m\u001b[38;2;85;255;85m95m  \u001b[0m\u001b[38;2;85;255;85m \u001b[0m│\n",
       "│\u001b[38;2;0;170;0m \u001b[0m\u001b[38;2;0;170;0mgpu-pod-xmkqv                        \u001b[0m\u001b[38;2;0;170;0m \u001b[0m│\u001b[38;2;0;170;170m \u001b[0m\u001b[38;2;0;170;170m0/1  \u001b[0m\u001b[38;2;0;170;170m \u001b[0m│\u001b[38;2;170;170;170m \u001b[0m\u001b[38;2;170;170;170mContainerCreating\u001b[0m\u001b[38;2;170;170;170m \u001b[0m│\u001b[38;2;255;85;85m \u001b[0m\u001b[38;2;255;85;85m0       \u001b[0m\u001b[38;2;255;85;85m \u001b[0m│\u001b[38;2;85;255;85m \u001b[0m\u001b[38;2;85;255;85m84s  \u001b[0m\u001b[38;2;85;255;85m \u001b[0m│\n",
       "│\u001b[38;2;0;170;0m \u001b[0m\u001b[38;2;0;170;0mhub-859c877b85-fzfrj                 \u001b[0m\u001b[38;2;0;170;0m \u001b[0m│\u001b[38;2;0;170;170m \u001b[0m\u001b[38;2;0;170;170m1/1  \u001b[0m\u001b[38;2;0;170;170m \u001b[0m│\u001b[38;2;170;170;170m \u001b[0m\u001b[38;2;170;170;170mRunning          \u001b[0m\u001b[38;2;170;170;170m \u001b[0m│\u001b[38;2;255;85;85m \u001b[0m\u001b[38;2;255;85;85m0       \u001b[0m\u001b[38;2;255;85;85m \u001b[0m│\u001b[38;2;85;255;85m \u001b[0m\u001b[38;2;85;255;85m5d   \u001b[0m\u001b[38;2;85;255;85m \u001b[0m│\n",
       "│\u001b[38;2;0;170;0m \u001b[0m\u001b[38;2;0;170;0mjupyter-ataaakbari-40googlemail-2ecom\u001b[0m\u001b[38;2;0;170;0m \u001b[0m│\u001b[38;2;0;170;170m \u001b[0m\u001b[38;2;0;170;170m1/1  \u001b[0m\u001b[38;2;0;170;170m \u001b[0m│\u001b[38;2;170;170;170m \u001b[0m\u001b[38;2;170;170;170mRunning          \u001b[0m\u001b[38;2;170;170;170m \u001b[0m│\u001b[38;2;255;85;85m \u001b[0m\u001b[38;2;255;85;85m0       \u001b[0m\u001b[38;2;255;85;85m \u001b[0m│\u001b[38;2;85;255;85m \u001b[0m\u001b[38;2;85;255;85m57m  \u001b[0m\u001b[38;2;85;255;85m \u001b[0m│\n",
       "│\u001b[38;2;0;170;0m \u001b[0m\u001b[38;2;0;170;0mjupyter-fawudarski-40gmail-2ecom     \u001b[0m\u001b[38;2;0;170;0m \u001b[0m│\u001b[38;2;0;170;170m \u001b[0m\u001b[38;2;0;170;170m1/1  \u001b[0m\u001b[38;2;0;170;170m \u001b[0m│\u001b[38;2;170;170;170m \u001b[0m\u001b[38;2;170;170;170mRunning          \u001b[0m\u001b[38;2;170;170;170m \u001b[0m│\u001b[38;2;255;85;85m \u001b[0m\u001b[38;2;255;85;85m0       \u001b[0m\u001b[38;2;255;85;85m \u001b[0m│\u001b[38;2;85;255;85m \u001b[0m\u001b[38;2;85;255;85m7h34m\u001b[0m\u001b[38;2;85;255;85m \u001b[0m│\n",
       "│\u001b[38;2;0;170;0m \u001b[0m\u001b[38;2;0;170;0mproxy-5ddd4b47c9-xhb2d               \u001b[0m\u001b[38;2;0;170;0m \u001b[0m│\u001b[38;2;0;170;170m \u001b[0m\u001b[38;2;0;170;170m1/1  \u001b[0m\u001b[38;2;0;170;170m \u001b[0m│\u001b[38;2;170;170;170m \u001b[0m\u001b[38;2;170;170;170mRunning          \u001b[0m\u001b[38;2;170;170;170m \u001b[0m│\u001b[38;2;255;85;85m \u001b[0m\u001b[38;2;255;85;85m0       \u001b[0m\u001b[38;2;255;85;85m \u001b[0m│\u001b[38;2;85;255;85m \u001b[0m\u001b[38;2;85;255;85m43h  \u001b[0m\u001b[38;2;85;255;85m \u001b[0m│\n",
       "└───────────────────────────────────────┴───────┴───────────────────┴──────────┴───────┘\n"
      ]
     },
     "metadata": {},
     "output_type": "display_data"
    },
    {
     "data": {
      "text/html": [
       "<pre style=\"white-space:pre;overflow-x:auto;line-height:normal;font-family:Menlo,'DejaVu Sans Mono',consolas,'Courier New',monospace\">elapsed: <span style=\"color: #008080; text-decoration-color: #008080; font-weight: bold\">6.32</span> seconds\n",
       "</pre>\n"
      ],
      "text/plain": [
       "elapsed: \u001b[1;36m6.32\u001b[0m seconds\n"
      ]
     },
     "metadata": {},
     "output_type": "display_data"
    },
    {
     "data": {
      "text/html": [
       "<pre style=\"white-space:pre;overflow-x:auto;line-height:normal;font-family:Menlo,'DejaVu Sans Mono',consolas,'Courier New',monospace\">┏━━━━━━━━━━━━━━━━━━━━━━━━━━━━━━━━━━━━━━━┳━━━━━━━┳━━━━━━━━━━━━━━━━━━━┳━━━━━━━━━━┳━━━━━━━┓\n",
       "┃<span style=\"font-weight: bold\"> NAME                                  </span>┃<span style=\"font-weight: bold\"> READY </span>┃<span style=\"font-weight: bold\"> STATUS            </span>┃<span style=\"font-weight: bold\"> RESTARTS </span>┃<span style=\"font-weight: bold\"> AGE   </span>┃\n",
       "┡━━━━━━━━━━━━━━━━━━━━━━━━━━━━━━━━━━━━━━━╇━━━━━━━╇━━━━━━━━━━━━━━━━━━━╇━━━━━━━━━━╇━━━━━━━┩\n",
       "│<span style=\"color: #00aa00; text-decoration-color: #00aa00\"> ata-pod                               </span>│<span style=\"color: #00aaaa; text-decoration-color: #00aaaa\"> 0/1   </span>│<span style=\"color: #aaaaaa; text-decoration-color: #aaaaaa\"> ContainerCreating </span>│<span style=\"color: #ff5555; text-decoration-color: #ff5555\"> 0        </span>│<span style=\"color: #55ff55; text-decoration-color: #55ff55\"> 95m   </span>│\n",
       "│<span style=\"color: #00aa00; text-decoration-color: #00aa00\"> gpu-pod-xmkqv                         </span>│<span style=\"color: #00aaaa; text-decoration-color: #00aaaa\"> 0/1   </span>│<span style=\"color: #aaaaaa; text-decoration-color: #aaaaaa\"> ContainerCreating </span>│<span style=\"color: #ff5555; text-decoration-color: #ff5555\"> 0        </span>│<span style=\"color: #55ff55; text-decoration-color: #55ff55\"> 91s   </span>│\n",
       "│<span style=\"color: #00aa00; text-decoration-color: #00aa00\"> hub-859c877b85-fzfrj                  </span>│<span style=\"color: #00aaaa; text-decoration-color: #00aaaa\"> 1/1   </span>│<span style=\"color: #aaaaaa; text-decoration-color: #aaaaaa\"> Running           </span>│<span style=\"color: #ff5555; text-decoration-color: #ff5555\"> 0        </span>│<span style=\"color: #55ff55; text-decoration-color: #55ff55\"> 5d    </span>│\n",
       "│<span style=\"color: #00aa00; text-decoration-color: #00aa00\"> jupyter-ataaakbari-40googlemail-2ecom </span>│<span style=\"color: #00aaaa; text-decoration-color: #00aaaa\"> 1/1   </span>│<span style=\"color: #aaaaaa; text-decoration-color: #aaaaaa\"> Running           </span>│<span style=\"color: #ff5555; text-decoration-color: #ff5555\"> 0        </span>│<span style=\"color: #55ff55; text-decoration-color: #55ff55\"> 57m   </span>│\n",
       "│<span style=\"color: #00aa00; text-decoration-color: #00aa00\"> jupyter-fawudarski-40gmail-2ecom      </span>│<span style=\"color: #00aaaa; text-decoration-color: #00aaaa\"> 1/1   </span>│<span style=\"color: #aaaaaa; text-decoration-color: #aaaaaa\"> Running           </span>│<span style=\"color: #ff5555; text-decoration-color: #ff5555\"> 0        </span>│<span style=\"color: #55ff55; text-decoration-color: #55ff55\"> 7h34m </span>│\n",
       "│<span style=\"color: #00aa00; text-decoration-color: #00aa00\"> proxy-5ddd4b47c9-xhb2d                </span>│<span style=\"color: #00aaaa; text-decoration-color: #00aaaa\"> 1/1   </span>│<span style=\"color: #aaaaaa; text-decoration-color: #aaaaaa\"> Running           </span>│<span style=\"color: #ff5555; text-decoration-color: #ff5555\"> 0        </span>│<span style=\"color: #55ff55; text-decoration-color: #55ff55\"> 43h   </span>│\n",
       "└───────────────────────────────────────┴───────┴───────────────────┴──────────┴───────┘\n",
       "</pre>\n"
      ],
      "text/plain": [
       "┏━━━━━━━━━━━━━━━━━━━━━━━━━━━━━━━━━━━━━━━┳━━━━━━━┳━━━━━━━━━━━━━━━━━━━┳━━━━━━━━━━┳━━━━━━━┓\n",
       "┃\u001b[1m \u001b[0m\u001b[1mNAME                                 \u001b[0m\u001b[1m \u001b[0m┃\u001b[1m \u001b[0m\u001b[1mREADY\u001b[0m\u001b[1m \u001b[0m┃\u001b[1m \u001b[0m\u001b[1mSTATUS           \u001b[0m\u001b[1m \u001b[0m┃\u001b[1m \u001b[0m\u001b[1mRESTARTS\u001b[0m\u001b[1m \u001b[0m┃\u001b[1m \u001b[0m\u001b[1mAGE  \u001b[0m\u001b[1m \u001b[0m┃\n",
       "┡━━━━━━━━━━━━━━━━━━━━━━━━━━━━━━━━━━━━━━━╇━━━━━━━╇━━━━━━━━━━━━━━━━━━━╇━━━━━━━━━━╇━━━━━━━┩\n",
       "│\u001b[38;2;0;170;0m \u001b[0m\u001b[38;2;0;170;0mata-pod                              \u001b[0m\u001b[38;2;0;170;0m \u001b[0m│\u001b[38;2;0;170;170m \u001b[0m\u001b[38;2;0;170;170m0/1  \u001b[0m\u001b[38;2;0;170;170m \u001b[0m│\u001b[38;2;170;170;170m \u001b[0m\u001b[38;2;170;170;170mContainerCreating\u001b[0m\u001b[38;2;170;170;170m \u001b[0m│\u001b[38;2;255;85;85m \u001b[0m\u001b[38;2;255;85;85m0       \u001b[0m\u001b[38;2;255;85;85m \u001b[0m│\u001b[38;2;85;255;85m \u001b[0m\u001b[38;2;85;255;85m95m  \u001b[0m\u001b[38;2;85;255;85m \u001b[0m│\n",
       "│\u001b[38;2;0;170;0m \u001b[0m\u001b[38;2;0;170;0mgpu-pod-xmkqv                        \u001b[0m\u001b[38;2;0;170;0m \u001b[0m│\u001b[38;2;0;170;170m \u001b[0m\u001b[38;2;0;170;170m0/1  \u001b[0m\u001b[38;2;0;170;170m \u001b[0m│\u001b[38;2;170;170;170m \u001b[0m\u001b[38;2;170;170;170mContainerCreating\u001b[0m\u001b[38;2;170;170;170m \u001b[0m│\u001b[38;2;255;85;85m \u001b[0m\u001b[38;2;255;85;85m0       \u001b[0m\u001b[38;2;255;85;85m \u001b[0m│\u001b[38;2;85;255;85m \u001b[0m\u001b[38;2;85;255;85m91s  \u001b[0m\u001b[38;2;85;255;85m \u001b[0m│\n",
       "│\u001b[38;2;0;170;0m \u001b[0m\u001b[38;2;0;170;0mhub-859c877b85-fzfrj                 \u001b[0m\u001b[38;2;0;170;0m \u001b[0m│\u001b[38;2;0;170;170m \u001b[0m\u001b[38;2;0;170;170m1/1  \u001b[0m\u001b[38;2;0;170;170m \u001b[0m│\u001b[38;2;170;170;170m \u001b[0m\u001b[38;2;170;170;170mRunning          \u001b[0m\u001b[38;2;170;170;170m \u001b[0m│\u001b[38;2;255;85;85m \u001b[0m\u001b[38;2;255;85;85m0       \u001b[0m\u001b[38;2;255;85;85m \u001b[0m│\u001b[38;2;85;255;85m \u001b[0m\u001b[38;2;85;255;85m5d   \u001b[0m\u001b[38;2;85;255;85m \u001b[0m│\n",
       "│\u001b[38;2;0;170;0m \u001b[0m\u001b[38;2;0;170;0mjupyter-ataaakbari-40googlemail-2ecom\u001b[0m\u001b[38;2;0;170;0m \u001b[0m│\u001b[38;2;0;170;170m \u001b[0m\u001b[38;2;0;170;170m1/1  \u001b[0m\u001b[38;2;0;170;170m \u001b[0m│\u001b[38;2;170;170;170m \u001b[0m\u001b[38;2;170;170;170mRunning          \u001b[0m\u001b[38;2;170;170;170m \u001b[0m│\u001b[38;2;255;85;85m \u001b[0m\u001b[38;2;255;85;85m0       \u001b[0m\u001b[38;2;255;85;85m \u001b[0m│\u001b[38;2;85;255;85m \u001b[0m\u001b[38;2;85;255;85m57m  \u001b[0m\u001b[38;2;85;255;85m \u001b[0m│\n",
       "│\u001b[38;2;0;170;0m \u001b[0m\u001b[38;2;0;170;0mjupyter-fawudarski-40gmail-2ecom     \u001b[0m\u001b[38;2;0;170;0m \u001b[0m│\u001b[38;2;0;170;170m \u001b[0m\u001b[38;2;0;170;170m1/1  \u001b[0m\u001b[38;2;0;170;170m \u001b[0m│\u001b[38;2;170;170;170m \u001b[0m\u001b[38;2;170;170;170mRunning          \u001b[0m\u001b[38;2;170;170;170m \u001b[0m│\u001b[38;2;255;85;85m \u001b[0m\u001b[38;2;255;85;85m0       \u001b[0m\u001b[38;2;255;85;85m \u001b[0m│\u001b[38;2;85;255;85m \u001b[0m\u001b[38;2;85;255;85m7h34m\u001b[0m\u001b[38;2;85;255;85m \u001b[0m│\n",
       "│\u001b[38;2;0;170;0m \u001b[0m\u001b[38;2;0;170;0mproxy-5ddd4b47c9-xhb2d               \u001b[0m\u001b[38;2;0;170;0m \u001b[0m│\u001b[38;2;0;170;170m \u001b[0m\u001b[38;2;0;170;170m1/1  \u001b[0m\u001b[38;2;0;170;170m \u001b[0m│\u001b[38;2;170;170;170m \u001b[0m\u001b[38;2;170;170;170mRunning          \u001b[0m\u001b[38;2;170;170;170m \u001b[0m│\u001b[38;2;255;85;85m \u001b[0m\u001b[38;2;255;85;85m0       \u001b[0m\u001b[38;2;255;85;85m \u001b[0m│\u001b[38;2;85;255;85m \u001b[0m\u001b[38;2;85;255;85m43h  \u001b[0m\u001b[38;2;85;255;85m \u001b[0m│\n",
       "└───────────────────────────────────────┴───────┴───────────────────┴──────────┴───────┘\n"
      ]
     },
     "metadata": {},
     "output_type": "display_data"
    },
    {
     "data": {
      "text/html": [
       "<pre style=\"white-space:pre;overflow-x:auto;line-height:normal;font-family:Menlo,'DejaVu Sans Mono',consolas,'Courier New',monospace\">elapsed: <span style=\"color: #008080; text-decoration-color: #008080; font-weight: bold\">6.32</span> seconds\n",
       "</pre>\n"
      ],
      "text/plain": [
       "elapsed: \u001b[1;36m6.32\u001b[0m seconds\n"
      ]
     },
     "metadata": {},
     "output_type": "display_data"
    },
    {
     "data": {
      "text/html": [
       "<pre style=\"white-space:pre;overflow-x:auto;line-height:normal;font-family:Menlo,'DejaVu Sans Mono',consolas,'Courier New',monospace\">┏━━━━━━━━━━━━━━━━━━━━━━━━━━━━━━━━━━━━━━━┳━━━━━━━┳━━━━━━━━━━━━━━━━━━━┳━━━━━━━━━━┳━━━━━━━┓\n",
       "┃<span style=\"font-weight: bold\"> NAME                                  </span>┃<span style=\"font-weight: bold\"> READY </span>┃<span style=\"font-weight: bold\"> STATUS            </span>┃<span style=\"font-weight: bold\"> RESTARTS </span>┃<span style=\"font-weight: bold\"> AGE   </span>┃\n",
       "┡━━━━━━━━━━━━━━━━━━━━━━━━━━━━━━━━━━━━━━━╇━━━━━━━╇━━━━━━━━━━━━━━━━━━━╇━━━━━━━━━━╇━━━━━━━┩\n",
       "│<span style=\"color: #00aa00; text-decoration-color: #00aa00\"> ata-pod                               </span>│<span style=\"color: #00aaaa; text-decoration-color: #00aaaa\"> 0/1   </span>│<span style=\"color: #aaaaaa; text-decoration-color: #aaaaaa\"> ContainerCreating </span>│<span style=\"color: #ff5555; text-decoration-color: #ff5555\"> 0        </span>│<span style=\"color: #55ff55; text-decoration-color: #55ff55\"> 95m   </span>│\n",
       "│<span style=\"color: #00aa00; text-decoration-color: #00aa00\"> gpu-pod-xmkqv                         </span>│<span style=\"color: #00aaaa; text-decoration-color: #00aaaa\"> 0/1   </span>│<span style=\"color: #aaaaaa; text-decoration-color: #aaaaaa\"> ContainerCreating </span>│<span style=\"color: #ff5555; text-decoration-color: #ff5555\"> 0        </span>│<span style=\"color: #55ff55; text-decoration-color: #55ff55\"> 97s   </span>│\n",
       "│<span style=\"color: #00aa00; text-decoration-color: #00aa00\"> hub-859c877b85-fzfrj                  </span>│<span style=\"color: #00aaaa; text-decoration-color: #00aaaa\"> 1/1   </span>│<span style=\"color: #aaaaaa; text-decoration-color: #aaaaaa\"> Running           </span>│<span style=\"color: #ff5555; text-decoration-color: #ff5555\"> 0        </span>│<span style=\"color: #55ff55; text-decoration-color: #55ff55\"> 5d    </span>│\n",
       "│<span style=\"color: #00aa00; text-decoration-color: #00aa00\"> jupyter-ataaakbari-40googlemail-2ecom </span>│<span style=\"color: #00aaaa; text-decoration-color: #00aaaa\"> 1/1   </span>│<span style=\"color: #aaaaaa; text-decoration-color: #aaaaaa\"> Running           </span>│<span style=\"color: #ff5555; text-decoration-color: #ff5555\"> 0        </span>│<span style=\"color: #55ff55; text-decoration-color: #55ff55\"> 57m   </span>│\n",
       "│<span style=\"color: #00aa00; text-decoration-color: #00aa00\"> jupyter-fawudarski-40gmail-2ecom      </span>│<span style=\"color: #00aaaa; text-decoration-color: #00aaaa\"> 1/1   </span>│<span style=\"color: #aaaaaa; text-decoration-color: #aaaaaa\"> Running           </span>│<span style=\"color: #ff5555; text-decoration-color: #ff5555\"> 0        </span>│<span style=\"color: #55ff55; text-decoration-color: #55ff55\"> 7h34m </span>│\n",
       "│<span style=\"color: #00aa00; text-decoration-color: #00aa00\"> proxy-5ddd4b47c9-xhb2d                </span>│<span style=\"color: #00aaaa; text-decoration-color: #00aaaa\"> 1/1   </span>│<span style=\"color: #aaaaaa; text-decoration-color: #aaaaaa\"> Running           </span>│<span style=\"color: #ff5555; text-decoration-color: #ff5555\"> 0        </span>│<span style=\"color: #55ff55; text-decoration-color: #55ff55\"> 43h   </span>│\n",
       "└───────────────────────────────────────┴───────┴───────────────────┴──────────┴───────┘\n",
       "</pre>\n"
      ],
      "text/plain": [
       "┏━━━━━━━━━━━━━━━━━━━━━━━━━━━━━━━━━━━━━━━┳━━━━━━━┳━━━━━━━━━━━━━━━━━━━┳━━━━━━━━━━┳━━━━━━━┓\n",
       "┃\u001b[1m \u001b[0m\u001b[1mNAME                                 \u001b[0m\u001b[1m \u001b[0m┃\u001b[1m \u001b[0m\u001b[1mREADY\u001b[0m\u001b[1m \u001b[0m┃\u001b[1m \u001b[0m\u001b[1mSTATUS           \u001b[0m\u001b[1m \u001b[0m┃\u001b[1m \u001b[0m\u001b[1mRESTARTS\u001b[0m\u001b[1m \u001b[0m┃\u001b[1m \u001b[0m\u001b[1mAGE  \u001b[0m\u001b[1m \u001b[0m┃\n",
       "┡━━━━━━━━━━━━━━━━━━━━━━━━━━━━━━━━━━━━━━━╇━━━━━━━╇━━━━━━━━━━━━━━━━━━━╇━━━━━━━━━━╇━━━━━━━┩\n",
       "│\u001b[38;2;0;170;0m \u001b[0m\u001b[38;2;0;170;0mata-pod                              \u001b[0m\u001b[38;2;0;170;0m \u001b[0m│\u001b[38;2;0;170;170m \u001b[0m\u001b[38;2;0;170;170m0/1  \u001b[0m\u001b[38;2;0;170;170m \u001b[0m│\u001b[38;2;170;170;170m \u001b[0m\u001b[38;2;170;170;170mContainerCreating\u001b[0m\u001b[38;2;170;170;170m \u001b[0m│\u001b[38;2;255;85;85m \u001b[0m\u001b[38;2;255;85;85m0       \u001b[0m\u001b[38;2;255;85;85m \u001b[0m│\u001b[38;2;85;255;85m \u001b[0m\u001b[38;2;85;255;85m95m  \u001b[0m\u001b[38;2;85;255;85m \u001b[0m│\n",
       "│\u001b[38;2;0;170;0m \u001b[0m\u001b[38;2;0;170;0mgpu-pod-xmkqv                        \u001b[0m\u001b[38;2;0;170;0m \u001b[0m│\u001b[38;2;0;170;170m \u001b[0m\u001b[38;2;0;170;170m0/1  \u001b[0m\u001b[38;2;0;170;170m \u001b[0m│\u001b[38;2;170;170;170m \u001b[0m\u001b[38;2;170;170;170mContainerCreating\u001b[0m\u001b[38;2;170;170;170m \u001b[0m│\u001b[38;2;255;85;85m \u001b[0m\u001b[38;2;255;85;85m0       \u001b[0m\u001b[38;2;255;85;85m \u001b[0m│\u001b[38;2;85;255;85m \u001b[0m\u001b[38;2;85;255;85m97s  \u001b[0m\u001b[38;2;85;255;85m \u001b[0m│\n",
       "│\u001b[38;2;0;170;0m \u001b[0m\u001b[38;2;0;170;0mhub-859c877b85-fzfrj                 \u001b[0m\u001b[38;2;0;170;0m \u001b[0m│\u001b[38;2;0;170;170m \u001b[0m\u001b[38;2;0;170;170m1/1  \u001b[0m\u001b[38;2;0;170;170m \u001b[0m│\u001b[38;2;170;170;170m \u001b[0m\u001b[38;2;170;170;170mRunning          \u001b[0m\u001b[38;2;170;170;170m \u001b[0m│\u001b[38;2;255;85;85m \u001b[0m\u001b[38;2;255;85;85m0       \u001b[0m\u001b[38;2;255;85;85m \u001b[0m│\u001b[38;2;85;255;85m \u001b[0m\u001b[38;2;85;255;85m5d   \u001b[0m\u001b[38;2;85;255;85m \u001b[0m│\n",
       "│\u001b[38;2;0;170;0m \u001b[0m\u001b[38;2;0;170;0mjupyter-ataaakbari-40googlemail-2ecom\u001b[0m\u001b[38;2;0;170;0m \u001b[0m│\u001b[38;2;0;170;170m \u001b[0m\u001b[38;2;0;170;170m1/1  \u001b[0m\u001b[38;2;0;170;170m \u001b[0m│\u001b[38;2;170;170;170m \u001b[0m\u001b[38;2;170;170;170mRunning          \u001b[0m\u001b[38;2;170;170;170m \u001b[0m│\u001b[38;2;255;85;85m \u001b[0m\u001b[38;2;255;85;85m0       \u001b[0m\u001b[38;2;255;85;85m \u001b[0m│\u001b[38;2;85;255;85m \u001b[0m\u001b[38;2;85;255;85m57m  \u001b[0m\u001b[38;2;85;255;85m \u001b[0m│\n",
       "│\u001b[38;2;0;170;0m \u001b[0m\u001b[38;2;0;170;0mjupyter-fawudarski-40gmail-2ecom     \u001b[0m\u001b[38;2;0;170;0m \u001b[0m│\u001b[38;2;0;170;170m \u001b[0m\u001b[38;2;0;170;170m1/1  \u001b[0m\u001b[38;2;0;170;170m \u001b[0m│\u001b[38;2;170;170;170m \u001b[0m\u001b[38;2;170;170;170mRunning          \u001b[0m\u001b[38;2;170;170;170m \u001b[0m│\u001b[38;2;255;85;85m \u001b[0m\u001b[38;2;255;85;85m0       \u001b[0m\u001b[38;2;255;85;85m \u001b[0m│\u001b[38;2;85;255;85m \u001b[0m\u001b[38;2;85;255;85m7h34m\u001b[0m\u001b[38;2;85;255;85m \u001b[0m│\n",
       "│\u001b[38;2;0;170;0m \u001b[0m\u001b[38;2;0;170;0mproxy-5ddd4b47c9-xhb2d               \u001b[0m\u001b[38;2;0;170;0m \u001b[0m│\u001b[38;2;0;170;170m \u001b[0m\u001b[38;2;0;170;170m1/1  \u001b[0m\u001b[38;2;0;170;170m \u001b[0m│\u001b[38;2;170;170;170m \u001b[0m\u001b[38;2;170;170;170mRunning          \u001b[0m\u001b[38;2;170;170;170m \u001b[0m│\u001b[38;2;255;85;85m \u001b[0m\u001b[38;2;255;85;85m0       \u001b[0m\u001b[38;2;255;85;85m \u001b[0m│\u001b[38;2;85;255;85m \u001b[0m\u001b[38;2;85;255;85m43h  \u001b[0m\u001b[38;2;85;255;85m \u001b[0m│\n",
       "└───────────────────────────────────────┴───────┴───────────────────┴──────────┴───────┘\n"
      ]
     },
     "metadata": {},
     "output_type": "display_data"
    },
    {
     "data": {
      "text/html": [
       "<pre style=\"white-space:pre;overflow-x:auto;line-height:normal;font-family:Menlo,'DejaVu Sans Mono',consolas,'Courier New',monospace\">elapsed: <span style=\"color: #008080; text-decoration-color: #008080; font-weight: bold\">6.73</span> seconds\n",
       "</pre>\n"
      ],
      "text/plain": [
       "elapsed: \u001b[1;36m6.73\u001b[0m seconds\n"
      ]
     },
     "metadata": {},
     "output_type": "display_data"
    },
    {
     "data": {
      "text/html": [
       "<pre style=\"white-space:pre;overflow-x:auto;line-height:normal;font-family:Menlo,'DejaVu Sans Mono',consolas,'Courier New',monospace\">┏━━━━━━━━━━━━━━━━━━━━━━━━━━━━━━━━━━━━━━━┳━━━━━━━┳━━━━━━━━━━━━━━━━━━━┳━━━━━━━━━━┳━━━━━━━┓\n",
       "┃<span style=\"font-weight: bold\"> NAME                                  </span>┃<span style=\"font-weight: bold\"> READY </span>┃<span style=\"font-weight: bold\"> STATUS            </span>┃<span style=\"font-weight: bold\"> RESTARTS </span>┃<span style=\"font-weight: bold\"> AGE   </span>┃\n",
       "┡━━━━━━━━━━━━━━━━━━━━━━━━━━━━━━━━━━━━━━━╇━━━━━━━╇━━━━━━━━━━━━━━━━━━━╇━━━━━━━━━━╇━━━━━━━┩\n",
       "│<span style=\"color: #00aa00; text-decoration-color: #00aa00\"> ata-pod                               </span>│<span style=\"color: #00aaaa; text-decoration-color: #00aaaa\"> 0/1   </span>│<span style=\"color: #aaaaaa; text-decoration-color: #aaaaaa\"> ContainerCreating </span>│<span style=\"color: #ff5555; text-decoration-color: #ff5555\"> 0        </span>│<span style=\"color: #55ff55; text-decoration-color: #55ff55\"> 95m   </span>│\n",
       "│<span style=\"color: #00aa00; text-decoration-color: #00aa00\"> gpu-pod-xmkqv                         </span>│<span style=\"color: #00aaaa; text-decoration-color: #00aaaa\"> 0/1   </span>│<span style=\"color: #aaaaaa; text-decoration-color: #aaaaaa\"> ContainerCreating </span>│<span style=\"color: #ff5555; text-decoration-color: #ff5555\"> 0        </span>│<span style=\"color: #55ff55; text-decoration-color: #55ff55\"> 104s  </span>│\n",
       "│<span style=\"color: #00aa00; text-decoration-color: #00aa00\"> hub-859c877b85-fzfrj                  </span>│<span style=\"color: #00aaaa; text-decoration-color: #00aaaa\"> 1/1   </span>│<span style=\"color: #aaaaaa; text-decoration-color: #aaaaaa\"> Running           </span>│<span style=\"color: #ff5555; text-decoration-color: #ff5555\"> 0        </span>│<span style=\"color: #55ff55; text-decoration-color: #55ff55\"> 5d    </span>│\n",
       "│<span style=\"color: #00aa00; text-decoration-color: #00aa00\"> jupyter-ataaakbari-40googlemail-2ecom </span>│<span style=\"color: #00aaaa; text-decoration-color: #00aaaa\"> 1/1   </span>│<span style=\"color: #aaaaaa; text-decoration-color: #aaaaaa\"> Running           </span>│<span style=\"color: #ff5555; text-decoration-color: #ff5555\"> 0        </span>│<span style=\"color: #55ff55; text-decoration-color: #55ff55\"> 57m   </span>│\n",
       "│<span style=\"color: #00aa00; text-decoration-color: #00aa00\"> jupyter-fawudarski-40gmail-2ecom      </span>│<span style=\"color: #00aaaa; text-decoration-color: #00aaaa\"> 1/1   </span>│<span style=\"color: #aaaaaa; text-decoration-color: #aaaaaa\"> Running           </span>│<span style=\"color: #ff5555; text-decoration-color: #ff5555\"> 0        </span>│<span style=\"color: #55ff55; text-decoration-color: #55ff55\"> 7h34m </span>│\n",
       "│<span style=\"color: #00aa00; text-decoration-color: #00aa00\"> proxy-5ddd4b47c9-xhb2d                </span>│<span style=\"color: #00aaaa; text-decoration-color: #00aaaa\"> 1/1   </span>│<span style=\"color: #aaaaaa; text-decoration-color: #aaaaaa\"> Running           </span>│<span style=\"color: #ff5555; text-decoration-color: #ff5555\"> 0        </span>│<span style=\"color: #55ff55; text-decoration-color: #55ff55\"> 43h   </span>│\n",
       "└───────────────────────────────────────┴───────┴───────────────────┴──────────┴───────┘\n",
       "</pre>\n"
      ],
      "text/plain": [
       "┏━━━━━━━━━━━━━━━━━━━━━━━━━━━━━━━━━━━━━━━┳━━━━━━━┳━━━━━━━━━━━━━━━━━━━┳━━━━━━━━━━┳━━━━━━━┓\n",
       "┃\u001b[1m \u001b[0m\u001b[1mNAME                                 \u001b[0m\u001b[1m \u001b[0m┃\u001b[1m \u001b[0m\u001b[1mREADY\u001b[0m\u001b[1m \u001b[0m┃\u001b[1m \u001b[0m\u001b[1mSTATUS           \u001b[0m\u001b[1m \u001b[0m┃\u001b[1m \u001b[0m\u001b[1mRESTARTS\u001b[0m\u001b[1m \u001b[0m┃\u001b[1m \u001b[0m\u001b[1mAGE  \u001b[0m\u001b[1m \u001b[0m┃\n",
       "┡━━━━━━━━━━━━━━━━━━━━━━━━━━━━━━━━━━━━━━━╇━━━━━━━╇━━━━━━━━━━━━━━━━━━━╇━━━━━━━━━━╇━━━━━━━┩\n",
       "│\u001b[38;2;0;170;0m \u001b[0m\u001b[38;2;0;170;0mata-pod                              \u001b[0m\u001b[38;2;0;170;0m \u001b[0m│\u001b[38;2;0;170;170m \u001b[0m\u001b[38;2;0;170;170m0/1  \u001b[0m\u001b[38;2;0;170;170m \u001b[0m│\u001b[38;2;170;170;170m \u001b[0m\u001b[38;2;170;170;170mContainerCreating\u001b[0m\u001b[38;2;170;170;170m \u001b[0m│\u001b[38;2;255;85;85m \u001b[0m\u001b[38;2;255;85;85m0       \u001b[0m\u001b[38;2;255;85;85m \u001b[0m│\u001b[38;2;85;255;85m \u001b[0m\u001b[38;2;85;255;85m95m  \u001b[0m\u001b[38;2;85;255;85m \u001b[0m│\n",
       "│\u001b[38;2;0;170;0m \u001b[0m\u001b[38;2;0;170;0mgpu-pod-xmkqv                        \u001b[0m\u001b[38;2;0;170;0m \u001b[0m│\u001b[38;2;0;170;170m \u001b[0m\u001b[38;2;0;170;170m0/1  \u001b[0m\u001b[38;2;0;170;170m \u001b[0m│\u001b[38;2;170;170;170m \u001b[0m\u001b[38;2;170;170;170mContainerCreating\u001b[0m\u001b[38;2;170;170;170m \u001b[0m│\u001b[38;2;255;85;85m \u001b[0m\u001b[38;2;255;85;85m0       \u001b[0m\u001b[38;2;255;85;85m \u001b[0m│\u001b[38;2;85;255;85m \u001b[0m\u001b[38;2;85;255;85m104s \u001b[0m\u001b[38;2;85;255;85m \u001b[0m│\n",
       "│\u001b[38;2;0;170;0m \u001b[0m\u001b[38;2;0;170;0mhub-859c877b85-fzfrj                 \u001b[0m\u001b[38;2;0;170;0m \u001b[0m│\u001b[38;2;0;170;170m \u001b[0m\u001b[38;2;0;170;170m1/1  \u001b[0m\u001b[38;2;0;170;170m \u001b[0m│\u001b[38;2;170;170;170m \u001b[0m\u001b[38;2;170;170;170mRunning          \u001b[0m\u001b[38;2;170;170;170m \u001b[0m│\u001b[38;2;255;85;85m \u001b[0m\u001b[38;2;255;85;85m0       \u001b[0m\u001b[38;2;255;85;85m \u001b[0m│\u001b[38;2;85;255;85m \u001b[0m\u001b[38;2;85;255;85m5d   \u001b[0m\u001b[38;2;85;255;85m \u001b[0m│\n",
       "│\u001b[38;2;0;170;0m \u001b[0m\u001b[38;2;0;170;0mjupyter-ataaakbari-40googlemail-2ecom\u001b[0m\u001b[38;2;0;170;0m \u001b[0m│\u001b[38;2;0;170;170m \u001b[0m\u001b[38;2;0;170;170m1/1  \u001b[0m\u001b[38;2;0;170;170m \u001b[0m│\u001b[38;2;170;170;170m \u001b[0m\u001b[38;2;170;170;170mRunning          \u001b[0m\u001b[38;2;170;170;170m \u001b[0m│\u001b[38;2;255;85;85m \u001b[0m\u001b[38;2;255;85;85m0       \u001b[0m\u001b[38;2;255;85;85m \u001b[0m│\u001b[38;2;85;255;85m \u001b[0m\u001b[38;2;85;255;85m57m  \u001b[0m\u001b[38;2;85;255;85m \u001b[0m│\n",
       "│\u001b[38;2;0;170;0m \u001b[0m\u001b[38;2;0;170;0mjupyter-fawudarski-40gmail-2ecom     \u001b[0m\u001b[38;2;0;170;0m \u001b[0m│\u001b[38;2;0;170;170m \u001b[0m\u001b[38;2;0;170;170m1/1  \u001b[0m\u001b[38;2;0;170;170m \u001b[0m│\u001b[38;2;170;170;170m \u001b[0m\u001b[38;2;170;170;170mRunning          \u001b[0m\u001b[38;2;170;170;170m \u001b[0m│\u001b[38;2;255;85;85m \u001b[0m\u001b[38;2;255;85;85m0       \u001b[0m\u001b[38;2;255;85;85m \u001b[0m│\u001b[38;2;85;255;85m \u001b[0m\u001b[38;2;85;255;85m7h34m\u001b[0m\u001b[38;2;85;255;85m \u001b[0m│\n",
       "│\u001b[38;2;0;170;0m \u001b[0m\u001b[38;2;0;170;0mproxy-5ddd4b47c9-xhb2d               \u001b[0m\u001b[38;2;0;170;0m \u001b[0m│\u001b[38;2;0;170;170m \u001b[0m\u001b[38;2;0;170;170m1/1  \u001b[0m\u001b[38;2;0;170;170m \u001b[0m│\u001b[38;2;170;170;170m \u001b[0m\u001b[38;2;170;170;170mRunning          \u001b[0m\u001b[38;2;170;170;170m \u001b[0m│\u001b[38;2;255;85;85m \u001b[0m\u001b[38;2;255;85;85m0       \u001b[0m\u001b[38;2;255;85;85m \u001b[0m│\u001b[38;2;85;255;85m \u001b[0m\u001b[38;2;85;255;85m43h  \u001b[0m\u001b[38;2;85;255;85m \u001b[0m│\n",
       "└───────────────────────────────────────┴───────┴───────────────────┴──────────┴───────┘\n"
      ]
     },
     "metadata": {},
     "output_type": "display_data"
    },
    {
     "data": {
      "text/html": [
       "<pre style=\"white-space:pre;overflow-x:auto;line-height:normal;font-family:Menlo,'DejaVu Sans Mono',consolas,'Courier New',monospace\">elapsed: <span style=\"color: #008080; text-decoration-color: #008080; font-weight: bold\">6.32</span> seconds\n",
       "</pre>\n"
      ],
      "text/plain": [
       "elapsed: \u001b[1;36m6.32\u001b[0m seconds\n"
      ]
     },
     "metadata": {},
     "output_type": "display_data"
    },
    {
     "data": {
      "text/html": [
       "<pre style=\"white-space:pre;overflow-x:auto;line-height:normal;font-family:Menlo,'DejaVu Sans Mono',consolas,'Courier New',monospace\">┏━━━━━━━━━━━━━━━━━━━━━━━━━━━━━━━━━━━━━━━┳━━━━━━━┳━━━━━━━━━━━━━━━━━━━┳━━━━━━━━━━┳━━━━━━━┓\n",
       "┃<span style=\"font-weight: bold\"> NAME                                  </span>┃<span style=\"font-weight: bold\"> READY </span>┃<span style=\"font-weight: bold\"> STATUS            </span>┃<span style=\"font-weight: bold\"> RESTARTS </span>┃<span style=\"font-weight: bold\"> AGE   </span>┃\n",
       "┡━━━━━━━━━━━━━━━━━━━━━━━━━━━━━━━━━━━━━━━╇━━━━━━━╇━━━━━━━━━━━━━━━━━━━╇━━━━━━━━━━╇━━━━━━━┩\n",
       "│<span style=\"color: #00aa00; text-decoration-color: #00aa00\"> ata-pod                               </span>│<span style=\"color: #00aaaa; text-decoration-color: #00aaaa\"> 0/1   </span>│<span style=\"color: #aaaaaa; text-decoration-color: #aaaaaa\"> ContainerCreating </span>│<span style=\"color: #ff5555; text-decoration-color: #ff5555\"> 0        </span>│<span style=\"color: #55ff55; text-decoration-color: #55ff55\"> 95m   </span>│\n",
       "│<span style=\"color: #00aa00; text-decoration-color: #00aa00\"> gpu-pod-xmkqv                         </span>│<span style=\"color: #00aaaa; text-decoration-color: #00aaaa\"> 0/1   </span>│<span style=\"color: #aaaaaa; text-decoration-color: #aaaaaa\"> ContainerCreating </span>│<span style=\"color: #ff5555; text-decoration-color: #ff5555\"> 0        </span>│<span style=\"color: #55ff55; text-decoration-color: #55ff55\"> 110s  </span>│\n",
       "│<span style=\"color: #00aa00; text-decoration-color: #00aa00\"> hub-859c877b85-fzfrj                  </span>│<span style=\"color: #00aaaa; text-decoration-color: #00aaaa\"> 1/1   </span>│<span style=\"color: #aaaaaa; text-decoration-color: #aaaaaa\"> Running           </span>│<span style=\"color: #ff5555; text-decoration-color: #ff5555\"> 0        </span>│<span style=\"color: #55ff55; text-decoration-color: #55ff55\"> 5d    </span>│\n",
       "│<span style=\"color: #00aa00; text-decoration-color: #00aa00\"> jupyter-ataaakbari-40googlemail-2ecom </span>│<span style=\"color: #00aaaa; text-decoration-color: #00aaaa\"> 1/1   </span>│<span style=\"color: #aaaaaa; text-decoration-color: #aaaaaa\"> Running           </span>│<span style=\"color: #ff5555; text-decoration-color: #ff5555\"> 0        </span>│<span style=\"color: #55ff55; text-decoration-color: #55ff55\"> 57m   </span>│\n",
       "│<span style=\"color: #00aa00; text-decoration-color: #00aa00\"> jupyter-fawudarski-40gmail-2ecom      </span>│<span style=\"color: #00aaaa; text-decoration-color: #00aaaa\"> 1/1   </span>│<span style=\"color: #aaaaaa; text-decoration-color: #aaaaaa\"> Running           </span>│<span style=\"color: #ff5555; text-decoration-color: #ff5555\"> 0        </span>│<span style=\"color: #55ff55; text-decoration-color: #55ff55\"> 7h35m </span>│\n",
       "│<span style=\"color: #00aa00; text-decoration-color: #00aa00\"> proxy-5ddd4b47c9-xhb2d                </span>│<span style=\"color: #00aaaa; text-decoration-color: #00aaaa\"> 1/1   </span>│<span style=\"color: #aaaaaa; text-decoration-color: #aaaaaa\"> Running           </span>│<span style=\"color: #ff5555; text-decoration-color: #ff5555\"> 0        </span>│<span style=\"color: #55ff55; text-decoration-color: #55ff55\"> 43h   </span>│\n",
       "└───────────────────────────────────────┴───────┴───────────────────┴──────────┴───────┘\n",
       "</pre>\n"
      ],
      "text/plain": [
       "┏━━━━━━━━━━━━━━━━━━━━━━━━━━━━━━━━━━━━━━━┳━━━━━━━┳━━━━━━━━━━━━━━━━━━━┳━━━━━━━━━━┳━━━━━━━┓\n",
       "┃\u001b[1m \u001b[0m\u001b[1mNAME                                 \u001b[0m\u001b[1m \u001b[0m┃\u001b[1m \u001b[0m\u001b[1mREADY\u001b[0m\u001b[1m \u001b[0m┃\u001b[1m \u001b[0m\u001b[1mSTATUS           \u001b[0m\u001b[1m \u001b[0m┃\u001b[1m \u001b[0m\u001b[1mRESTARTS\u001b[0m\u001b[1m \u001b[0m┃\u001b[1m \u001b[0m\u001b[1mAGE  \u001b[0m\u001b[1m \u001b[0m┃\n",
       "┡━━━━━━━━━━━━━━━━━━━━━━━━━━━━━━━━━━━━━━━╇━━━━━━━╇━━━━━━━━━━━━━━━━━━━╇━━━━━━━━━━╇━━━━━━━┩\n",
       "│\u001b[38;2;0;170;0m \u001b[0m\u001b[38;2;0;170;0mata-pod                              \u001b[0m\u001b[38;2;0;170;0m \u001b[0m│\u001b[38;2;0;170;170m \u001b[0m\u001b[38;2;0;170;170m0/1  \u001b[0m\u001b[38;2;0;170;170m \u001b[0m│\u001b[38;2;170;170;170m \u001b[0m\u001b[38;2;170;170;170mContainerCreating\u001b[0m\u001b[38;2;170;170;170m \u001b[0m│\u001b[38;2;255;85;85m \u001b[0m\u001b[38;2;255;85;85m0       \u001b[0m\u001b[38;2;255;85;85m \u001b[0m│\u001b[38;2;85;255;85m \u001b[0m\u001b[38;2;85;255;85m95m  \u001b[0m\u001b[38;2;85;255;85m \u001b[0m│\n",
       "│\u001b[38;2;0;170;0m \u001b[0m\u001b[38;2;0;170;0mgpu-pod-xmkqv                        \u001b[0m\u001b[38;2;0;170;0m \u001b[0m│\u001b[38;2;0;170;170m \u001b[0m\u001b[38;2;0;170;170m0/1  \u001b[0m\u001b[38;2;0;170;170m \u001b[0m│\u001b[38;2;170;170;170m \u001b[0m\u001b[38;2;170;170;170mContainerCreating\u001b[0m\u001b[38;2;170;170;170m \u001b[0m│\u001b[38;2;255;85;85m \u001b[0m\u001b[38;2;255;85;85m0       \u001b[0m\u001b[38;2;255;85;85m \u001b[0m│\u001b[38;2;85;255;85m \u001b[0m\u001b[38;2;85;255;85m110s \u001b[0m\u001b[38;2;85;255;85m \u001b[0m│\n",
       "│\u001b[38;2;0;170;0m \u001b[0m\u001b[38;2;0;170;0mhub-859c877b85-fzfrj                 \u001b[0m\u001b[38;2;0;170;0m \u001b[0m│\u001b[38;2;0;170;170m \u001b[0m\u001b[38;2;0;170;170m1/1  \u001b[0m\u001b[38;2;0;170;170m \u001b[0m│\u001b[38;2;170;170;170m \u001b[0m\u001b[38;2;170;170;170mRunning          \u001b[0m\u001b[38;2;170;170;170m \u001b[0m│\u001b[38;2;255;85;85m \u001b[0m\u001b[38;2;255;85;85m0       \u001b[0m\u001b[38;2;255;85;85m \u001b[0m│\u001b[38;2;85;255;85m \u001b[0m\u001b[38;2;85;255;85m5d   \u001b[0m\u001b[38;2;85;255;85m \u001b[0m│\n",
       "│\u001b[38;2;0;170;0m \u001b[0m\u001b[38;2;0;170;0mjupyter-ataaakbari-40googlemail-2ecom\u001b[0m\u001b[38;2;0;170;0m \u001b[0m│\u001b[38;2;0;170;170m \u001b[0m\u001b[38;2;0;170;170m1/1  \u001b[0m\u001b[38;2;0;170;170m \u001b[0m│\u001b[38;2;170;170;170m \u001b[0m\u001b[38;2;170;170;170mRunning          \u001b[0m\u001b[38;2;170;170;170m \u001b[0m│\u001b[38;2;255;85;85m \u001b[0m\u001b[38;2;255;85;85m0       \u001b[0m\u001b[38;2;255;85;85m \u001b[0m│\u001b[38;2;85;255;85m \u001b[0m\u001b[38;2;85;255;85m57m  \u001b[0m\u001b[38;2;85;255;85m \u001b[0m│\n",
       "│\u001b[38;2;0;170;0m \u001b[0m\u001b[38;2;0;170;0mjupyter-fawudarski-40gmail-2ecom     \u001b[0m\u001b[38;2;0;170;0m \u001b[0m│\u001b[38;2;0;170;170m \u001b[0m\u001b[38;2;0;170;170m1/1  \u001b[0m\u001b[38;2;0;170;170m \u001b[0m│\u001b[38;2;170;170;170m \u001b[0m\u001b[38;2;170;170;170mRunning          \u001b[0m\u001b[38;2;170;170;170m \u001b[0m│\u001b[38;2;255;85;85m \u001b[0m\u001b[38;2;255;85;85m0       \u001b[0m\u001b[38;2;255;85;85m \u001b[0m│\u001b[38;2;85;255;85m \u001b[0m\u001b[38;2;85;255;85m7h35m\u001b[0m\u001b[38;2;85;255;85m \u001b[0m│\n",
       "│\u001b[38;2;0;170;0m \u001b[0m\u001b[38;2;0;170;0mproxy-5ddd4b47c9-xhb2d               \u001b[0m\u001b[38;2;0;170;0m \u001b[0m│\u001b[38;2;0;170;170m \u001b[0m\u001b[38;2;0;170;170m1/1  \u001b[0m\u001b[38;2;0;170;170m \u001b[0m│\u001b[38;2;170;170;170m \u001b[0m\u001b[38;2;170;170;170mRunning          \u001b[0m\u001b[38;2;170;170;170m \u001b[0m│\u001b[38;2;255;85;85m \u001b[0m\u001b[38;2;255;85;85m0       \u001b[0m\u001b[38;2;255;85;85m \u001b[0m│\u001b[38;2;85;255;85m \u001b[0m\u001b[38;2;85;255;85m43h  \u001b[0m\u001b[38;2;85;255;85m \u001b[0m│\n",
       "└───────────────────────────────────────┴───────┴───────────────────┴──────────┴───────┘\n"
      ]
     },
     "metadata": {},
     "output_type": "display_data"
    },
    {
     "data": {
      "text/html": [
       "<pre style=\"white-space:pre;overflow-x:auto;line-height:normal;font-family:Menlo,'DejaVu Sans Mono',consolas,'Courier New',monospace\">elapsed: <span style=\"color: #008080; text-decoration-color: #008080; font-weight: bold\">6.31</span> seconds\n",
       "</pre>\n"
      ],
      "text/plain": [
       "elapsed: \u001b[1;36m6.31\u001b[0m seconds\n"
      ]
     },
     "metadata": {},
     "output_type": "display_data"
    },
    {
     "data": {
      "text/html": [
       "<pre style=\"white-space:pre;overflow-x:auto;line-height:normal;font-family:Menlo,'DejaVu Sans Mono',consolas,'Courier New',monospace\">┏━━━━━━━━━━━━━━━━━━━━━━━━━━━━━━━━━━━━━━━┳━━━━━━━┳━━━━━━━━━━━━━━━━━━━┳━━━━━━━━━━┳━━━━━━━┓\n",
       "┃<span style=\"font-weight: bold\"> NAME                                  </span>┃<span style=\"font-weight: bold\"> READY </span>┃<span style=\"font-weight: bold\"> STATUS            </span>┃<span style=\"font-weight: bold\"> RESTARTS </span>┃<span style=\"font-weight: bold\"> AGE   </span>┃\n",
       "┡━━━━━━━━━━━━━━━━━━━━━━━━━━━━━━━━━━━━━━━╇━━━━━━━╇━━━━━━━━━━━━━━━━━━━╇━━━━━━━━━━╇━━━━━━━┩\n",
       "│<span style=\"color: #00aa00; text-decoration-color: #00aa00\"> ata-pod                               </span>│<span style=\"color: #00aaaa; text-decoration-color: #00aaaa\"> 0/1   </span>│<span style=\"color: #aaaaaa; text-decoration-color: #aaaaaa\"> ContainerCreating </span>│<span style=\"color: #ff5555; text-decoration-color: #ff5555\"> 0        </span>│<span style=\"color: #55ff55; text-decoration-color: #55ff55\"> 95m   </span>│\n",
       "│<span style=\"color: #00aa00; text-decoration-color: #00aa00\"> gpu-pod-xmkqv                         </span>│<span style=\"color: #00aaaa; text-decoration-color: #00aaaa\"> 0/1   </span>│<span style=\"color: #aaaaaa; text-decoration-color: #aaaaaa\"> ContainerCreating </span>│<span style=\"color: #ff5555; text-decoration-color: #ff5555\"> 0        </span>│<span style=\"color: #55ff55; text-decoration-color: #55ff55\"> 116s  </span>│\n",
       "│<span style=\"color: #00aa00; text-decoration-color: #00aa00\"> hub-859c877b85-fzfrj                  </span>│<span style=\"color: #00aaaa; text-decoration-color: #00aaaa\"> 1/1   </span>│<span style=\"color: #aaaaaa; text-decoration-color: #aaaaaa\"> Running           </span>│<span style=\"color: #ff5555; text-decoration-color: #ff5555\"> 0        </span>│<span style=\"color: #55ff55; text-decoration-color: #55ff55\"> 5d    </span>│\n",
       "│<span style=\"color: #00aa00; text-decoration-color: #00aa00\"> jupyter-ataaakbari-40googlemail-2ecom </span>│<span style=\"color: #00aaaa; text-decoration-color: #00aaaa\"> 1/1   </span>│<span style=\"color: #aaaaaa; text-decoration-color: #aaaaaa\"> Running           </span>│<span style=\"color: #ff5555; text-decoration-color: #ff5555\"> 0        </span>│<span style=\"color: #55ff55; text-decoration-color: #55ff55\"> 57m   </span>│\n",
       "│<span style=\"color: #00aa00; text-decoration-color: #00aa00\"> jupyter-fawudarski-40gmail-2ecom      </span>│<span style=\"color: #00aaaa; text-decoration-color: #00aaaa\"> 1/1   </span>│<span style=\"color: #aaaaaa; text-decoration-color: #aaaaaa\"> Running           </span>│<span style=\"color: #ff5555; text-decoration-color: #ff5555\"> 0        </span>│<span style=\"color: #55ff55; text-decoration-color: #55ff55\"> 7h35m </span>│\n",
       "│<span style=\"color: #00aa00; text-decoration-color: #00aa00\"> proxy-5ddd4b47c9-xhb2d                </span>│<span style=\"color: #00aaaa; text-decoration-color: #00aaaa\"> 1/1   </span>│<span style=\"color: #aaaaaa; text-decoration-color: #aaaaaa\"> Running           </span>│<span style=\"color: #ff5555; text-decoration-color: #ff5555\"> 0        </span>│<span style=\"color: #55ff55; text-decoration-color: #55ff55\"> 43h   </span>│\n",
       "└───────────────────────────────────────┴───────┴───────────────────┴──────────┴───────┘\n",
       "</pre>\n"
      ],
      "text/plain": [
       "┏━━━━━━━━━━━━━━━━━━━━━━━━━━━━━━━━━━━━━━━┳━━━━━━━┳━━━━━━━━━━━━━━━━━━━┳━━━━━━━━━━┳━━━━━━━┓\n",
       "┃\u001b[1m \u001b[0m\u001b[1mNAME                                 \u001b[0m\u001b[1m \u001b[0m┃\u001b[1m \u001b[0m\u001b[1mREADY\u001b[0m\u001b[1m \u001b[0m┃\u001b[1m \u001b[0m\u001b[1mSTATUS           \u001b[0m\u001b[1m \u001b[0m┃\u001b[1m \u001b[0m\u001b[1mRESTARTS\u001b[0m\u001b[1m \u001b[0m┃\u001b[1m \u001b[0m\u001b[1mAGE  \u001b[0m\u001b[1m \u001b[0m┃\n",
       "┡━━━━━━━━━━━━━━━━━━━━━━━━━━━━━━━━━━━━━━━╇━━━━━━━╇━━━━━━━━━━━━━━━━━━━╇━━━━━━━━━━╇━━━━━━━┩\n",
       "│\u001b[38;2;0;170;0m \u001b[0m\u001b[38;2;0;170;0mata-pod                              \u001b[0m\u001b[38;2;0;170;0m \u001b[0m│\u001b[38;2;0;170;170m \u001b[0m\u001b[38;2;0;170;170m0/1  \u001b[0m\u001b[38;2;0;170;170m \u001b[0m│\u001b[38;2;170;170;170m \u001b[0m\u001b[38;2;170;170;170mContainerCreating\u001b[0m\u001b[38;2;170;170;170m \u001b[0m│\u001b[38;2;255;85;85m \u001b[0m\u001b[38;2;255;85;85m0       \u001b[0m\u001b[38;2;255;85;85m \u001b[0m│\u001b[38;2;85;255;85m \u001b[0m\u001b[38;2;85;255;85m95m  \u001b[0m\u001b[38;2;85;255;85m \u001b[0m│\n",
       "│\u001b[38;2;0;170;0m \u001b[0m\u001b[38;2;0;170;0mgpu-pod-xmkqv                        \u001b[0m\u001b[38;2;0;170;0m \u001b[0m│\u001b[38;2;0;170;170m \u001b[0m\u001b[38;2;0;170;170m0/1  \u001b[0m\u001b[38;2;0;170;170m \u001b[0m│\u001b[38;2;170;170;170m \u001b[0m\u001b[38;2;170;170;170mContainerCreating\u001b[0m\u001b[38;2;170;170;170m \u001b[0m│\u001b[38;2;255;85;85m \u001b[0m\u001b[38;2;255;85;85m0       \u001b[0m\u001b[38;2;255;85;85m \u001b[0m│\u001b[38;2;85;255;85m \u001b[0m\u001b[38;2;85;255;85m116s \u001b[0m\u001b[38;2;85;255;85m \u001b[0m│\n",
       "│\u001b[38;2;0;170;0m \u001b[0m\u001b[38;2;0;170;0mhub-859c877b85-fzfrj                 \u001b[0m\u001b[38;2;0;170;0m \u001b[0m│\u001b[38;2;0;170;170m \u001b[0m\u001b[38;2;0;170;170m1/1  \u001b[0m\u001b[38;2;0;170;170m \u001b[0m│\u001b[38;2;170;170;170m \u001b[0m\u001b[38;2;170;170;170mRunning          \u001b[0m\u001b[38;2;170;170;170m \u001b[0m│\u001b[38;2;255;85;85m \u001b[0m\u001b[38;2;255;85;85m0       \u001b[0m\u001b[38;2;255;85;85m \u001b[0m│\u001b[38;2;85;255;85m \u001b[0m\u001b[38;2;85;255;85m5d   \u001b[0m\u001b[38;2;85;255;85m \u001b[0m│\n",
       "│\u001b[38;2;0;170;0m \u001b[0m\u001b[38;2;0;170;0mjupyter-ataaakbari-40googlemail-2ecom\u001b[0m\u001b[38;2;0;170;0m \u001b[0m│\u001b[38;2;0;170;170m \u001b[0m\u001b[38;2;0;170;170m1/1  \u001b[0m\u001b[38;2;0;170;170m \u001b[0m│\u001b[38;2;170;170;170m \u001b[0m\u001b[38;2;170;170;170mRunning          \u001b[0m\u001b[38;2;170;170;170m \u001b[0m│\u001b[38;2;255;85;85m \u001b[0m\u001b[38;2;255;85;85m0       \u001b[0m\u001b[38;2;255;85;85m \u001b[0m│\u001b[38;2;85;255;85m \u001b[0m\u001b[38;2;85;255;85m57m  \u001b[0m\u001b[38;2;85;255;85m \u001b[0m│\n",
       "│\u001b[38;2;0;170;0m \u001b[0m\u001b[38;2;0;170;0mjupyter-fawudarski-40gmail-2ecom     \u001b[0m\u001b[38;2;0;170;0m \u001b[0m│\u001b[38;2;0;170;170m \u001b[0m\u001b[38;2;0;170;170m1/1  \u001b[0m\u001b[38;2;0;170;170m \u001b[0m│\u001b[38;2;170;170;170m \u001b[0m\u001b[38;2;170;170;170mRunning          \u001b[0m\u001b[38;2;170;170;170m \u001b[0m│\u001b[38;2;255;85;85m \u001b[0m\u001b[38;2;255;85;85m0       \u001b[0m\u001b[38;2;255;85;85m \u001b[0m│\u001b[38;2;85;255;85m \u001b[0m\u001b[38;2;85;255;85m7h35m\u001b[0m\u001b[38;2;85;255;85m \u001b[0m│\n",
       "│\u001b[38;2;0;170;0m \u001b[0m\u001b[38;2;0;170;0mproxy-5ddd4b47c9-xhb2d               \u001b[0m\u001b[38;2;0;170;0m \u001b[0m│\u001b[38;2;0;170;170m \u001b[0m\u001b[38;2;0;170;170m1/1  \u001b[0m\u001b[38;2;0;170;170m \u001b[0m│\u001b[38;2;170;170;170m \u001b[0m\u001b[38;2;170;170;170mRunning          \u001b[0m\u001b[38;2;170;170;170m \u001b[0m│\u001b[38;2;255;85;85m \u001b[0m\u001b[38;2;255;85;85m0       \u001b[0m\u001b[38;2;255;85;85m \u001b[0m│\u001b[38;2;85;255;85m \u001b[0m\u001b[38;2;85;255;85m43h  \u001b[0m\u001b[38;2;85;255;85m \u001b[0m│\n",
       "└───────────────────────────────────────┴───────┴───────────────────┴──────────┴───────┘\n"
      ]
     },
     "metadata": {},
     "output_type": "display_data"
    },
    {
     "data": {
      "text/html": [
       "<pre style=\"white-space:pre;overflow-x:auto;line-height:normal;font-family:Menlo,'DejaVu Sans Mono',consolas,'Courier New',monospace\">elapsed: <span style=\"color: #008080; text-decoration-color: #008080; font-weight: bold\">6.32</span> seconds\n",
       "</pre>\n"
      ],
      "text/plain": [
       "elapsed: \u001b[1;36m6.32\u001b[0m seconds\n"
      ]
     },
     "metadata": {},
     "output_type": "display_data"
    },
    {
     "data": {
      "text/html": [
       "<pre style=\"white-space:pre;overflow-x:auto;line-height:normal;font-family:Menlo,'DejaVu Sans Mono',consolas,'Courier New',monospace\">┏━━━━━━━━━━━━━━━━━━━━━━━━━━━━━━━━━━━━━━━┳━━━━━━━┳━━━━━━━━━━━━━━━━━━━┳━━━━━━━━━━┳━━━━━━━┓\n",
       "┃<span style=\"font-weight: bold\"> NAME                                  </span>┃<span style=\"font-weight: bold\"> READY </span>┃<span style=\"font-weight: bold\"> STATUS            </span>┃<span style=\"font-weight: bold\"> RESTARTS </span>┃<span style=\"font-weight: bold\"> AGE   </span>┃\n",
       "┡━━━━━━━━━━━━━━━━━━━━━━━━━━━━━━━━━━━━━━━╇━━━━━━━╇━━━━━━━━━━━━━━━━━━━╇━━━━━━━━━━╇━━━━━━━┩\n",
       "│<span style=\"color: #00aa00; text-decoration-color: #00aa00\"> ata-pod                               </span>│<span style=\"color: #00aaaa; text-decoration-color: #00aaaa\"> 0/1   </span>│<span style=\"color: #aaaaaa; text-decoration-color: #aaaaaa\"> ContainerCreating </span>│<span style=\"color: #ff5555; text-decoration-color: #ff5555\"> 0        </span>│<span style=\"color: #55ff55; text-decoration-color: #55ff55\"> 95m   </span>│\n",
       "│<span style=\"color: #00aa00; text-decoration-color: #00aa00\"> gpu-pod-xmkqv                         </span>│<span style=\"color: #00aaaa; text-decoration-color: #00aaaa\"> 0/1   </span>│<span style=\"color: #aaaaaa; text-decoration-color: #aaaaaa\"> ContainerCreating </span>│<span style=\"color: #ff5555; text-decoration-color: #ff5555\"> 0        </span>│<span style=\"color: #55ff55; text-decoration-color: #55ff55\"> 2m3s  </span>│\n",
       "│<span style=\"color: #00aa00; text-decoration-color: #00aa00\"> hub-859c877b85-fzfrj                  </span>│<span style=\"color: #00aaaa; text-decoration-color: #00aaaa\"> 1/1   </span>│<span style=\"color: #aaaaaa; text-decoration-color: #aaaaaa\"> Running           </span>│<span style=\"color: #ff5555; text-decoration-color: #ff5555\"> 0        </span>│<span style=\"color: #55ff55; text-decoration-color: #55ff55\"> 5d    </span>│\n",
       "│<span style=\"color: #00aa00; text-decoration-color: #00aa00\"> jupyter-ataaakbari-40googlemail-2ecom </span>│<span style=\"color: #00aaaa; text-decoration-color: #00aaaa\"> 1/1   </span>│<span style=\"color: #aaaaaa; text-decoration-color: #aaaaaa\"> Running           </span>│<span style=\"color: #ff5555; text-decoration-color: #ff5555\"> 0        </span>│<span style=\"color: #55ff55; text-decoration-color: #55ff55\"> 57m   </span>│\n",
       "│<span style=\"color: #00aa00; text-decoration-color: #00aa00\"> jupyter-fawudarski-40gmail-2ecom      </span>│<span style=\"color: #00aaaa; text-decoration-color: #00aaaa\"> 1/1   </span>│<span style=\"color: #aaaaaa; text-decoration-color: #aaaaaa\"> Running           </span>│<span style=\"color: #ff5555; text-decoration-color: #ff5555\"> 0        </span>│<span style=\"color: #55ff55; text-decoration-color: #55ff55\"> 7h35m </span>│\n",
       "│<span style=\"color: #00aa00; text-decoration-color: #00aa00\"> proxy-5ddd4b47c9-xhb2d                </span>│<span style=\"color: #00aaaa; text-decoration-color: #00aaaa\"> 1/1   </span>│<span style=\"color: #aaaaaa; text-decoration-color: #aaaaaa\"> Running           </span>│<span style=\"color: #ff5555; text-decoration-color: #ff5555\"> 0        </span>│<span style=\"color: #55ff55; text-decoration-color: #55ff55\"> 43h   </span>│\n",
       "└───────────────────────────────────────┴───────┴───────────────────┴──────────┴───────┘\n",
       "</pre>\n"
      ],
      "text/plain": [
       "┏━━━━━━━━━━━━━━━━━━━━━━━━━━━━━━━━━━━━━━━┳━━━━━━━┳━━━━━━━━━━━━━━━━━━━┳━━━━━━━━━━┳━━━━━━━┓\n",
       "┃\u001b[1m \u001b[0m\u001b[1mNAME                                 \u001b[0m\u001b[1m \u001b[0m┃\u001b[1m \u001b[0m\u001b[1mREADY\u001b[0m\u001b[1m \u001b[0m┃\u001b[1m \u001b[0m\u001b[1mSTATUS           \u001b[0m\u001b[1m \u001b[0m┃\u001b[1m \u001b[0m\u001b[1mRESTARTS\u001b[0m\u001b[1m \u001b[0m┃\u001b[1m \u001b[0m\u001b[1mAGE  \u001b[0m\u001b[1m \u001b[0m┃\n",
       "┡━━━━━━━━━━━━━━━━━━━━━━━━━━━━━━━━━━━━━━━╇━━━━━━━╇━━━━━━━━━━━━━━━━━━━╇━━━━━━━━━━╇━━━━━━━┩\n",
       "│\u001b[38;2;0;170;0m \u001b[0m\u001b[38;2;0;170;0mata-pod                              \u001b[0m\u001b[38;2;0;170;0m \u001b[0m│\u001b[38;2;0;170;170m \u001b[0m\u001b[38;2;0;170;170m0/1  \u001b[0m\u001b[38;2;0;170;170m \u001b[0m│\u001b[38;2;170;170;170m \u001b[0m\u001b[38;2;170;170;170mContainerCreating\u001b[0m\u001b[38;2;170;170;170m \u001b[0m│\u001b[38;2;255;85;85m \u001b[0m\u001b[38;2;255;85;85m0       \u001b[0m\u001b[38;2;255;85;85m \u001b[0m│\u001b[38;2;85;255;85m \u001b[0m\u001b[38;2;85;255;85m95m  \u001b[0m\u001b[38;2;85;255;85m \u001b[0m│\n",
       "│\u001b[38;2;0;170;0m \u001b[0m\u001b[38;2;0;170;0mgpu-pod-xmkqv                        \u001b[0m\u001b[38;2;0;170;0m \u001b[0m│\u001b[38;2;0;170;170m \u001b[0m\u001b[38;2;0;170;170m0/1  \u001b[0m\u001b[38;2;0;170;170m \u001b[0m│\u001b[38;2;170;170;170m \u001b[0m\u001b[38;2;170;170;170mContainerCreating\u001b[0m\u001b[38;2;170;170;170m \u001b[0m│\u001b[38;2;255;85;85m \u001b[0m\u001b[38;2;255;85;85m0       \u001b[0m\u001b[38;2;255;85;85m \u001b[0m│\u001b[38;2;85;255;85m \u001b[0m\u001b[38;2;85;255;85m2m3s \u001b[0m\u001b[38;2;85;255;85m \u001b[0m│\n",
       "│\u001b[38;2;0;170;0m \u001b[0m\u001b[38;2;0;170;0mhub-859c877b85-fzfrj                 \u001b[0m\u001b[38;2;0;170;0m \u001b[0m│\u001b[38;2;0;170;170m \u001b[0m\u001b[38;2;0;170;170m1/1  \u001b[0m\u001b[38;2;0;170;170m \u001b[0m│\u001b[38;2;170;170;170m \u001b[0m\u001b[38;2;170;170;170mRunning          \u001b[0m\u001b[38;2;170;170;170m \u001b[0m│\u001b[38;2;255;85;85m \u001b[0m\u001b[38;2;255;85;85m0       \u001b[0m\u001b[38;2;255;85;85m \u001b[0m│\u001b[38;2;85;255;85m \u001b[0m\u001b[38;2;85;255;85m5d   \u001b[0m\u001b[38;2;85;255;85m \u001b[0m│\n",
       "│\u001b[38;2;0;170;0m \u001b[0m\u001b[38;2;0;170;0mjupyter-ataaakbari-40googlemail-2ecom\u001b[0m\u001b[38;2;0;170;0m \u001b[0m│\u001b[38;2;0;170;170m \u001b[0m\u001b[38;2;0;170;170m1/1  \u001b[0m\u001b[38;2;0;170;170m \u001b[0m│\u001b[38;2;170;170;170m \u001b[0m\u001b[38;2;170;170;170mRunning          \u001b[0m\u001b[38;2;170;170;170m \u001b[0m│\u001b[38;2;255;85;85m \u001b[0m\u001b[38;2;255;85;85m0       \u001b[0m\u001b[38;2;255;85;85m \u001b[0m│\u001b[38;2;85;255;85m \u001b[0m\u001b[38;2;85;255;85m57m  \u001b[0m\u001b[38;2;85;255;85m \u001b[0m│\n",
       "│\u001b[38;2;0;170;0m \u001b[0m\u001b[38;2;0;170;0mjupyter-fawudarski-40gmail-2ecom     \u001b[0m\u001b[38;2;0;170;0m \u001b[0m│\u001b[38;2;0;170;170m \u001b[0m\u001b[38;2;0;170;170m1/1  \u001b[0m\u001b[38;2;0;170;170m \u001b[0m│\u001b[38;2;170;170;170m \u001b[0m\u001b[38;2;170;170;170mRunning          \u001b[0m\u001b[38;2;170;170;170m \u001b[0m│\u001b[38;2;255;85;85m \u001b[0m\u001b[38;2;255;85;85m0       \u001b[0m\u001b[38;2;255;85;85m \u001b[0m│\u001b[38;2;85;255;85m \u001b[0m\u001b[38;2;85;255;85m7h35m\u001b[0m\u001b[38;2;85;255;85m \u001b[0m│\n",
       "│\u001b[38;2;0;170;0m \u001b[0m\u001b[38;2;0;170;0mproxy-5ddd4b47c9-xhb2d               \u001b[0m\u001b[38;2;0;170;0m \u001b[0m│\u001b[38;2;0;170;170m \u001b[0m\u001b[38;2;0;170;170m1/1  \u001b[0m\u001b[38;2;0;170;170m \u001b[0m│\u001b[38;2;170;170;170m \u001b[0m\u001b[38;2;170;170;170mRunning          \u001b[0m\u001b[38;2;170;170;170m \u001b[0m│\u001b[38;2;255;85;85m \u001b[0m\u001b[38;2;255;85;85m0       \u001b[0m\u001b[38;2;255;85;85m \u001b[0m│\u001b[38;2;85;255;85m \u001b[0m\u001b[38;2;85;255;85m43h  \u001b[0m\u001b[38;2;85;255;85m \u001b[0m│\n",
       "└───────────────────────────────────────┴───────┴───────────────────┴──────────┴───────┘\n"
      ]
     },
     "metadata": {},
     "output_type": "display_data"
    },
    {
     "data": {
      "text/html": [
       "<pre style=\"white-space:pre;overflow-x:auto;line-height:normal;font-family:Menlo,'DejaVu Sans Mono',consolas,'Courier New',monospace\">elapsed: <span style=\"color: #008080; text-decoration-color: #008080; font-weight: bold\">6.32</span> seconds\n",
       "</pre>\n"
      ],
      "text/plain": [
       "elapsed: \u001b[1;36m6.32\u001b[0m seconds\n"
      ]
     },
     "metadata": {},
     "output_type": "display_data"
    },
    {
     "data": {
      "text/html": [
       "<pre style=\"white-space:pre;overflow-x:auto;line-height:normal;font-family:Menlo,'DejaVu Sans Mono',consolas,'Courier New',monospace\">┏━━━━━━━━━━━━━━━━━━━━━━━━━━━━━━━━━━━━━━━┳━━━━━━━┳━━━━━━━━━━━━━━━━━━━┳━━━━━━━━━━┳━━━━━━━┓\n",
       "┃<span style=\"font-weight: bold\"> NAME                                  </span>┃<span style=\"font-weight: bold\"> READY </span>┃<span style=\"font-weight: bold\"> STATUS            </span>┃<span style=\"font-weight: bold\"> RESTARTS </span>┃<span style=\"font-weight: bold\"> AGE   </span>┃\n",
       "┡━━━━━━━━━━━━━━━━━━━━━━━━━━━━━━━━━━━━━━━╇━━━━━━━╇━━━━━━━━━━━━━━━━━━━╇━━━━━━━━━━╇━━━━━━━┩\n",
       "│<span style=\"color: #00aa00; text-decoration-color: #00aa00\"> ata-pod                               </span>│<span style=\"color: #00aaaa; text-decoration-color: #00aaaa\"> 0/1   </span>│<span style=\"color: #aaaaaa; text-decoration-color: #aaaaaa\"> ContainerCreating </span>│<span style=\"color: #ff5555; text-decoration-color: #ff5555\"> 0        </span>│<span style=\"color: #55ff55; text-decoration-color: #55ff55\"> 95m   </span>│\n",
       "│<span style=\"color: #00aa00; text-decoration-color: #00aa00\"> gpu-pod-xmkqv                         </span>│<span style=\"color: #00aaaa; text-decoration-color: #00aaaa\"> 0/1   </span>│<span style=\"color: #aaaaaa; text-decoration-color: #aaaaaa\"> ContainerCreating </span>│<span style=\"color: #ff5555; text-decoration-color: #ff5555\"> 0        </span>│<span style=\"color: #55ff55; text-decoration-color: #55ff55\"> 2m9s  </span>│\n",
       "│<span style=\"color: #00aa00; text-decoration-color: #00aa00\"> hub-859c877b85-fzfrj                  </span>│<span style=\"color: #00aaaa; text-decoration-color: #00aaaa\"> 1/1   </span>│<span style=\"color: #aaaaaa; text-decoration-color: #aaaaaa\"> Running           </span>│<span style=\"color: #ff5555; text-decoration-color: #ff5555\"> 0        </span>│<span style=\"color: #55ff55; text-decoration-color: #55ff55\"> 5d    </span>│\n",
       "│<span style=\"color: #00aa00; text-decoration-color: #00aa00\"> jupyter-ataaakbari-40googlemail-2ecom </span>│<span style=\"color: #00aaaa; text-decoration-color: #00aaaa\"> 1/1   </span>│<span style=\"color: #aaaaaa; text-decoration-color: #aaaaaa\"> Running           </span>│<span style=\"color: #ff5555; text-decoration-color: #ff5555\"> 0        </span>│<span style=\"color: #55ff55; text-decoration-color: #55ff55\"> 57m   </span>│\n",
       "│<span style=\"color: #00aa00; text-decoration-color: #00aa00\"> jupyter-fawudarski-40gmail-2ecom      </span>│<span style=\"color: #00aaaa; text-decoration-color: #00aaaa\"> 1/1   </span>│<span style=\"color: #aaaaaa; text-decoration-color: #aaaaaa\"> Running           </span>│<span style=\"color: #ff5555; text-decoration-color: #ff5555\"> 0        </span>│<span style=\"color: #55ff55; text-decoration-color: #55ff55\"> 7h35m </span>│\n",
       "│<span style=\"color: #00aa00; text-decoration-color: #00aa00\"> proxy-5ddd4b47c9-xhb2d                </span>│<span style=\"color: #00aaaa; text-decoration-color: #00aaaa\"> 1/1   </span>│<span style=\"color: #aaaaaa; text-decoration-color: #aaaaaa\"> Running           </span>│<span style=\"color: #ff5555; text-decoration-color: #ff5555\"> 0        </span>│<span style=\"color: #55ff55; text-decoration-color: #55ff55\"> 43h   </span>│\n",
       "└───────────────────────────────────────┴───────┴───────────────────┴──────────┴───────┘\n",
       "</pre>\n"
      ],
      "text/plain": [
       "┏━━━━━━━━━━━━━━━━━━━━━━━━━━━━━━━━━━━━━━━┳━━━━━━━┳━━━━━━━━━━━━━━━━━━━┳━━━━━━━━━━┳━━━━━━━┓\n",
       "┃\u001b[1m \u001b[0m\u001b[1mNAME                                 \u001b[0m\u001b[1m \u001b[0m┃\u001b[1m \u001b[0m\u001b[1mREADY\u001b[0m\u001b[1m \u001b[0m┃\u001b[1m \u001b[0m\u001b[1mSTATUS           \u001b[0m\u001b[1m \u001b[0m┃\u001b[1m \u001b[0m\u001b[1mRESTARTS\u001b[0m\u001b[1m \u001b[0m┃\u001b[1m \u001b[0m\u001b[1mAGE  \u001b[0m\u001b[1m \u001b[0m┃\n",
       "┡━━━━━━━━━━━━━━━━━━━━━━━━━━━━━━━━━━━━━━━╇━━━━━━━╇━━━━━━━━━━━━━━━━━━━╇━━━━━━━━━━╇━━━━━━━┩\n",
       "│\u001b[38;2;0;170;0m \u001b[0m\u001b[38;2;0;170;0mata-pod                              \u001b[0m\u001b[38;2;0;170;0m \u001b[0m│\u001b[38;2;0;170;170m \u001b[0m\u001b[38;2;0;170;170m0/1  \u001b[0m\u001b[38;2;0;170;170m \u001b[0m│\u001b[38;2;170;170;170m \u001b[0m\u001b[38;2;170;170;170mContainerCreating\u001b[0m\u001b[38;2;170;170;170m \u001b[0m│\u001b[38;2;255;85;85m \u001b[0m\u001b[38;2;255;85;85m0       \u001b[0m\u001b[38;2;255;85;85m \u001b[0m│\u001b[38;2;85;255;85m \u001b[0m\u001b[38;2;85;255;85m95m  \u001b[0m\u001b[38;2;85;255;85m \u001b[0m│\n",
       "│\u001b[38;2;0;170;0m \u001b[0m\u001b[38;2;0;170;0mgpu-pod-xmkqv                        \u001b[0m\u001b[38;2;0;170;0m \u001b[0m│\u001b[38;2;0;170;170m \u001b[0m\u001b[38;2;0;170;170m0/1  \u001b[0m\u001b[38;2;0;170;170m \u001b[0m│\u001b[38;2;170;170;170m \u001b[0m\u001b[38;2;170;170;170mContainerCreating\u001b[0m\u001b[38;2;170;170;170m \u001b[0m│\u001b[38;2;255;85;85m \u001b[0m\u001b[38;2;255;85;85m0       \u001b[0m\u001b[38;2;255;85;85m \u001b[0m│\u001b[38;2;85;255;85m \u001b[0m\u001b[38;2;85;255;85m2m9s \u001b[0m\u001b[38;2;85;255;85m \u001b[0m│\n",
       "│\u001b[38;2;0;170;0m \u001b[0m\u001b[38;2;0;170;0mhub-859c877b85-fzfrj                 \u001b[0m\u001b[38;2;0;170;0m \u001b[0m│\u001b[38;2;0;170;170m \u001b[0m\u001b[38;2;0;170;170m1/1  \u001b[0m\u001b[38;2;0;170;170m \u001b[0m│\u001b[38;2;170;170;170m \u001b[0m\u001b[38;2;170;170;170mRunning          \u001b[0m\u001b[38;2;170;170;170m \u001b[0m│\u001b[38;2;255;85;85m \u001b[0m\u001b[38;2;255;85;85m0       \u001b[0m\u001b[38;2;255;85;85m \u001b[0m│\u001b[38;2;85;255;85m \u001b[0m\u001b[38;2;85;255;85m5d   \u001b[0m\u001b[38;2;85;255;85m \u001b[0m│\n",
       "│\u001b[38;2;0;170;0m \u001b[0m\u001b[38;2;0;170;0mjupyter-ataaakbari-40googlemail-2ecom\u001b[0m\u001b[38;2;0;170;0m \u001b[0m│\u001b[38;2;0;170;170m \u001b[0m\u001b[38;2;0;170;170m1/1  \u001b[0m\u001b[38;2;0;170;170m \u001b[0m│\u001b[38;2;170;170;170m \u001b[0m\u001b[38;2;170;170;170mRunning          \u001b[0m\u001b[38;2;170;170;170m \u001b[0m│\u001b[38;2;255;85;85m \u001b[0m\u001b[38;2;255;85;85m0       \u001b[0m\u001b[38;2;255;85;85m \u001b[0m│\u001b[38;2;85;255;85m \u001b[0m\u001b[38;2;85;255;85m57m  \u001b[0m\u001b[38;2;85;255;85m \u001b[0m│\n",
       "│\u001b[38;2;0;170;0m \u001b[0m\u001b[38;2;0;170;0mjupyter-fawudarski-40gmail-2ecom     \u001b[0m\u001b[38;2;0;170;0m \u001b[0m│\u001b[38;2;0;170;170m \u001b[0m\u001b[38;2;0;170;170m1/1  \u001b[0m\u001b[38;2;0;170;170m \u001b[0m│\u001b[38;2;170;170;170m \u001b[0m\u001b[38;2;170;170;170mRunning          \u001b[0m\u001b[38;2;170;170;170m \u001b[0m│\u001b[38;2;255;85;85m \u001b[0m\u001b[38;2;255;85;85m0       \u001b[0m\u001b[38;2;255;85;85m \u001b[0m│\u001b[38;2;85;255;85m \u001b[0m\u001b[38;2;85;255;85m7h35m\u001b[0m\u001b[38;2;85;255;85m \u001b[0m│\n",
       "│\u001b[38;2;0;170;0m \u001b[0m\u001b[38;2;0;170;0mproxy-5ddd4b47c9-xhb2d               \u001b[0m\u001b[38;2;0;170;0m \u001b[0m│\u001b[38;2;0;170;170m \u001b[0m\u001b[38;2;0;170;170m1/1  \u001b[0m\u001b[38;2;0;170;170m \u001b[0m│\u001b[38;2;170;170;170m \u001b[0m\u001b[38;2;170;170;170mRunning          \u001b[0m\u001b[38;2;170;170;170m \u001b[0m│\u001b[38;2;255;85;85m \u001b[0m\u001b[38;2;255;85;85m0       \u001b[0m\u001b[38;2;255;85;85m \u001b[0m│\u001b[38;2;85;255;85m \u001b[0m\u001b[38;2;85;255;85m43h  \u001b[0m\u001b[38;2;85;255;85m \u001b[0m│\n",
       "└───────────────────────────────────────┴───────┴───────────────────┴──────────┴───────┘\n"
      ]
     },
     "metadata": {},
     "output_type": "display_data"
    },
    {
     "data": {
      "text/html": [
       "<pre style=\"white-space:pre;overflow-x:auto;line-height:normal;font-family:Menlo,'DejaVu Sans Mono',consolas,'Courier New',monospace\">elapsed: <span style=\"color: #008080; text-decoration-color: #008080; font-weight: bold\">6.31</span> seconds\n",
       "</pre>\n"
      ],
      "text/plain": [
       "elapsed: \u001b[1;36m6.31\u001b[0m seconds\n"
      ]
     },
     "metadata": {},
     "output_type": "display_data"
    },
    {
     "data": {
      "text/html": [
       "<pre style=\"white-space:pre;overflow-x:auto;line-height:normal;font-family:Menlo,'DejaVu Sans Mono',consolas,'Courier New',monospace\">┏━━━━━━━━━━━━━━━━━━━━━━━━━━━━━━━━━━━━━━━┳━━━━━━━┳━━━━━━━━━━━━━━━━━━━┳━━━━━━━━━━┳━━━━━━━┓\n",
       "┃<span style=\"font-weight: bold\"> NAME                                  </span>┃<span style=\"font-weight: bold\"> READY </span>┃<span style=\"font-weight: bold\"> STATUS            </span>┃<span style=\"font-weight: bold\"> RESTARTS </span>┃<span style=\"font-weight: bold\"> AGE   </span>┃\n",
       "┡━━━━━━━━━━━━━━━━━━━━━━━━━━━━━━━━━━━━━━━╇━━━━━━━╇━━━━━━━━━━━━━━━━━━━╇━━━━━━━━━━╇━━━━━━━┩\n",
       "│<span style=\"color: #00aa00; text-decoration-color: #00aa00\"> ata-pod                               </span>│<span style=\"color: #00aaaa; text-decoration-color: #00aaaa\"> 0/1   </span>│<span style=\"color: #aaaaaa; text-decoration-color: #aaaaaa\"> ContainerCreating </span>│<span style=\"color: #ff5555; text-decoration-color: #ff5555\"> 0        </span>│<span style=\"color: #55ff55; text-decoration-color: #55ff55\"> 95m   </span>│\n",
       "│<span style=\"color: #00aa00; text-decoration-color: #00aa00\"> gpu-pod-xmkqv                         </span>│<span style=\"color: #00aaaa; text-decoration-color: #00aaaa\"> 0/1   </span>│<span style=\"color: #aaaaaa; text-decoration-color: #aaaaaa\"> ContainerCreating </span>│<span style=\"color: #ff5555; text-decoration-color: #ff5555\"> 0        </span>│<span style=\"color: #55ff55; text-decoration-color: #55ff55\"> 2m15s </span>│\n",
       "│<span style=\"color: #00aa00; text-decoration-color: #00aa00\"> hub-859c877b85-fzfrj                  </span>│<span style=\"color: #00aaaa; text-decoration-color: #00aaaa\"> 1/1   </span>│<span style=\"color: #aaaaaa; text-decoration-color: #aaaaaa\"> Running           </span>│<span style=\"color: #ff5555; text-decoration-color: #ff5555\"> 0        </span>│<span style=\"color: #55ff55; text-decoration-color: #55ff55\"> 5d    </span>│\n",
       "│<span style=\"color: #00aa00; text-decoration-color: #00aa00\"> jupyter-ataaakbari-40googlemail-2ecom </span>│<span style=\"color: #00aaaa; text-decoration-color: #00aaaa\"> 1/1   </span>│<span style=\"color: #aaaaaa; text-decoration-color: #aaaaaa\"> Running           </span>│<span style=\"color: #ff5555; text-decoration-color: #ff5555\"> 0        </span>│<span style=\"color: #55ff55; text-decoration-color: #55ff55\"> 57m   </span>│\n",
       "│<span style=\"color: #00aa00; text-decoration-color: #00aa00\"> jupyter-fawudarski-40gmail-2ecom      </span>│<span style=\"color: #00aaaa; text-decoration-color: #00aaaa\"> 1/1   </span>│<span style=\"color: #aaaaaa; text-decoration-color: #aaaaaa\"> Running           </span>│<span style=\"color: #ff5555; text-decoration-color: #ff5555\"> 0        </span>│<span style=\"color: #55ff55; text-decoration-color: #55ff55\"> 7h35m </span>│\n",
       "│<span style=\"color: #00aa00; text-decoration-color: #00aa00\"> proxy-5ddd4b47c9-xhb2d                </span>│<span style=\"color: #00aaaa; text-decoration-color: #00aaaa\"> 1/1   </span>│<span style=\"color: #aaaaaa; text-decoration-color: #aaaaaa\"> Running           </span>│<span style=\"color: #ff5555; text-decoration-color: #ff5555\"> 0        </span>│<span style=\"color: #55ff55; text-decoration-color: #55ff55\"> 43h   </span>│\n",
       "└───────────────────────────────────────┴───────┴───────────────────┴──────────┴───────┘\n",
       "</pre>\n"
      ],
      "text/plain": [
       "┏━━━━━━━━━━━━━━━━━━━━━━━━━━━━━━━━━━━━━━━┳━━━━━━━┳━━━━━━━━━━━━━━━━━━━┳━━━━━━━━━━┳━━━━━━━┓\n",
       "┃\u001b[1m \u001b[0m\u001b[1mNAME                                 \u001b[0m\u001b[1m \u001b[0m┃\u001b[1m \u001b[0m\u001b[1mREADY\u001b[0m\u001b[1m \u001b[0m┃\u001b[1m \u001b[0m\u001b[1mSTATUS           \u001b[0m\u001b[1m \u001b[0m┃\u001b[1m \u001b[0m\u001b[1mRESTARTS\u001b[0m\u001b[1m \u001b[0m┃\u001b[1m \u001b[0m\u001b[1mAGE  \u001b[0m\u001b[1m \u001b[0m┃\n",
       "┡━━━━━━━━━━━━━━━━━━━━━━━━━━━━━━━━━━━━━━━╇━━━━━━━╇━━━━━━━━━━━━━━━━━━━╇━━━━━━━━━━╇━━━━━━━┩\n",
       "│\u001b[38;2;0;170;0m \u001b[0m\u001b[38;2;0;170;0mata-pod                              \u001b[0m\u001b[38;2;0;170;0m \u001b[0m│\u001b[38;2;0;170;170m \u001b[0m\u001b[38;2;0;170;170m0/1  \u001b[0m\u001b[38;2;0;170;170m \u001b[0m│\u001b[38;2;170;170;170m \u001b[0m\u001b[38;2;170;170;170mContainerCreating\u001b[0m\u001b[38;2;170;170;170m \u001b[0m│\u001b[38;2;255;85;85m \u001b[0m\u001b[38;2;255;85;85m0       \u001b[0m\u001b[38;2;255;85;85m \u001b[0m│\u001b[38;2;85;255;85m \u001b[0m\u001b[38;2;85;255;85m95m  \u001b[0m\u001b[38;2;85;255;85m \u001b[0m│\n",
       "│\u001b[38;2;0;170;0m \u001b[0m\u001b[38;2;0;170;0mgpu-pod-xmkqv                        \u001b[0m\u001b[38;2;0;170;0m \u001b[0m│\u001b[38;2;0;170;170m \u001b[0m\u001b[38;2;0;170;170m0/1  \u001b[0m\u001b[38;2;0;170;170m \u001b[0m│\u001b[38;2;170;170;170m \u001b[0m\u001b[38;2;170;170;170mContainerCreating\u001b[0m\u001b[38;2;170;170;170m \u001b[0m│\u001b[38;2;255;85;85m \u001b[0m\u001b[38;2;255;85;85m0       \u001b[0m\u001b[38;2;255;85;85m \u001b[0m│\u001b[38;2;85;255;85m \u001b[0m\u001b[38;2;85;255;85m2m15s\u001b[0m\u001b[38;2;85;255;85m \u001b[0m│\n",
       "│\u001b[38;2;0;170;0m \u001b[0m\u001b[38;2;0;170;0mhub-859c877b85-fzfrj                 \u001b[0m\u001b[38;2;0;170;0m \u001b[0m│\u001b[38;2;0;170;170m \u001b[0m\u001b[38;2;0;170;170m1/1  \u001b[0m\u001b[38;2;0;170;170m \u001b[0m│\u001b[38;2;170;170;170m \u001b[0m\u001b[38;2;170;170;170mRunning          \u001b[0m\u001b[38;2;170;170;170m \u001b[0m│\u001b[38;2;255;85;85m \u001b[0m\u001b[38;2;255;85;85m0       \u001b[0m\u001b[38;2;255;85;85m \u001b[0m│\u001b[38;2;85;255;85m \u001b[0m\u001b[38;2;85;255;85m5d   \u001b[0m\u001b[38;2;85;255;85m \u001b[0m│\n",
       "│\u001b[38;2;0;170;0m \u001b[0m\u001b[38;2;0;170;0mjupyter-ataaakbari-40googlemail-2ecom\u001b[0m\u001b[38;2;0;170;0m \u001b[0m│\u001b[38;2;0;170;170m \u001b[0m\u001b[38;2;0;170;170m1/1  \u001b[0m\u001b[38;2;0;170;170m \u001b[0m│\u001b[38;2;170;170;170m \u001b[0m\u001b[38;2;170;170;170mRunning          \u001b[0m\u001b[38;2;170;170;170m \u001b[0m│\u001b[38;2;255;85;85m \u001b[0m\u001b[38;2;255;85;85m0       \u001b[0m\u001b[38;2;255;85;85m \u001b[0m│\u001b[38;2;85;255;85m \u001b[0m\u001b[38;2;85;255;85m57m  \u001b[0m\u001b[38;2;85;255;85m \u001b[0m│\n",
       "│\u001b[38;2;0;170;0m \u001b[0m\u001b[38;2;0;170;0mjupyter-fawudarski-40gmail-2ecom     \u001b[0m\u001b[38;2;0;170;0m \u001b[0m│\u001b[38;2;0;170;170m \u001b[0m\u001b[38;2;0;170;170m1/1  \u001b[0m\u001b[38;2;0;170;170m \u001b[0m│\u001b[38;2;170;170;170m \u001b[0m\u001b[38;2;170;170;170mRunning          \u001b[0m\u001b[38;2;170;170;170m \u001b[0m│\u001b[38;2;255;85;85m \u001b[0m\u001b[38;2;255;85;85m0       \u001b[0m\u001b[38;2;255;85;85m \u001b[0m│\u001b[38;2;85;255;85m \u001b[0m\u001b[38;2;85;255;85m7h35m\u001b[0m\u001b[38;2;85;255;85m \u001b[0m│\n",
       "│\u001b[38;2;0;170;0m \u001b[0m\u001b[38;2;0;170;0mproxy-5ddd4b47c9-xhb2d               \u001b[0m\u001b[38;2;0;170;0m \u001b[0m│\u001b[38;2;0;170;170m \u001b[0m\u001b[38;2;0;170;170m1/1  \u001b[0m\u001b[38;2;0;170;170m \u001b[0m│\u001b[38;2;170;170;170m \u001b[0m\u001b[38;2;170;170;170mRunning          \u001b[0m\u001b[38;2;170;170;170m \u001b[0m│\u001b[38;2;255;85;85m \u001b[0m\u001b[38;2;255;85;85m0       \u001b[0m\u001b[38;2;255;85;85m \u001b[0m│\u001b[38;2;85;255;85m \u001b[0m\u001b[38;2;85;255;85m43h  \u001b[0m\u001b[38;2;85;255;85m \u001b[0m│\n",
       "└───────────────────────────────────────┴───────┴───────────────────┴──────────┴───────┘\n"
      ]
     },
     "metadata": {},
     "output_type": "display_data"
    },
    {
     "data": {
      "text/html": [
       "<pre style=\"white-space:pre;overflow-x:auto;line-height:normal;font-family:Menlo,'DejaVu Sans Mono',consolas,'Courier New',monospace\">elapsed: <span style=\"color: #008080; text-decoration-color: #008080; font-weight: bold\">6.32</span> seconds\n",
       "</pre>\n"
      ],
      "text/plain": [
       "elapsed: \u001b[1;36m6.32\u001b[0m seconds\n"
      ]
     },
     "metadata": {},
     "output_type": "display_data"
    },
    {
     "data": {
      "text/html": [
       "<pre style=\"white-space:pre;overflow-x:auto;line-height:normal;font-family:Menlo,'DejaVu Sans Mono',consolas,'Courier New',monospace\">┏━━━━━━━━━━━━━━━━━━━━━━━━━━━━━━━━━━━━━━━┳━━━━━━━┳━━━━━━━━━━━━━━━━━━━┳━━━━━━━━━━┳━━━━━━━┓\n",
       "┃<span style=\"font-weight: bold\"> NAME                                  </span>┃<span style=\"font-weight: bold\"> READY </span>┃<span style=\"font-weight: bold\"> STATUS            </span>┃<span style=\"font-weight: bold\"> RESTARTS </span>┃<span style=\"font-weight: bold\"> AGE   </span>┃\n",
       "┡━━━━━━━━━━━━━━━━━━━━━━━━━━━━━━━━━━━━━━━╇━━━━━━━╇━━━━━━━━━━━━━━━━━━━╇━━━━━━━━━━╇━━━━━━━┩\n",
       "│<span style=\"color: #00aa00; text-decoration-color: #00aa00\"> ata-pod                               </span>│<span style=\"color: #00aaaa; text-decoration-color: #00aaaa\"> 0/1   </span>│<span style=\"color: #aaaaaa; text-decoration-color: #aaaaaa\"> ContainerCreating </span>│<span style=\"color: #ff5555; text-decoration-color: #ff5555\"> 0        </span>│<span style=\"color: #55ff55; text-decoration-color: #55ff55\"> 96m   </span>│\n",
       "│<span style=\"color: #00aa00; text-decoration-color: #00aa00\"> gpu-pod-xmkqv                         </span>│<span style=\"color: #00aaaa; text-decoration-color: #00aaaa\"> 0/1   </span>│<span style=\"color: #aaaaaa; text-decoration-color: #aaaaaa\"> ContainerCreating </span>│<span style=\"color: #ff5555; text-decoration-color: #ff5555\"> 0        </span>│<span style=\"color: #55ff55; text-decoration-color: #55ff55\"> 2m22s </span>│\n",
       "│<span style=\"color: #00aa00; text-decoration-color: #00aa00\"> hub-859c877b85-fzfrj                  </span>│<span style=\"color: #00aaaa; text-decoration-color: #00aaaa\"> 1/1   </span>│<span style=\"color: #aaaaaa; text-decoration-color: #aaaaaa\"> Running           </span>│<span style=\"color: #ff5555; text-decoration-color: #ff5555\"> 0        </span>│<span style=\"color: #55ff55; text-decoration-color: #55ff55\"> 5d    </span>│\n",
       "│<span style=\"color: #00aa00; text-decoration-color: #00aa00\"> jupyter-ataaakbari-40googlemail-2ecom </span>│<span style=\"color: #00aaaa; text-decoration-color: #00aaaa\"> 1/1   </span>│<span style=\"color: #aaaaaa; text-decoration-color: #aaaaaa\"> Running           </span>│<span style=\"color: #ff5555; text-decoration-color: #ff5555\"> 0        </span>│<span style=\"color: #55ff55; text-decoration-color: #55ff55\"> 58m   </span>│\n",
       "│<span style=\"color: #00aa00; text-decoration-color: #00aa00\"> jupyter-fawudarski-40gmail-2ecom      </span>│<span style=\"color: #00aaaa; text-decoration-color: #00aaaa\"> 1/1   </span>│<span style=\"color: #aaaaaa; text-decoration-color: #aaaaaa\"> Running           </span>│<span style=\"color: #ff5555; text-decoration-color: #ff5555\"> 0        </span>│<span style=\"color: #55ff55; text-decoration-color: #55ff55\"> 7h35m </span>│\n",
       "│<span style=\"color: #00aa00; text-decoration-color: #00aa00\"> proxy-5ddd4b47c9-xhb2d                </span>│<span style=\"color: #00aaaa; text-decoration-color: #00aaaa\"> 1/1   </span>│<span style=\"color: #aaaaaa; text-decoration-color: #aaaaaa\"> Running           </span>│<span style=\"color: #ff5555; text-decoration-color: #ff5555\"> 0        </span>│<span style=\"color: #55ff55; text-decoration-color: #55ff55\"> 43h   </span>│\n",
       "└───────────────────────────────────────┴───────┴───────────────────┴──────────┴───────┘\n",
       "</pre>\n"
      ],
      "text/plain": [
       "┏━━━━━━━━━━━━━━━━━━━━━━━━━━━━━━━━━━━━━━━┳━━━━━━━┳━━━━━━━━━━━━━━━━━━━┳━━━━━━━━━━┳━━━━━━━┓\n",
       "┃\u001b[1m \u001b[0m\u001b[1mNAME                                 \u001b[0m\u001b[1m \u001b[0m┃\u001b[1m \u001b[0m\u001b[1mREADY\u001b[0m\u001b[1m \u001b[0m┃\u001b[1m \u001b[0m\u001b[1mSTATUS           \u001b[0m\u001b[1m \u001b[0m┃\u001b[1m \u001b[0m\u001b[1mRESTARTS\u001b[0m\u001b[1m \u001b[0m┃\u001b[1m \u001b[0m\u001b[1mAGE  \u001b[0m\u001b[1m \u001b[0m┃\n",
       "┡━━━━━━━━━━━━━━━━━━━━━━━━━━━━━━━━━━━━━━━╇━━━━━━━╇━━━━━━━━━━━━━━━━━━━╇━━━━━━━━━━╇━━━━━━━┩\n",
       "│\u001b[38;2;0;170;0m \u001b[0m\u001b[38;2;0;170;0mata-pod                              \u001b[0m\u001b[38;2;0;170;0m \u001b[0m│\u001b[38;2;0;170;170m \u001b[0m\u001b[38;2;0;170;170m0/1  \u001b[0m\u001b[38;2;0;170;170m \u001b[0m│\u001b[38;2;170;170;170m \u001b[0m\u001b[38;2;170;170;170mContainerCreating\u001b[0m\u001b[38;2;170;170;170m \u001b[0m│\u001b[38;2;255;85;85m \u001b[0m\u001b[38;2;255;85;85m0       \u001b[0m\u001b[38;2;255;85;85m \u001b[0m│\u001b[38;2;85;255;85m \u001b[0m\u001b[38;2;85;255;85m96m  \u001b[0m\u001b[38;2;85;255;85m \u001b[0m│\n",
       "│\u001b[38;2;0;170;0m \u001b[0m\u001b[38;2;0;170;0mgpu-pod-xmkqv                        \u001b[0m\u001b[38;2;0;170;0m \u001b[0m│\u001b[38;2;0;170;170m \u001b[0m\u001b[38;2;0;170;170m0/1  \u001b[0m\u001b[38;2;0;170;170m \u001b[0m│\u001b[38;2;170;170;170m \u001b[0m\u001b[38;2;170;170;170mContainerCreating\u001b[0m\u001b[38;2;170;170;170m \u001b[0m│\u001b[38;2;255;85;85m \u001b[0m\u001b[38;2;255;85;85m0       \u001b[0m\u001b[38;2;255;85;85m \u001b[0m│\u001b[38;2;85;255;85m \u001b[0m\u001b[38;2;85;255;85m2m22s\u001b[0m\u001b[38;2;85;255;85m \u001b[0m│\n",
       "│\u001b[38;2;0;170;0m \u001b[0m\u001b[38;2;0;170;0mhub-859c877b85-fzfrj                 \u001b[0m\u001b[38;2;0;170;0m \u001b[0m│\u001b[38;2;0;170;170m \u001b[0m\u001b[38;2;0;170;170m1/1  \u001b[0m\u001b[38;2;0;170;170m \u001b[0m│\u001b[38;2;170;170;170m \u001b[0m\u001b[38;2;170;170;170mRunning          \u001b[0m\u001b[38;2;170;170;170m \u001b[0m│\u001b[38;2;255;85;85m \u001b[0m\u001b[38;2;255;85;85m0       \u001b[0m\u001b[38;2;255;85;85m \u001b[0m│\u001b[38;2;85;255;85m \u001b[0m\u001b[38;2;85;255;85m5d   \u001b[0m\u001b[38;2;85;255;85m \u001b[0m│\n",
       "│\u001b[38;2;0;170;0m \u001b[0m\u001b[38;2;0;170;0mjupyter-ataaakbari-40googlemail-2ecom\u001b[0m\u001b[38;2;0;170;0m \u001b[0m│\u001b[38;2;0;170;170m \u001b[0m\u001b[38;2;0;170;170m1/1  \u001b[0m\u001b[38;2;0;170;170m \u001b[0m│\u001b[38;2;170;170;170m \u001b[0m\u001b[38;2;170;170;170mRunning          \u001b[0m\u001b[38;2;170;170;170m \u001b[0m│\u001b[38;2;255;85;85m \u001b[0m\u001b[38;2;255;85;85m0       \u001b[0m\u001b[38;2;255;85;85m \u001b[0m│\u001b[38;2;85;255;85m \u001b[0m\u001b[38;2;85;255;85m58m  \u001b[0m\u001b[38;2;85;255;85m \u001b[0m│\n",
       "│\u001b[38;2;0;170;0m \u001b[0m\u001b[38;2;0;170;0mjupyter-fawudarski-40gmail-2ecom     \u001b[0m\u001b[38;2;0;170;0m \u001b[0m│\u001b[38;2;0;170;170m \u001b[0m\u001b[38;2;0;170;170m1/1  \u001b[0m\u001b[38;2;0;170;170m \u001b[0m│\u001b[38;2;170;170;170m \u001b[0m\u001b[38;2;170;170;170mRunning          \u001b[0m\u001b[38;2;170;170;170m \u001b[0m│\u001b[38;2;255;85;85m \u001b[0m\u001b[38;2;255;85;85m0       \u001b[0m\u001b[38;2;255;85;85m \u001b[0m│\u001b[38;2;85;255;85m \u001b[0m\u001b[38;2;85;255;85m7h35m\u001b[0m\u001b[38;2;85;255;85m \u001b[0m│\n",
       "│\u001b[38;2;0;170;0m \u001b[0m\u001b[38;2;0;170;0mproxy-5ddd4b47c9-xhb2d               \u001b[0m\u001b[38;2;0;170;0m \u001b[0m│\u001b[38;2;0;170;170m \u001b[0m\u001b[38;2;0;170;170m1/1  \u001b[0m\u001b[38;2;0;170;170m \u001b[0m│\u001b[38;2;170;170;170m \u001b[0m\u001b[38;2;170;170;170mRunning          \u001b[0m\u001b[38;2;170;170;170m \u001b[0m│\u001b[38;2;255;85;85m \u001b[0m\u001b[38;2;255;85;85m0       \u001b[0m\u001b[38;2;255;85;85m \u001b[0m│\u001b[38;2;85;255;85m \u001b[0m\u001b[38;2;85;255;85m43h  \u001b[0m\u001b[38;2;85;255;85m \u001b[0m│\n",
       "└───────────────────────────────────────┴───────┴───────────────────┴──────────┴───────┘\n"
      ]
     },
     "metadata": {},
     "output_type": "display_data"
    },
    {
     "data": {
      "text/html": [
       "<pre style=\"white-space:pre;overflow-x:auto;line-height:normal;font-family:Menlo,'DejaVu Sans Mono',consolas,'Courier New',monospace\">elapsed: <span style=\"color: #008080; text-decoration-color: #008080; font-weight: bold\">6.30</span> seconds\n",
       "</pre>\n"
      ],
      "text/plain": [
       "elapsed: \u001b[1;36m6.30\u001b[0m seconds\n"
      ]
     },
     "metadata": {},
     "output_type": "display_data"
    },
    {
     "data": {
      "text/html": [
       "<pre style=\"white-space:pre;overflow-x:auto;line-height:normal;font-family:Menlo,'DejaVu Sans Mono',consolas,'Courier New',monospace\">┏━━━━━━━━━━━━━━━━━━━━━━━━━━━━━━━━━━━━━━━┳━━━━━━━┳━━━━━━━━━━━━━━━━━━━┳━━━━━━━━━━┳━━━━━━━┓\n",
       "┃<span style=\"font-weight: bold\"> NAME                                  </span>┃<span style=\"font-weight: bold\"> READY </span>┃<span style=\"font-weight: bold\"> STATUS            </span>┃<span style=\"font-weight: bold\"> RESTARTS </span>┃<span style=\"font-weight: bold\"> AGE   </span>┃\n",
       "┡━━━━━━━━━━━━━━━━━━━━━━━━━━━━━━━━━━━━━━━╇━━━━━━━╇━━━━━━━━━━━━━━━━━━━╇━━━━━━━━━━╇━━━━━━━┩\n",
       "│<span style=\"color: #00aa00; text-decoration-color: #00aa00\"> ata-pod                               </span>│<span style=\"color: #00aaaa; text-decoration-color: #00aaaa\"> 0/1   </span>│<span style=\"color: #aaaaaa; text-decoration-color: #aaaaaa\"> ContainerCreating </span>│<span style=\"color: #ff5555; text-decoration-color: #ff5555\"> 0        </span>│<span style=\"color: #55ff55; text-decoration-color: #55ff55\"> 96m   </span>│\n",
       "│<span style=\"color: #00aa00; text-decoration-color: #00aa00\"> gpu-pod-xmkqv                         </span>│<span style=\"color: #00aaaa; text-decoration-color: #00aaaa\"> 0/1   </span>│<span style=\"color: #aaaaaa; text-decoration-color: #aaaaaa\"> ContainerCreating </span>│<span style=\"color: #ff5555; text-decoration-color: #ff5555\"> 0        </span>│<span style=\"color: #55ff55; text-decoration-color: #55ff55\"> 2m28s </span>│\n",
       "│<span style=\"color: #00aa00; text-decoration-color: #00aa00\"> hub-859c877b85-fzfrj                  </span>│<span style=\"color: #00aaaa; text-decoration-color: #00aaaa\"> 1/1   </span>│<span style=\"color: #aaaaaa; text-decoration-color: #aaaaaa\"> Running           </span>│<span style=\"color: #ff5555; text-decoration-color: #ff5555\"> 0        </span>│<span style=\"color: #55ff55; text-decoration-color: #55ff55\"> 5d    </span>│\n",
       "│<span style=\"color: #00aa00; text-decoration-color: #00aa00\"> jupyter-ataaakbari-40googlemail-2ecom </span>│<span style=\"color: #00aaaa; text-decoration-color: #00aaaa\"> 1/1   </span>│<span style=\"color: #aaaaaa; text-decoration-color: #aaaaaa\"> Running           </span>│<span style=\"color: #ff5555; text-decoration-color: #ff5555\"> 0        </span>│<span style=\"color: #55ff55; text-decoration-color: #55ff55\"> 58m   </span>│\n",
       "│<span style=\"color: #00aa00; text-decoration-color: #00aa00\"> jupyter-fawudarski-40gmail-2ecom      </span>│<span style=\"color: #00aaaa; text-decoration-color: #00aaaa\"> 1/1   </span>│<span style=\"color: #aaaaaa; text-decoration-color: #aaaaaa\"> Running           </span>│<span style=\"color: #ff5555; text-decoration-color: #ff5555\"> 0        </span>│<span style=\"color: #55ff55; text-decoration-color: #55ff55\"> 7h35m </span>│\n",
       "│<span style=\"color: #00aa00; text-decoration-color: #00aa00\"> proxy-5ddd4b47c9-xhb2d                </span>│<span style=\"color: #00aaaa; text-decoration-color: #00aaaa\"> 1/1   </span>│<span style=\"color: #aaaaaa; text-decoration-color: #aaaaaa\"> Running           </span>│<span style=\"color: #ff5555; text-decoration-color: #ff5555\"> 0        </span>│<span style=\"color: #55ff55; text-decoration-color: #55ff55\"> 43h   </span>│\n",
       "└───────────────────────────────────────┴───────┴───────────────────┴──────────┴───────┘\n",
       "</pre>\n"
      ],
      "text/plain": [
       "┏━━━━━━━━━━━━━━━━━━━━━━━━━━━━━━━━━━━━━━━┳━━━━━━━┳━━━━━━━━━━━━━━━━━━━┳━━━━━━━━━━┳━━━━━━━┓\n",
       "┃\u001b[1m \u001b[0m\u001b[1mNAME                                 \u001b[0m\u001b[1m \u001b[0m┃\u001b[1m \u001b[0m\u001b[1mREADY\u001b[0m\u001b[1m \u001b[0m┃\u001b[1m \u001b[0m\u001b[1mSTATUS           \u001b[0m\u001b[1m \u001b[0m┃\u001b[1m \u001b[0m\u001b[1mRESTARTS\u001b[0m\u001b[1m \u001b[0m┃\u001b[1m \u001b[0m\u001b[1mAGE  \u001b[0m\u001b[1m \u001b[0m┃\n",
       "┡━━━━━━━━━━━━━━━━━━━━━━━━━━━━━━━━━━━━━━━╇━━━━━━━╇━━━━━━━━━━━━━━━━━━━╇━━━━━━━━━━╇━━━━━━━┩\n",
       "│\u001b[38;2;0;170;0m \u001b[0m\u001b[38;2;0;170;0mata-pod                              \u001b[0m\u001b[38;2;0;170;0m \u001b[0m│\u001b[38;2;0;170;170m \u001b[0m\u001b[38;2;0;170;170m0/1  \u001b[0m\u001b[38;2;0;170;170m \u001b[0m│\u001b[38;2;170;170;170m \u001b[0m\u001b[38;2;170;170;170mContainerCreating\u001b[0m\u001b[38;2;170;170;170m \u001b[0m│\u001b[38;2;255;85;85m \u001b[0m\u001b[38;2;255;85;85m0       \u001b[0m\u001b[38;2;255;85;85m \u001b[0m│\u001b[38;2;85;255;85m \u001b[0m\u001b[38;2;85;255;85m96m  \u001b[0m\u001b[38;2;85;255;85m \u001b[0m│\n",
       "│\u001b[38;2;0;170;0m \u001b[0m\u001b[38;2;0;170;0mgpu-pod-xmkqv                        \u001b[0m\u001b[38;2;0;170;0m \u001b[0m│\u001b[38;2;0;170;170m \u001b[0m\u001b[38;2;0;170;170m0/1  \u001b[0m\u001b[38;2;0;170;170m \u001b[0m│\u001b[38;2;170;170;170m \u001b[0m\u001b[38;2;170;170;170mContainerCreating\u001b[0m\u001b[38;2;170;170;170m \u001b[0m│\u001b[38;2;255;85;85m \u001b[0m\u001b[38;2;255;85;85m0       \u001b[0m\u001b[38;2;255;85;85m \u001b[0m│\u001b[38;2;85;255;85m \u001b[0m\u001b[38;2;85;255;85m2m28s\u001b[0m\u001b[38;2;85;255;85m \u001b[0m│\n",
       "│\u001b[38;2;0;170;0m \u001b[0m\u001b[38;2;0;170;0mhub-859c877b85-fzfrj                 \u001b[0m\u001b[38;2;0;170;0m \u001b[0m│\u001b[38;2;0;170;170m \u001b[0m\u001b[38;2;0;170;170m1/1  \u001b[0m\u001b[38;2;0;170;170m \u001b[0m│\u001b[38;2;170;170;170m \u001b[0m\u001b[38;2;170;170;170mRunning          \u001b[0m\u001b[38;2;170;170;170m \u001b[0m│\u001b[38;2;255;85;85m \u001b[0m\u001b[38;2;255;85;85m0       \u001b[0m\u001b[38;2;255;85;85m \u001b[0m│\u001b[38;2;85;255;85m \u001b[0m\u001b[38;2;85;255;85m5d   \u001b[0m\u001b[38;2;85;255;85m \u001b[0m│\n",
       "│\u001b[38;2;0;170;0m \u001b[0m\u001b[38;2;0;170;0mjupyter-ataaakbari-40googlemail-2ecom\u001b[0m\u001b[38;2;0;170;0m \u001b[0m│\u001b[38;2;0;170;170m \u001b[0m\u001b[38;2;0;170;170m1/1  \u001b[0m\u001b[38;2;0;170;170m \u001b[0m│\u001b[38;2;170;170;170m \u001b[0m\u001b[38;2;170;170;170mRunning          \u001b[0m\u001b[38;2;170;170;170m \u001b[0m│\u001b[38;2;255;85;85m \u001b[0m\u001b[38;2;255;85;85m0       \u001b[0m\u001b[38;2;255;85;85m \u001b[0m│\u001b[38;2;85;255;85m \u001b[0m\u001b[38;2;85;255;85m58m  \u001b[0m\u001b[38;2;85;255;85m \u001b[0m│\n",
       "│\u001b[38;2;0;170;0m \u001b[0m\u001b[38;2;0;170;0mjupyter-fawudarski-40gmail-2ecom     \u001b[0m\u001b[38;2;0;170;0m \u001b[0m│\u001b[38;2;0;170;170m \u001b[0m\u001b[38;2;0;170;170m1/1  \u001b[0m\u001b[38;2;0;170;170m \u001b[0m│\u001b[38;2;170;170;170m \u001b[0m\u001b[38;2;170;170;170mRunning          \u001b[0m\u001b[38;2;170;170;170m \u001b[0m│\u001b[38;2;255;85;85m \u001b[0m\u001b[38;2;255;85;85m0       \u001b[0m\u001b[38;2;255;85;85m \u001b[0m│\u001b[38;2;85;255;85m \u001b[0m\u001b[38;2;85;255;85m7h35m\u001b[0m\u001b[38;2;85;255;85m \u001b[0m│\n",
       "│\u001b[38;2;0;170;0m \u001b[0m\u001b[38;2;0;170;0mproxy-5ddd4b47c9-xhb2d               \u001b[0m\u001b[38;2;0;170;0m \u001b[0m│\u001b[38;2;0;170;170m \u001b[0m\u001b[38;2;0;170;170m1/1  \u001b[0m\u001b[38;2;0;170;170m \u001b[0m│\u001b[38;2;170;170;170m \u001b[0m\u001b[38;2;170;170;170mRunning          \u001b[0m\u001b[38;2;170;170;170m \u001b[0m│\u001b[38;2;255;85;85m \u001b[0m\u001b[38;2;255;85;85m0       \u001b[0m\u001b[38;2;255;85;85m \u001b[0m│\u001b[38;2;85;255;85m \u001b[0m\u001b[38;2;85;255;85m43h  \u001b[0m\u001b[38;2;85;255;85m \u001b[0m│\n",
       "└───────────────────────────────────────┴───────┴───────────────────┴──────────┴───────┘\n"
      ]
     },
     "metadata": {},
     "output_type": "display_data"
    },
    {
     "data": {
      "text/html": [
       "<pre style=\"white-space:pre;overflow-x:auto;line-height:normal;font-family:Menlo,'DejaVu Sans Mono',consolas,'Courier New',monospace\">elapsed: <span style=\"color: #008080; text-decoration-color: #008080; font-weight: bold\">6.32</span> seconds\n",
       "</pre>\n"
      ],
      "text/plain": [
       "elapsed: \u001b[1;36m6.32\u001b[0m seconds\n"
      ]
     },
     "metadata": {},
     "output_type": "display_data"
    },
    {
     "data": {
      "text/html": [
       "<pre style=\"white-space:pre;overflow-x:auto;line-height:normal;font-family:Menlo,'DejaVu Sans Mono',consolas,'Courier New',monospace\">┏━━━━━━━━━━━━━━━━━━━━━━━━━━━━━━━━━━━━━━━┳━━━━━━━┳━━━━━━━━━━━━━━━━━━━┳━━━━━━━━━━┳━━━━━━━┓\n",
       "┃<span style=\"font-weight: bold\"> NAME                                  </span>┃<span style=\"font-weight: bold\"> READY </span>┃<span style=\"font-weight: bold\"> STATUS            </span>┃<span style=\"font-weight: bold\"> RESTARTS </span>┃<span style=\"font-weight: bold\"> AGE   </span>┃\n",
       "┡━━━━━━━━━━━━━━━━━━━━━━━━━━━━━━━━━━━━━━━╇━━━━━━━╇━━━━━━━━━━━━━━━━━━━╇━━━━━━━━━━╇━━━━━━━┩\n",
       "│<span style=\"color: #00aa00; text-decoration-color: #00aa00\"> ata-pod                               </span>│<span style=\"color: #00aaaa; text-decoration-color: #00aaaa\"> 0/1   </span>│<span style=\"color: #aaaaaa; text-decoration-color: #aaaaaa\"> ContainerCreating </span>│<span style=\"color: #ff5555; text-decoration-color: #ff5555\"> 0        </span>│<span style=\"color: #55ff55; text-decoration-color: #55ff55\"> 96m   </span>│\n",
       "│<span style=\"color: #00aa00; text-decoration-color: #00aa00\"> gpu-pod-xmkqv                         </span>│<span style=\"color: #00aaaa; text-decoration-color: #00aaaa\"> 0/1   </span>│<span style=\"color: #aaaaaa; text-decoration-color: #aaaaaa\"> ContainerCreating </span>│<span style=\"color: #ff5555; text-decoration-color: #ff5555\"> 0        </span>│<span style=\"color: #55ff55; text-decoration-color: #55ff55\"> 2m34s </span>│\n",
       "│<span style=\"color: #00aa00; text-decoration-color: #00aa00\"> hub-859c877b85-fzfrj                  </span>│<span style=\"color: #00aaaa; text-decoration-color: #00aaaa\"> 1/1   </span>│<span style=\"color: #aaaaaa; text-decoration-color: #aaaaaa\"> Running           </span>│<span style=\"color: #ff5555; text-decoration-color: #ff5555\"> 0        </span>│<span style=\"color: #55ff55; text-decoration-color: #55ff55\"> 5d    </span>│\n",
       "│<span style=\"color: #00aa00; text-decoration-color: #00aa00\"> jupyter-ataaakbari-40googlemail-2ecom </span>│<span style=\"color: #00aaaa; text-decoration-color: #00aaaa\"> 1/1   </span>│<span style=\"color: #aaaaaa; text-decoration-color: #aaaaaa\"> Running           </span>│<span style=\"color: #ff5555; text-decoration-color: #ff5555\"> 0        </span>│<span style=\"color: #55ff55; text-decoration-color: #55ff55\"> 58m   </span>│\n",
       "│<span style=\"color: #00aa00; text-decoration-color: #00aa00\"> jupyter-fawudarski-40gmail-2ecom      </span>│<span style=\"color: #00aaaa; text-decoration-color: #00aaaa\"> 1/1   </span>│<span style=\"color: #aaaaaa; text-decoration-color: #aaaaaa\"> Running           </span>│<span style=\"color: #ff5555; text-decoration-color: #ff5555\"> 0        </span>│<span style=\"color: #55ff55; text-decoration-color: #55ff55\"> 7h35m </span>│\n",
       "│<span style=\"color: #00aa00; text-decoration-color: #00aa00\"> proxy-5ddd4b47c9-xhb2d                </span>│<span style=\"color: #00aaaa; text-decoration-color: #00aaaa\"> 1/1   </span>│<span style=\"color: #aaaaaa; text-decoration-color: #aaaaaa\"> Running           </span>│<span style=\"color: #ff5555; text-decoration-color: #ff5555\"> 0        </span>│<span style=\"color: #55ff55; text-decoration-color: #55ff55\"> 43h   </span>│\n",
       "└───────────────────────────────────────┴───────┴───────────────────┴──────────┴───────┘\n",
       "</pre>\n"
      ],
      "text/plain": [
       "┏━━━━━━━━━━━━━━━━━━━━━━━━━━━━━━━━━━━━━━━┳━━━━━━━┳━━━━━━━━━━━━━━━━━━━┳━━━━━━━━━━┳━━━━━━━┓\n",
       "┃\u001b[1m \u001b[0m\u001b[1mNAME                                 \u001b[0m\u001b[1m \u001b[0m┃\u001b[1m \u001b[0m\u001b[1mREADY\u001b[0m\u001b[1m \u001b[0m┃\u001b[1m \u001b[0m\u001b[1mSTATUS           \u001b[0m\u001b[1m \u001b[0m┃\u001b[1m \u001b[0m\u001b[1mRESTARTS\u001b[0m\u001b[1m \u001b[0m┃\u001b[1m \u001b[0m\u001b[1mAGE  \u001b[0m\u001b[1m \u001b[0m┃\n",
       "┡━━━━━━━━━━━━━━━━━━━━━━━━━━━━━━━━━━━━━━━╇━━━━━━━╇━━━━━━━━━━━━━━━━━━━╇━━━━━━━━━━╇━━━━━━━┩\n",
       "│\u001b[38;2;0;170;0m \u001b[0m\u001b[38;2;0;170;0mata-pod                              \u001b[0m\u001b[38;2;0;170;0m \u001b[0m│\u001b[38;2;0;170;170m \u001b[0m\u001b[38;2;0;170;170m0/1  \u001b[0m\u001b[38;2;0;170;170m \u001b[0m│\u001b[38;2;170;170;170m \u001b[0m\u001b[38;2;170;170;170mContainerCreating\u001b[0m\u001b[38;2;170;170;170m \u001b[0m│\u001b[38;2;255;85;85m \u001b[0m\u001b[38;2;255;85;85m0       \u001b[0m\u001b[38;2;255;85;85m \u001b[0m│\u001b[38;2;85;255;85m \u001b[0m\u001b[38;2;85;255;85m96m  \u001b[0m\u001b[38;2;85;255;85m \u001b[0m│\n",
       "│\u001b[38;2;0;170;0m \u001b[0m\u001b[38;2;0;170;0mgpu-pod-xmkqv                        \u001b[0m\u001b[38;2;0;170;0m \u001b[0m│\u001b[38;2;0;170;170m \u001b[0m\u001b[38;2;0;170;170m0/1  \u001b[0m\u001b[38;2;0;170;170m \u001b[0m│\u001b[38;2;170;170;170m \u001b[0m\u001b[38;2;170;170;170mContainerCreating\u001b[0m\u001b[38;2;170;170;170m \u001b[0m│\u001b[38;2;255;85;85m \u001b[0m\u001b[38;2;255;85;85m0       \u001b[0m\u001b[38;2;255;85;85m \u001b[0m│\u001b[38;2;85;255;85m \u001b[0m\u001b[38;2;85;255;85m2m34s\u001b[0m\u001b[38;2;85;255;85m \u001b[0m│\n",
       "│\u001b[38;2;0;170;0m \u001b[0m\u001b[38;2;0;170;0mhub-859c877b85-fzfrj                 \u001b[0m\u001b[38;2;0;170;0m \u001b[0m│\u001b[38;2;0;170;170m \u001b[0m\u001b[38;2;0;170;170m1/1  \u001b[0m\u001b[38;2;0;170;170m \u001b[0m│\u001b[38;2;170;170;170m \u001b[0m\u001b[38;2;170;170;170mRunning          \u001b[0m\u001b[38;2;170;170;170m \u001b[0m│\u001b[38;2;255;85;85m \u001b[0m\u001b[38;2;255;85;85m0       \u001b[0m\u001b[38;2;255;85;85m \u001b[0m│\u001b[38;2;85;255;85m \u001b[0m\u001b[38;2;85;255;85m5d   \u001b[0m\u001b[38;2;85;255;85m \u001b[0m│\n",
       "│\u001b[38;2;0;170;0m \u001b[0m\u001b[38;2;0;170;0mjupyter-ataaakbari-40googlemail-2ecom\u001b[0m\u001b[38;2;0;170;0m \u001b[0m│\u001b[38;2;0;170;170m \u001b[0m\u001b[38;2;0;170;170m1/1  \u001b[0m\u001b[38;2;0;170;170m \u001b[0m│\u001b[38;2;170;170;170m \u001b[0m\u001b[38;2;170;170;170mRunning          \u001b[0m\u001b[38;2;170;170;170m \u001b[0m│\u001b[38;2;255;85;85m \u001b[0m\u001b[38;2;255;85;85m0       \u001b[0m\u001b[38;2;255;85;85m \u001b[0m│\u001b[38;2;85;255;85m \u001b[0m\u001b[38;2;85;255;85m58m  \u001b[0m\u001b[38;2;85;255;85m \u001b[0m│\n",
       "│\u001b[38;2;0;170;0m \u001b[0m\u001b[38;2;0;170;0mjupyter-fawudarski-40gmail-2ecom     \u001b[0m\u001b[38;2;0;170;0m \u001b[0m│\u001b[38;2;0;170;170m \u001b[0m\u001b[38;2;0;170;170m1/1  \u001b[0m\u001b[38;2;0;170;170m \u001b[0m│\u001b[38;2;170;170;170m \u001b[0m\u001b[38;2;170;170;170mRunning          \u001b[0m\u001b[38;2;170;170;170m \u001b[0m│\u001b[38;2;255;85;85m \u001b[0m\u001b[38;2;255;85;85m0       \u001b[0m\u001b[38;2;255;85;85m \u001b[0m│\u001b[38;2;85;255;85m \u001b[0m\u001b[38;2;85;255;85m7h35m\u001b[0m\u001b[38;2;85;255;85m \u001b[0m│\n",
       "│\u001b[38;2;0;170;0m \u001b[0m\u001b[38;2;0;170;0mproxy-5ddd4b47c9-xhb2d               \u001b[0m\u001b[38;2;0;170;0m \u001b[0m│\u001b[38;2;0;170;170m \u001b[0m\u001b[38;2;0;170;170m1/1  \u001b[0m\u001b[38;2;0;170;170m \u001b[0m│\u001b[38;2;170;170;170m \u001b[0m\u001b[38;2;170;170;170mRunning          \u001b[0m\u001b[38;2;170;170;170m \u001b[0m│\u001b[38;2;255;85;85m \u001b[0m\u001b[38;2;255;85;85m0       \u001b[0m\u001b[38;2;255;85;85m \u001b[0m│\u001b[38;2;85;255;85m \u001b[0m\u001b[38;2;85;255;85m43h  \u001b[0m\u001b[38;2;85;255;85m \u001b[0m│\n",
       "└───────────────────────────────────────┴───────┴───────────────────┴──────────┴───────┘\n"
      ]
     },
     "metadata": {},
     "output_type": "display_data"
    },
    {
     "data": {
      "text/html": [
       "<pre style=\"white-space:pre;overflow-x:auto;line-height:normal;font-family:Menlo,'DejaVu Sans Mono',consolas,'Courier New',monospace\">elapsed: <span style=\"color: #008080; text-decoration-color: #008080; font-weight: bold\">6.32</span> seconds\n",
       "</pre>\n"
      ],
      "text/plain": [
       "elapsed: \u001b[1;36m6.32\u001b[0m seconds\n"
      ]
     },
     "metadata": {},
     "output_type": "display_data"
    },
    {
     "data": {
      "text/html": [
       "<pre style=\"white-space:pre;overflow-x:auto;line-height:normal;font-family:Menlo,'DejaVu Sans Mono',consolas,'Courier New',monospace\">┏━━━━━━━━━━━━━━━━━━━━━━━━━━━━━━━━━━━━━━━┳━━━━━━━┳━━━━━━━━━━━━━━━━━━━┳━━━━━━━━━━┳━━━━━━━┓\n",
       "┃<span style=\"font-weight: bold\"> NAME                                  </span>┃<span style=\"font-weight: bold\"> READY </span>┃<span style=\"font-weight: bold\"> STATUS            </span>┃<span style=\"font-weight: bold\"> RESTARTS </span>┃<span style=\"font-weight: bold\"> AGE   </span>┃\n",
       "┡━━━━━━━━━━━━━━━━━━━━━━━━━━━━━━━━━━━━━━━╇━━━━━━━╇━━━━━━━━━━━━━━━━━━━╇━━━━━━━━━━╇━━━━━━━┩\n",
       "│<span style=\"color: #00aa00; text-decoration-color: #00aa00\"> ata-pod                               </span>│<span style=\"color: #00aaaa; text-decoration-color: #00aaaa\"> 0/1   </span>│<span style=\"color: #aaaaaa; text-decoration-color: #aaaaaa\"> ContainerCreating </span>│<span style=\"color: #ff5555; text-decoration-color: #ff5555\"> 0        </span>│<span style=\"color: #55ff55; text-decoration-color: #55ff55\"> 96m   </span>│\n",
       "│<span style=\"color: #00aa00; text-decoration-color: #00aa00\"> gpu-pod-xmkqv                         </span>│<span style=\"color: #00aaaa; text-decoration-color: #00aaaa\"> 0/1   </span>│<span style=\"color: #aaaaaa; text-decoration-color: #aaaaaa\"> ContainerCreating </span>│<span style=\"color: #ff5555; text-decoration-color: #ff5555\"> 0        </span>│<span style=\"color: #55ff55; text-decoration-color: #55ff55\"> 2m41s </span>│\n",
       "│<span style=\"color: #00aa00; text-decoration-color: #00aa00\"> hub-859c877b85-fzfrj                  </span>│<span style=\"color: #00aaaa; text-decoration-color: #00aaaa\"> 1/1   </span>│<span style=\"color: #aaaaaa; text-decoration-color: #aaaaaa\"> Running           </span>│<span style=\"color: #ff5555; text-decoration-color: #ff5555\"> 0        </span>│<span style=\"color: #55ff55; text-decoration-color: #55ff55\"> 5d    </span>│\n",
       "│<span style=\"color: #00aa00; text-decoration-color: #00aa00\"> jupyter-ataaakbari-40googlemail-2ecom </span>│<span style=\"color: #00aaaa; text-decoration-color: #00aaaa\"> 1/1   </span>│<span style=\"color: #aaaaaa; text-decoration-color: #aaaaaa\"> Running           </span>│<span style=\"color: #ff5555; text-decoration-color: #ff5555\"> 0        </span>│<span style=\"color: #55ff55; text-decoration-color: #55ff55\"> 58m   </span>│\n",
       "│<span style=\"color: #00aa00; text-decoration-color: #00aa00\"> jupyter-fawudarski-40gmail-2ecom      </span>│<span style=\"color: #00aaaa; text-decoration-color: #00aaaa\"> 1/1   </span>│<span style=\"color: #aaaaaa; text-decoration-color: #aaaaaa\"> Running           </span>│<span style=\"color: #ff5555; text-decoration-color: #ff5555\"> 0        </span>│<span style=\"color: #55ff55; text-decoration-color: #55ff55\"> 7h35m </span>│\n",
       "│<span style=\"color: #00aa00; text-decoration-color: #00aa00\"> proxy-5ddd4b47c9-xhb2d                </span>│<span style=\"color: #00aaaa; text-decoration-color: #00aaaa\"> 1/1   </span>│<span style=\"color: #aaaaaa; text-decoration-color: #aaaaaa\"> Running           </span>│<span style=\"color: #ff5555; text-decoration-color: #ff5555\"> 0        </span>│<span style=\"color: #55ff55; text-decoration-color: #55ff55\"> 43h   </span>│\n",
       "└───────────────────────────────────────┴───────┴───────────────────┴──────────┴───────┘\n",
       "</pre>\n"
      ],
      "text/plain": [
       "┏━━━━━━━━━━━━━━━━━━━━━━━━━━━━━━━━━━━━━━━┳━━━━━━━┳━━━━━━━━━━━━━━━━━━━┳━━━━━━━━━━┳━━━━━━━┓\n",
       "┃\u001b[1m \u001b[0m\u001b[1mNAME                                 \u001b[0m\u001b[1m \u001b[0m┃\u001b[1m \u001b[0m\u001b[1mREADY\u001b[0m\u001b[1m \u001b[0m┃\u001b[1m \u001b[0m\u001b[1mSTATUS           \u001b[0m\u001b[1m \u001b[0m┃\u001b[1m \u001b[0m\u001b[1mRESTARTS\u001b[0m\u001b[1m \u001b[0m┃\u001b[1m \u001b[0m\u001b[1mAGE  \u001b[0m\u001b[1m \u001b[0m┃\n",
       "┡━━━━━━━━━━━━━━━━━━━━━━━━━━━━━━━━━━━━━━━╇━━━━━━━╇━━━━━━━━━━━━━━━━━━━╇━━━━━━━━━━╇━━━━━━━┩\n",
       "│\u001b[38;2;0;170;0m \u001b[0m\u001b[38;2;0;170;0mata-pod                              \u001b[0m\u001b[38;2;0;170;0m \u001b[0m│\u001b[38;2;0;170;170m \u001b[0m\u001b[38;2;0;170;170m0/1  \u001b[0m\u001b[38;2;0;170;170m \u001b[0m│\u001b[38;2;170;170;170m \u001b[0m\u001b[38;2;170;170;170mContainerCreating\u001b[0m\u001b[38;2;170;170;170m \u001b[0m│\u001b[38;2;255;85;85m \u001b[0m\u001b[38;2;255;85;85m0       \u001b[0m\u001b[38;2;255;85;85m \u001b[0m│\u001b[38;2;85;255;85m \u001b[0m\u001b[38;2;85;255;85m96m  \u001b[0m\u001b[38;2;85;255;85m \u001b[0m│\n",
       "│\u001b[38;2;0;170;0m \u001b[0m\u001b[38;2;0;170;0mgpu-pod-xmkqv                        \u001b[0m\u001b[38;2;0;170;0m \u001b[0m│\u001b[38;2;0;170;170m \u001b[0m\u001b[38;2;0;170;170m0/1  \u001b[0m\u001b[38;2;0;170;170m \u001b[0m│\u001b[38;2;170;170;170m \u001b[0m\u001b[38;2;170;170;170mContainerCreating\u001b[0m\u001b[38;2;170;170;170m \u001b[0m│\u001b[38;2;255;85;85m \u001b[0m\u001b[38;2;255;85;85m0       \u001b[0m\u001b[38;2;255;85;85m \u001b[0m│\u001b[38;2;85;255;85m \u001b[0m\u001b[38;2;85;255;85m2m41s\u001b[0m\u001b[38;2;85;255;85m \u001b[0m│\n",
       "│\u001b[38;2;0;170;0m \u001b[0m\u001b[38;2;0;170;0mhub-859c877b85-fzfrj                 \u001b[0m\u001b[38;2;0;170;0m \u001b[0m│\u001b[38;2;0;170;170m \u001b[0m\u001b[38;2;0;170;170m1/1  \u001b[0m\u001b[38;2;0;170;170m \u001b[0m│\u001b[38;2;170;170;170m \u001b[0m\u001b[38;2;170;170;170mRunning          \u001b[0m\u001b[38;2;170;170;170m \u001b[0m│\u001b[38;2;255;85;85m \u001b[0m\u001b[38;2;255;85;85m0       \u001b[0m\u001b[38;2;255;85;85m \u001b[0m│\u001b[38;2;85;255;85m \u001b[0m\u001b[38;2;85;255;85m5d   \u001b[0m\u001b[38;2;85;255;85m \u001b[0m│\n",
       "│\u001b[38;2;0;170;0m \u001b[0m\u001b[38;2;0;170;0mjupyter-ataaakbari-40googlemail-2ecom\u001b[0m\u001b[38;2;0;170;0m \u001b[0m│\u001b[38;2;0;170;170m \u001b[0m\u001b[38;2;0;170;170m1/1  \u001b[0m\u001b[38;2;0;170;170m \u001b[0m│\u001b[38;2;170;170;170m \u001b[0m\u001b[38;2;170;170;170mRunning          \u001b[0m\u001b[38;2;170;170;170m \u001b[0m│\u001b[38;2;255;85;85m \u001b[0m\u001b[38;2;255;85;85m0       \u001b[0m\u001b[38;2;255;85;85m \u001b[0m│\u001b[38;2;85;255;85m \u001b[0m\u001b[38;2;85;255;85m58m  \u001b[0m\u001b[38;2;85;255;85m \u001b[0m│\n",
       "│\u001b[38;2;0;170;0m \u001b[0m\u001b[38;2;0;170;0mjupyter-fawudarski-40gmail-2ecom     \u001b[0m\u001b[38;2;0;170;0m \u001b[0m│\u001b[38;2;0;170;170m \u001b[0m\u001b[38;2;0;170;170m1/1  \u001b[0m\u001b[38;2;0;170;170m \u001b[0m│\u001b[38;2;170;170;170m \u001b[0m\u001b[38;2;170;170;170mRunning          \u001b[0m\u001b[38;2;170;170;170m \u001b[0m│\u001b[38;2;255;85;85m \u001b[0m\u001b[38;2;255;85;85m0       \u001b[0m\u001b[38;2;255;85;85m \u001b[0m│\u001b[38;2;85;255;85m \u001b[0m\u001b[38;2;85;255;85m7h35m\u001b[0m\u001b[38;2;85;255;85m \u001b[0m│\n",
       "│\u001b[38;2;0;170;0m \u001b[0m\u001b[38;2;0;170;0mproxy-5ddd4b47c9-xhb2d               \u001b[0m\u001b[38;2;0;170;0m \u001b[0m│\u001b[38;2;0;170;170m \u001b[0m\u001b[38;2;0;170;170m1/1  \u001b[0m\u001b[38;2;0;170;170m \u001b[0m│\u001b[38;2;170;170;170m \u001b[0m\u001b[38;2;170;170;170mRunning          \u001b[0m\u001b[38;2;170;170;170m \u001b[0m│\u001b[38;2;255;85;85m \u001b[0m\u001b[38;2;255;85;85m0       \u001b[0m\u001b[38;2;255;85;85m \u001b[0m│\u001b[38;2;85;255;85m \u001b[0m\u001b[38;2;85;255;85m43h  \u001b[0m\u001b[38;2;85;255;85m \u001b[0m│\n",
       "└───────────────────────────────────────┴───────┴───────────────────┴──────────┴───────┘\n"
      ]
     },
     "metadata": {},
     "output_type": "display_data"
    },
    {
     "data": {
      "text/html": [
       "<pre style=\"white-space:pre;overflow-x:auto;line-height:normal;font-family:Menlo,'DejaVu Sans Mono',consolas,'Courier New',monospace\">elapsed: <span style=\"color: #008080; text-decoration-color: #008080; font-weight: bold\">6.33</span> seconds\n",
       "</pre>\n"
      ],
      "text/plain": [
       "elapsed: \u001b[1;36m6.33\u001b[0m seconds\n"
      ]
     },
     "metadata": {},
     "output_type": "display_data"
    },
    {
     "data": {
      "text/html": [
       "<pre style=\"white-space:pre;overflow-x:auto;line-height:normal;font-family:Menlo,'DejaVu Sans Mono',consolas,'Courier New',monospace\">┏━━━━━━━━━━━━━━━━━━━━━━━━━━━━━━━━━━━━━━━┳━━━━━━━┳━━━━━━━━━━━━━━━━━━━┳━━━━━━━━━━┳━━━━━━━┓\n",
       "┃<span style=\"font-weight: bold\"> NAME                                  </span>┃<span style=\"font-weight: bold\"> READY </span>┃<span style=\"font-weight: bold\"> STATUS            </span>┃<span style=\"font-weight: bold\"> RESTARTS </span>┃<span style=\"font-weight: bold\"> AGE   </span>┃\n",
       "┡━━━━━━━━━━━━━━━━━━━━━━━━━━━━━━━━━━━━━━━╇━━━━━━━╇━━━━━━━━━━━━━━━━━━━╇━━━━━━━━━━╇━━━━━━━┩\n",
       "│<span style=\"color: #00aa00; text-decoration-color: #00aa00\"> ata-pod                               </span>│<span style=\"color: #00aaaa; text-decoration-color: #00aaaa\"> 0/1   </span>│<span style=\"color: #aaaaaa; text-decoration-color: #aaaaaa\"> ContainerCreating </span>│<span style=\"color: #ff5555; text-decoration-color: #ff5555\"> 0        </span>│<span style=\"color: #55ff55; text-decoration-color: #55ff55\"> 96m   </span>│\n",
       "│<span style=\"color: #00aa00; text-decoration-color: #00aa00\"> gpu-pod-xmkqv                         </span>│<span style=\"color: #00aaaa; text-decoration-color: #00aaaa\"> 0/1   </span>│<span style=\"color: #aaaaaa; text-decoration-color: #aaaaaa\"> ContainerCreating </span>│<span style=\"color: #ff5555; text-decoration-color: #ff5555\"> 0        </span>│<span style=\"color: #55ff55; text-decoration-color: #55ff55\"> 2m47s </span>│\n",
       "│<span style=\"color: #00aa00; text-decoration-color: #00aa00\"> hub-859c877b85-fzfrj                  </span>│<span style=\"color: #00aaaa; text-decoration-color: #00aaaa\"> 1/1   </span>│<span style=\"color: #aaaaaa; text-decoration-color: #aaaaaa\"> Running           </span>│<span style=\"color: #ff5555; text-decoration-color: #ff5555\"> 0        </span>│<span style=\"color: #55ff55; text-decoration-color: #55ff55\"> 5d    </span>│\n",
       "│<span style=\"color: #00aa00; text-decoration-color: #00aa00\"> jupyter-ataaakbari-40googlemail-2ecom </span>│<span style=\"color: #00aaaa; text-decoration-color: #00aaaa\"> 1/1   </span>│<span style=\"color: #aaaaaa; text-decoration-color: #aaaaaa\"> Running           </span>│<span style=\"color: #ff5555; text-decoration-color: #ff5555\"> 0        </span>│<span style=\"color: #55ff55; text-decoration-color: #55ff55\"> 58m   </span>│\n",
       "│<span style=\"color: #00aa00; text-decoration-color: #00aa00\"> jupyter-fawudarski-40gmail-2ecom      </span>│<span style=\"color: #00aaaa; text-decoration-color: #00aaaa\"> 1/1   </span>│<span style=\"color: #aaaaaa; text-decoration-color: #aaaaaa\"> Running           </span>│<span style=\"color: #ff5555; text-decoration-color: #ff5555\"> 0        </span>│<span style=\"color: #55ff55; text-decoration-color: #55ff55\"> 7h36m </span>│\n",
       "│<span style=\"color: #00aa00; text-decoration-color: #00aa00\"> proxy-5ddd4b47c9-xhb2d                </span>│<span style=\"color: #00aaaa; text-decoration-color: #00aaaa\"> 1/1   </span>│<span style=\"color: #aaaaaa; text-decoration-color: #aaaaaa\"> Running           </span>│<span style=\"color: #ff5555; text-decoration-color: #ff5555\"> 0        </span>│<span style=\"color: #55ff55; text-decoration-color: #55ff55\"> 43h   </span>│\n",
       "└───────────────────────────────────────┴───────┴───────────────────┴──────────┴───────┘\n",
       "</pre>\n"
      ],
      "text/plain": [
       "┏━━━━━━━━━━━━━━━━━━━━━━━━━━━━━━━━━━━━━━━┳━━━━━━━┳━━━━━━━━━━━━━━━━━━━┳━━━━━━━━━━┳━━━━━━━┓\n",
       "┃\u001b[1m \u001b[0m\u001b[1mNAME                                 \u001b[0m\u001b[1m \u001b[0m┃\u001b[1m \u001b[0m\u001b[1mREADY\u001b[0m\u001b[1m \u001b[0m┃\u001b[1m \u001b[0m\u001b[1mSTATUS           \u001b[0m\u001b[1m \u001b[0m┃\u001b[1m \u001b[0m\u001b[1mRESTARTS\u001b[0m\u001b[1m \u001b[0m┃\u001b[1m \u001b[0m\u001b[1mAGE  \u001b[0m\u001b[1m \u001b[0m┃\n",
       "┡━━━━━━━━━━━━━━━━━━━━━━━━━━━━━━━━━━━━━━━╇━━━━━━━╇━━━━━━━━━━━━━━━━━━━╇━━━━━━━━━━╇━━━━━━━┩\n",
       "│\u001b[38;2;0;170;0m \u001b[0m\u001b[38;2;0;170;0mata-pod                              \u001b[0m\u001b[38;2;0;170;0m \u001b[0m│\u001b[38;2;0;170;170m \u001b[0m\u001b[38;2;0;170;170m0/1  \u001b[0m\u001b[38;2;0;170;170m \u001b[0m│\u001b[38;2;170;170;170m \u001b[0m\u001b[38;2;170;170;170mContainerCreating\u001b[0m\u001b[38;2;170;170;170m \u001b[0m│\u001b[38;2;255;85;85m \u001b[0m\u001b[38;2;255;85;85m0       \u001b[0m\u001b[38;2;255;85;85m \u001b[0m│\u001b[38;2;85;255;85m \u001b[0m\u001b[38;2;85;255;85m96m  \u001b[0m\u001b[38;2;85;255;85m \u001b[0m│\n",
       "│\u001b[38;2;0;170;0m \u001b[0m\u001b[38;2;0;170;0mgpu-pod-xmkqv                        \u001b[0m\u001b[38;2;0;170;0m \u001b[0m│\u001b[38;2;0;170;170m \u001b[0m\u001b[38;2;0;170;170m0/1  \u001b[0m\u001b[38;2;0;170;170m \u001b[0m│\u001b[38;2;170;170;170m \u001b[0m\u001b[38;2;170;170;170mContainerCreating\u001b[0m\u001b[38;2;170;170;170m \u001b[0m│\u001b[38;2;255;85;85m \u001b[0m\u001b[38;2;255;85;85m0       \u001b[0m\u001b[38;2;255;85;85m \u001b[0m│\u001b[38;2;85;255;85m \u001b[0m\u001b[38;2;85;255;85m2m47s\u001b[0m\u001b[38;2;85;255;85m \u001b[0m│\n",
       "│\u001b[38;2;0;170;0m \u001b[0m\u001b[38;2;0;170;0mhub-859c877b85-fzfrj                 \u001b[0m\u001b[38;2;0;170;0m \u001b[0m│\u001b[38;2;0;170;170m \u001b[0m\u001b[38;2;0;170;170m1/1  \u001b[0m\u001b[38;2;0;170;170m \u001b[0m│\u001b[38;2;170;170;170m \u001b[0m\u001b[38;2;170;170;170mRunning          \u001b[0m\u001b[38;2;170;170;170m \u001b[0m│\u001b[38;2;255;85;85m \u001b[0m\u001b[38;2;255;85;85m0       \u001b[0m\u001b[38;2;255;85;85m \u001b[0m│\u001b[38;2;85;255;85m \u001b[0m\u001b[38;2;85;255;85m5d   \u001b[0m\u001b[38;2;85;255;85m \u001b[0m│\n",
       "│\u001b[38;2;0;170;0m \u001b[0m\u001b[38;2;0;170;0mjupyter-ataaakbari-40googlemail-2ecom\u001b[0m\u001b[38;2;0;170;0m \u001b[0m│\u001b[38;2;0;170;170m \u001b[0m\u001b[38;2;0;170;170m1/1  \u001b[0m\u001b[38;2;0;170;170m \u001b[0m│\u001b[38;2;170;170;170m \u001b[0m\u001b[38;2;170;170;170mRunning          \u001b[0m\u001b[38;2;170;170;170m \u001b[0m│\u001b[38;2;255;85;85m \u001b[0m\u001b[38;2;255;85;85m0       \u001b[0m\u001b[38;2;255;85;85m \u001b[0m│\u001b[38;2;85;255;85m \u001b[0m\u001b[38;2;85;255;85m58m  \u001b[0m\u001b[38;2;85;255;85m \u001b[0m│\n",
       "│\u001b[38;2;0;170;0m \u001b[0m\u001b[38;2;0;170;0mjupyter-fawudarski-40gmail-2ecom     \u001b[0m\u001b[38;2;0;170;0m \u001b[0m│\u001b[38;2;0;170;170m \u001b[0m\u001b[38;2;0;170;170m1/1  \u001b[0m\u001b[38;2;0;170;170m \u001b[0m│\u001b[38;2;170;170;170m \u001b[0m\u001b[38;2;170;170;170mRunning          \u001b[0m\u001b[38;2;170;170;170m \u001b[0m│\u001b[38;2;255;85;85m \u001b[0m\u001b[38;2;255;85;85m0       \u001b[0m\u001b[38;2;255;85;85m \u001b[0m│\u001b[38;2;85;255;85m \u001b[0m\u001b[38;2;85;255;85m7h36m\u001b[0m\u001b[38;2;85;255;85m \u001b[0m│\n",
       "│\u001b[38;2;0;170;0m \u001b[0m\u001b[38;2;0;170;0mproxy-5ddd4b47c9-xhb2d               \u001b[0m\u001b[38;2;0;170;0m \u001b[0m│\u001b[38;2;0;170;170m \u001b[0m\u001b[38;2;0;170;170m1/1  \u001b[0m\u001b[38;2;0;170;170m \u001b[0m│\u001b[38;2;170;170;170m \u001b[0m\u001b[38;2;170;170;170mRunning          \u001b[0m\u001b[38;2;170;170;170m \u001b[0m│\u001b[38;2;255;85;85m \u001b[0m\u001b[38;2;255;85;85m0       \u001b[0m\u001b[38;2;255;85;85m \u001b[0m│\u001b[38;2;85;255;85m \u001b[0m\u001b[38;2;85;255;85m43h  \u001b[0m\u001b[38;2;85;255;85m \u001b[0m│\n",
       "└───────────────────────────────────────┴───────┴───────────────────┴──────────┴───────┘\n"
      ]
     },
     "metadata": {},
     "output_type": "display_data"
    },
    {
     "data": {
      "text/html": [
       "<pre style=\"white-space:pre;overflow-x:auto;line-height:normal;font-family:Menlo,'DejaVu Sans Mono',consolas,'Courier New',monospace\">elapsed: <span style=\"color: #008080; text-decoration-color: #008080; font-weight: bold\">6.30</span> seconds\n",
       "</pre>\n"
      ],
      "text/plain": [
       "elapsed: \u001b[1;36m6.30\u001b[0m seconds\n"
      ]
     },
     "metadata": {},
     "output_type": "display_data"
    },
    {
     "data": {
      "text/html": [
       "<pre style=\"white-space:pre;overflow-x:auto;line-height:normal;font-family:Menlo,'DejaVu Sans Mono',consolas,'Courier New',monospace\">┏━━━━━━━━━━━━━━━━━━━━━━━━━━━━━━━━━━━━━━━┳━━━━━━━┳━━━━━━━━━━━━━━━━━━━┳━━━━━━━━━━┳━━━━━━━┓\n",
       "┃<span style=\"font-weight: bold\"> NAME                                  </span>┃<span style=\"font-weight: bold\"> READY </span>┃<span style=\"font-weight: bold\"> STATUS            </span>┃<span style=\"font-weight: bold\"> RESTARTS </span>┃<span style=\"font-weight: bold\"> AGE   </span>┃\n",
       "┡━━━━━━━━━━━━━━━━━━━━━━━━━━━━━━━━━━━━━━━╇━━━━━━━╇━━━━━━━━━━━━━━━━━━━╇━━━━━━━━━━╇━━━━━━━┩\n",
       "│<span style=\"color: #00aa00; text-decoration-color: #00aa00\"> ata-pod                               </span>│<span style=\"color: #00aaaa; text-decoration-color: #00aaaa\"> 0/1   </span>│<span style=\"color: #aaaaaa; text-decoration-color: #aaaaaa\"> ContainerCreating </span>│<span style=\"color: #ff5555; text-decoration-color: #ff5555\"> 0        </span>│<span style=\"color: #55ff55; text-decoration-color: #55ff55\"> 96m   </span>│\n",
       "│<span style=\"color: #00aa00; text-decoration-color: #00aa00\"> gpu-pod-xmkqv                         </span>│<span style=\"color: #00aaaa; text-decoration-color: #00aaaa\"> 0/1   </span>│<span style=\"color: #aaaaaa; text-decoration-color: #aaaaaa\"> ContainerCreating </span>│<span style=\"color: #ff5555; text-decoration-color: #ff5555\"> 0        </span>│<span style=\"color: #55ff55; text-decoration-color: #55ff55\"> 2m53s </span>│\n",
       "│<span style=\"color: #00aa00; text-decoration-color: #00aa00\"> hub-859c877b85-fzfrj                  </span>│<span style=\"color: #00aaaa; text-decoration-color: #00aaaa\"> 1/1   </span>│<span style=\"color: #aaaaaa; text-decoration-color: #aaaaaa\"> Running           </span>│<span style=\"color: #ff5555; text-decoration-color: #ff5555\"> 0        </span>│<span style=\"color: #55ff55; text-decoration-color: #55ff55\"> 5d    </span>│\n",
       "│<span style=\"color: #00aa00; text-decoration-color: #00aa00\"> jupyter-ataaakbari-40googlemail-2ecom </span>│<span style=\"color: #00aaaa; text-decoration-color: #00aaaa\"> 1/1   </span>│<span style=\"color: #aaaaaa; text-decoration-color: #aaaaaa\"> Running           </span>│<span style=\"color: #ff5555; text-decoration-color: #ff5555\"> 0        </span>│<span style=\"color: #55ff55; text-decoration-color: #55ff55\"> 58m   </span>│\n",
       "│<span style=\"color: #00aa00; text-decoration-color: #00aa00\"> jupyter-fawudarski-40gmail-2ecom      </span>│<span style=\"color: #00aaaa; text-decoration-color: #00aaaa\"> 1/1   </span>│<span style=\"color: #aaaaaa; text-decoration-color: #aaaaaa\"> Running           </span>│<span style=\"color: #ff5555; text-decoration-color: #ff5555\"> 0        </span>│<span style=\"color: #55ff55; text-decoration-color: #55ff55\"> 7h36m </span>│\n",
       "│<span style=\"color: #00aa00; text-decoration-color: #00aa00\"> proxy-5ddd4b47c9-xhb2d                </span>│<span style=\"color: #00aaaa; text-decoration-color: #00aaaa\"> 1/1   </span>│<span style=\"color: #aaaaaa; text-decoration-color: #aaaaaa\"> Running           </span>│<span style=\"color: #ff5555; text-decoration-color: #ff5555\"> 0        </span>│<span style=\"color: #55ff55; text-decoration-color: #55ff55\"> 43h   </span>│\n",
       "└───────────────────────────────────────┴───────┴───────────────────┴──────────┴───────┘\n",
       "</pre>\n"
      ],
      "text/plain": [
       "┏━━━━━━━━━━━━━━━━━━━━━━━━━━━━━━━━━━━━━━━┳━━━━━━━┳━━━━━━━━━━━━━━━━━━━┳━━━━━━━━━━┳━━━━━━━┓\n",
       "┃\u001b[1m \u001b[0m\u001b[1mNAME                                 \u001b[0m\u001b[1m \u001b[0m┃\u001b[1m \u001b[0m\u001b[1mREADY\u001b[0m\u001b[1m \u001b[0m┃\u001b[1m \u001b[0m\u001b[1mSTATUS           \u001b[0m\u001b[1m \u001b[0m┃\u001b[1m \u001b[0m\u001b[1mRESTARTS\u001b[0m\u001b[1m \u001b[0m┃\u001b[1m \u001b[0m\u001b[1mAGE  \u001b[0m\u001b[1m \u001b[0m┃\n",
       "┡━━━━━━━━━━━━━━━━━━━━━━━━━━━━━━━━━━━━━━━╇━━━━━━━╇━━━━━━━━━━━━━━━━━━━╇━━━━━━━━━━╇━━━━━━━┩\n",
       "│\u001b[38;2;0;170;0m \u001b[0m\u001b[38;2;0;170;0mata-pod                              \u001b[0m\u001b[38;2;0;170;0m \u001b[0m│\u001b[38;2;0;170;170m \u001b[0m\u001b[38;2;0;170;170m0/1  \u001b[0m\u001b[38;2;0;170;170m \u001b[0m│\u001b[38;2;170;170;170m \u001b[0m\u001b[38;2;170;170;170mContainerCreating\u001b[0m\u001b[38;2;170;170;170m \u001b[0m│\u001b[38;2;255;85;85m \u001b[0m\u001b[38;2;255;85;85m0       \u001b[0m\u001b[38;2;255;85;85m \u001b[0m│\u001b[38;2;85;255;85m \u001b[0m\u001b[38;2;85;255;85m96m  \u001b[0m\u001b[38;2;85;255;85m \u001b[0m│\n",
       "│\u001b[38;2;0;170;0m \u001b[0m\u001b[38;2;0;170;0mgpu-pod-xmkqv                        \u001b[0m\u001b[38;2;0;170;0m \u001b[0m│\u001b[38;2;0;170;170m \u001b[0m\u001b[38;2;0;170;170m0/1  \u001b[0m\u001b[38;2;0;170;170m \u001b[0m│\u001b[38;2;170;170;170m \u001b[0m\u001b[38;2;170;170;170mContainerCreating\u001b[0m\u001b[38;2;170;170;170m \u001b[0m│\u001b[38;2;255;85;85m \u001b[0m\u001b[38;2;255;85;85m0       \u001b[0m\u001b[38;2;255;85;85m \u001b[0m│\u001b[38;2;85;255;85m \u001b[0m\u001b[38;2;85;255;85m2m53s\u001b[0m\u001b[38;2;85;255;85m \u001b[0m│\n",
       "│\u001b[38;2;0;170;0m \u001b[0m\u001b[38;2;0;170;0mhub-859c877b85-fzfrj                 \u001b[0m\u001b[38;2;0;170;0m \u001b[0m│\u001b[38;2;0;170;170m \u001b[0m\u001b[38;2;0;170;170m1/1  \u001b[0m\u001b[38;2;0;170;170m \u001b[0m│\u001b[38;2;170;170;170m \u001b[0m\u001b[38;2;170;170;170mRunning          \u001b[0m\u001b[38;2;170;170;170m \u001b[0m│\u001b[38;2;255;85;85m \u001b[0m\u001b[38;2;255;85;85m0       \u001b[0m\u001b[38;2;255;85;85m \u001b[0m│\u001b[38;2;85;255;85m \u001b[0m\u001b[38;2;85;255;85m5d   \u001b[0m\u001b[38;2;85;255;85m \u001b[0m│\n",
       "│\u001b[38;2;0;170;0m \u001b[0m\u001b[38;2;0;170;0mjupyter-ataaakbari-40googlemail-2ecom\u001b[0m\u001b[38;2;0;170;0m \u001b[0m│\u001b[38;2;0;170;170m \u001b[0m\u001b[38;2;0;170;170m1/1  \u001b[0m\u001b[38;2;0;170;170m \u001b[0m│\u001b[38;2;170;170;170m \u001b[0m\u001b[38;2;170;170;170mRunning          \u001b[0m\u001b[38;2;170;170;170m \u001b[0m│\u001b[38;2;255;85;85m \u001b[0m\u001b[38;2;255;85;85m0       \u001b[0m\u001b[38;2;255;85;85m \u001b[0m│\u001b[38;2;85;255;85m \u001b[0m\u001b[38;2;85;255;85m58m  \u001b[0m\u001b[38;2;85;255;85m \u001b[0m│\n",
       "│\u001b[38;2;0;170;0m \u001b[0m\u001b[38;2;0;170;0mjupyter-fawudarski-40gmail-2ecom     \u001b[0m\u001b[38;2;0;170;0m \u001b[0m│\u001b[38;2;0;170;170m \u001b[0m\u001b[38;2;0;170;170m1/1  \u001b[0m\u001b[38;2;0;170;170m \u001b[0m│\u001b[38;2;170;170;170m \u001b[0m\u001b[38;2;170;170;170mRunning          \u001b[0m\u001b[38;2;170;170;170m \u001b[0m│\u001b[38;2;255;85;85m \u001b[0m\u001b[38;2;255;85;85m0       \u001b[0m\u001b[38;2;255;85;85m \u001b[0m│\u001b[38;2;85;255;85m \u001b[0m\u001b[38;2;85;255;85m7h36m\u001b[0m\u001b[38;2;85;255;85m \u001b[0m│\n",
       "│\u001b[38;2;0;170;0m \u001b[0m\u001b[38;2;0;170;0mproxy-5ddd4b47c9-xhb2d               \u001b[0m\u001b[38;2;0;170;0m \u001b[0m│\u001b[38;2;0;170;170m \u001b[0m\u001b[38;2;0;170;170m1/1  \u001b[0m\u001b[38;2;0;170;170m \u001b[0m│\u001b[38;2;170;170;170m \u001b[0m\u001b[38;2;170;170;170mRunning          \u001b[0m\u001b[38;2;170;170;170m \u001b[0m│\u001b[38;2;255;85;85m \u001b[0m\u001b[38;2;255;85;85m0       \u001b[0m\u001b[38;2;255;85;85m \u001b[0m│\u001b[38;2;85;255;85m \u001b[0m\u001b[38;2;85;255;85m43h  \u001b[0m\u001b[38;2;85;255;85m \u001b[0m│\n",
       "└───────────────────────────────────────┴───────┴───────────────────┴──────────┴───────┘\n"
      ]
     },
     "metadata": {},
     "output_type": "display_data"
    },
    {
     "data": {
      "text/html": [
       "<pre style=\"white-space:pre;overflow-x:auto;line-height:normal;font-family:Menlo,'DejaVu Sans Mono',consolas,'Courier New',monospace\">elapsed: <span style=\"color: #008080; text-decoration-color: #008080; font-weight: bold\">6.31</span> seconds\n",
       "</pre>\n"
      ],
      "text/plain": [
       "elapsed: \u001b[1;36m6.31\u001b[0m seconds\n"
      ]
     },
     "metadata": {},
     "output_type": "display_data"
    },
    {
     "data": {
      "text/html": [
       "<pre style=\"white-space:pre;overflow-x:auto;line-height:normal;font-family:Menlo,'DejaVu Sans Mono',consolas,'Courier New',monospace\">┏━━━━━━━━━━━━━━━━━━━━━━━━━━━━━━━━━━━━━━━┳━━━━━━━┳━━━━━━━━━━━━━━━━━━━┳━━━━━━━━━━┳━━━━━━━┓\n",
       "┃<span style=\"font-weight: bold\"> NAME                                  </span>┃<span style=\"font-weight: bold\"> READY </span>┃<span style=\"font-weight: bold\"> STATUS            </span>┃<span style=\"font-weight: bold\"> RESTARTS </span>┃<span style=\"font-weight: bold\"> AGE   </span>┃\n",
       "┡━━━━━━━━━━━━━━━━━━━━━━━━━━━━━━━━━━━━━━━╇━━━━━━━╇━━━━━━━━━━━━━━━━━━━╇━━━━━━━━━━╇━━━━━━━┩\n",
       "│<span style=\"color: #00aa00; text-decoration-color: #00aa00\"> ata-pod                               </span>│<span style=\"color: #00aaaa; text-decoration-color: #00aaaa\"> 0/1   </span>│<span style=\"color: #aaaaaa; text-decoration-color: #aaaaaa\"> ContainerCreating </span>│<span style=\"color: #ff5555; text-decoration-color: #ff5555\"> 0        </span>│<span style=\"color: #55ff55; text-decoration-color: #55ff55\"> 96m   </span>│\n",
       "│<span style=\"color: #00aa00; text-decoration-color: #00aa00\"> gpu-pod-xmkqv                         </span>│<span style=\"color: #00aaaa; text-decoration-color: #00aaaa\"> 0/1   </span>│<span style=\"color: #aaaaaa; text-decoration-color: #aaaaaa\"> ContainerCreating </span>│<span style=\"color: #ff5555; text-decoration-color: #ff5555\"> 0        </span>│<span style=\"color: #55ff55; text-decoration-color: #55ff55\"> 3m    </span>│\n",
       "│<span style=\"color: #00aa00; text-decoration-color: #00aa00\"> hub-859c877b85-fzfrj                  </span>│<span style=\"color: #00aaaa; text-decoration-color: #00aaaa\"> 1/1   </span>│<span style=\"color: #aaaaaa; text-decoration-color: #aaaaaa\"> Running           </span>│<span style=\"color: #ff5555; text-decoration-color: #ff5555\"> 0        </span>│<span style=\"color: #55ff55; text-decoration-color: #55ff55\"> 5d    </span>│\n",
       "│<span style=\"color: #00aa00; text-decoration-color: #00aa00\"> jupyter-ataaakbari-40googlemail-2ecom </span>│<span style=\"color: #00aaaa; text-decoration-color: #00aaaa\"> 1/1   </span>│<span style=\"color: #aaaaaa; text-decoration-color: #aaaaaa\"> Running           </span>│<span style=\"color: #ff5555; text-decoration-color: #ff5555\"> 0        </span>│<span style=\"color: #55ff55; text-decoration-color: #55ff55\"> 58m   </span>│\n",
       "│<span style=\"color: #00aa00; text-decoration-color: #00aa00\"> jupyter-fawudarski-40gmail-2ecom      </span>│<span style=\"color: #00aaaa; text-decoration-color: #00aaaa\"> 1/1   </span>│<span style=\"color: #aaaaaa; text-decoration-color: #aaaaaa\"> Running           </span>│<span style=\"color: #ff5555; text-decoration-color: #ff5555\"> 0        </span>│<span style=\"color: #55ff55; text-decoration-color: #55ff55\"> 7h36m </span>│\n",
       "│<span style=\"color: #00aa00; text-decoration-color: #00aa00\"> proxy-5ddd4b47c9-xhb2d                </span>│<span style=\"color: #00aaaa; text-decoration-color: #00aaaa\"> 1/1   </span>│<span style=\"color: #aaaaaa; text-decoration-color: #aaaaaa\"> Running           </span>│<span style=\"color: #ff5555; text-decoration-color: #ff5555\"> 0        </span>│<span style=\"color: #55ff55; text-decoration-color: #55ff55\"> 43h   </span>│\n",
       "└───────────────────────────────────────┴───────┴───────────────────┴──────────┴───────┘\n",
       "</pre>\n"
      ],
      "text/plain": [
       "┏━━━━━━━━━━━━━━━━━━━━━━━━━━━━━━━━━━━━━━━┳━━━━━━━┳━━━━━━━━━━━━━━━━━━━┳━━━━━━━━━━┳━━━━━━━┓\n",
       "┃\u001b[1m \u001b[0m\u001b[1mNAME                                 \u001b[0m\u001b[1m \u001b[0m┃\u001b[1m \u001b[0m\u001b[1mREADY\u001b[0m\u001b[1m \u001b[0m┃\u001b[1m \u001b[0m\u001b[1mSTATUS           \u001b[0m\u001b[1m \u001b[0m┃\u001b[1m \u001b[0m\u001b[1mRESTARTS\u001b[0m\u001b[1m \u001b[0m┃\u001b[1m \u001b[0m\u001b[1mAGE  \u001b[0m\u001b[1m \u001b[0m┃\n",
       "┡━━━━━━━━━━━━━━━━━━━━━━━━━━━━━━━━━━━━━━━╇━━━━━━━╇━━━━━━━━━━━━━━━━━━━╇━━━━━━━━━━╇━━━━━━━┩\n",
       "│\u001b[38;2;0;170;0m \u001b[0m\u001b[38;2;0;170;0mata-pod                              \u001b[0m\u001b[38;2;0;170;0m \u001b[0m│\u001b[38;2;0;170;170m \u001b[0m\u001b[38;2;0;170;170m0/1  \u001b[0m\u001b[38;2;0;170;170m \u001b[0m│\u001b[38;2;170;170;170m \u001b[0m\u001b[38;2;170;170;170mContainerCreating\u001b[0m\u001b[38;2;170;170;170m \u001b[0m│\u001b[38;2;255;85;85m \u001b[0m\u001b[38;2;255;85;85m0       \u001b[0m\u001b[38;2;255;85;85m \u001b[0m│\u001b[38;2;85;255;85m \u001b[0m\u001b[38;2;85;255;85m96m  \u001b[0m\u001b[38;2;85;255;85m \u001b[0m│\n",
       "│\u001b[38;2;0;170;0m \u001b[0m\u001b[38;2;0;170;0mgpu-pod-xmkqv                        \u001b[0m\u001b[38;2;0;170;0m \u001b[0m│\u001b[38;2;0;170;170m \u001b[0m\u001b[38;2;0;170;170m0/1  \u001b[0m\u001b[38;2;0;170;170m \u001b[0m│\u001b[38;2;170;170;170m \u001b[0m\u001b[38;2;170;170;170mContainerCreating\u001b[0m\u001b[38;2;170;170;170m \u001b[0m│\u001b[38;2;255;85;85m \u001b[0m\u001b[38;2;255;85;85m0       \u001b[0m\u001b[38;2;255;85;85m \u001b[0m│\u001b[38;2;85;255;85m \u001b[0m\u001b[38;2;85;255;85m3m   \u001b[0m\u001b[38;2;85;255;85m \u001b[0m│\n",
       "│\u001b[38;2;0;170;0m \u001b[0m\u001b[38;2;0;170;0mhub-859c877b85-fzfrj                 \u001b[0m\u001b[38;2;0;170;0m \u001b[0m│\u001b[38;2;0;170;170m \u001b[0m\u001b[38;2;0;170;170m1/1  \u001b[0m\u001b[38;2;0;170;170m \u001b[0m│\u001b[38;2;170;170;170m \u001b[0m\u001b[38;2;170;170;170mRunning          \u001b[0m\u001b[38;2;170;170;170m \u001b[0m│\u001b[38;2;255;85;85m \u001b[0m\u001b[38;2;255;85;85m0       \u001b[0m\u001b[38;2;255;85;85m \u001b[0m│\u001b[38;2;85;255;85m \u001b[0m\u001b[38;2;85;255;85m5d   \u001b[0m\u001b[38;2;85;255;85m \u001b[0m│\n",
       "│\u001b[38;2;0;170;0m \u001b[0m\u001b[38;2;0;170;0mjupyter-ataaakbari-40googlemail-2ecom\u001b[0m\u001b[38;2;0;170;0m \u001b[0m│\u001b[38;2;0;170;170m \u001b[0m\u001b[38;2;0;170;170m1/1  \u001b[0m\u001b[38;2;0;170;170m \u001b[0m│\u001b[38;2;170;170;170m \u001b[0m\u001b[38;2;170;170;170mRunning          \u001b[0m\u001b[38;2;170;170;170m \u001b[0m│\u001b[38;2;255;85;85m \u001b[0m\u001b[38;2;255;85;85m0       \u001b[0m\u001b[38;2;255;85;85m \u001b[0m│\u001b[38;2;85;255;85m \u001b[0m\u001b[38;2;85;255;85m58m  \u001b[0m\u001b[38;2;85;255;85m \u001b[0m│\n",
       "│\u001b[38;2;0;170;0m \u001b[0m\u001b[38;2;0;170;0mjupyter-fawudarski-40gmail-2ecom     \u001b[0m\u001b[38;2;0;170;0m \u001b[0m│\u001b[38;2;0;170;170m \u001b[0m\u001b[38;2;0;170;170m1/1  \u001b[0m\u001b[38;2;0;170;170m \u001b[0m│\u001b[38;2;170;170;170m \u001b[0m\u001b[38;2;170;170;170mRunning          \u001b[0m\u001b[38;2;170;170;170m \u001b[0m│\u001b[38;2;255;85;85m \u001b[0m\u001b[38;2;255;85;85m0       \u001b[0m\u001b[38;2;255;85;85m \u001b[0m│\u001b[38;2;85;255;85m \u001b[0m\u001b[38;2;85;255;85m7h36m\u001b[0m\u001b[38;2;85;255;85m \u001b[0m│\n",
       "│\u001b[38;2;0;170;0m \u001b[0m\u001b[38;2;0;170;0mproxy-5ddd4b47c9-xhb2d               \u001b[0m\u001b[38;2;0;170;0m \u001b[0m│\u001b[38;2;0;170;170m \u001b[0m\u001b[38;2;0;170;170m1/1  \u001b[0m\u001b[38;2;0;170;170m \u001b[0m│\u001b[38;2;170;170;170m \u001b[0m\u001b[38;2;170;170;170mRunning          \u001b[0m\u001b[38;2;170;170;170m \u001b[0m│\u001b[38;2;255;85;85m \u001b[0m\u001b[38;2;255;85;85m0       \u001b[0m\u001b[38;2;255;85;85m \u001b[0m│\u001b[38;2;85;255;85m \u001b[0m\u001b[38;2;85;255;85m43h  \u001b[0m\u001b[38;2;85;255;85m \u001b[0m│\n",
       "└───────────────────────────────────────┴───────┴───────────────────┴──────────┴───────┘\n"
      ]
     },
     "metadata": {},
     "output_type": "display_data"
    },
    {
     "data": {
      "text/html": [
       "<pre style=\"white-space:pre;overflow-x:auto;line-height:normal;font-family:Menlo,'DejaVu Sans Mono',consolas,'Courier New',monospace\">elapsed: <span style=\"color: #008080; text-decoration-color: #008080; font-weight: bold\">6.33</span> seconds\n",
       "</pre>\n"
      ],
      "text/plain": [
       "elapsed: \u001b[1;36m6.33\u001b[0m seconds\n"
      ]
     },
     "metadata": {},
     "output_type": "display_data"
    },
    {
     "data": {
      "text/html": [
       "<pre style=\"white-space:pre;overflow-x:auto;line-height:normal;font-family:Menlo,'DejaVu Sans Mono',consolas,'Courier New',monospace\">┏━━━━━━━━━━━━━━━━━━━━━━━━━━━━━━━━━━━━━━━┳━━━━━━━┳━━━━━━━━━━━━━━━━━━━┳━━━━━━━━━━┳━━━━━━━┓\n",
       "┃<span style=\"font-weight: bold\"> NAME                                  </span>┃<span style=\"font-weight: bold\"> READY </span>┃<span style=\"font-weight: bold\"> STATUS            </span>┃<span style=\"font-weight: bold\"> RESTARTS </span>┃<span style=\"font-weight: bold\"> AGE   </span>┃\n",
       "┡━━━━━━━━━━━━━━━━━━━━━━━━━━━━━━━━━━━━━━━╇━━━━━━━╇━━━━━━━━━━━━━━━━━━━╇━━━━━━━━━━╇━━━━━━━┩\n",
       "│<span style=\"color: #00aa00; text-decoration-color: #00aa00\"> ata-pod                               </span>│<span style=\"color: #00aaaa; text-decoration-color: #00aaaa\"> 0/1   </span>│<span style=\"color: #aaaaaa; text-decoration-color: #aaaaaa\"> ContainerCreating </span>│<span style=\"color: #ff5555; text-decoration-color: #ff5555\"> 0        </span>│<span style=\"color: #55ff55; text-decoration-color: #55ff55\"> 96m   </span>│\n",
       "│<span style=\"color: #00aa00; text-decoration-color: #00aa00\"> gpu-pod-xmkqv                         </span>│<span style=\"color: #00aaaa; text-decoration-color: #00aaaa\"> 0/1   </span>│<span style=\"color: #aaaaaa; text-decoration-color: #aaaaaa\"> ContainerCreating </span>│<span style=\"color: #ff5555; text-decoration-color: #ff5555\"> 0        </span>│<span style=\"color: #55ff55; text-decoration-color: #55ff55\"> 3m6s  </span>│\n",
       "│<span style=\"color: #00aa00; text-decoration-color: #00aa00\"> hub-859c877b85-fzfrj                  </span>│<span style=\"color: #00aaaa; text-decoration-color: #00aaaa\"> 1/1   </span>│<span style=\"color: #aaaaaa; text-decoration-color: #aaaaaa\"> Running           </span>│<span style=\"color: #ff5555; text-decoration-color: #ff5555\"> 0        </span>│<span style=\"color: #55ff55; text-decoration-color: #55ff55\"> 5d    </span>│\n",
       "│<span style=\"color: #00aa00; text-decoration-color: #00aa00\"> jupyter-ataaakbari-40googlemail-2ecom </span>│<span style=\"color: #00aaaa; text-decoration-color: #00aaaa\"> 1/1   </span>│<span style=\"color: #aaaaaa; text-decoration-color: #aaaaaa\"> Running           </span>│<span style=\"color: #ff5555; text-decoration-color: #ff5555\"> 0        </span>│<span style=\"color: #55ff55; text-decoration-color: #55ff55\"> 58m   </span>│\n",
       "│<span style=\"color: #00aa00; text-decoration-color: #00aa00\"> jupyter-fawudarski-40gmail-2ecom      </span>│<span style=\"color: #00aaaa; text-decoration-color: #00aaaa\"> 1/1   </span>│<span style=\"color: #aaaaaa; text-decoration-color: #aaaaaa\"> Running           </span>│<span style=\"color: #ff5555; text-decoration-color: #ff5555\"> 0        </span>│<span style=\"color: #55ff55; text-decoration-color: #55ff55\"> 7h36m </span>│\n",
       "│<span style=\"color: #00aa00; text-decoration-color: #00aa00\"> proxy-5ddd4b47c9-xhb2d                </span>│<span style=\"color: #00aaaa; text-decoration-color: #00aaaa\"> 1/1   </span>│<span style=\"color: #aaaaaa; text-decoration-color: #aaaaaa\"> Running           </span>│<span style=\"color: #ff5555; text-decoration-color: #ff5555\"> 0        </span>│<span style=\"color: #55ff55; text-decoration-color: #55ff55\"> 43h   </span>│\n",
       "└───────────────────────────────────────┴───────┴───────────────────┴──────────┴───────┘\n",
       "</pre>\n"
      ],
      "text/plain": [
       "┏━━━━━━━━━━━━━━━━━━━━━━━━━━━━━━━━━━━━━━━┳━━━━━━━┳━━━━━━━━━━━━━━━━━━━┳━━━━━━━━━━┳━━━━━━━┓\n",
       "┃\u001b[1m \u001b[0m\u001b[1mNAME                                 \u001b[0m\u001b[1m \u001b[0m┃\u001b[1m \u001b[0m\u001b[1mREADY\u001b[0m\u001b[1m \u001b[0m┃\u001b[1m \u001b[0m\u001b[1mSTATUS           \u001b[0m\u001b[1m \u001b[0m┃\u001b[1m \u001b[0m\u001b[1mRESTARTS\u001b[0m\u001b[1m \u001b[0m┃\u001b[1m \u001b[0m\u001b[1mAGE  \u001b[0m\u001b[1m \u001b[0m┃\n",
       "┡━━━━━━━━━━━━━━━━━━━━━━━━━━━━━━━━━━━━━━━╇━━━━━━━╇━━━━━━━━━━━━━━━━━━━╇━━━━━━━━━━╇━━━━━━━┩\n",
       "│\u001b[38;2;0;170;0m \u001b[0m\u001b[38;2;0;170;0mata-pod                              \u001b[0m\u001b[38;2;0;170;0m \u001b[0m│\u001b[38;2;0;170;170m \u001b[0m\u001b[38;2;0;170;170m0/1  \u001b[0m\u001b[38;2;0;170;170m \u001b[0m│\u001b[38;2;170;170;170m \u001b[0m\u001b[38;2;170;170;170mContainerCreating\u001b[0m\u001b[38;2;170;170;170m \u001b[0m│\u001b[38;2;255;85;85m \u001b[0m\u001b[38;2;255;85;85m0       \u001b[0m\u001b[38;2;255;85;85m \u001b[0m│\u001b[38;2;85;255;85m \u001b[0m\u001b[38;2;85;255;85m96m  \u001b[0m\u001b[38;2;85;255;85m \u001b[0m│\n",
       "│\u001b[38;2;0;170;0m \u001b[0m\u001b[38;2;0;170;0mgpu-pod-xmkqv                        \u001b[0m\u001b[38;2;0;170;0m \u001b[0m│\u001b[38;2;0;170;170m \u001b[0m\u001b[38;2;0;170;170m0/1  \u001b[0m\u001b[38;2;0;170;170m \u001b[0m│\u001b[38;2;170;170;170m \u001b[0m\u001b[38;2;170;170;170mContainerCreating\u001b[0m\u001b[38;2;170;170;170m \u001b[0m│\u001b[38;2;255;85;85m \u001b[0m\u001b[38;2;255;85;85m0       \u001b[0m\u001b[38;2;255;85;85m \u001b[0m│\u001b[38;2;85;255;85m \u001b[0m\u001b[38;2;85;255;85m3m6s \u001b[0m\u001b[38;2;85;255;85m \u001b[0m│\n",
       "│\u001b[38;2;0;170;0m \u001b[0m\u001b[38;2;0;170;0mhub-859c877b85-fzfrj                 \u001b[0m\u001b[38;2;0;170;0m \u001b[0m│\u001b[38;2;0;170;170m \u001b[0m\u001b[38;2;0;170;170m1/1  \u001b[0m\u001b[38;2;0;170;170m \u001b[0m│\u001b[38;2;170;170;170m \u001b[0m\u001b[38;2;170;170;170mRunning          \u001b[0m\u001b[38;2;170;170;170m \u001b[0m│\u001b[38;2;255;85;85m \u001b[0m\u001b[38;2;255;85;85m0       \u001b[0m\u001b[38;2;255;85;85m \u001b[0m│\u001b[38;2;85;255;85m \u001b[0m\u001b[38;2;85;255;85m5d   \u001b[0m\u001b[38;2;85;255;85m \u001b[0m│\n",
       "│\u001b[38;2;0;170;0m \u001b[0m\u001b[38;2;0;170;0mjupyter-ataaakbari-40googlemail-2ecom\u001b[0m\u001b[38;2;0;170;0m \u001b[0m│\u001b[38;2;0;170;170m \u001b[0m\u001b[38;2;0;170;170m1/1  \u001b[0m\u001b[38;2;0;170;170m \u001b[0m│\u001b[38;2;170;170;170m \u001b[0m\u001b[38;2;170;170;170mRunning          \u001b[0m\u001b[38;2;170;170;170m \u001b[0m│\u001b[38;2;255;85;85m \u001b[0m\u001b[38;2;255;85;85m0       \u001b[0m\u001b[38;2;255;85;85m \u001b[0m│\u001b[38;2;85;255;85m \u001b[0m\u001b[38;2;85;255;85m58m  \u001b[0m\u001b[38;2;85;255;85m \u001b[0m│\n",
       "│\u001b[38;2;0;170;0m \u001b[0m\u001b[38;2;0;170;0mjupyter-fawudarski-40gmail-2ecom     \u001b[0m\u001b[38;2;0;170;0m \u001b[0m│\u001b[38;2;0;170;170m \u001b[0m\u001b[38;2;0;170;170m1/1  \u001b[0m\u001b[38;2;0;170;170m \u001b[0m│\u001b[38;2;170;170;170m \u001b[0m\u001b[38;2;170;170;170mRunning          \u001b[0m\u001b[38;2;170;170;170m \u001b[0m│\u001b[38;2;255;85;85m \u001b[0m\u001b[38;2;255;85;85m0       \u001b[0m\u001b[38;2;255;85;85m \u001b[0m│\u001b[38;2;85;255;85m \u001b[0m\u001b[38;2;85;255;85m7h36m\u001b[0m\u001b[38;2;85;255;85m \u001b[0m│\n",
       "│\u001b[38;2;0;170;0m \u001b[0m\u001b[38;2;0;170;0mproxy-5ddd4b47c9-xhb2d               \u001b[0m\u001b[38;2;0;170;0m \u001b[0m│\u001b[38;2;0;170;170m \u001b[0m\u001b[38;2;0;170;170m1/1  \u001b[0m\u001b[38;2;0;170;170m \u001b[0m│\u001b[38;2;170;170;170m \u001b[0m\u001b[38;2;170;170;170mRunning          \u001b[0m\u001b[38;2;170;170;170m \u001b[0m│\u001b[38;2;255;85;85m \u001b[0m\u001b[38;2;255;85;85m0       \u001b[0m\u001b[38;2;255;85;85m \u001b[0m│\u001b[38;2;85;255;85m \u001b[0m\u001b[38;2;85;255;85m43h  \u001b[0m\u001b[38;2;85;255;85m \u001b[0m│\n",
       "└───────────────────────────────────────┴───────┴───────────────────┴──────────┴───────┘\n"
      ]
     },
     "metadata": {},
     "output_type": "display_data"
    },
    {
     "data": {
      "text/html": [
       "<pre style=\"white-space:pre;overflow-x:auto;line-height:normal;font-family:Menlo,'DejaVu Sans Mono',consolas,'Courier New',monospace\">elapsed: <span style=\"color: #008080; text-decoration-color: #008080; font-weight: bold\">6.30</span> seconds\n",
       "</pre>\n"
      ],
      "text/plain": [
       "elapsed: \u001b[1;36m6.30\u001b[0m seconds\n"
      ]
     },
     "metadata": {},
     "output_type": "display_data"
    },
    {
     "data": {
      "text/html": [
       "<pre style=\"white-space:pre;overflow-x:auto;line-height:normal;font-family:Menlo,'DejaVu Sans Mono',consolas,'Courier New',monospace\">┏━━━━━━━━━━━━━━━━━━━━━━━━━━━━━━━━━━━━━━━┳━━━━━━━┳━━━━━━━━━━━━━━━━━━━┳━━━━━━━━━━┳━━━━━━━┓\n",
       "┃<span style=\"font-weight: bold\"> NAME                                  </span>┃<span style=\"font-weight: bold\"> READY </span>┃<span style=\"font-weight: bold\"> STATUS            </span>┃<span style=\"font-weight: bold\"> RESTARTS </span>┃<span style=\"font-weight: bold\"> AGE   </span>┃\n",
       "┡━━━━━━━━━━━━━━━━━━━━━━━━━━━━━━━━━━━━━━━╇━━━━━━━╇━━━━━━━━━━━━━━━━━━━╇━━━━━━━━━━╇━━━━━━━┩\n",
       "│<span style=\"color: #00aa00; text-decoration-color: #00aa00\"> ata-pod                               </span>│<span style=\"color: #00aaaa; text-decoration-color: #00aaaa\"> 0/1   </span>│<span style=\"color: #aaaaaa; text-decoration-color: #aaaaaa\"> ContainerCreating </span>│<span style=\"color: #ff5555; text-decoration-color: #ff5555\"> 0        </span>│<span style=\"color: #55ff55; text-decoration-color: #55ff55\"> 96m   </span>│\n",
       "│<span style=\"color: #00aa00; text-decoration-color: #00aa00\"> gpu-pod-xmkqv                         </span>│<span style=\"color: #00aaaa; text-decoration-color: #00aaaa\"> 0/1   </span>│<span style=\"color: #aaaaaa; text-decoration-color: #aaaaaa\"> ContainerCreating </span>│<span style=\"color: #ff5555; text-decoration-color: #ff5555\"> 0        </span>│<span style=\"color: #55ff55; text-decoration-color: #55ff55\"> 3m12s </span>│\n",
       "│<span style=\"color: #00aa00; text-decoration-color: #00aa00\"> hub-859c877b85-fzfrj                  </span>│<span style=\"color: #00aaaa; text-decoration-color: #00aaaa\"> 1/1   </span>│<span style=\"color: #aaaaaa; text-decoration-color: #aaaaaa\"> Running           </span>│<span style=\"color: #ff5555; text-decoration-color: #ff5555\"> 0        </span>│<span style=\"color: #55ff55; text-decoration-color: #55ff55\"> 5d    </span>│\n",
       "│<span style=\"color: #00aa00; text-decoration-color: #00aa00\"> jupyter-ataaakbari-40googlemail-2ecom </span>│<span style=\"color: #00aaaa; text-decoration-color: #00aaaa\"> 1/1   </span>│<span style=\"color: #aaaaaa; text-decoration-color: #aaaaaa\"> Running           </span>│<span style=\"color: #ff5555; text-decoration-color: #ff5555\"> 0        </span>│<span style=\"color: #55ff55; text-decoration-color: #55ff55\"> 58m   </span>│\n",
       "│<span style=\"color: #00aa00; text-decoration-color: #00aa00\"> jupyter-fawudarski-40gmail-2ecom      </span>│<span style=\"color: #00aaaa; text-decoration-color: #00aaaa\"> 1/1   </span>│<span style=\"color: #aaaaaa; text-decoration-color: #aaaaaa\"> Running           </span>│<span style=\"color: #ff5555; text-decoration-color: #ff5555\"> 0        </span>│<span style=\"color: #55ff55; text-decoration-color: #55ff55\"> 7h36m </span>│\n",
       "│<span style=\"color: #00aa00; text-decoration-color: #00aa00\"> proxy-5ddd4b47c9-xhb2d                </span>│<span style=\"color: #00aaaa; text-decoration-color: #00aaaa\"> 1/1   </span>│<span style=\"color: #aaaaaa; text-decoration-color: #aaaaaa\"> Running           </span>│<span style=\"color: #ff5555; text-decoration-color: #ff5555\"> 0        </span>│<span style=\"color: #55ff55; text-decoration-color: #55ff55\"> 43h   </span>│\n",
       "└───────────────────────────────────────┴───────┴───────────────────┴──────────┴───────┘\n",
       "</pre>\n"
      ],
      "text/plain": [
       "┏━━━━━━━━━━━━━━━━━━━━━━━━━━━━━━━━━━━━━━━┳━━━━━━━┳━━━━━━━━━━━━━━━━━━━┳━━━━━━━━━━┳━━━━━━━┓\n",
       "┃\u001b[1m \u001b[0m\u001b[1mNAME                                 \u001b[0m\u001b[1m \u001b[0m┃\u001b[1m \u001b[0m\u001b[1mREADY\u001b[0m\u001b[1m \u001b[0m┃\u001b[1m \u001b[0m\u001b[1mSTATUS           \u001b[0m\u001b[1m \u001b[0m┃\u001b[1m \u001b[0m\u001b[1mRESTARTS\u001b[0m\u001b[1m \u001b[0m┃\u001b[1m \u001b[0m\u001b[1mAGE  \u001b[0m\u001b[1m \u001b[0m┃\n",
       "┡━━━━━━━━━━━━━━━━━━━━━━━━━━━━━━━━━━━━━━━╇━━━━━━━╇━━━━━━━━━━━━━━━━━━━╇━━━━━━━━━━╇━━━━━━━┩\n",
       "│\u001b[38;2;0;170;0m \u001b[0m\u001b[38;2;0;170;0mata-pod                              \u001b[0m\u001b[38;2;0;170;0m \u001b[0m│\u001b[38;2;0;170;170m \u001b[0m\u001b[38;2;0;170;170m0/1  \u001b[0m\u001b[38;2;0;170;170m \u001b[0m│\u001b[38;2;170;170;170m \u001b[0m\u001b[38;2;170;170;170mContainerCreating\u001b[0m\u001b[38;2;170;170;170m \u001b[0m│\u001b[38;2;255;85;85m \u001b[0m\u001b[38;2;255;85;85m0       \u001b[0m\u001b[38;2;255;85;85m \u001b[0m│\u001b[38;2;85;255;85m \u001b[0m\u001b[38;2;85;255;85m96m  \u001b[0m\u001b[38;2;85;255;85m \u001b[0m│\n",
       "│\u001b[38;2;0;170;0m \u001b[0m\u001b[38;2;0;170;0mgpu-pod-xmkqv                        \u001b[0m\u001b[38;2;0;170;0m \u001b[0m│\u001b[38;2;0;170;170m \u001b[0m\u001b[38;2;0;170;170m0/1  \u001b[0m\u001b[38;2;0;170;170m \u001b[0m│\u001b[38;2;170;170;170m \u001b[0m\u001b[38;2;170;170;170mContainerCreating\u001b[0m\u001b[38;2;170;170;170m \u001b[0m│\u001b[38;2;255;85;85m \u001b[0m\u001b[38;2;255;85;85m0       \u001b[0m\u001b[38;2;255;85;85m \u001b[0m│\u001b[38;2;85;255;85m \u001b[0m\u001b[38;2;85;255;85m3m12s\u001b[0m\u001b[38;2;85;255;85m \u001b[0m│\n",
       "│\u001b[38;2;0;170;0m \u001b[0m\u001b[38;2;0;170;0mhub-859c877b85-fzfrj                 \u001b[0m\u001b[38;2;0;170;0m \u001b[0m│\u001b[38;2;0;170;170m \u001b[0m\u001b[38;2;0;170;170m1/1  \u001b[0m\u001b[38;2;0;170;170m \u001b[0m│\u001b[38;2;170;170;170m \u001b[0m\u001b[38;2;170;170;170mRunning          \u001b[0m\u001b[38;2;170;170;170m \u001b[0m│\u001b[38;2;255;85;85m \u001b[0m\u001b[38;2;255;85;85m0       \u001b[0m\u001b[38;2;255;85;85m \u001b[0m│\u001b[38;2;85;255;85m \u001b[0m\u001b[38;2;85;255;85m5d   \u001b[0m\u001b[38;2;85;255;85m \u001b[0m│\n",
       "│\u001b[38;2;0;170;0m \u001b[0m\u001b[38;2;0;170;0mjupyter-ataaakbari-40googlemail-2ecom\u001b[0m\u001b[38;2;0;170;0m \u001b[0m│\u001b[38;2;0;170;170m \u001b[0m\u001b[38;2;0;170;170m1/1  \u001b[0m\u001b[38;2;0;170;170m \u001b[0m│\u001b[38;2;170;170;170m \u001b[0m\u001b[38;2;170;170;170mRunning          \u001b[0m\u001b[38;2;170;170;170m \u001b[0m│\u001b[38;2;255;85;85m \u001b[0m\u001b[38;2;255;85;85m0       \u001b[0m\u001b[38;2;255;85;85m \u001b[0m│\u001b[38;2;85;255;85m \u001b[0m\u001b[38;2;85;255;85m58m  \u001b[0m\u001b[38;2;85;255;85m \u001b[0m│\n",
       "│\u001b[38;2;0;170;0m \u001b[0m\u001b[38;2;0;170;0mjupyter-fawudarski-40gmail-2ecom     \u001b[0m\u001b[38;2;0;170;0m \u001b[0m│\u001b[38;2;0;170;170m \u001b[0m\u001b[38;2;0;170;170m1/1  \u001b[0m\u001b[38;2;0;170;170m \u001b[0m│\u001b[38;2;170;170;170m \u001b[0m\u001b[38;2;170;170;170mRunning          \u001b[0m\u001b[38;2;170;170;170m \u001b[0m│\u001b[38;2;255;85;85m \u001b[0m\u001b[38;2;255;85;85m0       \u001b[0m\u001b[38;2;255;85;85m \u001b[0m│\u001b[38;2;85;255;85m \u001b[0m\u001b[38;2;85;255;85m7h36m\u001b[0m\u001b[38;2;85;255;85m \u001b[0m│\n",
       "│\u001b[38;2;0;170;0m \u001b[0m\u001b[38;2;0;170;0mproxy-5ddd4b47c9-xhb2d               \u001b[0m\u001b[38;2;0;170;0m \u001b[0m│\u001b[38;2;0;170;170m \u001b[0m\u001b[38;2;0;170;170m1/1  \u001b[0m\u001b[38;2;0;170;170m \u001b[0m│\u001b[38;2;170;170;170m \u001b[0m\u001b[38;2;170;170;170mRunning          \u001b[0m\u001b[38;2;170;170;170m \u001b[0m│\u001b[38;2;255;85;85m \u001b[0m\u001b[38;2;255;85;85m0       \u001b[0m\u001b[38;2;255;85;85m \u001b[0m│\u001b[38;2;85;255;85m \u001b[0m\u001b[38;2;85;255;85m43h  \u001b[0m\u001b[38;2;85;255;85m \u001b[0m│\n",
       "└───────────────────────────────────────┴───────┴───────────────────┴──────────┴───────┘\n"
      ]
     },
     "metadata": {},
     "output_type": "display_data"
    },
    {
     "data": {
      "text/html": [
       "<pre style=\"white-space:pre;overflow-x:auto;line-height:normal;font-family:Menlo,'DejaVu Sans Mono',consolas,'Courier New',monospace\">elapsed: <span style=\"color: #008080; text-decoration-color: #008080; font-weight: bold\">6.30</span> seconds\n",
       "</pre>\n"
      ],
      "text/plain": [
       "elapsed: \u001b[1;36m6.30\u001b[0m seconds\n"
      ]
     },
     "metadata": {},
     "output_type": "display_data"
    },
    {
     "data": {
      "text/html": [
       "<pre style=\"white-space:pre;overflow-x:auto;line-height:normal;font-family:Menlo,'DejaVu Sans Mono',consolas,'Courier New',monospace\">┏━━━━━━━━━━━━━━━━━━━━━━━━━━━━━━━━━━━━━━━┳━━━━━━━┳━━━━━━━━━━━━━━━━━━━┳━━━━━━━━━━┳━━━━━━━┓\n",
       "┃<span style=\"font-weight: bold\"> NAME                                  </span>┃<span style=\"font-weight: bold\"> READY </span>┃<span style=\"font-weight: bold\"> STATUS            </span>┃<span style=\"font-weight: bold\"> RESTARTS </span>┃<span style=\"font-weight: bold\"> AGE   </span>┃\n",
       "┡━━━━━━━━━━━━━━━━━━━━━━━━━━━━━━━━━━━━━━━╇━━━━━━━╇━━━━━━━━━━━━━━━━━━━╇━━━━━━━━━━╇━━━━━━━┩\n",
       "│<span style=\"color: #00aa00; text-decoration-color: #00aa00\"> ata-pod                               </span>│<span style=\"color: #00aaaa; text-decoration-color: #00aaaa\"> 0/1   </span>│<span style=\"color: #aaaaaa; text-decoration-color: #aaaaaa\"> ContainerCreating </span>│<span style=\"color: #ff5555; text-decoration-color: #ff5555\"> 0        </span>│<span style=\"color: #55ff55; text-decoration-color: #55ff55\"> 97m   </span>│\n",
       "│<span style=\"color: #00aa00; text-decoration-color: #00aa00\"> gpu-pod-xmkqv                         </span>│<span style=\"color: #00aaaa; text-decoration-color: #00aaaa\"> 1/1   </span>│<span style=\"color: #aaaaaa; text-decoration-color: #aaaaaa\"> Running           </span>│<span style=\"color: #ff5555; text-decoration-color: #ff5555\"> 0        </span>│<span style=\"color: #55ff55; text-decoration-color: #55ff55\"> 3m18s </span>│\n",
       "│<span style=\"color: #00aa00; text-decoration-color: #00aa00\"> hub-859c877b85-fzfrj                  </span>│<span style=\"color: #00aaaa; text-decoration-color: #00aaaa\"> 1/1   </span>│<span style=\"color: #aaaaaa; text-decoration-color: #aaaaaa\"> Running           </span>│<span style=\"color: #ff5555; text-decoration-color: #ff5555\"> 0        </span>│<span style=\"color: #55ff55; text-decoration-color: #55ff55\"> 5d    </span>│\n",
       "│<span style=\"color: #00aa00; text-decoration-color: #00aa00\"> jupyter-ataaakbari-40googlemail-2ecom </span>│<span style=\"color: #00aaaa; text-decoration-color: #00aaaa\"> 1/1   </span>│<span style=\"color: #aaaaaa; text-decoration-color: #aaaaaa\"> Running           </span>│<span style=\"color: #ff5555; text-decoration-color: #ff5555\"> 0        </span>│<span style=\"color: #55ff55; text-decoration-color: #55ff55\"> 59m   </span>│\n",
       "│<span style=\"color: #00aa00; text-decoration-color: #00aa00\"> jupyter-fawudarski-40gmail-2ecom      </span>│<span style=\"color: #00aaaa; text-decoration-color: #00aaaa\"> 1/1   </span>│<span style=\"color: #aaaaaa; text-decoration-color: #aaaaaa\"> Running           </span>│<span style=\"color: #ff5555; text-decoration-color: #ff5555\"> 0        </span>│<span style=\"color: #55ff55; text-decoration-color: #55ff55\"> 7h36m </span>│\n",
       "│<span style=\"color: #00aa00; text-decoration-color: #00aa00\"> proxy-5ddd4b47c9-xhb2d                </span>│<span style=\"color: #00aaaa; text-decoration-color: #00aaaa\"> 1/1   </span>│<span style=\"color: #aaaaaa; text-decoration-color: #aaaaaa\"> Running           </span>│<span style=\"color: #ff5555; text-decoration-color: #ff5555\"> 0        </span>│<span style=\"color: #55ff55; text-decoration-color: #55ff55\"> 43h   </span>│\n",
       "└───────────────────────────────────────┴───────┴───────────────────┴──────────┴───────┘\n",
       "</pre>\n"
      ],
      "text/plain": [
       "┏━━━━━━━━━━━━━━━━━━━━━━━━━━━━━━━━━━━━━━━┳━━━━━━━┳━━━━━━━━━━━━━━━━━━━┳━━━━━━━━━━┳━━━━━━━┓\n",
       "┃\u001b[1m \u001b[0m\u001b[1mNAME                                 \u001b[0m\u001b[1m \u001b[0m┃\u001b[1m \u001b[0m\u001b[1mREADY\u001b[0m\u001b[1m \u001b[0m┃\u001b[1m \u001b[0m\u001b[1mSTATUS           \u001b[0m\u001b[1m \u001b[0m┃\u001b[1m \u001b[0m\u001b[1mRESTARTS\u001b[0m\u001b[1m \u001b[0m┃\u001b[1m \u001b[0m\u001b[1mAGE  \u001b[0m\u001b[1m \u001b[0m┃\n",
       "┡━━━━━━━━━━━━━━━━━━━━━━━━━━━━━━━━━━━━━━━╇━━━━━━━╇━━━━━━━━━━━━━━━━━━━╇━━━━━━━━━━╇━━━━━━━┩\n",
       "│\u001b[38;2;0;170;0m \u001b[0m\u001b[38;2;0;170;0mata-pod                              \u001b[0m\u001b[38;2;0;170;0m \u001b[0m│\u001b[38;2;0;170;170m \u001b[0m\u001b[38;2;0;170;170m0/1  \u001b[0m\u001b[38;2;0;170;170m \u001b[0m│\u001b[38;2;170;170;170m \u001b[0m\u001b[38;2;170;170;170mContainerCreating\u001b[0m\u001b[38;2;170;170;170m \u001b[0m│\u001b[38;2;255;85;85m \u001b[0m\u001b[38;2;255;85;85m0       \u001b[0m\u001b[38;2;255;85;85m \u001b[0m│\u001b[38;2;85;255;85m \u001b[0m\u001b[38;2;85;255;85m97m  \u001b[0m\u001b[38;2;85;255;85m \u001b[0m│\n",
       "│\u001b[38;2;0;170;0m \u001b[0m\u001b[38;2;0;170;0mgpu-pod-xmkqv                        \u001b[0m\u001b[38;2;0;170;0m \u001b[0m│\u001b[38;2;0;170;170m \u001b[0m\u001b[38;2;0;170;170m1/1  \u001b[0m\u001b[38;2;0;170;170m \u001b[0m│\u001b[38;2;170;170;170m \u001b[0m\u001b[38;2;170;170;170mRunning          \u001b[0m\u001b[38;2;170;170;170m \u001b[0m│\u001b[38;2;255;85;85m \u001b[0m\u001b[38;2;255;85;85m0       \u001b[0m\u001b[38;2;255;85;85m \u001b[0m│\u001b[38;2;85;255;85m \u001b[0m\u001b[38;2;85;255;85m3m18s\u001b[0m\u001b[38;2;85;255;85m \u001b[0m│\n",
       "│\u001b[38;2;0;170;0m \u001b[0m\u001b[38;2;0;170;0mhub-859c877b85-fzfrj                 \u001b[0m\u001b[38;2;0;170;0m \u001b[0m│\u001b[38;2;0;170;170m \u001b[0m\u001b[38;2;0;170;170m1/1  \u001b[0m\u001b[38;2;0;170;170m \u001b[0m│\u001b[38;2;170;170;170m \u001b[0m\u001b[38;2;170;170;170mRunning          \u001b[0m\u001b[38;2;170;170;170m \u001b[0m│\u001b[38;2;255;85;85m \u001b[0m\u001b[38;2;255;85;85m0       \u001b[0m\u001b[38;2;255;85;85m \u001b[0m│\u001b[38;2;85;255;85m \u001b[0m\u001b[38;2;85;255;85m5d   \u001b[0m\u001b[38;2;85;255;85m \u001b[0m│\n",
       "│\u001b[38;2;0;170;0m \u001b[0m\u001b[38;2;0;170;0mjupyter-ataaakbari-40googlemail-2ecom\u001b[0m\u001b[38;2;0;170;0m \u001b[0m│\u001b[38;2;0;170;170m \u001b[0m\u001b[38;2;0;170;170m1/1  \u001b[0m\u001b[38;2;0;170;170m \u001b[0m│\u001b[38;2;170;170;170m \u001b[0m\u001b[38;2;170;170;170mRunning          \u001b[0m\u001b[38;2;170;170;170m \u001b[0m│\u001b[38;2;255;85;85m \u001b[0m\u001b[38;2;255;85;85m0       \u001b[0m\u001b[38;2;255;85;85m \u001b[0m│\u001b[38;2;85;255;85m \u001b[0m\u001b[38;2;85;255;85m59m  \u001b[0m\u001b[38;2;85;255;85m \u001b[0m│\n",
       "│\u001b[38;2;0;170;0m \u001b[0m\u001b[38;2;0;170;0mjupyter-fawudarski-40gmail-2ecom     \u001b[0m\u001b[38;2;0;170;0m \u001b[0m│\u001b[38;2;0;170;170m \u001b[0m\u001b[38;2;0;170;170m1/1  \u001b[0m\u001b[38;2;0;170;170m \u001b[0m│\u001b[38;2;170;170;170m \u001b[0m\u001b[38;2;170;170;170mRunning          \u001b[0m\u001b[38;2;170;170;170m \u001b[0m│\u001b[38;2;255;85;85m \u001b[0m\u001b[38;2;255;85;85m0       \u001b[0m\u001b[38;2;255;85;85m \u001b[0m│\u001b[38;2;85;255;85m \u001b[0m\u001b[38;2;85;255;85m7h36m\u001b[0m\u001b[38;2;85;255;85m \u001b[0m│\n",
       "│\u001b[38;2;0;170;0m \u001b[0m\u001b[38;2;0;170;0mproxy-5ddd4b47c9-xhb2d               \u001b[0m\u001b[38;2;0;170;0m \u001b[0m│\u001b[38;2;0;170;170m \u001b[0m\u001b[38;2;0;170;170m1/1  \u001b[0m\u001b[38;2;0;170;170m \u001b[0m│\u001b[38;2;170;170;170m \u001b[0m\u001b[38;2;170;170;170mRunning          \u001b[0m\u001b[38;2;170;170;170m \u001b[0m│\u001b[38;2;255;85;85m \u001b[0m\u001b[38;2;255;85;85m0       \u001b[0m\u001b[38;2;255;85;85m \u001b[0m│\u001b[38;2;85;255;85m \u001b[0m\u001b[38;2;85;255;85m43h  \u001b[0m\u001b[38;2;85;255;85m \u001b[0m│\n",
       "└───────────────────────────────────────┴───────┴───────────────────┴──────────┴───────┘\n"
      ]
     },
     "metadata": {},
     "output_type": "display_data"
    },
    {
     "data": {
      "text/html": [
       "<pre style=\"white-space:pre;overflow-x:auto;line-height:normal;font-family:Menlo,'DejaVu Sans Mono',consolas,'Courier New',monospace\">elapsed: <span style=\"color: #008080; text-decoration-color: #008080; font-weight: bold\">6.31</span> seconds\n",
       "</pre>\n"
      ],
      "text/plain": [
       "elapsed: \u001b[1;36m6.31\u001b[0m seconds\n"
      ]
     },
     "metadata": {},
     "output_type": "display_data"
    },
    {
     "data": {
      "text/html": [
       "<pre style=\"white-space:pre;overflow-x:auto;line-height:normal;font-family:Menlo,'DejaVu Sans Mono',consolas,'Courier New',monospace\">┏━━━━━━━━━━━━━━━━━━━━━━━━━━━━━━━━━━━━━━━┳━━━━━━━┳━━━━━━━━━━━━━━━━━━━┳━━━━━━━━━━┳━━━━━━━┓\n",
       "┃<span style=\"font-weight: bold\"> NAME                                  </span>┃<span style=\"font-weight: bold\"> READY </span>┃<span style=\"font-weight: bold\"> STATUS            </span>┃<span style=\"font-weight: bold\"> RESTARTS </span>┃<span style=\"font-weight: bold\"> AGE   </span>┃\n",
       "┡━━━━━━━━━━━━━━━━━━━━━━━━━━━━━━━━━━━━━━━╇━━━━━━━╇━━━━━━━━━━━━━━━━━━━╇━━━━━━━━━━╇━━━━━━━┩\n",
       "│<span style=\"color: #00aa00; text-decoration-color: #00aa00\"> ata-pod                               </span>│<span style=\"color: #00aaaa; text-decoration-color: #00aaaa\"> 0/1   </span>│<span style=\"color: #aaaaaa; text-decoration-color: #aaaaaa\"> ContainerCreating </span>│<span style=\"color: #ff5555; text-decoration-color: #ff5555\"> 0        </span>│<span style=\"color: #55ff55; text-decoration-color: #55ff55\"> 97m   </span>│\n",
       "│<span style=\"color: #00aa00; text-decoration-color: #00aa00\"> gpu-pod-xmkqv                         </span>│<span style=\"color: #00aaaa; text-decoration-color: #00aaaa\"> 1/1   </span>│<span style=\"color: #aaaaaa; text-decoration-color: #aaaaaa\"> Running           </span>│<span style=\"color: #ff5555; text-decoration-color: #ff5555\"> 0        </span>│<span style=\"color: #55ff55; text-decoration-color: #55ff55\"> 3m25s </span>│\n",
       "│<span style=\"color: #00aa00; text-decoration-color: #00aa00\"> hub-859c877b85-fzfrj                  </span>│<span style=\"color: #00aaaa; text-decoration-color: #00aaaa\"> 1/1   </span>│<span style=\"color: #aaaaaa; text-decoration-color: #aaaaaa\"> Running           </span>│<span style=\"color: #ff5555; text-decoration-color: #ff5555\"> 0        </span>│<span style=\"color: #55ff55; text-decoration-color: #55ff55\"> 5d    </span>│\n",
       "│<span style=\"color: #00aa00; text-decoration-color: #00aa00\"> jupyter-ataaakbari-40googlemail-2ecom </span>│<span style=\"color: #00aaaa; text-decoration-color: #00aaaa\"> 1/1   </span>│<span style=\"color: #aaaaaa; text-decoration-color: #aaaaaa\"> Running           </span>│<span style=\"color: #ff5555; text-decoration-color: #ff5555\"> 0        </span>│<span style=\"color: #55ff55; text-decoration-color: #55ff55\"> 59m   </span>│\n",
       "│<span style=\"color: #00aa00; text-decoration-color: #00aa00\"> jupyter-fawudarski-40gmail-2ecom      </span>│<span style=\"color: #00aaaa; text-decoration-color: #00aaaa\"> 1/1   </span>│<span style=\"color: #aaaaaa; text-decoration-color: #aaaaaa\"> Running           </span>│<span style=\"color: #ff5555; text-decoration-color: #ff5555\"> 0        </span>│<span style=\"color: #55ff55; text-decoration-color: #55ff55\"> 7h36m </span>│\n",
       "│<span style=\"color: #00aa00; text-decoration-color: #00aa00\"> proxy-5ddd4b47c9-xhb2d                </span>│<span style=\"color: #00aaaa; text-decoration-color: #00aaaa\"> 1/1   </span>│<span style=\"color: #aaaaaa; text-decoration-color: #aaaaaa\"> Running           </span>│<span style=\"color: #ff5555; text-decoration-color: #ff5555\"> 0        </span>│<span style=\"color: #55ff55; text-decoration-color: #55ff55\"> 43h   </span>│\n",
       "└───────────────────────────────────────┴───────┴───────────────────┴──────────┴───────┘\n",
       "</pre>\n"
      ],
      "text/plain": [
       "┏━━━━━━━━━━━━━━━━━━━━━━━━━━━━━━━━━━━━━━━┳━━━━━━━┳━━━━━━━━━━━━━━━━━━━┳━━━━━━━━━━┳━━━━━━━┓\n",
       "┃\u001b[1m \u001b[0m\u001b[1mNAME                                 \u001b[0m\u001b[1m \u001b[0m┃\u001b[1m \u001b[0m\u001b[1mREADY\u001b[0m\u001b[1m \u001b[0m┃\u001b[1m \u001b[0m\u001b[1mSTATUS           \u001b[0m\u001b[1m \u001b[0m┃\u001b[1m \u001b[0m\u001b[1mRESTARTS\u001b[0m\u001b[1m \u001b[0m┃\u001b[1m \u001b[0m\u001b[1mAGE  \u001b[0m\u001b[1m \u001b[0m┃\n",
       "┡━━━━━━━━━━━━━━━━━━━━━━━━━━━━━━━━━━━━━━━╇━━━━━━━╇━━━━━━━━━━━━━━━━━━━╇━━━━━━━━━━╇━━━━━━━┩\n",
       "│\u001b[38;2;0;170;0m \u001b[0m\u001b[38;2;0;170;0mata-pod                              \u001b[0m\u001b[38;2;0;170;0m \u001b[0m│\u001b[38;2;0;170;170m \u001b[0m\u001b[38;2;0;170;170m0/1  \u001b[0m\u001b[38;2;0;170;170m \u001b[0m│\u001b[38;2;170;170;170m \u001b[0m\u001b[38;2;170;170;170mContainerCreating\u001b[0m\u001b[38;2;170;170;170m \u001b[0m│\u001b[38;2;255;85;85m \u001b[0m\u001b[38;2;255;85;85m0       \u001b[0m\u001b[38;2;255;85;85m \u001b[0m│\u001b[38;2;85;255;85m \u001b[0m\u001b[38;2;85;255;85m97m  \u001b[0m\u001b[38;2;85;255;85m \u001b[0m│\n",
       "│\u001b[38;2;0;170;0m \u001b[0m\u001b[38;2;0;170;0mgpu-pod-xmkqv                        \u001b[0m\u001b[38;2;0;170;0m \u001b[0m│\u001b[38;2;0;170;170m \u001b[0m\u001b[38;2;0;170;170m1/1  \u001b[0m\u001b[38;2;0;170;170m \u001b[0m│\u001b[38;2;170;170;170m \u001b[0m\u001b[38;2;170;170;170mRunning          \u001b[0m\u001b[38;2;170;170;170m \u001b[0m│\u001b[38;2;255;85;85m \u001b[0m\u001b[38;2;255;85;85m0       \u001b[0m\u001b[38;2;255;85;85m \u001b[0m│\u001b[38;2;85;255;85m \u001b[0m\u001b[38;2;85;255;85m3m25s\u001b[0m\u001b[38;2;85;255;85m \u001b[0m│\n",
       "│\u001b[38;2;0;170;0m \u001b[0m\u001b[38;2;0;170;0mhub-859c877b85-fzfrj                 \u001b[0m\u001b[38;2;0;170;0m \u001b[0m│\u001b[38;2;0;170;170m \u001b[0m\u001b[38;2;0;170;170m1/1  \u001b[0m\u001b[38;2;0;170;170m \u001b[0m│\u001b[38;2;170;170;170m \u001b[0m\u001b[38;2;170;170;170mRunning          \u001b[0m\u001b[38;2;170;170;170m \u001b[0m│\u001b[38;2;255;85;85m \u001b[0m\u001b[38;2;255;85;85m0       \u001b[0m\u001b[38;2;255;85;85m \u001b[0m│\u001b[38;2;85;255;85m \u001b[0m\u001b[38;2;85;255;85m5d   \u001b[0m\u001b[38;2;85;255;85m \u001b[0m│\n",
       "│\u001b[38;2;0;170;0m \u001b[0m\u001b[38;2;0;170;0mjupyter-ataaakbari-40googlemail-2ecom\u001b[0m\u001b[38;2;0;170;0m \u001b[0m│\u001b[38;2;0;170;170m \u001b[0m\u001b[38;2;0;170;170m1/1  \u001b[0m\u001b[38;2;0;170;170m \u001b[0m│\u001b[38;2;170;170;170m \u001b[0m\u001b[38;2;170;170;170mRunning          \u001b[0m\u001b[38;2;170;170;170m \u001b[0m│\u001b[38;2;255;85;85m \u001b[0m\u001b[38;2;255;85;85m0       \u001b[0m\u001b[38;2;255;85;85m \u001b[0m│\u001b[38;2;85;255;85m \u001b[0m\u001b[38;2;85;255;85m59m  \u001b[0m\u001b[38;2;85;255;85m \u001b[0m│\n",
       "│\u001b[38;2;0;170;0m \u001b[0m\u001b[38;2;0;170;0mjupyter-fawudarski-40gmail-2ecom     \u001b[0m\u001b[38;2;0;170;0m \u001b[0m│\u001b[38;2;0;170;170m \u001b[0m\u001b[38;2;0;170;170m1/1  \u001b[0m\u001b[38;2;0;170;170m \u001b[0m│\u001b[38;2;170;170;170m \u001b[0m\u001b[38;2;170;170;170mRunning          \u001b[0m\u001b[38;2;170;170;170m \u001b[0m│\u001b[38;2;255;85;85m \u001b[0m\u001b[38;2;255;85;85m0       \u001b[0m\u001b[38;2;255;85;85m \u001b[0m│\u001b[38;2;85;255;85m \u001b[0m\u001b[38;2;85;255;85m7h36m\u001b[0m\u001b[38;2;85;255;85m \u001b[0m│\n",
       "│\u001b[38;2;0;170;0m \u001b[0m\u001b[38;2;0;170;0mproxy-5ddd4b47c9-xhb2d               \u001b[0m\u001b[38;2;0;170;0m \u001b[0m│\u001b[38;2;0;170;170m \u001b[0m\u001b[38;2;0;170;170m1/1  \u001b[0m\u001b[38;2;0;170;170m \u001b[0m│\u001b[38;2;170;170;170m \u001b[0m\u001b[38;2;170;170;170mRunning          \u001b[0m\u001b[38;2;170;170;170m \u001b[0m│\u001b[38;2;255;85;85m \u001b[0m\u001b[38;2;255;85;85m0       \u001b[0m\u001b[38;2;255;85;85m \u001b[0m│\u001b[38;2;85;255;85m \u001b[0m\u001b[38;2;85;255;85m43h  \u001b[0m\u001b[38;2;85;255;85m \u001b[0m│\n",
       "└───────────────────────────────────────┴───────┴───────────────────┴──────────┴───────┘\n"
      ]
     },
     "metadata": {},
     "output_type": "display_data"
    },
    {
     "data": {
      "text/html": [
       "<pre style=\"white-space:pre;overflow-x:auto;line-height:normal;font-family:Menlo,'DejaVu Sans Mono',consolas,'Courier New',monospace\">elapsed: <span style=\"color: #008080; text-decoration-color: #008080; font-weight: bold\">6.34</span> seconds\n",
       "</pre>\n"
      ],
      "text/plain": [
       "elapsed: \u001b[1;36m6.34\u001b[0m seconds\n"
      ]
     },
     "metadata": {},
     "output_type": "display_data"
    },
    {
     "data": {
      "text/html": [
       "<pre style=\"white-space:pre;overflow-x:auto;line-height:normal;font-family:Menlo,'DejaVu Sans Mono',consolas,'Courier New',monospace\">┏━━━━━━━━━━━━━━━━━━━━━━━━━━━━━━━━━━━━━━━┳━━━━━━━┳━━━━━━━━━━━━━━━━━━━┳━━━━━━━━━━┳━━━━━━━┓\n",
       "┃<span style=\"font-weight: bold\"> NAME                                  </span>┃<span style=\"font-weight: bold\"> READY </span>┃<span style=\"font-weight: bold\"> STATUS            </span>┃<span style=\"font-weight: bold\"> RESTARTS </span>┃<span style=\"font-weight: bold\"> AGE   </span>┃\n",
       "┡━━━━━━━━━━━━━━━━━━━━━━━━━━━━━━━━━━━━━━━╇━━━━━━━╇━━━━━━━━━━━━━━━━━━━╇━━━━━━━━━━╇━━━━━━━┩\n",
       "│<span style=\"color: #00aa00; text-decoration-color: #00aa00\"> ata-pod                               </span>│<span style=\"color: #00aaaa; text-decoration-color: #00aaaa\"> 0/1   </span>│<span style=\"color: #aaaaaa; text-decoration-color: #aaaaaa\"> ContainerCreating </span>│<span style=\"color: #ff5555; text-decoration-color: #ff5555\"> 0        </span>│<span style=\"color: #55ff55; text-decoration-color: #55ff55\"> 97m   </span>│\n",
       "│<span style=\"color: #00aa00; text-decoration-color: #00aa00\"> gpu-pod-xmkqv                         </span>│<span style=\"color: #00aaaa; text-decoration-color: #00aaaa\"> 1/1   </span>│<span style=\"color: #aaaaaa; text-decoration-color: #aaaaaa\"> Running           </span>│<span style=\"color: #ff5555; text-decoration-color: #ff5555\"> 0        </span>│<span style=\"color: #55ff55; text-decoration-color: #55ff55\"> 3m31s </span>│\n",
       "│<span style=\"color: #00aa00; text-decoration-color: #00aa00\"> hub-859c877b85-fzfrj                  </span>│<span style=\"color: #00aaaa; text-decoration-color: #00aaaa\"> 1/1   </span>│<span style=\"color: #aaaaaa; text-decoration-color: #aaaaaa\"> Running           </span>│<span style=\"color: #ff5555; text-decoration-color: #ff5555\"> 0        </span>│<span style=\"color: #55ff55; text-decoration-color: #55ff55\"> 5d    </span>│\n",
       "│<span style=\"color: #00aa00; text-decoration-color: #00aa00\"> jupyter-ataaakbari-40googlemail-2ecom </span>│<span style=\"color: #00aaaa; text-decoration-color: #00aaaa\"> 1/1   </span>│<span style=\"color: #aaaaaa; text-decoration-color: #aaaaaa\"> Running           </span>│<span style=\"color: #ff5555; text-decoration-color: #ff5555\"> 0        </span>│<span style=\"color: #55ff55; text-decoration-color: #55ff55\"> 59m   </span>│\n",
       "│<span style=\"color: #00aa00; text-decoration-color: #00aa00\"> jupyter-fawudarski-40gmail-2ecom      </span>│<span style=\"color: #00aaaa; text-decoration-color: #00aaaa\"> 1/1   </span>│<span style=\"color: #aaaaaa; text-decoration-color: #aaaaaa\"> Running           </span>│<span style=\"color: #ff5555; text-decoration-color: #ff5555\"> 0        </span>│<span style=\"color: #55ff55; text-decoration-color: #55ff55\"> 7h36m </span>│\n",
       "│<span style=\"color: #00aa00; text-decoration-color: #00aa00\"> proxy-5ddd4b47c9-xhb2d                </span>│<span style=\"color: #00aaaa; text-decoration-color: #00aaaa\"> 1/1   </span>│<span style=\"color: #aaaaaa; text-decoration-color: #aaaaaa\"> Running           </span>│<span style=\"color: #ff5555; text-decoration-color: #ff5555\"> 0        </span>│<span style=\"color: #55ff55; text-decoration-color: #55ff55\"> 43h   </span>│\n",
       "└───────────────────────────────────────┴───────┴───────────────────┴──────────┴───────┘\n",
       "</pre>\n"
      ],
      "text/plain": [
       "┏━━━━━━━━━━━━━━━━━━━━━━━━━━━━━━━━━━━━━━━┳━━━━━━━┳━━━━━━━━━━━━━━━━━━━┳━━━━━━━━━━┳━━━━━━━┓\n",
       "┃\u001b[1m \u001b[0m\u001b[1mNAME                                 \u001b[0m\u001b[1m \u001b[0m┃\u001b[1m \u001b[0m\u001b[1mREADY\u001b[0m\u001b[1m \u001b[0m┃\u001b[1m \u001b[0m\u001b[1mSTATUS           \u001b[0m\u001b[1m \u001b[0m┃\u001b[1m \u001b[0m\u001b[1mRESTARTS\u001b[0m\u001b[1m \u001b[0m┃\u001b[1m \u001b[0m\u001b[1mAGE  \u001b[0m\u001b[1m \u001b[0m┃\n",
       "┡━━━━━━━━━━━━━━━━━━━━━━━━━━━━━━━━━━━━━━━╇━━━━━━━╇━━━━━━━━━━━━━━━━━━━╇━━━━━━━━━━╇━━━━━━━┩\n",
       "│\u001b[38;2;0;170;0m \u001b[0m\u001b[38;2;0;170;0mata-pod                              \u001b[0m\u001b[38;2;0;170;0m \u001b[0m│\u001b[38;2;0;170;170m \u001b[0m\u001b[38;2;0;170;170m0/1  \u001b[0m\u001b[38;2;0;170;170m \u001b[0m│\u001b[38;2;170;170;170m \u001b[0m\u001b[38;2;170;170;170mContainerCreating\u001b[0m\u001b[38;2;170;170;170m \u001b[0m│\u001b[38;2;255;85;85m \u001b[0m\u001b[38;2;255;85;85m0       \u001b[0m\u001b[38;2;255;85;85m \u001b[0m│\u001b[38;2;85;255;85m \u001b[0m\u001b[38;2;85;255;85m97m  \u001b[0m\u001b[38;2;85;255;85m \u001b[0m│\n",
       "│\u001b[38;2;0;170;0m \u001b[0m\u001b[38;2;0;170;0mgpu-pod-xmkqv                        \u001b[0m\u001b[38;2;0;170;0m \u001b[0m│\u001b[38;2;0;170;170m \u001b[0m\u001b[38;2;0;170;170m1/1  \u001b[0m\u001b[38;2;0;170;170m \u001b[0m│\u001b[38;2;170;170;170m \u001b[0m\u001b[38;2;170;170;170mRunning          \u001b[0m\u001b[38;2;170;170;170m \u001b[0m│\u001b[38;2;255;85;85m \u001b[0m\u001b[38;2;255;85;85m0       \u001b[0m\u001b[38;2;255;85;85m \u001b[0m│\u001b[38;2;85;255;85m \u001b[0m\u001b[38;2;85;255;85m3m31s\u001b[0m\u001b[38;2;85;255;85m \u001b[0m│\n",
       "│\u001b[38;2;0;170;0m \u001b[0m\u001b[38;2;0;170;0mhub-859c877b85-fzfrj                 \u001b[0m\u001b[38;2;0;170;0m \u001b[0m│\u001b[38;2;0;170;170m \u001b[0m\u001b[38;2;0;170;170m1/1  \u001b[0m\u001b[38;2;0;170;170m \u001b[0m│\u001b[38;2;170;170;170m \u001b[0m\u001b[38;2;170;170;170mRunning          \u001b[0m\u001b[38;2;170;170;170m \u001b[0m│\u001b[38;2;255;85;85m \u001b[0m\u001b[38;2;255;85;85m0       \u001b[0m\u001b[38;2;255;85;85m \u001b[0m│\u001b[38;2;85;255;85m \u001b[0m\u001b[38;2;85;255;85m5d   \u001b[0m\u001b[38;2;85;255;85m \u001b[0m│\n",
       "│\u001b[38;2;0;170;0m \u001b[0m\u001b[38;2;0;170;0mjupyter-ataaakbari-40googlemail-2ecom\u001b[0m\u001b[38;2;0;170;0m \u001b[0m│\u001b[38;2;0;170;170m \u001b[0m\u001b[38;2;0;170;170m1/1  \u001b[0m\u001b[38;2;0;170;170m \u001b[0m│\u001b[38;2;170;170;170m \u001b[0m\u001b[38;2;170;170;170mRunning          \u001b[0m\u001b[38;2;170;170;170m \u001b[0m│\u001b[38;2;255;85;85m \u001b[0m\u001b[38;2;255;85;85m0       \u001b[0m\u001b[38;2;255;85;85m \u001b[0m│\u001b[38;2;85;255;85m \u001b[0m\u001b[38;2;85;255;85m59m  \u001b[0m\u001b[38;2;85;255;85m \u001b[0m│\n",
       "│\u001b[38;2;0;170;0m \u001b[0m\u001b[38;2;0;170;0mjupyter-fawudarski-40gmail-2ecom     \u001b[0m\u001b[38;2;0;170;0m \u001b[0m│\u001b[38;2;0;170;170m \u001b[0m\u001b[38;2;0;170;170m1/1  \u001b[0m\u001b[38;2;0;170;170m \u001b[0m│\u001b[38;2;170;170;170m \u001b[0m\u001b[38;2;170;170;170mRunning          \u001b[0m\u001b[38;2;170;170;170m \u001b[0m│\u001b[38;2;255;85;85m \u001b[0m\u001b[38;2;255;85;85m0       \u001b[0m\u001b[38;2;255;85;85m \u001b[0m│\u001b[38;2;85;255;85m \u001b[0m\u001b[38;2;85;255;85m7h36m\u001b[0m\u001b[38;2;85;255;85m \u001b[0m│\n",
       "│\u001b[38;2;0;170;0m \u001b[0m\u001b[38;2;0;170;0mproxy-5ddd4b47c9-xhb2d               \u001b[0m\u001b[38;2;0;170;0m \u001b[0m│\u001b[38;2;0;170;170m \u001b[0m\u001b[38;2;0;170;170m1/1  \u001b[0m\u001b[38;2;0;170;170m \u001b[0m│\u001b[38;2;170;170;170m \u001b[0m\u001b[38;2;170;170;170mRunning          \u001b[0m\u001b[38;2;170;170;170m \u001b[0m│\u001b[38;2;255;85;85m \u001b[0m\u001b[38;2;255;85;85m0       \u001b[0m\u001b[38;2;255;85;85m \u001b[0m│\u001b[38;2;85;255;85m \u001b[0m\u001b[38;2;85;255;85m43h  \u001b[0m\u001b[38;2;85;255;85m \u001b[0m│\n",
       "└───────────────────────────────────────┴───────┴───────────────────┴──────────┴───────┘\n"
      ]
     },
     "metadata": {},
     "output_type": "display_data"
    },
    {
     "data": {
      "text/html": [
       "<pre style=\"white-space:pre;overflow-x:auto;line-height:normal;font-family:Menlo,'DejaVu Sans Mono',consolas,'Courier New',monospace\">elapsed: <span style=\"color: #008080; text-decoration-color: #008080; font-weight: bold\">6.30</span> seconds\n",
       "</pre>\n"
      ],
      "text/plain": [
       "elapsed: \u001b[1;36m6.30\u001b[0m seconds\n"
      ]
     },
     "metadata": {},
     "output_type": "display_data"
    },
    {
     "data": {
      "text/html": [
       "<pre style=\"white-space:pre;overflow-x:auto;line-height:normal;font-family:Menlo,'DejaVu Sans Mono',consolas,'Courier New',monospace\">┏━━━━━━━━━━━━━━━━━━━━━━━━━━━━━━━━━━━━━━━┳━━━━━━━┳━━━━━━━━━━━━━━━━━━━┳━━━━━━━━━━┳━━━━━━━┓\n",
       "┃<span style=\"font-weight: bold\"> NAME                                  </span>┃<span style=\"font-weight: bold\"> READY </span>┃<span style=\"font-weight: bold\"> STATUS            </span>┃<span style=\"font-weight: bold\"> RESTARTS </span>┃<span style=\"font-weight: bold\"> AGE   </span>┃\n",
       "┡━━━━━━━━━━━━━━━━━━━━━━━━━━━━━━━━━━━━━━━╇━━━━━━━╇━━━━━━━━━━━━━━━━━━━╇━━━━━━━━━━╇━━━━━━━┩\n",
       "│<span style=\"color: #00aa00; text-decoration-color: #00aa00\"> ata-pod                               </span>│<span style=\"color: #00aaaa; text-decoration-color: #00aaaa\"> 0/1   </span>│<span style=\"color: #aaaaaa; text-decoration-color: #aaaaaa\"> ContainerCreating </span>│<span style=\"color: #ff5555; text-decoration-color: #ff5555\"> 0        </span>│<span style=\"color: #55ff55; text-decoration-color: #55ff55\"> 97m   </span>│\n",
       "│<span style=\"color: #00aa00; text-decoration-color: #00aa00\"> gpu-pod-xmkqv                         </span>│<span style=\"color: #00aaaa; text-decoration-color: #00aaaa\"> 1/1   </span>│<span style=\"color: #aaaaaa; text-decoration-color: #aaaaaa\"> Running           </span>│<span style=\"color: #ff5555; text-decoration-color: #ff5555\"> 0        </span>│<span style=\"color: #55ff55; text-decoration-color: #55ff55\"> 3m37s </span>│\n",
       "│<span style=\"color: #00aa00; text-decoration-color: #00aa00\"> hub-859c877b85-fzfrj                  </span>│<span style=\"color: #00aaaa; text-decoration-color: #00aaaa\"> 1/1   </span>│<span style=\"color: #aaaaaa; text-decoration-color: #aaaaaa\"> Running           </span>│<span style=\"color: #ff5555; text-decoration-color: #ff5555\"> 0        </span>│<span style=\"color: #55ff55; text-decoration-color: #55ff55\"> 5d    </span>│\n",
       "│<span style=\"color: #00aa00; text-decoration-color: #00aa00\"> jupyter-ataaakbari-40googlemail-2ecom </span>│<span style=\"color: #00aaaa; text-decoration-color: #00aaaa\"> 1/1   </span>│<span style=\"color: #aaaaaa; text-decoration-color: #aaaaaa\"> Running           </span>│<span style=\"color: #ff5555; text-decoration-color: #ff5555\"> 0        </span>│<span style=\"color: #55ff55; text-decoration-color: #55ff55\"> 59m   </span>│\n",
       "│<span style=\"color: #00aa00; text-decoration-color: #00aa00\"> jupyter-fawudarski-40gmail-2ecom      </span>│<span style=\"color: #00aaaa; text-decoration-color: #00aaaa\"> 1/1   </span>│<span style=\"color: #aaaaaa; text-decoration-color: #aaaaaa\"> Running           </span>│<span style=\"color: #ff5555; text-decoration-color: #ff5555\"> 0        </span>│<span style=\"color: #55ff55; text-decoration-color: #55ff55\"> 7h36m </span>│\n",
       "│<span style=\"color: #00aa00; text-decoration-color: #00aa00\"> proxy-5ddd4b47c9-xhb2d                </span>│<span style=\"color: #00aaaa; text-decoration-color: #00aaaa\"> 1/1   </span>│<span style=\"color: #aaaaaa; text-decoration-color: #aaaaaa\"> Running           </span>│<span style=\"color: #ff5555; text-decoration-color: #ff5555\"> 0        </span>│<span style=\"color: #55ff55; text-decoration-color: #55ff55\"> 43h   </span>│\n",
       "└───────────────────────────────────────┴───────┴───────────────────┴──────────┴───────┘\n",
       "</pre>\n"
      ],
      "text/plain": [
       "┏━━━━━━━━━━━━━━━━━━━━━━━━━━━━━━━━━━━━━━━┳━━━━━━━┳━━━━━━━━━━━━━━━━━━━┳━━━━━━━━━━┳━━━━━━━┓\n",
       "┃\u001b[1m \u001b[0m\u001b[1mNAME                                 \u001b[0m\u001b[1m \u001b[0m┃\u001b[1m \u001b[0m\u001b[1mREADY\u001b[0m\u001b[1m \u001b[0m┃\u001b[1m \u001b[0m\u001b[1mSTATUS           \u001b[0m\u001b[1m \u001b[0m┃\u001b[1m \u001b[0m\u001b[1mRESTARTS\u001b[0m\u001b[1m \u001b[0m┃\u001b[1m \u001b[0m\u001b[1mAGE  \u001b[0m\u001b[1m \u001b[0m┃\n",
       "┡━━━━━━━━━━━━━━━━━━━━━━━━━━━━━━━━━━━━━━━╇━━━━━━━╇━━━━━━━━━━━━━━━━━━━╇━━━━━━━━━━╇━━━━━━━┩\n",
       "│\u001b[38;2;0;170;0m \u001b[0m\u001b[38;2;0;170;0mata-pod                              \u001b[0m\u001b[38;2;0;170;0m \u001b[0m│\u001b[38;2;0;170;170m \u001b[0m\u001b[38;2;0;170;170m0/1  \u001b[0m\u001b[38;2;0;170;170m \u001b[0m│\u001b[38;2;170;170;170m \u001b[0m\u001b[38;2;170;170;170mContainerCreating\u001b[0m\u001b[38;2;170;170;170m \u001b[0m│\u001b[38;2;255;85;85m \u001b[0m\u001b[38;2;255;85;85m0       \u001b[0m\u001b[38;2;255;85;85m \u001b[0m│\u001b[38;2;85;255;85m \u001b[0m\u001b[38;2;85;255;85m97m  \u001b[0m\u001b[38;2;85;255;85m \u001b[0m│\n",
       "│\u001b[38;2;0;170;0m \u001b[0m\u001b[38;2;0;170;0mgpu-pod-xmkqv                        \u001b[0m\u001b[38;2;0;170;0m \u001b[0m│\u001b[38;2;0;170;170m \u001b[0m\u001b[38;2;0;170;170m1/1  \u001b[0m\u001b[38;2;0;170;170m \u001b[0m│\u001b[38;2;170;170;170m \u001b[0m\u001b[38;2;170;170;170mRunning          \u001b[0m\u001b[38;2;170;170;170m \u001b[0m│\u001b[38;2;255;85;85m \u001b[0m\u001b[38;2;255;85;85m0       \u001b[0m\u001b[38;2;255;85;85m \u001b[0m│\u001b[38;2;85;255;85m \u001b[0m\u001b[38;2;85;255;85m3m37s\u001b[0m\u001b[38;2;85;255;85m \u001b[0m│\n",
       "│\u001b[38;2;0;170;0m \u001b[0m\u001b[38;2;0;170;0mhub-859c877b85-fzfrj                 \u001b[0m\u001b[38;2;0;170;0m \u001b[0m│\u001b[38;2;0;170;170m \u001b[0m\u001b[38;2;0;170;170m1/1  \u001b[0m\u001b[38;2;0;170;170m \u001b[0m│\u001b[38;2;170;170;170m \u001b[0m\u001b[38;2;170;170;170mRunning          \u001b[0m\u001b[38;2;170;170;170m \u001b[0m│\u001b[38;2;255;85;85m \u001b[0m\u001b[38;2;255;85;85m0       \u001b[0m\u001b[38;2;255;85;85m \u001b[0m│\u001b[38;2;85;255;85m \u001b[0m\u001b[38;2;85;255;85m5d   \u001b[0m\u001b[38;2;85;255;85m \u001b[0m│\n",
       "│\u001b[38;2;0;170;0m \u001b[0m\u001b[38;2;0;170;0mjupyter-ataaakbari-40googlemail-2ecom\u001b[0m\u001b[38;2;0;170;0m \u001b[0m│\u001b[38;2;0;170;170m \u001b[0m\u001b[38;2;0;170;170m1/1  \u001b[0m\u001b[38;2;0;170;170m \u001b[0m│\u001b[38;2;170;170;170m \u001b[0m\u001b[38;2;170;170;170mRunning          \u001b[0m\u001b[38;2;170;170;170m \u001b[0m│\u001b[38;2;255;85;85m \u001b[0m\u001b[38;2;255;85;85m0       \u001b[0m\u001b[38;2;255;85;85m \u001b[0m│\u001b[38;2;85;255;85m \u001b[0m\u001b[38;2;85;255;85m59m  \u001b[0m\u001b[38;2;85;255;85m \u001b[0m│\n",
       "│\u001b[38;2;0;170;0m \u001b[0m\u001b[38;2;0;170;0mjupyter-fawudarski-40gmail-2ecom     \u001b[0m\u001b[38;2;0;170;0m \u001b[0m│\u001b[38;2;0;170;170m \u001b[0m\u001b[38;2;0;170;170m1/1  \u001b[0m\u001b[38;2;0;170;170m \u001b[0m│\u001b[38;2;170;170;170m \u001b[0m\u001b[38;2;170;170;170mRunning          \u001b[0m\u001b[38;2;170;170;170m \u001b[0m│\u001b[38;2;255;85;85m \u001b[0m\u001b[38;2;255;85;85m0       \u001b[0m\u001b[38;2;255;85;85m \u001b[0m│\u001b[38;2;85;255;85m \u001b[0m\u001b[38;2;85;255;85m7h36m\u001b[0m\u001b[38;2;85;255;85m \u001b[0m│\n",
       "│\u001b[38;2;0;170;0m \u001b[0m\u001b[38;2;0;170;0mproxy-5ddd4b47c9-xhb2d               \u001b[0m\u001b[38;2;0;170;0m \u001b[0m│\u001b[38;2;0;170;170m \u001b[0m\u001b[38;2;0;170;170m1/1  \u001b[0m\u001b[38;2;0;170;170m \u001b[0m│\u001b[38;2;170;170;170m \u001b[0m\u001b[38;2;170;170;170mRunning          \u001b[0m\u001b[38;2;170;170;170m \u001b[0m│\u001b[38;2;255;85;85m \u001b[0m\u001b[38;2;255;85;85m0       \u001b[0m\u001b[38;2;255;85;85m \u001b[0m│\u001b[38;2;85;255;85m \u001b[0m\u001b[38;2;85;255;85m43h  \u001b[0m\u001b[38;2;85;255;85m \u001b[0m│\n",
       "└───────────────────────────────────────┴───────┴───────────────────┴──────────┴───────┘\n"
      ]
     },
     "metadata": {},
     "output_type": "display_data"
    },
    {
     "data": {
      "text/html": [
       "<pre style=\"white-space:pre;overflow-x:auto;line-height:normal;font-family:Menlo,'DejaVu Sans Mono',consolas,'Courier New',monospace\">elapsed: <span style=\"color: #008080; text-decoration-color: #008080; font-weight: bold\">6.32</span> seconds\n",
       "</pre>\n"
      ],
      "text/plain": [
       "elapsed: \u001b[1;36m6.32\u001b[0m seconds\n"
      ]
     },
     "metadata": {},
     "output_type": "display_data"
    },
    {
     "data": {
      "text/html": [
       "<pre style=\"white-space:pre;overflow-x:auto;line-height:normal;font-family:Menlo,'DejaVu Sans Mono',consolas,'Courier New',monospace\">┏━━━━━━━━━━━━━━━━━━━━━━━━━━━━━━━━━━━━━━━┳━━━━━━━┳━━━━━━━━━━━━━━━━━━━┳━━━━━━━━━━┳━━━━━━━┓\n",
       "┃<span style=\"font-weight: bold\"> NAME                                  </span>┃<span style=\"font-weight: bold\"> READY </span>┃<span style=\"font-weight: bold\"> STATUS            </span>┃<span style=\"font-weight: bold\"> RESTARTS </span>┃<span style=\"font-weight: bold\"> AGE   </span>┃\n",
       "┡━━━━━━━━━━━━━━━━━━━━━━━━━━━━━━━━━━━━━━━╇━━━━━━━╇━━━━━━━━━━━━━━━━━━━╇━━━━━━━━━━╇━━━━━━━┩\n",
       "│<span style=\"color: #00aa00; text-decoration-color: #00aa00\"> ata-pod                               </span>│<span style=\"color: #00aaaa; text-decoration-color: #00aaaa\"> 0/1   </span>│<span style=\"color: #aaaaaa; text-decoration-color: #aaaaaa\"> ContainerCreating </span>│<span style=\"color: #ff5555; text-decoration-color: #ff5555\"> 0        </span>│<span style=\"color: #55ff55; text-decoration-color: #55ff55\"> 97m   </span>│\n",
       "│<span style=\"color: #00aa00; text-decoration-color: #00aa00\"> gpu-pod-xmkqv                         </span>│<span style=\"color: #00aaaa; text-decoration-color: #00aaaa\"> 1/1   </span>│<span style=\"color: #aaaaaa; text-decoration-color: #aaaaaa\"> Running           </span>│<span style=\"color: #ff5555; text-decoration-color: #ff5555\"> 0        </span>│<span style=\"color: #55ff55; text-decoration-color: #55ff55\"> 3m44s </span>│\n",
       "│<span style=\"color: #00aa00; text-decoration-color: #00aa00\"> hub-859c877b85-fzfrj                  </span>│<span style=\"color: #00aaaa; text-decoration-color: #00aaaa\"> 1/1   </span>│<span style=\"color: #aaaaaa; text-decoration-color: #aaaaaa\"> Running           </span>│<span style=\"color: #ff5555; text-decoration-color: #ff5555\"> 0        </span>│<span style=\"color: #55ff55; text-decoration-color: #55ff55\"> 5d    </span>│\n",
       "│<span style=\"color: #00aa00; text-decoration-color: #00aa00\"> jupyter-ataaakbari-40googlemail-2ecom </span>│<span style=\"color: #00aaaa; text-decoration-color: #00aaaa\"> 1/1   </span>│<span style=\"color: #aaaaaa; text-decoration-color: #aaaaaa\"> Running           </span>│<span style=\"color: #ff5555; text-decoration-color: #ff5555\"> 0        </span>│<span style=\"color: #55ff55; text-decoration-color: #55ff55\"> 59m   </span>│\n",
       "│<span style=\"color: #00aa00; text-decoration-color: #00aa00\"> jupyter-fawudarski-40gmail-2ecom      </span>│<span style=\"color: #00aaaa; text-decoration-color: #00aaaa\"> 1/1   </span>│<span style=\"color: #aaaaaa; text-decoration-color: #aaaaaa\"> Running           </span>│<span style=\"color: #ff5555; text-decoration-color: #ff5555\"> 0        </span>│<span style=\"color: #55ff55; text-decoration-color: #55ff55\"> 7h36m </span>│\n",
       "│<span style=\"color: #00aa00; text-decoration-color: #00aa00\"> proxy-5ddd4b47c9-xhb2d                </span>│<span style=\"color: #00aaaa; text-decoration-color: #00aaaa\"> 1/1   </span>│<span style=\"color: #aaaaaa; text-decoration-color: #aaaaaa\"> Running           </span>│<span style=\"color: #ff5555; text-decoration-color: #ff5555\"> 0        </span>│<span style=\"color: #55ff55; text-decoration-color: #55ff55\"> 43h   </span>│\n",
       "└───────────────────────────────────────┴───────┴───────────────────┴──────────┴───────┘\n",
       "</pre>\n"
      ],
      "text/plain": [
       "┏━━━━━━━━━━━━━━━━━━━━━━━━━━━━━━━━━━━━━━━┳━━━━━━━┳━━━━━━━━━━━━━━━━━━━┳━━━━━━━━━━┳━━━━━━━┓\n",
       "┃\u001b[1m \u001b[0m\u001b[1mNAME                                 \u001b[0m\u001b[1m \u001b[0m┃\u001b[1m \u001b[0m\u001b[1mREADY\u001b[0m\u001b[1m \u001b[0m┃\u001b[1m \u001b[0m\u001b[1mSTATUS           \u001b[0m\u001b[1m \u001b[0m┃\u001b[1m \u001b[0m\u001b[1mRESTARTS\u001b[0m\u001b[1m \u001b[0m┃\u001b[1m \u001b[0m\u001b[1mAGE  \u001b[0m\u001b[1m \u001b[0m┃\n",
       "┡━━━━━━━━━━━━━━━━━━━━━━━━━━━━━━━━━━━━━━━╇━━━━━━━╇━━━━━━━━━━━━━━━━━━━╇━━━━━━━━━━╇━━━━━━━┩\n",
       "│\u001b[38;2;0;170;0m \u001b[0m\u001b[38;2;0;170;0mata-pod                              \u001b[0m\u001b[38;2;0;170;0m \u001b[0m│\u001b[38;2;0;170;170m \u001b[0m\u001b[38;2;0;170;170m0/1  \u001b[0m\u001b[38;2;0;170;170m \u001b[0m│\u001b[38;2;170;170;170m \u001b[0m\u001b[38;2;170;170;170mContainerCreating\u001b[0m\u001b[38;2;170;170;170m \u001b[0m│\u001b[38;2;255;85;85m \u001b[0m\u001b[38;2;255;85;85m0       \u001b[0m\u001b[38;2;255;85;85m \u001b[0m│\u001b[38;2;85;255;85m \u001b[0m\u001b[38;2;85;255;85m97m  \u001b[0m\u001b[38;2;85;255;85m \u001b[0m│\n",
       "│\u001b[38;2;0;170;0m \u001b[0m\u001b[38;2;0;170;0mgpu-pod-xmkqv                        \u001b[0m\u001b[38;2;0;170;0m \u001b[0m│\u001b[38;2;0;170;170m \u001b[0m\u001b[38;2;0;170;170m1/1  \u001b[0m\u001b[38;2;0;170;170m \u001b[0m│\u001b[38;2;170;170;170m \u001b[0m\u001b[38;2;170;170;170mRunning          \u001b[0m\u001b[38;2;170;170;170m \u001b[0m│\u001b[38;2;255;85;85m \u001b[0m\u001b[38;2;255;85;85m0       \u001b[0m\u001b[38;2;255;85;85m \u001b[0m│\u001b[38;2;85;255;85m \u001b[0m\u001b[38;2;85;255;85m3m44s\u001b[0m\u001b[38;2;85;255;85m \u001b[0m│\n",
       "│\u001b[38;2;0;170;0m \u001b[0m\u001b[38;2;0;170;0mhub-859c877b85-fzfrj                 \u001b[0m\u001b[38;2;0;170;0m \u001b[0m│\u001b[38;2;0;170;170m \u001b[0m\u001b[38;2;0;170;170m1/1  \u001b[0m\u001b[38;2;0;170;170m \u001b[0m│\u001b[38;2;170;170;170m \u001b[0m\u001b[38;2;170;170;170mRunning          \u001b[0m\u001b[38;2;170;170;170m \u001b[0m│\u001b[38;2;255;85;85m \u001b[0m\u001b[38;2;255;85;85m0       \u001b[0m\u001b[38;2;255;85;85m \u001b[0m│\u001b[38;2;85;255;85m \u001b[0m\u001b[38;2;85;255;85m5d   \u001b[0m\u001b[38;2;85;255;85m \u001b[0m│\n",
       "│\u001b[38;2;0;170;0m \u001b[0m\u001b[38;2;0;170;0mjupyter-ataaakbari-40googlemail-2ecom\u001b[0m\u001b[38;2;0;170;0m \u001b[0m│\u001b[38;2;0;170;170m \u001b[0m\u001b[38;2;0;170;170m1/1  \u001b[0m\u001b[38;2;0;170;170m \u001b[0m│\u001b[38;2;170;170;170m \u001b[0m\u001b[38;2;170;170;170mRunning          \u001b[0m\u001b[38;2;170;170;170m \u001b[0m│\u001b[38;2;255;85;85m \u001b[0m\u001b[38;2;255;85;85m0       \u001b[0m\u001b[38;2;255;85;85m \u001b[0m│\u001b[38;2;85;255;85m \u001b[0m\u001b[38;2;85;255;85m59m  \u001b[0m\u001b[38;2;85;255;85m \u001b[0m│\n",
       "│\u001b[38;2;0;170;0m \u001b[0m\u001b[38;2;0;170;0mjupyter-fawudarski-40gmail-2ecom     \u001b[0m\u001b[38;2;0;170;0m \u001b[0m│\u001b[38;2;0;170;170m \u001b[0m\u001b[38;2;0;170;170m1/1  \u001b[0m\u001b[38;2;0;170;170m \u001b[0m│\u001b[38;2;170;170;170m \u001b[0m\u001b[38;2;170;170;170mRunning          \u001b[0m\u001b[38;2;170;170;170m \u001b[0m│\u001b[38;2;255;85;85m \u001b[0m\u001b[38;2;255;85;85m0       \u001b[0m\u001b[38;2;255;85;85m \u001b[0m│\u001b[38;2;85;255;85m \u001b[0m\u001b[38;2;85;255;85m7h36m\u001b[0m\u001b[38;2;85;255;85m \u001b[0m│\n",
       "│\u001b[38;2;0;170;0m \u001b[0m\u001b[38;2;0;170;0mproxy-5ddd4b47c9-xhb2d               \u001b[0m\u001b[38;2;0;170;0m \u001b[0m│\u001b[38;2;0;170;170m \u001b[0m\u001b[38;2;0;170;170m1/1  \u001b[0m\u001b[38;2;0;170;170m \u001b[0m│\u001b[38;2;170;170;170m \u001b[0m\u001b[38;2;170;170;170mRunning          \u001b[0m\u001b[38;2;170;170;170m \u001b[0m│\u001b[38;2;255;85;85m \u001b[0m\u001b[38;2;255;85;85m0       \u001b[0m\u001b[38;2;255;85;85m \u001b[0m│\u001b[38;2;85;255;85m \u001b[0m\u001b[38;2;85;255;85m43h  \u001b[0m\u001b[38;2;85;255;85m \u001b[0m│\n",
       "└───────────────────────────────────────┴───────┴───────────────────┴──────────┴───────┘\n"
      ]
     },
     "metadata": {},
     "output_type": "display_data"
    },
    {
     "data": {
      "text/html": [
       "<pre style=\"white-space:pre;overflow-x:auto;line-height:normal;font-family:Menlo,'DejaVu Sans Mono',consolas,'Courier New',monospace\">elapsed: <span style=\"color: #008080; text-decoration-color: #008080; font-weight: bold\">6.31</span> seconds\n",
       "</pre>\n"
      ],
      "text/plain": [
       "elapsed: \u001b[1;36m6.31\u001b[0m seconds\n"
      ]
     },
     "metadata": {},
     "output_type": "display_data"
    },
    {
     "data": {
      "text/html": [
       "<pre style=\"white-space:pre;overflow-x:auto;line-height:normal;font-family:Menlo,'DejaVu Sans Mono',consolas,'Courier New',monospace\">┏━━━━━━━━━━━━━━━━━━━━━━━━━━━━━━━━━━━━━━━┳━━━━━━━┳━━━━━━━━━━━━━━━━━━━┳━━━━━━━━━━┳━━━━━━━┓\n",
       "┃<span style=\"font-weight: bold\"> NAME                                  </span>┃<span style=\"font-weight: bold\"> READY </span>┃<span style=\"font-weight: bold\"> STATUS            </span>┃<span style=\"font-weight: bold\"> RESTARTS </span>┃<span style=\"font-weight: bold\"> AGE   </span>┃\n",
       "┡━━━━━━━━━━━━━━━━━━━━━━━━━━━━━━━━━━━━━━━╇━━━━━━━╇━━━━━━━━━━━━━━━━━━━╇━━━━━━━━━━╇━━━━━━━┩\n",
       "│<span style=\"color: #00aa00; text-decoration-color: #00aa00\"> ata-pod                               </span>│<span style=\"color: #00aaaa; text-decoration-color: #00aaaa\"> 0/1   </span>│<span style=\"color: #aaaaaa; text-decoration-color: #aaaaaa\"> ContainerCreating </span>│<span style=\"color: #ff5555; text-decoration-color: #ff5555\"> 0        </span>│<span style=\"color: #55ff55; text-decoration-color: #55ff55\"> 97m   </span>│\n",
       "│<span style=\"color: #00aa00; text-decoration-color: #00aa00\"> gpu-pod-xmkqv                         </span>│<span style=\"color: #00aaaa; text-decoration-color: #00aaaa\"> 1/1   </span>│<span style=\"color: #aaaaaa; text-decoration-color: #aaaaaa\"> Running           </span>│<span style=\"color: #ff5555; text-decoration-color: #ff5555\"> 0        </span>│<span style=\"color: #55ff55; text-decoration-color: #55ff55\"> 3m50s </span>│\n",
       "│<span style=\"color: #00aa00; text-decoration-color: #00aa00\"> hub-859c877b85-fzfrj                  </span>│<span style=\"color: #00aaaa; text-decoration-color: #00aaaa\"> 1/1   </span>│<span style=\"color: #aaaaaa; text-decoration-color: #aaaaaa\"> Running           </span>│<span style=\"color: #ff5555; text-decoration-color: #ff5555\"> 0        </span>│<span style=\"color: #55ff55; text-decoration-color: #55ff55\"> 5d    </span>│\n",
       "│<span style=\"color: #00aa00; text-decoration-color: #00aa00\"> jupyter-ataaakbari-40googlemail-2ecom </span>│<span style=\"color: #00aaaa; text-decoration-color: #00aaaa\"> 1/1   </span>│<span style=\"color: #aaaaaa; text-decoration-color: #aaaaaa\"> Running           </span>│<span style=\"color: #ff5555; text-decoration-color: #ff5555\"> 0        </span>│<span style=\"color: #55ff55; text-decoration-color: #55ff55\"> 59m   </span>│\n",
       "│<span style=\"color: #00aa00; text-decoration-color: #00aa00\"> jupyter-fawudarski-40gmail-2ecom      </span>│<span style=\"color: #00aaaa; text-decoration-color: #00aaaa\"> 1/1   </span>│<span style=\"color: #aaaaaa; text-decoration-color: #aaaaaa\"> Running           </span>│<span style=\"color: #ff5555; text-decoration-color: #ff5555\"> 0        </span>│<span style=\"color: #55ff55; text-decoration-color: #55ff55\"> 7h37m </span>│\n",
       "│<span style=\"color: #00aa00; text-decoration-color: #00aa00\"> proxy-5ddd4b47c9-xhb2d                </span>│<span style=\"color: #00aaaa; text-decoration-color: #00aaaa\"> 1/1   </span>│<span style=\"color: #aaaaaa; text-decoration-color: #aaaaaa\"> Running           </span>│<span style=\"color: #ff5555; text-decoration-color: #ff5555\"> 0        </span>│<span style=\"color: #55ff55; text-decoration-color: #55ff55\"> 43h   </span>│\n",
       "└───────────────────────────────────────┴───────┴───────────────────┴──────────┴───────┘\n",
       "</pre>\n"
      ],
      "text/plain": [
       "┏━━━━━━━━━━━━━━━━━━━━━━━━━━━━━━━━━━━━━━━┳━━━━━━━┳━━━━━━━━━━━━━━━━━━━┳━━━━━━━━━━┳━━━━━━━┓\n",
       "┃\u001b[1m \u001b[0m\u001b[1mNAME                                 \u001b[0m\u001b[1m \u001b[0m┃\u001b[1m \u001b[0m\u001b[1mREADY\u001b[0m\u001b[1m \u001b[0m┃\u001b[1m \u001b[0m\u001b[1mSTATUS           \u001b[0m\u001b[1m \u001b[0m┃\u001b[1m \u001b[0m\u001b[1mRESTARTS\u001b[0m\u001b[1m \u001b[0m┃\u001b[1m \u001b[0m\u001b[1mAGE  \u001b[0m\u001b[1m \u001b[0m┃\n",
       "┡━━━━━━━━━━━━━━━━━━━━━━━━━━━━━━━━━━━━━━━╇━━━━━━━╇━━━━━━━━━━━━━━━━━━━╇━━━━━━━━━━╇━━━━━━━┩\n",
       "│\u001b[38;2;0;170;0m \u001b[0m\u001b[38;2;0;170;0mata-pod                              \u001b[0m\u001b[38;2;0;170;0m \u001b[0m│\u001b[38;2;0;170;170m \u001b[0m\u001b[38;2;0;170;170m0/1  \u001b[0m\u001b[38;2;0;170;170m \u001b[0m│\u001b[38;2;170;170;170m \u001b[0m\u001b[38;2;170;170;170mContainerCreating\u001b[0m\u001b[38;2;170;170;170m \u001b[0m│\u001b[38;2;255;85;85m \u001b[0m\u001b[38;2;255;85;85m0       \u001b[0m\u001b[38;2;255;85;85m \u001b[0m│\u001b[38;2;85;255;85m \u001b[0m\u001b[38;2;85;255;85m97m  \u001b[0m\u001b[38;2;85;255;85m \u001b[0m│\n",
       "│\u001b[38;2;0;170;0m \u001b[0m\u001b[38;2;0;170;0mgpu-pod-xmkqv                        \u001b[0m\u001b[38;2;0;170;0m \u001b[0m│\u001b[38;2;0;170;170m \u001b[0m\u001b[38;2;0;170;170m1/1  \u001b[0m\u001b[38;2;0;170;170m \u001b[0m│\u001b[38;2;170;170;170m \u001b[0m\u001b[38;2;170;170;170mRunning          \u001b[0m\u001b[38;2;170;170;170m \u001b[0m│\u001b[38;2;255;85;85m \u001b[0m\u001b[38;2;255;85;85m0       \u001b[0m\u001b[38;2;255;85;85m \u001b[0m│\u001b[38;2;85;255;85m \u001b[0m\u001b[38;2;85;255;85m3m50s\u001b[0m\u001b[38;2;85;255;85m \u001b[0m│\n",
       "│\u001b[38;2;0;170;0m \u001b[0m\u001b[38;2;0;170;0mhub-859c877b85-fzfrj                 \u001b[0m\u001b[38;2;0;170;0m \u001b[0m│\u001b[38;2;0;170;170m \u001b[0m\u001b[38;2;0;170;170m1/1  \u001b[0m\u001b[38;2;0;170;170m \u001b[0m│\u001b[38;2;170;170;170m \u001b[0m\u001b[38;2;170;170;170mRunning          \u001b[0m\u001b[38;2;170;170;170m \u001b[0m│\u001b[38;2;255;85;85m \u001b[0m\u001b[38;2;255;85;85m0       \u001b[0m\u001b[38;2;255;85;85m \u001b[0m│\u001b[38;2;85;255;85m \u001b[0m\u001b[38;2;85;255;85m5d   \u001b[0m\u001b[38;2;85;255;85m \u001b[0m│\n",
       "│\u001b[38;2;0;170;0m \u001b[0m\u001b[38;2;0;170;0mjupyter-ataaakbari-40googlemail-2ecom\u001b[0m\u001b[38;2;0;170;0m \u001b[0m│\u001b[38;2;0;170;170m \u001b[0m\u001b[38;2;0;170;170m1/1  \u001b[0m\u001b[38;2;0;170;170m \u001b[0m│\u001b[38;2;170;170;170m \u001b[0m\u001b[38;2;170;170;170mRunning          \u001b[0m\u001b[38;2;170;170;170m \u001b[0m│\u001b[38;2;255;85;85m \u001b[0m\u001b[38;2;255;85;85m0       \u001b[0m\u001b[38;2;255;85;85m \u001b[0m│\u001b[38;2;85;255;85m \u001b[0m\u001b[38;2;85;255;85m59m  \u001b[0m\u001b[38;2;85;255;85m \u001b[0m│\n",
       "│\u001b[38;2;0;170;0m \u001b[0m\u001b[38;2;0;170;0mjupyter-fawudarski-40gmail-2ecom     \u001b[0m\u001b[38;2;0;170;0m \u001b[0m│\u001b[38;2;0;170;170m \u001b[0m\u001b[38;2;0;170;170m1/1  \u001b[0m\u001b[38;2;0;170;170m \u001b[0m│\u001b[38;2;170;170;170m \u001b[0m\u001b[38;2;170;170;170mRunning          \u001b[0m\u001b[38;2;170;170;170m \u001b[0m│\u001b[38;2;255;85;85m \u001b[0m\u001b[38;2;255;85;85m0       \u001b[0m\u001b[38;2;255;85;85m \u001b[0m│\u001b[38;2;85;255;85m \u001b[0m\u001b[38;2;85;255;85m7h37m\u001b[0m\u001b[38;2;85;255;85m \u001b[0m│\n",
       "│\u001b[38;2;0;170;0m \u001b[0m\u001b[38;2;0;170;0mproxy-5ddd4b47c9-xhb2d               \u001b[0m\u001b[38;2;0;170;0m \u001b[0m│\u001b[38;2;0;170;170m \u001b[0m\u001b[38;2;0;170;170m1/1  \u001b[0m\u001b[38;2;0;170;170m \u001b[0m│\u001b[38;2;170;170;170m \u001b[0m\u001b[38;2;170;170;170mRunning          \u001b[0m\u001b[38;2;170;170;170m \u001b[0m│\u001b[38;2;255;85;85m \u001b[0m\u001b[38;2;255;85;85m0       \u001b[0m\u001b[38;2;255;85;85m \u001b[0m│\u001b[38;2;85;255;85m \u001b[0m\u001b[38;2;85;255;85m43h  \u001b[0m\u001b[38;2;85;255;85m \u001b[0m│\n",
       "└───────────────────────────────────────┴───────┴───────────────────┴──────────┴───────┘\n"
      ]
     },
     "metadata": {},
     "output_type": "display_data"
    },
    {
     "data": {
      "text/html": [
       "<pre style=\"white-space:pre;overflow-x:auto;line-height:normal;font-family:Menlo,'DejaVu Sans Mono',consolas,'Courier New',monospace\">elapsed: <span style=\"color: #008080; text-decoration-color: #008080; font-weight: bold\">6.31</span> seconds\n",
       "</pre>\n"
      ],
      "text/plain": [
       "elapsed: \u001b[1;36m6.31\u001b[0m seconds\n"
      ]
     },
     "metadata": {},
     "output_type": "display_data"
    },
    {
     "data": {
      "text/html": [
       "<pre style=\"white-space:pre;overflow-x:auto;line-height:normal;font-family:Menlo,'DejaVu Sans Mono',consolas,'Courier New',monospace\">┏━━━━━━━━━━━━━━━━━━━━━━━━━━━━━━━━━━━━━━━┳━━━━━━━┳━━━━━━━━━━━━━━━━━━━┳━━━━━━━━━━┳━━━━━━━┓\n",
       "┃<span style=\"font-weight: bold\"> NAME                                  </span>┃<span style=\"font-weight: bold\"> READY </span>┃<span style=\"font-weight: bold\"> STATUS            </span>┃<span style=\"font-weight: bold\"> RESTARTS </span>┃<span style=\"font-weight: bold\"> AGE   </span>┃\n",
       "┡━━━━━━━━━━━━━━━━━━━━━━━━━━━━━━━━━━━━━━━╇━━━━━━━╇━━━━━━━━━━━━━━━━━━━╇━━━━━━━━━━╇━━━━━━━┩\n",
       "│<span style=\"color: #00aa00; text-decoration-color: #00aa00\"> ata-pod                               </span>│<span style=\"color: #00aaaa; text-decoration-color: #00aaaa\"> 0/1   </span>│<span style=\"color: #aaaaaa; text-decoration-color: #aaaaaa\"> ContainerCreating </span>│<span style=\"color: #ff5555; text-decoration-color: #ff5555\"> 0        </span>│<span style=\"color: #55ff55; text-decoration-color: #55ff55\"> 97m   </span>│\n",
       "│<span style=\"color: #00aa00; text-decoration-color: #00aa00\"> gpu-pod-xmkqv                         </span>│<span style=\"color: #00aaaa; text-decoration-color: #00aaaa\"> 1/1   </span>│<span style=\"color: #aaaaaa; text-decoration-color: #aaaaaa\"> Running           </span>│<span style=\"color: #ff5555; text-decoration-color: #ff5555\"> 0        </span>│<span style=\"color: #55ff55; text-decoration-color: #55ff55\"> 3m56s </span>│\n",
       "│<span style=\"color: #00aa00; text-decoration-color: #00aa00\"> hub-859c877b85-fzfrj                  </span>│<span style=\"color: #00aaaa; text-decoration-color: #00aaaa\"> 1/1   </span>│<span style=\"color: #aaaaaa; text-decoration-color: #aaaaaa\"> Running           </span>│<span style=\"color: #ff5555; text-decoration-color: #ff5555\"> 0        </span>│<span style=\"color: #55ff55; text-decoration-color: #55ff55\"> 5d    </span>│\n",
       "│<span style=\"color: #00aa00; text-decoration-color: #00aa00\"> jupyter-ataaakbari-40googlemail-2ecom </span>│<span style=\"color: #00aaaa; text-decoration-color: #00aaaa\"> 1/1   </span>│<span style=\"color: #aaaaaa; text-decoration-color: #aaaaaa\"> Running           </span>│<span style=\"color: #ff5555; text-decoration-color: #ff5555\"> 0        </span>│<span style=\"color: #55ff55; text-decoration-color: #55ff55\"> 59m   </span>│\n",
       "│<span style=\"color: #00aa00; text-decoration-color: #00aa00\"> jupyter-fawudarski-40gmail-2ecom      </span>│<span style=\"color: #00aaaa; text-decoration-color: #00aaaa\"> 1/1   </span>│<span style=\"color: #aaaaaa; text-decoration-color: #aaaaaa\"> Running           </span>│<span style=\"color: #ff5555; text-decoration-color: #ff5555\"> 0        </span>│<span style=\"color: #55ff55; text-decoration-color: #55ff55\"> 7h37m </span>│\n",
       "│<span style=\"color: #00aa00; text-decoration-color: #00aa00\"> proxy-5ddd4b47c9-xhb2d                </span>│<span style=\"color: #00aaaa; text-decoration-color: #00aaaa\"> 1/1   </span>│<span style=\"color: #aaaaaa; text-decoration-color: #aaaaaa\"> Running           </span>│<span style=\"color: #ff5555; text-decoration-color: #ff5555\"> 0        </span>│<span style=\"color: #55ff55; text-decoration-color: #55ff55\"> 43h   </span>│\n",
       "└───────────────────────────────────────┴───────┴───────────────────┴──────────┴───────┘\n",
       "</pre>\n"
      ],
      "text/plain": [
       "┏━━━━━━━━━━━━━━━━━━━━━━━━━━━━━━━━━━━━━━━┳━━━━━━━┳━━━━━━━━━━━━━━━━━━━┳━━━━━━━━━━┳━━━━━━━┓\n",
       "┃\u001b[1m \u001b[0m\u001b[1mNAME                                 \u001b[0m\u001b[1m \u001b[0m┃\u001b[1m \u001b[0m\u001b[1mREADY\u001b[0m\u001b[1m \u001b[0m┃\u001b[1m \u001b[0m\u001b[1mSTATUS           \u001b[0m\u001b[1m \u001b[0m┃\u001b[1m \u001b[0m\u001b[1mRESTARTS\u001b[0m\u001b[1m \u001b[0m┃\u001b[1m \u001b[0m\u001b[1mAGE  \u001b[0m\u001b[1m \u001b[0m┃\n",
       "┡━━━━━━━━━━━━━━━━━━━━━━━━━━━━━━━━━━━━━━━╇━━━━━━━╇━━━━━━━━━━━━━━━━━━━╇━━━━━━━━━━╇━━━━━━━┩\n",
       "│\u001b[38;2;0;170;0m \u001b[0m\u001b[38;2;0;170;0mata-pod                              \u001b[0m\u001b[38;2;0;170;0m \u001b[0m│\u001b[38;2;0;170;170m \u001b[0m\u001b[38;2;0;170;170m0/1  \u001b[0m\u001b[38;2;0;170;170m \u001b[0m│\u001b[38;2;170;170;170m \u001b[0m\u001b[38;2;170;170;170mContainerCreating\u001b[0m\u001b[38;2;170;170;170m \u001b[0m│\u001b[38;2;255;85;85m \u001b[0m\u001b[38;2;255;85;85m0       \u001b[0m\u001b[38;2;255;85;85m \u001b[0m│\u001b[38;2;85;255;85m \u001b[0m\u001b[38;2;85;255;85m97m  \u001b[0m\u001b[38;2;85;255;85m \u001b[0m│\n",
       "│\u001b[38;2;0;170;0m \u001b[0m\u001b[38;2;0;170;0mgpu-pod-xmkqv                        \u001b[0m\u001b[38;2;0;170;0m \u001b[0m│\u001b[38;2;0;170;170m \u001b[0m\u001b[38;2;0;170;170m1/1  \u001b[0m\u001b[38;2;0;170;170m \u001b[0m│\u001b[38;2;170;170;170m \u001b[0m\u001b[38;2;170;170;170mRunning          \u001b[0m\u001b[38;2;170;170;170m \u001b[0m│\u001b[38;2;255;85;85m \u001b[0m\u001b[38;2;255;85;85m0       \u001b[0m\u001b[38;2;255;85;85m \u001b[0m│\u001b[38;2;85;255;85m \u001b[0m\u001b[38;2;85;255;85m3m56s\u001b[0m\u001b[38;2;85;255;85m \u001b[0m│\n",
       "│\u001b[38;2;0;170;0m \u001b[0m\u001b[38;2;0;170;0mhub-859c877b85-fzfrj                 \u001b[0m\u001b[38;2;0;170;0m \u001b[0m│\u001b[38;2;0;170;170m \u001b[0m\u001b[38;2;0;170;170m1/1  \u001b[0m\u001b[38;2;0;170;170m \u001b[0m│\u001b[38;2;170;170;170m \u001b[0m\u001b[38;2;170;170;170mRunning          \u001b[0m\u001b[38;2;170;170;170m \u001b[0m│\u001b[38;2;255;85;85m \u001b[0m\u001b[38;2;255;85;85m0       \u001b[0m\u001b[38;2;255;85;85m \u001b[0m│\u001b[38;2;85;255;85m \u001b[0m\u001b[38;2;85;255;85m5d   \u001b[0m\u001b[38;2;85;255;85m \u001b[0m│\n",
       "│\u001b[38;2;0;170;0m \u001b[0m\u001b[38;2;0;170;0mjupyter-ataaakbari-40googlemail-2ecom\u001b[0m\u001b[38;2;0;170;0m \u001b[0m│\u001b[38;2;0;170;170m \u001b[0m\u001b[38;2;0;170;170m1/1  \u001b[0m\u001b[38;2;0;170;170m \u001b[0m│\u001b[38;2;170;170;170m \u001b[0m\u001b[38;2;170;170;170mRunning          \u001b[0m\u001b[38;2;170;170;170m \u001b[0m│\u001b[38;2;255;85;85m \u001b[0m\u001b[38;2;255;85;85m0       \u001b[0m\u001b[38;2;255;85;85m \u001b[0m│\u001b[38;2;85;255;85m \u001b[0m\u001b[38;2;85;255;85m59m  \u001b[0m\u001b[38;2;85;255;85m \u001b[0m│\n",
       "│\u001b[38;2;0;170;0m \u001b[0m\u001b[38;2;0;170;0mjupyter-fawudarski-40gmail-2ecom     \u001b[0m\u001b[38;2;0;170;0m \u001b[0m│\u001b[38;2;0;170;170m \u001b[0m\u001b[38;2;0;170;170m1/1  \u001b[0m\u001b[38;2;0;170;170m \u001b[0m│\u001b[38;2;170;170;170m \u001b[0m\u001b[38;2;170;170;170mRunning          \u001b[0m\u001b[38;2;170;170;170m \u001b[0m│\u001b[38;2;255;85;85m \u001b[0m\u001b[38;2;255;85;85m0       \u001b[0m\u001b[38;2;255;85;85m \u001b[0m│\u001b[38;2;85;255;85m \u001b[0m\u001b[38;2;85;255;85m7h37m\u001b[0m\u001b[38;2;85;255;85m \u001b[0m│\n",
       "│\u001b[38;2;0;170;0m \u001b[0m\u001b[38;2;0;170;0mproxy-5ddd4b47c9-xhb2d               \u001b[0m\u001b[38;2;0;170;0m \u001b[0m│\u001b[38;2;0;170;170m \u001b[0m\u001b[38;2;0;170;170m1/1  \u001b[0m\u001b[38;2;0;170;170m \u001b[0m│\u001b[38;2;170;170;170m \u001b[0m\u001b[38;2;170;170;170mRunning          \u001b[0m\u001b[38;2;170;170;170m \u001b[0m│\u001b[38;2;255;85;85m \u001b[0m\u001b[38;2;255;85;85m0       \u001b[0m\u001b[38;2;255;85;85m \u001b[0m│\u001b[38;2;85;255;85m \u001b[0m\u001b[38;2;85;255;85m43h  \u001b[0m\u001b[38;2;85;255;85m \u001b[0m│\n",
       "└───────────────────────────────────────┴───────┴───────────────────┴──────────┴───────┘\n"
      ]
     },
     "metadata": {},
     "output_type": "display_data"
    },
    {
     "data": {
      "text/html": [
       "<pre style=\"white-space:pre;overflow-x:auto;line-height:normal;font-family:Menlo,'DejaVu Sans Mono',consolas,'Courier New',monospace\">elapsed: <span style=\"color: #008080; text-decoration-color: #008080; font-weight: bold\">6.32</span> seconds\n",
       "</pre>\n"
      ],
      "text/plain": [
       "elapsed: \u001b[1;36m6.32\u001b[0m seconds\n"
      ]
     },
     "metadata": {},
     "output_type": "display_data"
    },
    {
     "data": {
      "text/html": [
       "<pre style=\"white-space:pre;overflow-x:auto;line-height:normal;font-family:Menlo,'DejaVu Sans Mono',consolas,'Courier New',monospace\">┏━━━━━━━━━━━━━━━━━━━━━━━━━━━━━━━━━━━━━━━┳━━━━━━━┳━━━━━━━━━━━━━━━━━━━┳━━━━━━━━━━┳━━━━━━━┓\n",
       "┃<span style=\"font-weight: bold\"> NAME                                  </span>┃<span style=\"font-weight: bold\"> READY </span>┃<span style=\"font-weight: bold\"> STATUS            </span>┃<span style=\"font-weight: bold\"> RESTARTS </span>┃<span style=\"font-weight: bold\"> AGE   </span>┃\n",
       "┡━━━━━━━━━━━━━━━━━━━━━━━━━━━━━━━━━━━━━━━╇━━━━━━━╇━━━━━━━━━━━━━━━━━━━╇━━━━━━━━━━╇━━━━━━━┩\n",
       "│<span style=\"color: #00aa00; text-decoration-color: #00aa00\"> ata-pod                               </span>│<span style=\"color: #00aaaa; text-decoration-color: #00aaaa\"> 0/1   </span>│<span style=\"color: #aaaaaa; text-decoration-color: #aaaaaa\"> ContainerCreating </span>│<span style=\"color: #ff5555; text-decoration-color: #ff5555\"> 0        </span>│<span style=\"color: #55ff55; text-decoration-color: #55ff55\"> 97m   </span>│\n",
       "│<span style=\"color: #00aa00; text-decoration-color: #00aa00\"> gpu-pod-xmkqv                         </span>│<span style=\"color: #00aaaa; text-decoration-color: #00aaaa\"> 1/1   </span>│<span style=\"color: #aaaaaa; text-decoration-color: #aaaaaa\"> Running           </span>│<span style=\"color: #ff5555; text-decoration-color: #ff5555\"> 0        </span>│<span style=\"color: #55ff55; text-decoration-color: #55ff55\"> 4m3s  </span>│\n",
       "│<span style=\"color: #00aa00; text-decoration-color: #00aa00\"> hub-859c877b85-fzfrj                  </span>│<span style=\"color: #00aaaa; text-decoration-color: #00aaaa\"> 1/1   </span>│<span style=\"color: #aaaaaa; text-decoration-color: #aaaaaa\"> Running           </span>│<span style=\"color: #ff5555; text-decoration-color: #ff5555\"> 0        </span>│<span style=\"color: #55ff55; text-decoration-color: #55ff55\"> 5d    </span>│\n",
       "│<span style=\"color: #00aa00; text-decoration-color: #00aa00\"> jupyter-ataaakbari-40googlemail-2ecom </span>│<span style=\"color: #00aaaa; text-decoration-color: #00aaaa\"> 1/1   </span>│<span style=\"color: #aaaaaa; text-decoration-color: #aaaaaa\"> Running           </span>│<span style=\"color: #ff5555; text-decoration-color: #ff5555\"> 0        </span>│<span style=\"color: #55ff55; text-decoration-color: #55ff55\"> 59m   </span>│\n",
       "│<span style=\"color: #00aa00; text-decoration-color: #00aa00\"> jupyter-fawudarski-40gmail-2ecom      </span>│<span style=\"color: #00aaaa; text-decoration-color: #00aaaa\"> 1/1   </span>│<span style=\"color: #aaaaaa; text-decoration-color: #aaaaaa\"> Running           </span>│<span style=\"color: #ff5555; text-decoration-color: #ff5555\"> 0        </span>│<span style=\"color: #55ff55; text-decoration-color: #55ff55\"> 7h37m </span>│\n",
       "│<span style=\"color: #00aa00; text-decoration-color: #00aa00\"> proxy-5ddd4b47c9-xhb2d                </span>│<span style=\"color: #00aaaa; text-decoration-color: #00aaaa\"> 1/1   </span>│<span style=\"color: #aaaaaa; text-decoration-color: #aaaaaa\"> Running           </span>│<span style=\"color: #ff5555; text-decoration-color: #ff5555\"> 0        </span>│<span style=\"color: #55ff55; text-decoration-color: #55ff55\"> 43h   </span>│\n",
       "└───────────────────────────────────────┴───────┴───────────────────┴──────────┴───────┘\n",
       "</pre>\n"
      ],
      "text/plain": [
       "┏━━━━━━━━━━━━━━━━━━━━━━━━━━━━━━━━━━━━━━━┳━━━━━━━┳━━━━━━━━━━━━━━━━━━━┳━━━━━━━━━━┳━━━━━━━┓\n",
       "┃\u001b[1m \u001b[0m\u001b[1mNAME                                 \u001b[0m\u001b[1m \u001b[0m┃\u001b[1m \u001b[0m\u001b[1mREADY\u001b[0m\u001b[1m \u001b[0m┃\u001b[1m \u001b[0m\u001b[1mSTATUS           \u001b[0m\u001b[1m \u001b[0m┃\u001b[1m \u001b[0m\u001b[1mRESTARTS\u001b[0m\u001b[1m \u001b[0m┃\u001b[1m \u001b[0m\u001b[1mAGE  \u001b[0m\u001b[1m \u001b[0m┃\n",
       "┡━━━━━━━━━━━━━━━━━━━━━━━━━━━━━━━━━━━━━━━╇━━━━━━━╇━━━━━━━━━━━━━━━━━━━╇━━━━━━━━━━╇━━━━━━━┩\n",
       "│\u001b[38;2;0;170;0m \u001b[0m\u001b[38;2;0;170;0mata-pod                              \u001b[0m\u001b[38;2;0;170;0m \u001b[0m│\u001b[38;2;0;170;170m \u001b[0m\u001b[38;2;0;170;170m0/1  \u001b[0m\u001b[38;2;0;170;170m \u001b[0m│\u001b[38;2;170;170;170m \u001b[0m\u001b[38;2;170;170;170mContainerCreating\u001b[0m\u001b[38;2;170;170;170m \u001b[0m│\u001b[38;2;255;85;85m \u001b[0m\u001b[38;2;255;85;85m0       \u001b[0m\u001b[38;2;255;85;85m \u001b[0m│\u001b[38;2;85;255;85m \u001b[0m\u001b[38;2;85;255;85m97m  \u001b[0m\u001b[38;2;85;255;85m \u001b[0m│\n",
       "│\u001b[38;2;0;170;0m \u001b[0m\u001b[38;2;0;170;0mgpu-pod-xmkqv                        \u001b[0m\u001b[38;2;0;170;0m \u001b[0m│\u001b[38;2;0;170;170m \u001b[0m\u001b[38;2;0;170;170m1/1  \u001b[0m\u001b[38;2;0;170;170m \u001b[0m│\u001b[38;2;170;170;170m \u001b[0m\u001b[38;2;170;170;170mRunning          \u001b[0m\u001b[38;2;170;170;170m \u001b[0m│\u001b[38;2;255;85;85m \u001b[0m\u001b[38;2;255;85;85m0       \u001b[0m\u001b[38;2;255;85;85m \u001b[0m│\u001b[38;2;85;255;85m \u001b[0m\u001b[38;2;85;255;85m4m3s \u001b[0m\u001b[38;2;85;255;85m \u001b[0m│\n",
       "│\u001b[38;2;0;170;0m \u001b[0m\u001b[38;2;0;170;0mhub-859c877b85-fzfrj                 \u001b[0m\u001b[38;2;0;170;0m \u001b[0m│\u001b[38;2;0;170;170m \u001b[0m\u001b[38;2;0;170;170m1/1  \u001b[0m\u001b[38;2;0;170;170m \u001b[0m│\u001b[38;2;170;170;170m \u001b[0m\u001b[38;2;170;170;170mRunning          \u001b[0m\u001b[38;2;170;170;170m \u001b[0m│\u001b[38;2;255;85;85m \u001b[0m\u001b[38;2;255;85;85m0       \u001b[0m\u001b[38;2;255;85;85m \u001b[0m│\u001b[38;2;85;255;85m \u001b[0m\u001b[38;2;85;255;85m5d   \u001b[0m\u001b[38;2;85;255;85m \u001b[0m│\n",
       "│\u001b[38;2;0;170;0m \u001b[0m\u001b[38;2;0;170;0mjupyter-ataaakbari-40googlemail-2ecom\u001b[0m\u001b[38;2;0;170;0m \u001b[0m│\u001b[38;2;0;170;170m \u001b[0m\u001b[38;2;0;170;170m1/1  \u001b[0m\u001b[38;2;0;170;170m \u001b[0m│\u001b[38;2;170;170;170m \u001b[0m\u001b[38;2;170;170;170mRunning          \u001b[0m\u001b[38;2;170;170;170m \u001b[0m│\u001b[38;2;255;85;85m \u001b[0m\u001b[38;2;255;85;85m0       \u001b[0m\u001b[38;2;255;85;85m \u001b[0m│\u001b[38;2;85;255;85m \u001b[0m\u001b[38;2;85;255;85m59m  \u001b[0m\u001b[38;2;85;255;85m \u001b[0m│\n",
       "│\u001b[38;2;0;170;0m \u001b[0m\u001b[38;2;0;170;0mjupyter-fawudarski-40gmail-2ecom     \u001b[0m\u001b[38;2;0;170;0m \u001b[0m│\u001b[38;2;0;170;170m \u001b[0m\u001b[38;2;0;170;170m1/1  \u001b[0m\u001b[38;2;0;170;170m \u001b[0m│\u001b[38;2;170;170;170m \u001b[0m\u001b[38;2;170;170;170mRunning          \u001b[0m\u001b[38;2;170;170;170m \u001b[0m│\u001b[38;2;255;85;85m \u001b[0m\u001b[38;2;255;85;85m0       \u001b[0m\u001b[38;2;255;85;85m \u001b[0m│\u001b[38;2;85;255;85m \u001b[0m\u001b[38;2;85;255;85m7h37m\u001b[0m\u001b[38;2;85;255;85m \u001b[0m│\n",
       "│\u001b[38;2;0;170;0m \u001b[0m\u001b[38;2;0;170;0mproxy-5ddd4b47c9-xhb2d               \u001b[0m\u001b[38;2;0;170;0m \u001b[0m│\u001b[38;2;0;170;170m \u001b[0m\u001b[38;2;0;170;170m1/1  \u001b[0m\u001b[38;2;0;170;170m \u001b[0m│\u001b[38;2;170;170;170m \u001b[0m\u001b[38;2;170;170;170mRunning          \u001b[0m\u001b[38;2;170;170;170m \u001b[0m│\u001b[38;2;255;85;85m \u001b[0m\u001b[38;2;255;85;85m0       \u001b[0m\u001b[38;2;255;85;85m \u001b[0m│\u001b[38;2;85;255;85m \u001b[0m\u001b[38;2;85;255;85m43h  \u001b[0m\u001b[38;2;85;255;85m \u001b[0m│\n",
       "└───────────────────────────────────────┴───────┴───────────────────┴──────────┴───────┘\n"
      ]
     },
     "metadata": {},
     "output_type": "display_data"
    },
    {
     "data": {
      "text/html": [
       "<pre style=\"white-space:pre;overflow-x:auto;line-height:normal;font-family:Menlo,'DejaVu Sans Mono',consolas,'Courier New',monospace\">elapsed: <span style=\"color: #008080; text-decoration-color: #008080; font-weight: bold\">6.30</span> seconds\n",
       "</pre>\n"
      ],
      "text/plain": [
       "elapsed: \u001b[1;36m6.30\u001b[0m seconds\n"
      ]
     },
     "metadata": {},
     "output_type": "display_data"
    },
    {
     "data": {
      "text/html": [
       "<pre style=\"white-space:pre;overflow-x:auto;line-height:normal;font-family:Menlo,'DejaVu Sans Mono',consolas,'Courier New',monospace\">┏━━━━━━━━━━━━━━━━━━━━━━━━━━━━━━━━━━━━━━━┳━━━━━━━┳━━━━━━━━━━━━━━━━━━━┳━━━━━━━━━━┳━━━━━━━┓\n",
       "┃<span style=\"font-weight: bold\"> NAME                                  </span>┃<span style=\"font-weight: bold\"> READY </span>┃<span style=\"font-weight: bold\"> STATUS            </span>┃<span style=\"font-weight: bold\"> RESTARTS </span>┃<span style=\"font-weight: bold\"> AGE   </span>┃\n",
       "┡━━━━━━━━━━━━━━━━━━━━━━━━━━━━━━━━━━━━━━━╇━━━━━━━╇━━━━━━━━━━━━━━━━━━━╇━━━━━━━━━━╇━━━━━━━┩\n",
       "│<span style=\"color: #00aa00; text-decoration-color: #00aa00\"> ata-pod                               </span>│<span style=\"color: #00aaaa; text-decoration-color: #00aaaa\"> 0/1   </span>│<span style=\"color: #aaaaaa; text-decoration-color: #aaaaaa\"> ContainerCreating </span>│<span style=\"color: #ff5555; text-decoration-color: #ff5555\"> 0        </span>│<span style=\"color: #55ff55; text-decoration-color: #55ff55\"> 97m   </span>│\n",
       "│<span style=\"color: #00aa00; text-decoration-color: #00aa00\"> gpu-pod-xmkqv                         </span>│<span style=\"color: #00aaaa; text-decoration-color: #00aaaa\"> 1/1   </span>│<span style=\"color: #aaaaaa; text-decoration-color: #aaaaaa\"> Running           </span>│<span style=\"color: #ff5555; text-decoration-color: #ff5555\"> 0        </span>│<span style=\"color: #55ff55; text-decoration-color: #55ff55\"> 4m9s  </span>│\n",
       "│<span style=\"color: #00aa00; text-decoration-color: #00aa00\"> hub-859c877b85-fzfrj                  </span>│<span style=\"color: #00aaaa; text-decoration-color: #00aaaa\"> 1/1   </span>│<span style=\"color: #aaaaaa; text-decoration-color: #aaaaaa\"> Running           </span>│<span style=\"color: #ff5555; text-decoration-color: #ff5555\"> 0        </span>│<span style=\"color: #55ff55; text-decoration-color: #55ff55\"> 5d    </span>│\n",
       "│<span style=\"color: #00aa00; text-decoration-color: #00aa00\"> jupyter-ataaakbari-40googlemail-2ecom </span>│<span style=\"color: #00aaaa; text-decoration-color: #00aaaa\"> 1/1   </span>│<span style=\"color: #aaaaaa; text-decoration-color: #aaaaaa\"> Running           </span>│<span style=\"color: #ff5555; text-decoration-color: #ff5555\"> 0        </span>│<span style=\"color: #55ff55; text-decoration-color: #55ff55\"> 59m   </span>│\n",
       "│<span style=\"color: #00aa00; text-decoration-color: #00aa00\"> jupyter-fawudarski-40gmail-2ecom      </span>│<span style=\"color: #00aaaa; text-decoration-color: #00aaaa\"> 1/1   </span>│<span style=\"color: #aaaaaa; text-decoration-color: #aaaaaa\"> Running           </span>│<span style=\"color: #ff5555; text-decoration-color: #ff5555\"> 0        </span>│<span style=\"color: #55ff55; text-decoration-color: #55ff55\"> 7h37m </span>│\n",
       "│<span style=\"color: #00aa00; text-decoration-color: #00aa00\"> proxy-5ddd4b47c9-xhb2d                </span>│<span style=\"color: #00aaaa; text-decoration-color: #00aaaa\"> 1/1   </span>│<span style=\"color: #aaaaaa; text-decoration-color: #aaaaaa\"> Running           </span>│<span style=\"color: #ff5555; text-decoration-color: #ff5555\"> 0        </span>│<span style=\"color: #55ff55; text-decoration-color: #55ff55\"> 43h   </span>│\n",
       "└───────────────────────────────────────┴───────┴───────────────────┴──────────┴───────┘\n",
       "</pre>\n"
      ],
      "text/plain": [
       "┏━━━━━━━━━━━━━━━━━━━━━━━━━━━━━━━━━━━━━━━┳━━━━━━━┳━━━━━━━━━━━━━━━━━━━┳━━━━━━━━━━┳━━━━━━━┓\n",
       "┃\u001b[1m \u001b[0m\u001b[1mNAME                                 \u001b[0m\u001b[1m \u001b[0m┃\u001b[1m \u001b[0m\u001b[1mREADY\u001b[0m\u001b[1m \u001b[0m┃\u001b[1m \u001b[0m\u001b[1mSTATUS           \u001b[0m\u001b[1m \u001b[0m┃\u001b[1m \u001b[0m\u001b[1mRESTARTS\u001b[0m\u001b[1m \u001b[0m┃\u001b[1m \u001b[0m\u001b[1mAGE  \u001b[0m\u001b[1m \u001b[0m┃\n",
       "┡━━━━━━━━━━━━━━━━━━━━━━━━━━━━━━━━━━━━━━━╇━━━━━━━╇━━━━━━━━━━━━━━━━━━━╇━━━━━━━━━━╇━━━━━━━┩\n",
       "│\u001b[38;2;0;170;0m \u001b[0m\u001b[38;2;0;170;0mata-pod                              \u001b[0m\u001b[38;2;0;170;0m \u001b[0m│\u001b[38;2;0;170;170m \u001b[0m\u001b[38;2;0;170;170m0/1  \u001b[0m\u001b[38;2;0;170;170m \u001b[0m│\u001b[38;2;170;170;170m \u001b[0m\u001b[38;2;170;170;170mContainerCreating\u001b[0m\u001b[38;2;170;170;170m \u001b[0m│\u001b[38;2;255;85;85m \u001b[0m\u001b[38;2;255;85;85m0       \u001b[0m\u001b[38;2;255;85;85m \u001b[0m│\u001b[38;2;85;255;85m \u001b[0m\u001b[38;2;85;255;85m97m  \u001b[0m\u001b[38;2;85;255;85m \u001b[0m│\n",
       "│\u001b[38;2;0;170;0m \u001b[0m\u001b[38;2;0;170;0mgpu-pod-xmkqv                        \u001b[0m\u001b[38;2;0;170;0m \u001b[0m│\u001b[38;2;0;170;170m \u001b[0m\u001b[38;2;0;170;170m1/1  \u001b[0m\u001b[38;2;0;170;170m \u001b[0m│\u001b[38;2;170;170;170m \u001b[0m\u001b[38;2;170;170;170mRunning          \u001b[0m\u001b[38;2;170;170;170m \u001b[0m│\u001b[38;2;255;85;85m \u001b[0m\u001b[38;2;255;85;85m0       \u001b[0m\u001b[38;2;255;85;85m \u001b[0m│\u001b[38;2;85;255;85m \u001b[0m\u001b[38;2;85;255;85m4m9s \u001b[0m\u001b[38;2;85;255;85m \u001b[0m│\n",
       "│\u001b[38;2;0;170;0m \u001b[0m\u001b[38;2;0;170;0mhub-859c877b85-fzfrj                 \u001b[0m\u001b[38;2;0;170;0m \u001b[0m│\u001b[38;2;0;170;170m \u001b[0m\u001b[38;2;0;170;170m1/1  \u001b[0m\u001b[38;2;0;170;170m \u001b[0m│\u001b[38;2;170;170;170m \u001b[0m\u001b[38;2;170;170;170mRunning          \u001b[0m\u001b[38;2;170;170;170m \u001b[0m│\u001b[38;2;255;85;85m \u001b[0m\u001b[38;2;255;85;85m0       \u001b[0m\u001b[38;2;255;85;85m \u001b[0m│\u001b[38;2;85;255;85m \u001b[0m\u001b[38;2;85;255;85m5d   \u001b[0m\u001b[38;2;85;255;85m \u001b[0m│\n",
       "│\u001b[38;2;0;170;0m \u001b[0m\u001b[38;2;0;170;0mjupyter-ataaakbari-40googlemail-2ecom\u001b[0m\u001b[38;2;0;170;0m \u001b[0m│\u001b[38;2;0;170;170m \u001b[0m\u001b[38;2;0;170;170m1/1  \u001b[0m\u001b[38;2;0;170;170m \u001b[0m│\u001b[38;2;170;170;170m \u001b[0m\u001b[38;2;170;170;170mRunning          \u001b[0m\u001b[38;2;170;170;170m \u001b[0m│\u001b[38;2;255;85;85m \u001b[0m\u001b[38;2;255;85;85m0       \u001b[0m\u001b[38;2;255;85;85m \u001b[0m│\u001b[38;2;85;255;85m \u001b[0m\u001b[38;2;85;255;85m59m  \u001b[0m\u001b[38;2;85;255;85m \u001b[0m│\n",
       "│\u001b[38;2;0;170;0m \u001b[0m\u001b[38;2;0;170;0mjupyter-fawudarski-40gmail-2ecom     \u001b[0m\u001b[38;2;0;170;0m \u001b[0m│\u001b[38;2;0;170;170m \u001b[0m\u001b[38;2;0;170;170m1/1  \u001b[0m\u001b[38;2;0;170;170m \u001b[0m│\u001b[38;2;170;170;170m \u001b[0m\u001b[38;2;170;170;170mRunning          \u001b[0m\u001b[38;2;170;170;170m \u001b[0m│\u001b[38;2;255;85;85m \u001b[0m\u001b[38;2;255;85;85m0       \u001b[0m\u001b[38;2;255;85;85m \u001b[0m│\u001b[38;2;85;255;85m \u001b[0m\u001b[38;2;85;255;85m7h37m\u001b[0m\u001b[38;2;85;255;85m \u001b[0m│\n",
       "│\u001b[38;2;0;170;0m \u001b[0m\u001b[38;2;0;170;0mproxy-5ddd4b47c9-xhb2d               \u001b[0m\u001b[38;2;0;170;0m \u001b[0m│\u001b[38;2;0;170;170m \u001b[0m\u001b[38;2;0;170;170m1/1  \u001b[0m\u001b[38;2;0;170;170m \u001b[0m│\u001b[38;2;170;170;170m \u001b[0m\u001b[38;2;170;170;170mRunning          \u001b[0m\u001b[38;2;170;170;170m \u001b[0m│\u001b[38;2;255;85;85m \u001b[0m\u001b[38;2;255;85;85m0       \u001b[0m\u001b[38;2;255;85;85m \u001b[0m│\u001b[38;2;85;255;85m \u001b[0m\u001b[38;2;85;255;85m43h  \u001b[0m\u001b[38;2;85;255;85m \u001b[0m│\n",
       "└───────────────────────────────────────┴───────┴───────────────────┴──────────┴───────┘\n"
      ]
     },
     "metadata": {},
     "output_type": "display_data"
    },
    {
     "data": {
      "text/html": [
       "<pre style=\"white-space:pre;overflow-x:auto;line-height:normal;font-family:Menlo,'DejaVu Sans Mono',consolas,'Courier New',monospace\">elapsed: <span style=\"color: #008080; text-decoration-color: #008080; font-weight: bold\">6.32</span> seconds\n",
       "</pre>\n"
      ],
      "text/plain": [
       "elapsed: \u001b[1;36m6.32\u001b[0m seconds\n"
      ]
     },
     "metadata": {},
     "output_type": "display_data"
    },
    {
     "data": {
      "text/html": [
       "<pre style=\"white-space:pre;overflow-x:auto;line-height:normal;font-family:Menlo,'DejaVu Sans Mono',consolas,'Courier New',monospace\">┏━━━━━━━━━━━━━━━━━━━━━━━━━━━━━━━━━━━━━━━┳━━━━━━━┳━━━━━━━━━━━━━━━━━━━┳━━━━━━━━━━┳━━━━━━━┓\n",
       "┃<span style=\"font-weight: bold\"> NAME                                  </span>┃<span style=\"font-weight: bold\"> READY </span>┃<span style=\"font-weight: bold\"> STATUS            </span>┃<span style=\"font-weight: bold\"> RESTARTS </span>┃<span style=\"font-weight: bold\"> AGE   </span>┃\n",
       "┡━━━━━━━━━━━━━━━━━━━━━━━━━━━━━━━━━━━━━━━╇━━━━━━━╇━━━━━━━━━━━━━━━━━━━╇━━━━━━━━━━╇━━━━━━━┩\n",
       "│<span style=\"color: #00aa00; text-decoration-color: #00aa00\"> ata-pod                               </span>│<span style=\"color: #00aaaa; text-decoration-color: #00aaaa\"> 0/1   </span>│<span style=\"color: #aaaaaa; text-decoration-color: #aaaaaa\"> ContainerCreating </span>│<span style=\"color: #ff5555; text-decoration-color: #ff5555\"> 0        </span>│<span style=\"color: #55ff55; text-decoration-color: #55ff55\"> 97m   </span>│\n",
       "│<span style=\"color: #00aa00; text-decoration-color: #00aa00\"> gpu-pod-xmkqv                         </span>│<span style=\"color: #00aaaa; text-decoration-color: #00aaaa\"> 1/1   </span>│<span style=\"color: #aaaaaa; text-decoration-color: #aaaaaa\"> Running           </span>│<span style=\"color: #ff5555; text-decoration-color: #ff5555\"> 0        </span>│<span style=\"color: #55ff55; text-decoration-color: #55ff55\"> 4m15s </span>│\n",
       "│<span style=\"color: #00aa00; text-decoration-color: #00aa00\"> hub-859c877b85-fzfrj                  </span>│<span style=\"color: #00aaaa; text-decoration-color: #00aaaa\"> 1/1   </span>│<span style=\"color: #aaaaaa; text-decoration-color: #aaaaaa\"> Running           </span>│<span style=\"color: #ff5555; text-decoration-color: #ff5555\"> 0        </span>│<span style=\"color: #55ff55; text-decoration-color: #55ff55\"> 5d    </span>│\n",
       "│<span style=\"color: #00aa00; text-decoration-color: #00aa00\"> jupyter-ataaakbari-40googlemail-2ecom </span>│<span style=\"color: #00aaaa; text-decoration-color: #00aaaa\"> 1/1   </span>│<span style=\"color: #aaaaaa; text-decoration-color: #aaaaaa\"> Running           </span>│<span style=\"color: #ff5555; text-decoration-color: #ff5555\"> 0        </span>│<span style=\"color: #55ff55; text-decoration-color: #55ff55\"> 59m   </span>│\n",
       "│<span style=\"color: #00aa00; text-decoration-color: #00aa00\"> jupyter-fawudarski-40gmail-2ecom      </span>│<span style=\"color: #00aaaa; text-decoration-color: #00aaaa\"> 1/1   </span>│<span style=\"color: #aaaaaa; text-decoration-color: #aaaaaa\"> Running           </span>│<span style=\"color: #ff5555; text-decoration-color: #ff5555\"> 0        </span>│<span style=\"color: #55ff55; text-decoration-color: #55ff55\"> 7h37m </span>│\n",
       "│<span style=\"color: #00aa00; text-decoration-color: #00aa00\"> proxy-5ddd4b47c9-xhb2d                </span>│<span style=\"color: #00aaaa; text-decoration-color: #00aaaa\"> 1/1   </span>│<span style=\"color: #aaaaaa; text-decoration-color: #aaaaaa\"> Running           </span>│<span style=\"color: #ff5555; text-decoration-color: #ff5555\"> 0        </span>│<span style=\"color: #55ff55; text-decoration-color: #55ff55\"> 43h   </span>│\n",
       "└───────────────────────────────────────┴───────┴───────────────────┴──────────┴───────┘\n",
       "</pre>\n"
      ],
      "text/plain": [
       "┏━━━━━━━━━━━━━━━━━━━━━━━━━━━━━━━━━━━━━━━┳━━━━━━━┳━━━━━━━━━━━━━━━━━━━┳━━━━━━━━━━┳━━━━━━━┓\n",
       "┃\u001b[1m \u001b[0m\u001b[1mNAME                                 \u001b[0m\u001b[1m \u001b[0m┃\u001b[1m \u001b[0m\u001b[1mREADY\u001b[0m\u001b[1m \u001b[0m┃\u001b[1m \u001b[0m\u001b[1mSTATUS           \u001b[0m\u001b[1m \u001b[0m┃\u001b[1m \u001b[0m\u001b[1mRESTARTS\u001b[0m\u001b[1m \u001b[0m┃\u001b[1m \u001b[0m\u001b[1mAGE  \u001b[0m\u001b[1m \u001b[0m┃\n",
       "┡━━━━━━━━━━━━━━━━━━━━━━━━━━━━━━━━━━━━━━━╇━━━━━━━╇━━━━━━━━━━━━━━━━━━━╇━━━━━━━━━━╇━━━━━━━┩\n",
       "│\u001b[38;2;0;170;0m \u001b[0m\u001b[38;2;0;170;0mata-pod                              \u001b[0m\u001b[38;2;0;170;0m \u001b[0m│\u001b[38;2;0;170;170m \u001b[0m\u001b[38;2;0;170;170m0/1  \u001b[0m\u001b[38;2;0;170;170m \u001b[0m│\u001b[38;2;170;170;170m \u001b[0m\u001b[38;2;170;170;170mContainerCreating\u001b[0m\u001b[38;2;170;170;170m \u001b[0m│\u001b[38;2;255;85;85m \u001b[0m\u001b[38;2;255;85;85m0       \u001b[0m\u001b[38;2;255;85;85m \u001b[0m│\u001b[38;2;85;255;85m \u001b[0m\u001b[38;2;85;255;85m97m  \u001b[0m\u001b[38;2;85;255;85m \u001b[0m│\n",
       "│\u001b[38;2;0;170;0m \u001b[0m\u001b[38;2;0;170;0mgpu-pod-xmkqv                        \u001b[0m\u001b[38;2;0;170;0m \u001b[0m│\u001b[38;2;0;170;170m \u001b[0m\u001b[38;2;0;170;170m1/1  \u001b[0m\u001b[38;2;0;170;170m \u001b[0m│\u001b[38;2;170;170;170m \u001b[0m\u001b[38;2;170;170;170mRunning          \u001b[0m\u001b[38;2;170;170;170m \u001b[0m│\u001b[38;2;255;85;85m \u001b[0m\u001b[38;2;255;85;85m0       \u001b[0m\u001b[38;2;255;85;85m \u001b[0m│\u001b[38;2;85;255;85m \u001b[0m\u001b[38;2;85;255;85m4m15s\u001b[0m\u001b[38;2;85;255;85m \u001b[0m│\n",
       "│\u001b[38;2;0;170;0m \u001b[0m\u001b[38;2;0;170;0mhub-859c877b85-fzfrj                 \u001b[0m\u001b[38;2;0;170;0m \u001b[0m│\u001b[38;2;0;170;170m \u001b[0m\u001b[38;2;0;170;170m1/1  \u001b[0m\u001b[38;2;0;170;170m \u001b[0m│\u001b[38;2;170;170;170m \u001b[0m\u001b[38;2;170;170;170mRunning          \u001b[0m\u001b[38;2;170;170;170m \u001b[0m│\u001b[38;2;255;85;85m \u001b[0m\u001b[38;2;255;85;85m0       \u001b[0m\u001b[38;2;255;85;85m \u001b[0m│\u001b[38;2;85;255;85m \u001b[0m\u001b[38;2;85;255;85m5d   \u001b[0m\u001b[38;2;85;255;85m \u001b[0m│\n",
       "│\u001b[38;2;0;170;0m \u001b[0m\u001b[38;2;0;170;0mjupyter-ataaakbari-40googlemail-2ecom\u001b[0m\u001b[38;2;0;170;0m \u001b[0m│\u001b[38;2;0;170;170m \u001b[0m\u001b[38;2;0;170;170m1/1  \u001b[0m\u001b[38;2;0;170;170m \u001b[0m│\u001b[38;2;170;170;170m \u001b[0m\u001b[38;2;170;170;170mRunning          \u001b[0m\u001b[38;2;170;170;170m \u001b[0m│\u001b[38;2;255;85;85m \u001b[0m\u001b[38;2;255;85;85m0       \u001b[0m\u001b[38;2;255;85;85m \u001b[0m│\u001b[38;2;85;255;85m \u001b[0m\u001b[38;2;85;255;85m59m  \u001b[0m\u001b[38;2;85;255;85m \u001b[0m│\n",
       "│\u001b[38;2;0;170;0m \u001b[0m\u001b[38;2;0;170;0mjupyter-fawudarski-40gmail-2ecom     \u001b[0m\u001b[38;2;0;170;0m \u001b[0m│\u001b[38;2;0;170;170m \u001b[0m\u001b[38;2;0;170;170m1/1  \u001b[0m\u001b[38;2;0;170;170m \u001b[0m│\u001b[38;2;170;170;170m \u001b[0m\u001b[38;2;170;170;170mRunning          \u001b[0m\u001b[38;2;170;170;170m \u001b[0m│\u001b[38;2;255;85;85m \u001b[0m\u001b[38;2;255;85;85m0       \u001b[0m\u001b[38;2;255;85;85m \u001b[0m│\u001b[38;2;85;255;85m \u001b[0m\u001b[38;2;85;255;85m7h37m\u001b[0m\u001b[38;2;85;255;85m \u001b[0m│\n",
       "│\u001b[38;2;0;170;0m \u001b[0m\u001b[38;2;0;170;0mproxy-5ddd4b47c9-xhb2d               \u001b[0m\u001b[38;2;0;170;0m \u001b[0m│\u001b[38;2;0;170;170m \u001b[0m\u001b[38;2;0;170;170m1/1  \u001b[0m\u001b[38;2;0;170;170m \u001b[0m│\u001b[38;2;170;170;170m \u001b[0m\u001b[38;2;170;170;170mRunning          \u001b[0m\u001b[38;2;170;170;170m \u001b[0m│\u001b[38;2;255;85;85m \u001b[0m\u001b[38;2;255;85;85m0       \u001b[0m\u001b[38;2;255;85;85m \u001b[0m│\u001b[38;2;85;255;85m \u001b[0m\u001b[38;2;85;255;85m43h  \u001b[0m\u001b[38;2;85;255;85m \u001b[0m│\n",
       "└───────────────────────────────────────┴───────┴───────────────────┴──────────┴───────┘\n"
      ]
     },
     "metadata": {},
     "output_type": "display_data"
    },
    {
     "data": {
      "text/html": [
       "<pre style=\"white-space:pre;overflow-x:auto;line-height:normal;font-family:Menlo,'DejaVu Sans Mono',consolas,'Courier New',monospace\">elapsed: <span style=\"color: #008080; text-decoration-color: #008080; font-weight: bold\">6.29</span> seconds\n",
       "</pre>\n"
      ],
      "text/plain": [
       "elapsed: \u001b[1;36m6.29\u001b[0m seconds\n"
      ]
     },
     "metadata": {},
     "output_type": "display_data"
    },
    {
     "data": {
      "text/html": [
       "<pre style=\"white-space:pre;overflow-x:auto;line-height:normal;font-family:Menlo,'DejaVu Sans Mono',consolas,'Courier New',monospace\">┏━━━━━━━━━━━━━━━━━━━━━━━━━━━━━━━━━━━━━━━┳━━━━━━━┳━━━━━━━━━━━━━━━━━━━┳━━━━━━━━━━┳━━━━━━━┓\n",
       "┃<span style=\"font-weight: bold\"> NAME                                  </span>┃<span style=\"font-weight: bold\"> READY </span>┃<span style=\"font-weight: bold\"> STATUS            </span>┃<span style=\"font-weight: bold\"> RESTARTS </span>┃<span style=\"font-weight: bold\"> AGE   </span>┃\n",
       "┡━━━━━━━━━━━━━━━━━━━━━━━━━━━━━━━━━━━━━━━╇━━━━━━━╇━━━━━━━━━━━━━━━━━━━╇━━━━━━━━━━╇━━━━━━━┩\n",
       "│<span style=\"color: #00aa00; text-decoration-color: #00aa00\"> ata-pod                               </span>│<span style=\"color: #00aaaa; text-decoration-color: #00aaaa\"> 0/1   </span>│<span style=\"color: #aaaaaa; text-decoration-color: #aaaaaa\"> ContainerCreating </span>│<span style=\"color: #ff5555; text-decoration-color: #ff5555\"> 0        </span>│<span style=\"color: #55ff55; text-decoration-color: #55ff55\"> 98m   </span>│\n",
       "│<span style=\"color: #00aa00; text-decoration-color: #00aa00\"> gpu-pod-xmkqv                         </span>│<span style=\"color: #00aaaa; text-decoration-color: #00aaaa\"> 1/1   </span>│<span style=\"color: #aaaaaa; text-decoration-color: #aaaaaa\"> Running           </span>│<span style=\"color: #ff5555; text-decoration-color: #ff5555\"> 0        </span>│<span style=\"color: #55ff55; text-decoration-color: #55ff55\"> 4m22s </span>│\n",
       "│<span style=\"color: #00aa00; text-decoration-color: #00aa00\"> hub-859c877b85-fzfrj                  </span>│<span style=\"color: #00aaaa; text-decoration-color: #00aaaa\"> 1/1   </span>│<span style=\"color: #aaaaaa; text-decoration-color: #aaaaaa\"> Running           </span>│<span style=\"color: #ff5555; text-decoration-color: #ff5555\"> 0        </span>│<span style=\"color: #55ff55; text-decoration-color: #55ff55\"> 5d    </span>│\n",
       "│<span style=\"color: #00aa00; text-decoration-color: #00aa00\"> jupyter-ataaakbari-40googlemail-2ecom </span>│<span style=\"color: #00aaaa; text-decoration-color: #00aaaa\"> 1/1   </span>│<span style=\"color: #aaaaaa; text-decoration-color: #aaaaaa\"> Running           </span>│<span style=\"color: #ff5555; text-decoration-color: #ff5555\"> 0        </span>│<span style=\"color: #55ff55; text-decoration-color: #55ff55\"> 60m   </span>│\n",
       "│<span style=\"color: #00aa00; text-decoration-color: #00aa00\"> jupyter-fawudarski-40gmail-2ecom      </span>│<span style=\"color: #00aaaa; text-decoration-color: #00aaaa\"> 1/1   </span>│<span style=\"color: #aaaaaa; text-decoration-color: #aaaaaa\"> Running           </span>│<span style=\"color: #ff5555; text-decoration-color: #ff5555\"> 0        </span>│<span style=\"color: #55ff55; text-decoration-color: #55ff55\"> 7h37m </span>│\n",
       "│<span style=\"color: #00aa00; text-decoration-color: #00aa00\"> proxy-5ddd4b47c9-xhb2d                </span>│<span style=\"color: #00aaaa; text-decoration-color: #00aaaa\"> 1/1   </span>│<span style=\"color: #aaaaaa; text-decoration-color: #aaaaaa\"> Running           </span>│<span style=\"color: #ff5555; text-decoration-color: #ff5555\"> 0        </span>│<span style=\"color: #55ff55; text-decoration-color: #55ff55\"> 43h   </span>│\n",
       "└───────────────────────────────────────┴───────┴───────────────────┴──────────┴───────┘\n",
       "</pre>\n"
      ],
      "text/plain": [
       "┏━━━━━━━━━━━━━━━━━━━━━━━━━━━━━━━━━━━━━━━┳━━━━━━━┳━━━━━━━━━━━━━━━━━━━┳━━━━━━━━━━┳━━━━━━━┓\n",
       "┃\u001b[1m \u001b[0m\u001b[1mNAME                                 \u001b[0m\u001b[1m \u001b[0m┃\u001b[1m \u001b[0m\u001b[1mREADY\u001b[0m\u001b[1m \u001b[0m┃\u001b[1m \u001b[0m\u001b[1mSTATUS           \u001b[0m\u001b[1m \u001b[0m┃\u001b[1m \u001b[0m\u001b[1mRESTARTS\u001b[0m\u001b[1m \u001b[0m┃\u001b[1m \u001b[0m\u001b[1mAGE  \u001b[0m\u001b[1m \u001b[0m┃\n",
       "┡━━━━━━━━━━━━━━━━━━━━━━━━━━━━━━━━━━━━━━━╇━━━━━━━╇━━━━━━━━━━━━━━━━━━━╇━━━━━━━━━━╇━━━━━━━┩\n",
       "│\u001b[38;2;0;170;0m \u001b[0m\u001b[38;2;0;170;0mata-pod                              \u001b[0m\u001b[38;2;0;170;0m \u001b[0m│\u001b[38;2;0;170;170m \u001b[0m\u001b[38;2;0;170;170m0/1  \u001b[0m\u001b[38;2;0;170;170m \u001b[0m│\u001b[38;2;170;170;170m \u001b[0m\u001b[38;2;170;170;170mContainerCreating\u001b[0m\u001b[38;2;170;170;170m \u001b[0m│\u001b[38;2;255;85;85m \u001b[0m\u001b[38;2;255;85;85m0       \u001b[0m\u001b[38;2;255;85;85m \u001b[0m│\u001b[38;2;85;255;85m \u001b[0m\u001b[38;2;85;255;85m98m  \u001b[0m\u001b[38;2;85;255;85m \u001b[0m│\n",
       "│\u001b[38;2;0;170;0m \u001b[0m\u001b[38;2;0;170;0mgpu-pod-xmkqv                        \u001b[0m\u001b[38;2;0;170;0m \u001b[0m│\u001b[38;2;0;170;170m \u001b[0m\u001b[38;2;0;170;170m1/1  \u001b[0m\u001b[38;2;0;170;170m \u001b[0m│\u001b[38;2;170;170;170m \u001b[0m\u001b[38;2;170;170;170mRunning          \u001b[0m\u001b[38;2;170;170;170m \u001b[0m│\u001b[38;2;255;85;85m \u001b[0m\u001b[38;2;255;85;85m0       \u001b[0m\u001b[38;2;255;85;85m \u001b[0m│\u001b[38;2;85;255;85m \u001b[0m\u001b[38;2;85;255;85m4m22s\u001b[0m\u001b[38;2;85;255;85m \u001b[0m│\n",
       "│\u001b[38;2;0;170;0m \u001b[0m\u001b[38;2;0;170;0mhub-859c877b85-fzfrj                 \u001b[0m\u001b[38;2;0;170;0m \u001b[0m│\u001b[38;2;0;170;170m \u001b[0m\u001b[38;2;0;170;170m1/1  \u001b[0m\u001b[38;2;0;170;170m \u001b[0m│\u001b[38;2;170;170;170m \u001b[0m\u001b[38;2;170;170;170mRunning          \u001b[0m\u001b[38;2;170;170;170m \u001b[0m│\u001b[38;2;255;85;85m \u001b[0m\u001b[38;2;255;85;85m0       \u001b[0m\u001b[38;2;255;85;85m \u001b[0m│\u001b[38;2;85;255;85m \u001b[0m\u001b[38;2;85;255;85m5d   \u001b[0m\u001b[38;2;85;255;85m \u001b[0m│\n",
       "│\u001b[38;2;0;170;0m \u001b[0m\u001b[38;2;0;170;0mjupyter-ataaakbari-40googlemail-2ecom\u001b[0m\u001b[38;2;0;170;0m \u001b[0m│\u001b[38;2;0;170;170m \u001b[0m\u001b[38;2;0;170;170m1/1  \u001b[0m\u001b[38;2;0;170;170m \u001b[0m│\u001b[38;2;170;170;170m \u001b[0m\u001b[38;2;170;170;170mRunning          \u001b[0m\u001b[38;2;170;170;170m \u001b[0m│\u001b[38;2;255;85;85m \u001b[0m\u001b[38;2;255;85;85m0       \u001b[0m\u001b[38;2;255;85;85m \u001b[0m│\u001b[38;2;85;255;85m \u001b[0m\u001b[38;2;85;255;85m60m  \u001b[0m\u001b[38;2;85;255;85m \u001b[0m│\n",
       "│\u001b[38;2;0;170;0m \u001b[0m\u001b[38;2;0;170;0mjupyter-fawudarski-40gmail-2ecom     \u001b[0m\u001b[38;2;0;170;0m \u001b[0m│\u001b[38;2;0;170;170m \u001b[0m\u001b[38;2;0;170;170m1/1  \u001b[0m\u001b[38;2;0;170;170m \u001b[0m│\u001b[38;2;170;170;170m \u001b[0m\u001b[38;2;170;170;170mRunning          \u001b[0m\u001b[38;2;170;170;170m \u001b[0m│\u001b[38;2;255;85;85m \u001b[0m\u001b[38;2;255;85;85m0       \u001b[0m\u001b[38;2;255;85;85m \u001b[0m│\u001b[38;2;85;255;85m \u001b[0m\u001b[38;2;85;255;85m7h37m\u001b[0m\u001b[38;2;85;255;85m \u001b[0m│\n",
       "│\u001b[38;2;0;170;0m \u001b[0m\u001b[38;2;0;170;0mproxy-5ddd4b47c9-xhb2d               \u001b[0m\u001b[38;2;0;170;0m \u001b[0m│\u001b[38;2;0;170;170m \u001b[0m\u001b[38;2;0;170;170m1/1  \u001b[0m\u001b[38;2;0;170;170m \u001b[0m│\u001b[38;2;170;170;170m \u001b[0m\u001b[38;2;170;170;170mRunning          \u001b[0m\u001b[38;2;170;170;170m \u001b[0m│\u001b[38;2;255;85;85m \u001b[0m\u001b[38;2;255;85;85m0       \u001b[0m\u001b[38;2;255;85;85m \u001b[0m│\u001b[38;2;85;255;85m \u001b[0m\u001b[38;2;85;255;85m43h  \u001b[0m\u001b[38;2;85;255;85m \u001b[0m│\n",
       "└───────────────────────────────────────┴───────┴───────────────────┴──────────┴───────┘\n"
      ]
     },
     "metadata": {},
     "output_type": "display_data"
    },
    {
     "data": {
      "text/html": [
       "<pre style=\"white-space:pre;overflow-x:auto;line-height:normal;font-family:Menlo,'DejaVu Sans Mono',consolas,'Courier New',monospace\">elapsed: <span style=\"color: #008080; text-decoration-color: #008080; font-weight: bold\">6.32</span> seconds\n",
       "</pre>\n"
      ],
      "text/plain": [
       "elapsed: \u001b[1;36m6.32\u001b[0m seconds\n"
      ]
     },
     "metadata": {},
     "output_type": "display_data"
    },
    {
     "data": {
      "text/html": [
       "<pre style=\"white-space:pre;overflow-x:auto;line-height:normal;font-family:Menlo,'DejaVu Sans Mono',consolas,'Courier New',monospace\">┏━━━━━━━━━━━━━━━━━━━━━━━━━━━━━━━━━━━━━━━┳━━━━━━━┳━━━━━━━━━━━━━━━━━━━┳━━━━━━━━━━┳━━━━━━━┓\n",
       "┃<span style=\"font-weight: bold\"> NAME                                  </span>┃<span style=\"font-weight: bold\"> READY </span>┃<span style=\"font-weight: bold\"> STATUS            </span>┃<span style=\"font-weight: bold\"> RESTARTS </span>┃<span style=\"font-weight: bold\"> AGE   </span>┃\n",
       "┡━━━━━━━━━━━━━━━━━━━━━━━━━━━━━━━━━━━━━━━╇━━━━━━━╇━━━━━━━━━━━━━━━━━━━╇━━━━━━━━━━╇━━━━━━━┩\n",
       "│<span style=\"color: #00aa00; text-decoration-color: #00aa00\"> ata-pod                               </span>│<span style=\"color: #00aaaa; text-decoration-color: #00aaaa\"> 0/1   </span>│<span style=\"color: #aaaaaa; text-decoration-color: #aaaaaa\"> ContainerCreating </span>│<span style=\"color: #ff5555; text-decoration-color: #ff5555\"> 0        </span>│<span style=\"color: #55ff55; text-decoration-color: #55ff55\"> 98m   </span>│\n",
       "│<span style=\"color: #00aa00; text-decoration-color: #00aa00\"> gpu-pod-xmkqv                         </span>│<span style=\"color: #00aaaa; text-decoration-color: #00aaaa\"> 1/1   </span>│<span style=\"color: #aaaaaa; text-decoration-color: #aaaaaa\"> Running           </span>│<span style=\"color: #ff5555; text-decoration-color: #ff5555\"> 0        </span>│<span style=\"color: #55ff55; text-decoration-color: #55ff55\"> 4m28s </span>│\n",
       "│<span style=\"color: #00aa00; text-decoration-color: #00aa00\"> hub-859c877b85-fzfrj                  </span>│<span style=\"color: #00aaaa; text-decoration-color: #00aaaa\"> 1/1   </span>│<span style=\"color: #aaaaaa; text-decoration-color: #aaaaaa\"> Running           </span>│<span style=\"color: #ff5555; text-decoration-color: #ff5555\"> 0        </span>│<span style=\"color: #55ff55; text-decoration-color: #55ff55\"> 5d    </span>│\n",
       "│<span style=\"color: #00aa00; text-decoration-color: #00aa00\"> jupyter-ataaakbari-40googlemail-2ecom </span>│<span style=\"color: #00aaaa; text-decoration-color: #00aaaa\"> 1/1   </span>│<span style=\"color: #aaaaaa; text-decoration-color: #aaaaaa\"> Running           </span>│<span style=\"color: #ff5555; text-decoration-color: #ff5555\"> 0        </span>│<span style=\"color: #55ff55; text-decoration-color: #55ff55\"> 60m   </span>│\n",
       "│<span style=\"color: #00aa00; text-decoration-color: #00aa00\"> jupyter-fawudarski-40gmail-2ecom      </span>│<span style=\"color: #00aaaa; text-decoration-color: #00aaaa\"> 1/1   </span>│<span style=\"color: #aaaaaa; text-decoration-color: #aaaaaa\"> Running           </span>│<span style=\"color: #ff5555; text-decoration-color: #ff5555\"> 0        </span>│<span style=\"color: #55ff55; text-decoration-color: #55ff55\"> 7h37m </span>│\n",
       "│<span style=\"color: #00aa00; text-decoration-color: #00aa00\"> proxy-5ddd4b47c9-xhb2d                </span>│<span style=\"color: #00aaaa; text-decoration-color: #00aaaa\"> 1/1   </span>│<span style=\"color: #aaaaaa; text-decoration-color: #aaaaaa\"> Running           </span>│<span style=\"color: #ff5555; text-decoration-color: #ff5555\"> 0        </span>│<span style=\"color: #55ff55; text-decoration-color: #55ff55\"> 43h   </span>│\n",
       "└───────────────────────────────────────┴───────┴───────────────────┴──────────┴───────┘\n",
       "</pre>\n"
      ],
      "text/plain": [
       "┏━━━━━━━━━━━━━━━━━━━━━━━━━━━━━━━━━━━━━━━┳━━━━━━━┳━━━━━━━━━━━━━━━━━━━┳━━━━━━━━━━┳━━━━━━━┓\n",
       "┃\u001b[1m \u001b[0m\u001b[1mNAME                                 \u001b[0m\u001b[1m \u001b[0m┃\u001b[1m \u001b[0m\u001b[1mREADY\u001b[0m\u001b[1m \u001b[0m┃\u001b[1m \u001b[0m\u001b[1mSTATUS           \u001b[0m\u001b[1m \u001b[0m┃\u001b[1m \u001b[0m\u001b[1mRESTARTS\u001b[0m\u001b[1m \u001b[0m┃\u001b[1m \u001b[0m\u001b[1mAGE  \u001b[0m\u001b[1m \u001b[0m┃\n",
       "┡━━━━━━━━━━━━━━━━━━━━━━━━━━━━━━━━━━━━━━━╇━━━━━━━╇━━━━━━━━━━━━━━━━━━━╇━━━━━━━━━━╇━━━━━━━┩\n",
       "│\u001b[38;2;0;170;0m \u001b[0m\u001b[38;2;0;170;0mata-pod                              \u001b[0m\u001b[38;2;0;170;0m \u001b[0m│\u001b[38;2;0;170;170m \u001b[0m\u001b[38;2;0;170;170m0/1  \u001b[0m\u001b[38;2;0;170;170m \u001b[0m│\u001b[38;2;170;170;170m \u001b[0m\u001b[38;2;170;170;170mContainerCreating\u001b[0m\u001b[38;2;170;170;170m \u001b[0m│\u001b[38;2;255;85;85m \u001b[0m\u001b[38;2;255;85;85m0       \u001b[0m\u001b[38;2;255;85;85m \u001b[0m│\u001b[38;2;85;255;85m \u001b[0m\u001b[38;2;85;255;85m98m  \u001b[0m\u001b[38;2;85;255;85m \u001b[0m│\n",
       "│\u001b[38;2;0;170;0m \u001b[0m\u001b[38;2;0;170;0mgpu-pod-xmkqv                        \u001b[0m\u001b[38;2;0;170;0m \u001b[0m│\u001b[38;2;0;170;170m \u001b[0m\u001b[38;2;0;170;170m1/1  \u001b[0m\u001b[38;2;0;170;170m \u001b[0m│\u001b[38;2;170;170;170m \u001b[0m\u001b[38;2;170;170;170mRunning          \u001b[0m\u001b[38;2;170;170;170m \u001b[0m│\u001b[38;2;255;85;85m \u001b[0m\u001b[38;2;255;85;85m0       \u001b[0m\u001b[38;2;255;85;85m \u001b[0m│\u001b[38;2;85;255;85m \u001b[0m\u001b[38;2;85;255;85m4m28s\u001b[0m\u001b[38;2;85;255;85m \u001b[0m│\n",
       "│\u001b[38;2;0;170;0m \u001b[0m\u001b[38;2;0;170;0mhub-859c877b85-fzfrj                 \u001b[0m\u001b[38;2;0;170;0m \u001b[0m│\u001b[38;2;0;170;170m \u001b[0m\u001b[38;2;0;170;170m1/1  \u001b[0m\u001b[38;2;0;170;170m \u001b[0m│\u001b[38;2;170;170;170m \u001b[0m\u001b[38;2;170;170;170mRunning          \u001b[0m\u001b[38;2;170;170;170m \u001b[0m│\u001b[38;2;255;85;85m \u001b[0m\u001b[38;2;255;85;85m0       \u001b[0m\u001b[38;2;255;85;85m \u001b[0m│\u001b[38;2;85;255;85m \u001b[0m\u001b[38;2;85;255;85m5d   \u001b[0m\u001b[38;2;85;255;85m \u001b[0m│\n",
       "│\u001b[38;2;0;170;0m \u001b[0m\u001b[38;2;0;170;0mjupyter-ataaakbari-40googlemail-2ecom\u001b[0m\u001b[38;2;0;170;0m \u001b[0m│\u001b[38;2;0;170;170m \u001b[0m\u001b[38;2;0;170;170m1/1  \u001b[0m\u001b[38;2;0;170;170m \u001b[0m│\u001b[38;2;170;170;170m \u001b[0m\u001b[38;2;170;170;170mRunning          \u001b[0m\u001b[38;2;170;170;170m \u001b[0m│\u001b[38;2;255;85;85m \u001b[0m\u001b[38;2;255;85;85m0       \u001b[0m\u001b[38;2;255;85;85m \u001b[0m│\u001b[38;2;85;255;85m \u001b[0m\u001b[38;2;85;255;85m60m  \u001b[0m\u001b[38;2;85;255;85m \u001b[0m│\n",
       "│\u001b[38;2;0;170;0m \u001b[0m\u001b[38;2;0;170;0mjupyter-fawudarski-40gmail-2ecom     \u001b[0m\u001b[38;2;0;170;0m \u001b[0m│\u001b[38;2;0;170;170m \u001b[0m\u001b[38;2;0;170;170m1/1  \u001b[0m\u001b[38;2;0;170;170m \u001b[0m│\u001b[38;2;170;170;170m \u001b[0m\u001b[38;2;170;170;170mRunning          \u001b[0m\u001b[38;2;170;170;170m \u001b[0m│\u001b[38;2;255;85;85m \u001b[0m\u001b[38;2;255;85;85m0       \u001b[0m\u001b[38;2;255;85;85m \u001b[0m│\u001b[38;2;85;255;85m \u001b[0m\u001b[38;2;85;255;85m7h37m\u001b[0m\u001b[38;2;85;255;85m \u001b[0m│\n",
       "│\u001b[38;2;0;170;0m \u001b[0m\u001b[38;2;0;170;0mproxy-5ddd4b47c9-xhb2d               \u001b[0m\u001b[38;2;0;170;0m \u001b[0m│\u001b[38;2;0;170;170m \u001b[0m\u001b[38;2;0;170;170m1/1  \u001b[0m\u001b[38;2;0;170;170m \u001b[0m│\u001b[38;2;170;170;170m \u001b[0m\u001b[38;2;170;170;170mRunning          \u001b[0m\u001b[38;2;170;170;170m \u001b[0m│\u001b[38;2;255;85;85m \u001b[0m\u001b[38;2;255;85;85m0       \u001b[0m\u001b[38;2;255;85;85m \u001b[0m│\u001b[38;2;85;255;85m \u001b[0m\u001b[38;2;85;255;85m43h  \u001b[0m\u001b[38;2;85;255;85m \u001b[0m│\n",
       "└───────────────────────────────────────┴───────┴───────────────────┴──────────┴───────┘\n"
      ]
     },
     "metadata": {},
     "output_type": "display_data"
    },
    {
     "data": {
      "text/html": [
       "<pre style=\"white-space:pre;overflow-x:auto;line-height:normal;font-family:Menlo,'DejaVu Sans Mono',consolas,'Courier New',monospace\">elapsed: <span style=\"color: #008080; text-decoration-color: #008080; font-weight: bold\">6.30</span> seconds\n",
       "</pre>\n"
      ],
      "text/plain": [
       "elapsed: \u001b[1;36m6.30\u001b[0m seconds\n"
      ]
     },
     "metadata": {},
     "output_type": "display_data"
    },
    {
     "data": {
      "text/html": [
       "<pre style=\"white-space:pre;overflow-x:auto;line-height:normal;font-family:Menlo,'DejaVu Sans Mono',consolas,'Courier New',monospace\">┏━━━━━━━━━━━━━━━━━━━━━━━━━━━━━━━━━━━━━━━┳━━━━━━━┳━━━━━━━━━━━━━━━━━━━┳━━━━━━━━━━┳━━━━━━━┓\n",
       "┃<span style=\"font-weight: bold\"> NAME                                  </span>┃<span style=\"font-weight: bold\"> READY </span>┃<span style=\"font-weight: bold\"> STATUS            </span>┃<span style=\"font-weight: bold\"> RESTARTS </span>┃<span style=\"font-weight: bold\"> AGE   </span>┃\n",
       "┡━━━━━━━━━━━━━━━━━━━━━━━━━━━━━━━━━━━━━━━╇━━━━━━━╇━━━━━━━━━━━━━━━━━━━╇━━━━━━━━━━╇━━━━━━━┩\n",
       "│<span style=\"color: #00aa00; text-decoration-color: #00aa00\"> ata-pod                               </span>│<span style=\"color: #00aaaa; text-decoration-color: #00aaaa\"> 0/1   </span>│<span style=\"color: #aaaaaa; text-decoration-color: #aaaaaa\"> ContainerCreating </span>│<span style=\"color: #ff5555; text-decoration-color: #ff5555\"> 0        </span>│<span style=\"color: #55ff55; text-decoration-color: #55ff55\"> 98m   </span>│\n",
       "│<span style=\"color: #00aa00; text-decoration-color: #00aa00\"> gpu-pod-xmkqv                         </span>│<span style=\"color: #00aaaa; text-decoration-color: #00aaaa\"> 1/1   </span>│<span style=\"color: #aaaaaa; text-decoration-color: #aaaaaa\"> Running           </span>│<span style=\"color: #ff5555; text-decoration-color: #ff5555\"> 0        </span>│<span style=\"color: #55ff55; text-decoration-color: #55ff55\"> 4m34s </span>│\n",
       "│<span style=\"color: #00aa00; text-decoration-color: #00aa00\"> hub-859c877b85-fzfrj                  </span>│<span style=\"color: #00aaaa; text-decoration-color: #00aaaa\"> 1/1   </span>│<span style=\"color: #aaaaaa; text-decoration-color: #aaaaaa\"> Running           </span>│<span style=\"color: #ff5555; text-decoration-color: #ff5555\"> 0        </span>│<span style=\"color: #55ff55; text-decoration-color: #55ff55\"> 5d    </span>│\n",
       "│<span style=\"color: #00aa00; text-decoration-color: #00aa00\"> jupyter-ataaakbari-40googlemail-2ecom </span>│<span style=\"color: #00aaaa; text-decoration-color: #00aaaa\"> 1/1   </span>│<span style=\"color: #aaaaaa; text-decoration-color: #aaaaaa\"> Running           </span>│<span style=\"color: #ff5555; text-decoration-color: #ff5555\"> 0        </span>│<span style=\"color: #55ff55; text-decoration-color: #55ff55\"> 60m   </span>│\n",
       "│<span style=\"color: #00aa00; text-decoration-color: #00aa00\"> jupyter-fawudarski-40gmail-2ecom      </span>│<span style=\"color: #00aaaa; text-decoration-color: #00aaaa\"> 1/1   </span>│<span style=\"color: #aaaaaa; text-decoration-color: #aaaaaa\"> Running           </span>│<span style=\"color: #ff5555; text-decoration-color: #ff5555\"> 0        </span>│<span style=\"color: #55ff55; text-decoration-color: #55ff55\"> 7h37m </span>│\n",
       "│<span style=\"color: #00aa00; text-decoration-color: #00aa00\"> proxy-5ddd4b47c9-xhb2d                </span>│<span style=\"color: #00aaaa; text-decoration-color: #00aaaa\"> 1/1   </span>│<span style=\"color: #aaaaaa; text-decoration-color: #aaaaaa\"> Running           </span>│<span style=\"color: #ff5555; text-decoration-color: #ff5555\"> 0        </span>│<span style=\"color: #55ff55; text-decoration-color: #55ff55\"> 43h   </span>│\n",
       "└───────────────────────────────────────┴───────┴───────────────────┴──────────┴───────┘\n",
       "</pre>\n"
      ],
      "text/plain": [
       "┏━━━━━━━━━━━━━━━━━━━━━━━━━━━━━━━━━━━━━━━┳━━━━━━━┳━━━━━━━━━━━━━━━━━━━┳━━━━━━━━━━┳━━━━━━━┓\n",
       "┃\u001b[1m \u001b[0m\u001b[1mNAME                                 \u001b[0m\u001b[1m \u001b[0m┃\u001b[1m \u001b[0m\u001b[1mREADY\u001b[0m\u001b[1m \u001b[0m┃\u001b[1m \u001b[0m\u001b[1mSTATUS           \u001b[0m\u001b[1m \u001b[0m┃\u001b[1m \u001b[0m\u001b[1mRESTARTS\u001b[0m\u001b[1m \u001b[0m┃\u001b[1m \u001b[0m\u001b[1mAGE  \u001b[0m\u001b[1m \u001b[0m┃\n",
       "┡━━━━━━━━━━━━━━━━━━━━━━━━━━━━━━━━━━━━━━━╇━━━━━━━╇━━━━━━━━━━━━━━━━━━━╇━━━━━━━━━━╇━━━━━━━┩\n",
       "│\u001b[38;2;0;170;0m \u001b[0m\u001b[38;2;0;170;0mata-pod                              \u001b[0m\u001b[38;2;0;170;0m \u001b[0m│\u001b[38;2;0;170;170m \u001b[0m\u001b[38;2;0;170;170m0/1  \u001b[0m\u001b[38;2;0;170;170m \u001b[0m│\u001b[38;2;170;170;170m \u001b[0m\u001b[38;2;170;170;170mContainerCreating\u001b[0m\u001b[38;2;170;170;170m \u001b[0m│\u001b[38;2;255;85;85m \u001b[0m\u001b[38;2;255;85;85m0       \u001b[0m\u001b[38;2;255;85;85m \u001b[0m│\u001b[38;2;85;255;85m \u001b[0m\u001b[38;2;85;255;85m98m  \u001b[0m\u001b[38;2;85;255;85m \u001b[0m│\n",
       "│\u001b[38;2;0;170;0m \u001b[0m\u001b[38;2;0;170;0mgpu-pod-xmkqv                        \u001b[0m\u001b[38;2;0;170;0m \u001b[0m│\u001b[38;2;0;170;170m \u001b[0m\u001b[38;2;0;170;170m1/1  \u001b[0m\u001b[38;2;0;170;170m \u001b[0m│\u001b[38;2;170;170;170m \u001b[0m\u001b[38;2;170;170;170mRunning          \u001b[0m\u001b[38;2;170;170;170m \u001b[0m│\u001b[38;2;255;85;85m \u001b[0m\u001b[38;2;255;85;85m0       \u001b[0m\u001b[38;2;255;85;85m \u001b[0m│\u001b[38;2;85;255;85m \u001b[0m\u001b[38;2;85;255;85m4m34s\u001b[0m\u001b[38;2;85;255;85m \u001b[0m│\n",
       "│\u001b[38;2;0;170;0m \u001b[0m\u001b[38;2;0;170;0mhub-859c877b85-fzfrj                 \u001b[0m\u001b[38;2;0;170;0m \u001b[0m│\u001b[38;2;0;170;170m \u001b[0m\u001b[38;2;0;170;170m1/1  \u001b[0m\u001b[38;2;0;170;170m \u001b[0m│\u001b[38;2;170;170;170m \u001b[0m\u001b[38;2;170;170;170mRunning          \u001b[0m\u001b[38;2;170;170;170m \u001b[0m│\u001b[38;2;255;85;85m \u001b[0m\u001b[38;2;255;85;85m0       \u001b[0m\u001b[38;2;255;85;85m \u001b[0m│\u001b[38;2;85;255;85m \u001b[0m\u001b[38;2;85;255;85m5d   \u001b[0m\u001b[38;2;85;255;85m \u001b[0m│\n",
       "│\u001b[38;2;0;170;0m \u001b[0m\u001b[38;2;0;170;0mjupyter-ataaakbari-40googlemail-2ecom\u001b[0m\u001b[38;2;0;170;0m \u001b[0m│\u001b[38;2;0;170;170m \u001b[0m\u001b[38;2;0;170;170m1/1  \u001b[0m\u001b[38;2;0;170;170m \u001b[0m│\u001b[38;2;170;170;170m \u001b[0m\u001b[38;2;170;170;170mRunning          \u001b[0m\u001b[38;2;170;170;170m \u001b[0m│\u001b[38;2;255;85;85m \u001b[0m\u001b[38;2;255;85;85m0       \u001b[0m\u001b[38;2;255;85;85m \u001b[0m│\u001b[38;2;85;255;85m \u001b[0m\u001b[38;2;85;255;85m60m  \u001b[0m\u001b[38;2;85;255;85m \u001b[0m│\n",
       "│\u001b[38;2;0;170;0m \u001b[0m\u001b[38;2;0;170;0mjupyter-fawudarski-40gmail-2ecom     \u001b[0m\u001b[38;2;0;170;0m \u001b[0m│\u001b[38;2;0;170;170m \u001b[0m\u001b[38;2;0;170;170m1/1  \u001b[0m\u001b[38;2;0;170;170m \u001b[0m│\u001b[38;2;170;170;170m \u001b[0m\u001b[38;2;170;170;170mRunning          \u001b[0m\u001b[38;2;170;170;170m \u001b[0m│\u001b[38;2;255;85;85m \u001b[0m\u001b[38;2;255;85;85m0       \u001b[0m\u001b[38;2;255;85;85m \u001b[0m│\u001b[38;2;85;255;85m \u001b[0m\u001b[38;2;85;255;85m7h37m\u001b[0m\u001b[38;2;85;255;85m \u001b[0m│\n",
       "│\u001b[38;2;0;170;0m \u001b[0m\u001b[38;2;0;170;0mproxy-5ddd4b47c9-xhb2d               \u001b[0m\u001b[38;2;0;170;0m \u001b[0m│\u001b[38;2;0;170;170m \u001b[0m\u001b[38;2;0;170;170m1/1  \u001b[0m\u001b[38;2;0;170;170m \u001b[0m│\u001b[38;2;170;170;170m \u001b[0m\u001b[38;2;170;170;170mRunning          \u001b[0m\u001b[38;2;170;170;170m \u001b[0m│\u001b[38;2;255;85;85m \u001b[0m\u001b[38;2;255;85;85m0       \u001b[0m\u001b[38;2;255;85;85m \u001b[0m│\u001b[38;2;85;255;85m \u001b[0m\u001b[38;2;85;255;85m43h  \u001b[0m\u001b[38;2;85;255;85m \u001b[0m│\n",
       "└───────────────────────────────────────┴───────┴───────────────────┴──────────┴───────┘\n"
      ]
     },
     "metadata": {},
     "output_type": "display_data"
    },
    {
     "data": {
      "text/html": [
       "<pre style=\"white-space:pre;overflow-x:auto;line-height:normal;font-family:Menlo,'DejaVu Sans Mono',consolas,'Courier New',monospace\">elapsed: <span style=\"color: #008080; text-decoration-color: #008080; font-weight: bold\">6.30</span> seconds\n",
       "</pre>\n"
      ],
      "text/plain": [
       "elapsed: \u001b[1;36m6.30\u001b[0m seconds\n"
      ]
     },
     "metadata": {},
     "output_type": "display_data"
    },
    {
     "data": {
      "text/html": [
       "<pre style=\"white-space:pre;overflow-x:auto;line-height:normal;font-family:Menlo,'DejaVu Sans Mono',consolas,'Courier New',monospace\">┏━━━━━━━━━━━━━━━━━━━━━━━━━━━━━━━━━━━━━━━┳━━━━━━━┳━━━━━━━━━━━━━━━━━━━┳━━━━━━━━━━┳━━━━━━━┓\n",
       "┃<span style=\"font-weight: bold\"> NAME                                  </span>┃<span style=\"font-weight: bold\"> READY </span>┃<span style=\"font-weight: bold\"> STATUS            </span>┃<span style=\"font-weight: bold\"> RESTARTS </span>┃<span style=\"font-weight: bold\"> AGE   </span>┃\n",
       "┡━━━━━━━━━━━━━━━━━━━━━━━━━━━━━━━━━━━━━━━╇━━━━━━━╇━━━━━━━━━━━━━━━━━━━╇━━━━━━━━━━╇━━━━━━━┩\n",
       "│<span style=\"color: #00aa00; text-decoration-color: #00aa00\"> ata-pod                               </span>│<span style=\"color: #00aaaa; text-decoration-color: #00aaaa\"> 0/1   </span>│<span style=\"color: #aaaaaa; text-decoration-color: #aaaaaa\"> ContainerCreating </span>│<span style=\"color: #ff5555; text-decoration-color: #ff5555\"> 0        </span>│<span style=\"color: #55ff55; text-decoration-color: #55ff55\"> 98m   </span>│\n",
       "│<span style=\"color: #00aa00; text-decoration-color: #00aa00\"> gpu-pod-xmkqv                         </span>│<span style=\"color: #00aaaa; text-decoration-color: #00aaaa\"> 1/1   </span>│<span style=\"color: #aaaaaa; text-decoration-color: #aaaaaa\"> Running           </span>│<span style=\"color: #ff5555; text-decoration-color: #ff5555\"> 0        </span>│<span style=\"color: #55ff55; text-decoration-color: #55ff55\"> 4m41s </span>│\n",
       "│<span style=\"color: #00aa00; text-decoration-color: #00aa00\"> hub-859c877b85-fzfrj                  </span>│<span style=\"color: #00aaaa; text-decoration-color: #00aaaa\"> 1/1   </span>│<span style=\"color: #aaaaaa; text-decoration-color: #aaaaaa\"> Running           </span>│<span style=\"color: #ff5555; text-decoration-color: #ff5555\"> 0        </span>│<span style=\"color: #55ff55; text-decoration-color: #55ff55\"> 5d    </span>│\n",
       "│<span style=\"color: #00aa00; text-decoration-color: #00aa00\"> jupyter-ataaakbari-40googlemail-2ecom </span>│<span style=\"color: #00aaaa; text-decoration-color: #00aaaa\"> 1/1   </span>│<span style=\"color: #aaaaaa; text-decoration-color: #aaaaaa\"> Running           </span>│<span style=\"color: #ff5555; text-decoration-color: #ff5555\"> 0        </span>│<span style=\"color: #55ff55; text-decoration-color: #55ff55\"> 60m   </span>│\n",
       "│<span style=\"color: #00aa00; text-decoration-color: #00aa00\"> jupyter-fawudarski-40gmail-2ecom      </span>│<span style=\"color: #00aaaa; text-decoration-color: #00aaaa\"> 1/1   </span>│<span style=\"color: #aaaaaa; text-decoration-color: #aaaaaa\"> Running           </span>│<span style=\"color: #ff5555; text-decoration-color: #ff5555\"> 0        </span>│<span style=\"color: #55ff55; text-decoration-color: #55ff55\"> 7h37m </span>│\n",
       "│<span style=\"color: #00aa00; text-decoration-color: #00aa00\"> proxy-5ddd4b47c9-xhb2d                </span>│<span style=\"color: #00aaaa; text-decoration-color: #00aaaa\"> 1/1   </span>│<span style=\"color: #aaaaaa; text-decoration-color: #aaaaaa\"> Running           </span>│<span style=\"color: #ff5555; text-decoration-color: #ff5555\"> 0        </span>│<span style=\"color: #55ff55; text-decoration-color: #55ff55\"> 43h   </span>│\n",
       "└───────────────────────────────────────┴───────┴───────────────────┴──────────┴───────┘\n",
       "</pre>\n"
      ],
      "text/plain": [
       "┏━━━━━━━━━━━━━━━━━━━━━━━━━━━━━━━━━━━━━━━┳━━━━━━━┳━━━━━━━━━━━━━━━━━━━┳━━━━━━━━━━┳━━━━━━━┓\n",
       "┃\u001b[1m \u001b[0m\u001b[1mNAME                                 \u001b[0m\u001b[1m \u001b[0m┃\u001b[1m \u001b[0m\u001b[1mREADY\u001b[0m\u001b[1m \u001b[0m┃\u001b[1m \u001b[0m\u001b[1mSTATUS           \u001b[0m\u001b[1m \u001b[0m┃\u001b[1m \u001b[0m\u001b[1mRESTARTS\u001b[0m\u001b[1m \u001b[0m┃\u001b[1m \u001b[0m\u001b[1mAGE  \u001b[0m\u001b[1m \u001b[0m┃\n",
       "┡━━━━━━━━━━━━━━━━━━━━━━━━━━━━━━━━━━━━━━━╇━━━━━━━╇━━━━━━━━━━━━━━━━━━━╇━━━━━━━━━━╇━━━━━━━┩\n",
       "│\u001b[38;2;0;170;0m \u001b[0m\u001b[38;2;0;170;0mata-pod                              \u001b[0m\u001b[38;2;0;170;0m \u001b[0m│\u001b[38;2;0;170;170m \u001b[0m\u001b[38;2;0;170;170m0/1  \u001b[0m\u001b[38;2;0;170;170m \u001b[0m│\u001b[38;2;170;170;170m \u001b[0m\u001b[38;2;170;170;170mContainerCreating\u001b[0m\u001b[38;2;170;170;170m \u001b[0m│\u001b[38;2;255;85;85m \u001b[0m\u001b[38;2;255;85;85m0       \u001b[0m\u001b[38;2;255;85;85m \u001b[0m│\u001b[38;2;85;255;85m \u001b[0m\u001b[38;2;85;255;85m98m  \u001b[0m\u001b[38;2;85;255;85m \u001b[0m│\n",
       "│\u001b[38;2;0;170;0m \u001b[0m\u001b[38;2;0;170;0mgpu-pod-xmkqv                        \u001b[0m\u001b[38;2;0;170;0m \u001b[0m│\u001b[38;2;0;170;170m \u001b[0m\u001b[38;2;0;170;170m1/1  \u001b[0m\u001b[38;2;0;170;170m \u001b[0m│\u001b[38;2;170;170;170m \u001b[0m\u001b[38;2;170;170;170mRunning          \u001b[0m\u001b[38;2;170;170;170m \u001b[0m│\u001b[38;2;255;85;85m \u001b[0m\u001b[38;2;255;85;85m0       \u001b[0m\u001b[38;2;255;85;85m \u001b[0m│\u001b[38;2;85;255;85m \u001b[0m\u001b[38;2;85;255;85m4m41s\u001b[0m\u001b[38;2;85;255;85m \u001b[0m│\n",
       "│\u001b[38;2;0;170;0m \u001b[0m\u001b[38;2;0;170;0mhub-859c877b85-fzfrj                 \u001b[0m\u001b[38;2;0;170;0m \u001b[0m│\u001b[38;2;0;170;170m \u001b[0m\u001b[38;2;0;170;170m1/1  \u001b[0m\u001b[38;2;0;170;170m \u001b[0m│\u001b[38;2;170;170;170m \u001b[0m\u001b[38;2;170;170;170mRunning          \u001b[0m\u001b[38;2;170;170;170m \u001b[0m│\u001b[38;2;255;85;85m \u001b[0m\u001b[38;2;255;85;85m0       \u001b[0m\u001b[38;2;255;85;85m \u001b[0m│\u001b[38;2;85;255;85m \u001b[0m\u001b[38;2;85;255;85m5d   \u001b[0m\u001b[38;2;85;255;85m \u001b[0m│\n",
       "│\u001b[38;2;0;170;0m \u001b[0m\u001b[38;2;0;170;0mjupyter-ataaakbari-40googlemail-2ecom\u001b[0m\u001b[38;2;0;170;0m \u001b[0m│\u001b[38;2;0;170;170m \u001b[0m\u001b[38;2;0;170;170m1/1  \u001b[0m\u001b[38;2;0;170;170m \u001b[0m│\u001b[38;2;170;170;170m \u001b[0m\u001b[38;2;170;170;170mRunning          \u001b[0m\u001b[38;2;170;170;170m \u001b[0m│\u001b[38;2;255;85;85m \u001b[0m\u001b[38;2;255;85;85m0       \u001b[0m\u001b[38;2;255;85;85m \u001b[0m│\u001b[38;2;85;255;85m \u001b[0m\u001b[38;2;85;255;85m60m  \u001b[0m\u001b[38;2;85;255;85m \u001b[0m│\n",
       "│\u001b[38;2;0;170;0m \u001b[0m\u001b[38;2;0;170;0mjupyter-fawudarski-40gmail-2ecom     \u001b[0m\u001b[38;2;0;170;0m \u001b[0m│\u001b[38;2;0;170;170m \u001b[0m\u001b[38;2;0;170;170m1/1  \u001b[0m\u001b[38;2;0;170;170m \u001b[0m│\u001b[38;2;170;170;170m \u001b[0m\u001b[38;2;170;170;170mRunning          \u001b[0m\u001b[38;2;170;170;170m \u001b[0m│\u001b[38;2;255;85;85m \u001b[0m\u001b[38;2;255;85;85m0       \u001b[0m\u001b[38;2;255;85;85m \u001b[0m│\u001b[38;2;85;255;85m \u001b[0m\u001b[38;2;85;255;85m7h37m\u001b[0m\u001b[38;2;85;255;85m \u001b[0m│\n",
       "│\u001b[38;2;0;170;0m \u001b[0m\u001b[38;2;0;170;0mproxy-5ddd4b47c9-xhb2d               \u001b[0m\u001b[38;2;0;170;0m \u001b[0m│\u001b[38;2;0;170;170m \u001b[0m\u001b[38;2;0;170;170m1/1  \u001b[0m\u001b[38;2;0;170;170m \u001b[0m│\u001b[38;2;170;170;170m \u001b[0m\u001b[38;2;170;170;170mRunning          \u001b[0m\u001b[38;2;170;170;170m \u001b[0m│\u001b[38;2;255;85;85m \u001b[0m\u001b[38;2;255;85;85m0       \u001b[0m\u001b[38;2;255;85;85m \u001b[0m│\u001b[38;2;85;255;85m \u001b[0m\u001b[38;2;85;255;85m43h  \u001b[0m\u001b[38;2;85;255;85m \u001b[0m│\n",
       "└───────────────────────────────────────┴───────┴───────────────────┴──────────┴───────┘\n"
      ]
     },
     "metadata": {},
     "output_type": "display_data"
    },
    {
     "ename": "KeyboardInterrupt",
     "evalue": "",
     "output_type": "error",
     "traceback": [
      "\u001b[0;31m---------------------------------------------------------------------------\u001b[0m",
      "\u001b[0;31mKeyboardInterrupt\u001b[0m                         Traceback (most recent call last)",
      "Cell \u001b[0;32mIn[24], line 2\u001b[0m\n\u001b[1;32m      1\u001b[0m kub\u001b[39m.\u001b[39mcreate_pod(pod\u001b[39m=\u001b[39m pod)\n\u001b[0;32m----> 2\u001b[0m kub\u001b[39m.\u001b[39;49mget_pods(periodic\u001b[39m=\u001b[39;49m (\u001b[39m5\u001b[39;49m, \u001b[39m120\u001b[39;49m))\n\u001b[1;32m      3\u001b[0m \u001b[39m# _ = kub.delete_all_my_pods(tag= 'max-pod', show= True)\u001b[39;00m\n",
      "File \u001b[0;32m~/projects/foomara/projects/ts_diff_qc/kub.py:102\u001b[0m, in \u001b[0;36mKubernetes.get_pods\u001b[0;34m(self, show, periodic)\u001b[0m\n\u001b[1;32m    100\u001b[0m \u001b[39mwhile\u001b[39;00m \u001b[39mTrue\u001b[39;00m:\n\u001b[1;32m    101\u001b[0m \tpods \u001b[39m=\u001b[39m \u001b[39mself\u001b[39m\u001b[39m.\u001b[39mrun(\u001b[39mf\u001b[39m\u001b[39m'\u001b[39m\u001b[39mkubectl get pods -n \u001b[39m\u001b[39m{\u001b[39;00m\u001b[39mself\u001b[39m\u001b[39m.\u001b[39mnamespace\u001b[39m}\u001b[39;00m\u001b[39m'\u001b[39m, show\u001b[39m=\u001b[39m show)\n\u001b[0;32m--> 102\u001b[0m \ttime\u001b[39m.\u001b[39;49msleep(periodic[\u001b[39m0\u001b[39;49m])\n\u001b[1;32m    103\u001b[0m \tt1 \u001b[39m=\u001b[39m time\u001b[39m.\u001b[39mtime()\n\u001b[1;32m    104\u001b[0m \t\u001b[39mprint\u001b[39m(\u001b[39mf\u001b[39m\u001b[39m'\u001b[39m\u001b[39melapsed: \u001b[39m\u001b[39m{\u001b[39;00mt1\u001b[39m-\u001b[39mt0\u001b[39m:\u001b[39;00m\u001b[39m.2f\u001b[39m\u001b[39m}\u001b[39;00m\u001b[39m seconds\u001b[39m\u001b[39m'\u001b[39m)\n",
      "\u001b[0;31mKeyboardInterrupt\u001b[0m: "
     ]
    }
   ],
   "source": [
    "kub.create_pod(pod= pod)\n",
    "kub.get_pods(periodic= (5, 120))\n",
    "# _ = kub.delete_all_my_pods(tag= 'max-pod', show= True)"
   ]
  },
  {
   "cell_type": "code",
   "execution_count": null,
   "metadata": {},
   "outputs": [],
   "source": []
  },
  {
   "cell_type": "code",
   "execution_count": null,
   "metadata": {},
   "outputs": [],
   "source": [
    "from pyfig.plugins import Logger, Paths, d_to_wb, Env, Opt, MULTIMODE\n"
   ]
  }
 ],
 "metadata": {
  "kernelspec": {
   "display_name": "ts-diff-qc-ojDIYFIy-py3.10",
   "language": "python",
   "name": "python3"
  },
  "language_info": {
   "codemirror_mode": {
    "name": "ipython",
    "version": 3
   },
   "file_extension": ".py",
   "mimetype": "text/x-python",
   "name": "python",
   "nbconvert_exporter": "python",
   "pygments_lexer": "ipython3",
   "version": "3.10.10"
  },
  "orig_nbformat": 4
 },
 "nbformat": 4,
 "nbformat_minor": 2
}
