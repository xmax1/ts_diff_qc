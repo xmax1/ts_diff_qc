{
 "cells": [
  {
   "cell_type": "code",
   "execution_count": 6,
   "metadata": {},
   "outputs": [],
   "source": [
    "import re\n",
    "import yaml\n",
    "\n",
    "import sys\n",
    "sys.path.append('/Users/xmkqv/projects/diff-ts')\n",
    "\n",
    "from things.core import run_cmds, str2yaml, lo_ve"
   ]
  },
  {
   "cell_type": "code",
   "execution_count": 12,
   "metadata": {},
   "outputs": [],
   "source": [
    "class Kubernetes():\n",
    "\n",
    "\t# create, get, describe, delete\n",
    "\tlast_pod_created = None\n",
    "\tn_gpu \t\t\t= 1\n",
    "\tnamespace \t\t= 'scb-usra'\n",
    "\tpod_name \t\t= 'gpu-pod-xmkqv'\n",
    "\tcontainer_name \t= 'gpu-container'\n",
    "\tmount_path \t\t= '/scb-usra'\n",
    "\tlink_cmd \t\t= 'ln -s /cephfs ~/cephfs'\n",
    "\tkub_image \t\t= 'gitlab-registry.nrp-nautilus.io/prp/jupyter-stack/prp:latest'\n",
    "\tget_pods \t\t= property(lambda _: f'kubectl get pods -n {_.namespace}')\n",
    "\tget_config \t\t= property(lambda _: f'kubectl config view')\n",
    "\trepo \t\t\t= 'github.com:xmax1/diff-ts.git'\n",
    "\n",
    "\tkub_c = property(lambda _: {\n",
    "\t\t'apiVersion': 'v1',\n",
    "\t\t'kind': 'Pod',\n",
    "\t\t'metadata': {'name': _.pod_name, 'namespace': _.namespace},\n",
    "\t\t'spec': {\n",
    "\t\t\t'containers': [\n",
    "\t\t\t\t{\n",
    "\t\t\t\t'name': _.container_name,\n",
    "\t\t\t\t'image': _.kub_image,\n",
    "\t\t\t\t'resources': {'limits': {'nvidia.com/gpu': _.n_gpu} },\n",
    "\n",
    "\t\t\t\t'command': [\"/bin/bash\",\"-c\"], \n",
    "\t\t\t\t'args': ['pip install tqdm; sleep infinity'],\n",
    "\t\t\t\t# 'args': ['conda env update --file env.yml; sleep infinity'],\n",
    "\t\t\t\t\n",
    "\t\t\t\t'volumeMounts': [\n",
    "\t\t\t\t\t{'mountPath': _.mount_path, 'name': _.mount_path.split('/')[-1]},\n",
    "\t\t\t\t]\n",
    "\t\t\t\t}\n",
    "\t\t\t],\n",
    "\n",
    "\t\t\t'volumes': [\n",
    "\t\t\t\t{'name': 'scb-usra', 'persistentVolumeClaim': {'claimName': 'scb-usra'}},\n",
    "\t\t\t],\n",
    "\t\t\t'restartPolicy': 'Never',\n",
    "\t\t}, # spec\n",
    "\t\t\n",
    "\t})\n",
    "\t\n",
    "\tdef enter_pod(ii, pod_yaml: str= None):\n",
    "\t\tpod_yaml = pod_yaml or ii.last_pod_created\n",
    "\t\t\"\"\"-i, --stdin=false:\n",
    "\t\t\tPass stdin to the container\n",
    "\n",
    "\t\t-t, --tty=false:\n",
    "\t\t\tStdin is a TTY\"\"\"\n",
    "\t\trun_cmds(f'kubectl exec -f {pod_yaml} -n {ii.namespace} -it -- /bin/bash')\n",
    "\n",
    "\t\t\n",
    "\t\n",
    "\tdef cluster_submit(ii, job: dict= None, kub_c: str= None):\n",
    "\t\tkub_c = kub_c or ii.kub_c\n",
    "\t\tpath = ii.p.paths.exp_dir/'kub_c.yaml'\n",
    "\t\t\n",
    "\t\tc = ii.str2yaml(kub_c)\n",
    "\t\twith open(path, 'w') as f:\n",
    "\t\t\tf.write(c)\n",
    "\n",
    "\t\tprint('Creating pod yaml ', path)\n",
    "\t\trun_cmds(f'kubectl create -f {path} -o yaml', silent= False)\n",
    "\t\tii.last_pod_created = path\n",
    "\t\n",
    "\tdef pr(ii, data: dict= None):\n",
    "\t\timport pprint\n",
    "\t\tc = data or ii.kub_c\n",
    "\t\tpprint.pprint(c)"
   ]
  },
  {
   "cell_type": "code",
   "execution_count": 13,
   "metadata": {},
   "outputs": [
    {
     "name": "stdout",
     "output_type": "stream",
     "text": [
      "{'apiVersion': 'v1',\n",
      " 'kind': 'Pod',\n",
      " 'metadata': {'name': 'gpu-pod-xmkqv', 'namespace': 'scb-usra'},\n",
      " 'spec': {'containers': [{'args': ['pip install tqdm; sleep infinity'],\n",
      "                          'command': ['/bin/bash', '-c'],\n",
      "                          'image': 'gitlab-registry.nrp-nautilus.io/prp/jupyter-stack/prp:latest',\n",
      "                          'name': 'gpu-container',\n",
      "                          'resources': {'limits': {'nvidia.com/gpu': 1}},\n",
      "                          'volumeMounts': [{'mountPath': '/scb-usra',\n",
      "                                            'name': 'scb-usra'}]}],\n",
      "          'restartPolicy': 'Never',\n",
      "          'volumes': [{'name': 'scb-usra',\n",
      "                       'persistentVolumeClaim': {'claimName': 'scb-usra'}}]}}\n"
     ]
    }
   ],
   "source": [
    "kub = Kubernetes()\n",
    "kub.pr()"
   ]
  },
  {
   "cell_type": "code",
   "execution_count": 14,
   "metadata": {},
   "outputs": [
    {
     "name": "stdout",
     "output_type": "stream",
     "text": [
      "lo_ve: dumping dict_keys(['apiVersion', 'kind', 'metadata', 'spec']) \n",
      " to pod.yaml\n"
     ]
    }
   ],
   "source": [
    "lo_ve(data= kub.kub_c, path= 'pod.yaml')"
   ]
  },
  {
   "cell_type": "code",
   "execution_count": null,
   "metadata": {},
   "outputs": [],
   "source": [
    "\n",
    "\t# apiVersion: v1\n",
    "\t# kind: Pod\n",
    "\t# metadata:\n",
    "\t# name: ata-pod\n",
    "\t# namespace: scb-usra\n",
    "\t# spec:\n",
    "\t# containers:\n",
    "\t# - name: scb-env-one\n",
    "\t# \timage: gitlab-registry.nrp-nautilus.io/usra/scb-env-one:latest\n",
    "\t# \tcommand: [\"/bin/bash\", \"-c\"]\n",
    "\t# \targs: [\". activate base; sleep infinity\"]\n",
    "\t# \tvolumeMounts:\n",
    "\t# \t- mountPath: /scb-usra\n",
    "\t# \t\tname: scb-usra\n",
    "\t# \tresources:\n",
    "\t# \tlimits:\n",
    "\t# \t\tmemory: 10Gi\n",
    "\t# \t\tcpu: \"1\"\n",
    "\t# \trequests:\n",
    "\t# \t\tmemory: 10Gi\n",
    "\t# \t\tcpu: \"1\"\n",
    "\t# volumes:\n",
    "\t# - name: scb-usra\n",
    "\t# \tpersistentVolumeClaim:\n",
    "\t# \tclaimName: scb-usra\n",
    "\n",
    "\t# kubectl create -f - << EOF\n",
    "\t# <contents you want to deploy>\n",
    "\t# EOF\n",
    "\n",
    "\t# kubectl get nodes -L nvidia.com/gpu.product\n",
    "\n",
    "\t# kubectl exec -it test-pod -- /bin/bash get into the pod\n",
    "# \t`kubectl create -f cpu_pod.yaml` to create a pod\n",
    "\n",
    "# `kubectl get pods -n scb-usra` to check the pod status\n",
    "\n",
    "# `kubectl exec ata-pod -n scb-usra -it bash` to enter the pod\n",
    "\n",
    "# `kubectl delete pod ata-pod -n scb-usra` to delete a pod\n"
   ]
  }
 ],
 "metadata": {
  "kernelspec": {
   "display_name": "bet",
   "language": "python",
   "name": "python3"
  },
  "language_info": {
   "codemirror_mode": {
    "name": "ipython",
    "version": 3
   },
   "file_extension": ".py",
   "mimetype": "text/x-python",
   "name": "python",
   "nbconvert_exporter": "python",
   "pygments_lexer": "ipython3",
   "version": "3.10.9"
  },
  "orig_nbformat": 4
 },
 "nbformat": 4,
 "nbformat_minor": 2
}
