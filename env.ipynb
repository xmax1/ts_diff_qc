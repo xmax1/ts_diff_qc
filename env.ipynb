{
 "cells": [
  {
   "cell_type": "markdown",
   "id": "1a91cc47-1557-432e-80ff-aa68e48f8538",
   "metadata": {},
   "source": [
    "Conda\n",
    "```bash\n",
    "source ~/.bashrc\n",
    "conda create -n m python=3.10.10\n",
    "conda activate m\n",
    "conda install -c conda-forge ipython\n",
    "ipython kernel install --user --name=m\n",
    "conda install pytorch torchvision torchaudio pytorch-cuda=11.7 -c pytorch -c nvidia\n",
    "conda install -c conda-forge xarray[complete] dask matplotlib geoviews cartopy\n",
    "conda install -c conda-forge netCDF4\n",
    "conda install -c bokeh bokeh\n",
    "```"
   ]
  },
  {
   "cell_type": "markdown",
   "id": "889c6b67-a653-4918-960d-cb0569d7e156",
   "metadata": {},
   "source": [
    "```bash\n",
    "cat /etc/os-release\n",
    "```\n",
    "python needed\n",
    "```bash\n",
    "sudo apt update; sudo apt install build-essential libssl-dev zlib1g-dev \\\n",
    "libbz2-dev libreadline-dev libsqlite3-dev curl \\\n",
    "libncursesw5-dev xz-utils tk-dev libxml2-dev libxmlsec1-dev libffi-dev liblzma-dev\n",
    "```\n",
    "https://github.com/pyenv/pyenv/wiki#suggested-build-environment"
   ]
  },
  {
   "cell_type": "markdown",
   "id": "d1952426-5385-4fd0-bdfa-f05dee1a3e8b",
   "metadata": {},
   "source": [
    "Pyenv Installer\n",
    "```bash\n",
    "curl https://pyenv.run | bash\n",
    "\n",
    "echo 'export PYENV_ROOT=\"$HOME/.pyenv\"' >> ~/.bashrc\n",
    "echo 'command -v pyenv >/dev/null || export PATH=\"$PYENV_ROOT/bin:$PATH\"' >> ~/.bashrc\n",
    "echo 'eval \"$(pyenv init -)\"' >> ~/.bashrc\n",
    "\n",
    "echo 'export PYENV_ROOT=\"$HOME/.pyenv\"' >> ~/.profile\n",
    "echo 'command -v pyenv >/dev/null || export PATH=\"$PYENV_ROOT/bin:$PATH\"' >> ~/.profile\n",
    "echo 'eval \"$(pyenv init -)\"' >> ~/.profile\n",
    "```\n",
    "then reactivate shell"
   ]
  },
  {
   "cell_type": "markdown",
   "id": "f70561a4-a6f9-4b63-a36d-65b55ac501a3",
   "metadata": {},
   "source": [
    "install poetry\n",
    "```bash\n",
    "curl -sSL https://install.python-poetry.org | python3 -\n",
    "echo 'export PATH=\"$HOME/.local/bin\":$PATH' >> ~/.bashrc\n",
    "```"
   ]
  },
  {
   "cell_type": "markdown",
   "id": "d2a184b0-1dad-4051-b89a-e5b3d4f36bed",
   "metadata": {},
   "source": [
    "```bash\n",
    "pyenv install 3.10.10 --skip-existing\n",
    "pyenv global 3.10.10\n",
    "```"
   ]
  },
  {
   "cell_type": "markdown",
   "id": "bcb4542a-6480-4f4d-a5ea-53b5670e37f4",
   "metadata": {},
   "source": [
    "start a project\n",
    "```bash \n",
    "poetry init\n",
    "```\n",
    "\n",
    "add packages\n",
    "```bash\n",
    "poetry add <package>\n",
    "```\n",
    "\n",
    "install the environment\n",
    "```bash \n",
    "poetry install\n",
    "```\n",
    "\n",
    "activate the environment when reentering # 2 environments to consider: poetry & system \n",
    "- gives detail on both\n",
    "- this sets the poetry environment path, which refers to the pyenv python executable (but is it's own lil kingdom)\n",
    "- activates the poetry virtual env\n",
    "- sets the system virtual env as the poetry virtual env\n",
    "```bash \n",
    "poetry env info 3.10.10 \n",
    "poetry env use 3.10.10 \n",
    "poetry shell \n",
    "source $(poetry env info --path)/bin/activate\n",
    "```\n",
    "\n",
    "add more \n",
    "```bash \n",
    "poetry add\n",
    "```\n"
   ]
  },
  {
   "cell_type": "markdown",
   "id": "3cb7c6e9-b26d-4356-8481-4884cb395d2f",
   "metadata": {},
   "source": [
    "```bash\n",
    "poetry add \"xarray[complete]\"\n",
    "```"
   ]
  }
 ],
 "metadata": {
  "kernelspec": {
   "display_name": "Python 3 (ipykernel)",
   "language": "python",
   "name": "python3"
  },
  "language_info": {
   "codemirror_mode": {
    "name": "ipython",
    "version": 3
   },
   "file_extension": ".py",
   "mimetype": "text/x-python",
   "name": "python",
   "nbconvert_exporter": "python",
   "pygments_lexer": "ipython3",
   "version": "3.10.8"
  }
 },
 "nbformat": 4,
 "nbformat_minor": 5
}
