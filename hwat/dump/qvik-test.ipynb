{
 "cells": [
  {
   "cell_type": "code",
   "execution_count": 1,
   "metadata": {},
   "outputs": [
    {
     "ename": "ModuleNotFoundError",
     "evalue": "No module named 'things'",
     "output_type": "error",
     "traceback": [
      "\u001b[0;31m---------------------------------------------------------------------------\u001b[0m",
      "\u001b[0;31mModuleNotFoundError\u001b[0m                       Traceback (most recent call last)",
      "Cell \u001b[0;32mIn[1], line 1\u001b[0m\n\u001b[0;32m----> 1\u001b[0m \u001b[39mfrom\u001b[39;00m \u001b[39mthings\u001b[39;00m\u001b[39m.\u001b[39;00m\u001b[39mcore\u001b[39;00m \u001b[39mimport\u001b[39;00m load\n\u001b[1;32m      3\u001b[0m x \u001b[39m=\u001b[39m load(\u001b[39m'\u001b[39m\u001b[39m/home/energy/amawi/projects/hwat/dump/exp/~demo/7394478/state/train_2_i10000/d.state\u001b[39m\u001b[39m'\u001b[39m)\n",
      "\u001b[0;31mModuleNotFoundError\u001b[0m: No module named 'things'"
     ]
    }
   ],
   "source": []
  },
  {
   "cell_type": "code",
   "execution_count": 20,
   "metadata": {},
   "outputs": [
    {
     "name": "stdout",
     "output_type": "stream",
     "text": [
      "converged SCF energy = -48.5788669560858\n",
      "(100, 10) (10, 10)\n"
     ]
    },
    {
     "data": {
      "text/plain": [
       "(100, 10)"
      ]
     },
     "execution_count": 20,
     "metadata": {},
     "output_type": "execute_result"
    }
   ],
   "source": [
    "import pyscf\n",
    "import numpy as np\n",
    "import math\n",
    "\n",
    "mol = pyscf.gto.Mole(atom='4-0-0-0_6-1-0-0'.replace('-', ' ').replace('_', ';'), basis='sto3g', unit='bohr')\n",
    "n_atom = 10\n",
    "n_u = math.ceil(n_atom / 2)\t\n",
    "n_d = math.floor(n_atom / 2)\t\n",
    "mol.spin = 0\n",
    "mol.charge = 0\n",
    "# pyscf.scf.UHF(mol)\n",
    "mol.build()  # nicos scfs\n",
    "hf = mol.HF()\n",
    "hf.kernel()\n",
    "\n",
    "r = np.random.randn(100, 3)\n",
    "r_hf = np.split(r, [n_u, n_d], axis=1)\n",
    "# for r_spin in r_hf:\n",
    "# \tr_spin = r_spin.reshape(-1, 3)\n",
    "ao = mol.eval_gto('GTOval', r)\n",
    "\n",
    "print(ao.shape, hf.mo_coeff.shape)\n",
    "\n",
    "mo = np.einsum('bi,ij->bj', ao, hf.mo_coeff)\n",
    "\n",
    "mo.shape"
   ]
  },
  {
   "cell_type": "code",
   "execution_count": 12,
   "metadata": {},
   "outputs": [
    {
     "data": {
      "text/plain": [
       "torch.float64"
      ]
     },
     "execution_count": 12,
     "metadata": {},
     "output_type": "execute_result"
    }
   ],
   "source": [
    "import torch\n",
    "\n",
    "torch.set_default_dtype(torch.float64)\n",
    "type(torch.tensor([1.]))\n",
    "torch.tensor([1.]).dtype"
   ]
  },
  {
   "cell_type": "code",
   "execution_count": 8,
   "metadata": {},
   "outputs": [
    {
     "name": "stdout",
     "output_type": "stream",
     "text": [
      "True\n",
      "False True\n",
      "tensor([[-9.0565],\n",
      "        [ 2.3012],\n",
      "        [-4.6100],\n",
      "        [ 3.8480]]) None tensor([[-9.0565],\n",
      "        [ 2.3012],\n",
      "        [-4.6100],\n",
      "        [ 3.8480]])\n"
     ]
    },
    {
     "ename": "RuntimeError",
     "evalue": "Can't call numpy() on Tensor that requires grad. Use tensor.detach().numpy() instead.",
     "output_type": "error",
     "traceback": [
      "\u001b[0;31m---------------------------------------------------------------------------\u001b[0m",
      "\u001b[0;31mRuntimeError\u001b[0m                              Traceback (most recent call last)",
      "Cell \u001b[0;32mIn[8], line 18\u001b[0m\n\u001b[1;32m     14\u001b[0m \u001b[39mprint\u001b[39m(x\u001b[39m.\u001b[39mgrad, x_prime\u001b[39m.\u001b[39mgrad, x\u001b[39m.\u001b[39mgrad\u001b[39m.\u001b[39mdetach())\n\u001b[1;32m     16\u001b[0m \u001b[39m# detach removes grad from \u001b[39;00m\n\u001b[0;32m---> 18\u001b[0m \u001b[39mprint\u001b[39m(x\u001b[39m.\u001b[39;49mcpu()\u001b[39m.\u001b[39;49mnumpy())\n",
      "\u001b[0;31mRuntimeError\u001b[0m: Can't call numpy() on Tensor that requires grad. Use tensor.detach().numpy() instead."
     ]
    }
   ],
   "source": [
    "import torch\n",
    "\n",
    "def fn(x):\n",
    "    z = x * 2\n",
    "    return z**2\n",
    "\n",
    "x = torch.randn(size=(4, 1))\n",
    "x.requires_grad_(True)\n",
    "print(x.requires_grad)\n",
    "y = fn(x)\n",
    "y.sum().backward()\n",
    "x_prime = x.detach()\n",
    "print(x_prime.requires_grad, x.requires_grad)\n",
    "print(x.grad, x_prime.grad, x.grad.detach())\n",
    "\n",
    "# detach removes grad from param\n",
    "# !!! get grad out first\n",
    "\n",
    "print(x.cpu().numpy())\n"
   ]
  }
 ],
 "metadata": {
  "kernelspec": {
   "display_name": "zen",
   "language": "python",
   "name": "python3"
  },
  "language_info": {
   "codemirror_mode": {
    "name": "ipython",
    "version": 3
   },
   "file_extension": ".py",
   "mimetype": "text/x-python",
   "name": "python",
   "nbconvert_exporter": "python",
   "pygments_lexer": "ipython3",
   "version": "3.10.9"
  },
  "orig_nbformat": 4,
  "vscode": {
   "interpreter": {
    "hash": "64821b3e694a3ec7953af9a8b7742dc9cf1382ccd10bc8e79dcca2d04e96fa05"
   }
  }
 },
 "nbformat": 4,
 "nbformat_minor": 2
}
